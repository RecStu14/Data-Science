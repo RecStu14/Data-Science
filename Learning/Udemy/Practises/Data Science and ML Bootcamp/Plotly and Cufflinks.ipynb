{
 "cells": [
  {
   "cell_type": "markdown",
   "metadata": {},
   "source": [
    "# Plotly and Cufflinks"
   ]
  },
  {
   "cell_type": "code",
   "execution_count": 1,
   "metadata": {},
   "outputs": [],
   "source": [
    "#PLotly is an interactive viz lib and cufflinks connects this w pandas\n",
    "#used to create interactive data visualisations\n",
    "\n",
    "import pandas as pd\n",
    "import numpy as np\n",
    "%matplotlib inline"
   ]
  },
  {
   "cell_type": "code",
   "execution_count": 2,
   "metadata": {},
   "outputs": [],
   "source": [
    "from plotly import __version__\n",
    "import chart_studio.plotly as py"
   ]
  },
  {
   "cell_type": "code",
   "execution_count": 3,
   "metadata": {},
   "outputs": [
    {
     "name": "stdout",
     "output_type": "stream",
     "text": [
      "4.8.1\n"
     ]
    }
   ],
   "source": [
    "print(__version__)"
   ]
  },
  {
   "cell_type": "code",
   "execution_count": 4,
   "metadata": {},
   "outputs": [],
   "source": [
    "import cufflinks as cf"
   ]
  },
  {
   "cell_type": "code",
   "execution_count": 5,
   "metadata": {},
   "outputs": [],
   "source": [
    "from plotly.offline import download_plotlyjs,init_notebook_mode,plot,iplot"
   ]
  },
  {
   "cell_type": "code",
   "execution_count": 6,
   "metadata": {},
   "outputs": [
    {
     "data": {
      "text/html": [
       "        <script type=\"text/javascript\">\n",
       "        window.PlotlyConfig = {MathJaxConfig: 'local'};\n",
       "        if (window.MathJax) {MathJax.Hub.Config({SVG: {font: \"STIX-Web\"}});}\n",
       "        if (typeof require !== 'undefined') {\n",
       "        require.undef(\"plotly\");\n",
       "        requirejs.config({\n",
       "            paths: {\n",
       "                'plotly': ['https://cdn.plot.ly/plotly-latest.min']\n",
       "            }\n",
       "        });\n",
       "        require(['plotly'], function(Plotly) {\n",
       "            window._Plotly = Plotly;\n",
       "        });\n",
       "        }\n",
       "        </script>\n",
       "        "
      ]
     },
     "metadata": {},
     "output_type": "display_data"
    }
   ],
   "source": [
    "init_notebook_mode(connected=True) #connects javascript to notebook"
   ]
  },
  {
   "cell_type": "code",
   "execution_count": 7,
   "metadata": {},
   "outputs": [
    {
     "data": {
      "text/html": [
       "        <script type=\"text/javascript\">\n",
       "        window.PlotlyConfig = {MathJaxConfig: 'local'};\n",
       "        if (window.MathJax) {MathJax.Hub.Config({SVG: {font: \"STIX-Web\"}});}\n",
       "        if (typeof require !== 'undefined') {\n",
       "        require.undef(\"plotly\");\n",
       "        requirejs.config({\n",
       "            paths: {\n",
       "                'plotly': ['https://cdn.plot.ly/plotly-latest.min']\n",
       "            }\n",
       "        });\n",
       "        require(['plotly'], function(Plotly) {\n",
       "            window._Plotly = Plotly;\n",
       "        });\n",
       "        }\n",
       "        </script>\n",
       "        "
      ]
     },
     "metadata": {},
     "output_type": "display_data"
    }
   ],
   "source": [
    "cf.go_offline() #allows us to use cufflinks offline"
   ]
  },
  {
   "cell_type": "code",
   "execution_count": 8,
   "metadata": {},
   "outputs": [],
   "source": [
    "#DATA\n",
    "\n",
    "df = pd.DataFrame(np.random.randn(100,4),columns='A B C D'.split())"
   ]
  },
  {
   "cell_type": "code",
   "execution_count": 9,
   "metadata": {},
   "outputs": [
    {
     "data": {
      "text/html": [
       "<div>\n",
       "<style scoped>\n",
       "    .dataframe tbody tr th:only-of-type {\n",
       "        vertical-align: middle;\n",
       "    }\n",
       "\n",
       "    .dataframe tbody tr th {\n",
       "        vertical-align: top;\n",
       "    }\n",
       "\n",
       "    .dataframe thead th {\n",
       "        text-align: right;\n",
       "    }\n",
       "</style>\n",
       "<table border=\"1\" class=\"dataframe\">\n",
       "  <thead>\n",
       "    <tr style=\"text-align: right;\">\n",
       "      <th></th>\n",
       "      <th>A</th>\n",
       "      <th>B</th>\n",
       "      <th>C</th>\n",
       "      <th>D</th>\n",
       "    </tr>\n",
       "  </thead>\n",
       "  <tbody>\n",
       "    <tr>\n",
       "      <th>0</th>\n",
       "      <td>-0.668066</td>\n",
       "      <td>-0.681078</td>\n",
       "      <td>-2.307364</td>\n",
       "      <td>0.492091</td>\n",
       "    </tr>\n",
       "    <tr>\n",
       "      <th>1</th>\n",
       "      <td>0.194977</td>\n",
       "      <td>-0.126729</td>\n",
       "      <td>-0.996204</td>\n",
       "      <td>0.906274</td>\n",
       "    </tr>\n",
       "    <tr>\n",
       "      <th>2</th>\n",
       "      <td>0.032971</td>\n",
       "      <td>-2.080724</td>\n",
       "      <td>1.320812</td>\n",
       "      <td>0.173296</td>\n",
       "    </tr>\n",
       "    <tr>\n",
       "      <th>3</th>\n",
       "      <td>-0.699070</td>\n",
       "      <td>2.112383</td>\n",
       "      <td>-0.025391</td>\n",
       "      <td>-0.107364</td>\n",
       "    </tr>\n",
       "    <tr>\n",
       "      <th>4</th>\n",
       "      <td>-1.190481</td>\n",
       "      <td>-0.037441</td>\n",
       "      <td>-0.964836</td>\n",
       "      <td>0.610522</td>\n",
       "    </tr>\n",
       "  </tbody>\n",
       "</table>\n",
       "</div>"
      ],
      "text/plain": [
       "          A         B         C         D\n",
       "0 -0.668066 -0.681078 -2.307364  0.492091\n",
       "1  0.194977 -0.126729 -0.996204  0.906274\n",
       "2  0.032971 -2.080724  1.320812  0.173296\n",
       "3 -0.699070  2.112383 -0.025391 -0.107364\n",
       "4 -1.190481 -0.037441 -0.964836  0.610522"
      ]
     },
     "execution_count": 9,
     "metadata": {},
     "output_type": "execute_result"
    }
   ],
   "source": [
    "df.head()"
   ]
  },
  {
   "cell_type": "code",
   "execution_count": 10,
   "metadata": {},
   "outputs": [],
   "source": [
    "df2 = pd.DataFrame({'Category':['A','B','C'],'Values':[32,43,50]})"
   ]
  },
  {
   "cell_type": "code",
   "execution_count": 11,
   "metadata": {},
   "outputs": [
    {
     "data": {
      "text/html": [
       "<div>\n",
       "<style scoped>\n",
       "    .dataframe tbody tr th:only-of-type {\n",
       "        vertical-align: middle;\n",
       "    }\n",
       "\n",
       "    .dataframe tbody tr th {\n",
       "        vertical-align: top;\n",
       "    }\n",
       "\n",
       "    .dataframe thead th {\n",
       "        text-align: right;\n",
       "    }\n",
       "</style>\n",
       "<table border=\"1\" class=\"dataframe\">\n",
       "  <thead>\n",
       "    <tr style=\"text-align: right;\">\n",
       "      <th></th>\n",
       "      <th>Category</th>\n",
       "      <th>Values</th>\n",
       "    </tr>\n",
       "  </thead>\n",
       "  <tbody>\n",
       "    <tr>\n",
       "      <th>0</th>\n",
       "      <td>A</td>\n",
       "      <td>32</td>\n",
       "    </tr>\n",
       "    <tr>\n",
       "      <th>1</th>\n",
       "      <td>B</td>\n",
       "      <td>43</td>\n",
       "    </tr>\n",
       "    <tr>\n",
       "      <th>2</th>\n",
       "      <td>C</td>\n",
       "      <td>50</td>\n",
       "    </tr>\n",
       "  </tbody>\n",
       "</table>\n",
       "</div>"
      ],
      "text/plain": [
       "  Category  Values\n",
       "0        A      32\n",
       "1        B      43\n",
       "2        C      50"
      ]
     },
     "execution_count": 11,
     "metadata": {},
     "output_type": "execute_result"
    }
   ],
   "source": [
    "df2"
   ]
  },
  {
   "cell_type": "code",
   "execution_count": 12,
   "metadata": {},
   "outputs": [
    {
     "data": {
      "text/plain": [
       "<matplotlib.axes._subplots.AxesSubplot at 0x225e2334b00>"
      ]
     },
     "execution_count": 12,
     "metadata": {},
     "output_type": "execute_result"
    },
    {
     "data": {
      "image/png": "[encoded data removed]",
      "text/plain": [
       "<Figure size 432x288 with 1 Axes>"
      ]
     },
     "metadata": {
      "needs_background": "light"
     },
     "output_type": "display_data"
    }
   ],
   "source": [
    "df.plot()\n",
    "#pandas will plot sth with matplotlib"
   ]
  },
  {
   "cell_type": "code",
   "execution_count": 13,
   "metadata": {},
   "outputs": [
    {
     "data": {
      "application/vnd.plotly.v1+json": {
       "config": {
        "linkText": "Export to plot.ly",
        "plotlyServerURL": "https://plot.ly",
        "showLink": true
       },
       "data": [
        {
         "line": {
          "color": "rgba(255, 153, 51, 1.0)",
          "dash": "solid",
          "shape": "linear",
          "width": 1.3
         },
         "mode": "lines",
         "name": "A",
         "text": "",
         "type": "scatter",
         "x": [
          0,
          1,
          2,
          3,
          4,
          5,
          6,
          7,
          8,
          9,
          10,
          11,
          12,
          13,
          14,
          15,
          16,
          17,
          18,
          19,
          20,
          21,
          22,
          23,
          24,
          25,
          26,
          27,
          28,
          29,
          30,
          31,
          32,
          33,
          34,
          35,
          36,
          37,
          38,
          39,
          40,
          41,
          42,
          43,
          44,
          45,
          46,
          47,
          48,
          49,
          50,
          51,
          52,
          53,
          54,
          55,
          56,
          57,
          58,
          59,
          60,
          61,
          62,
          63,
          64,
          65,
          66,
          67,
          68,
          69,
          70,
          71,
          72,
          73,
          74,
          75,
          76,
          77,
          78,
          79,
          80,
          81,
          82,
          83,
          84,
          85,
          86,
          87,
          88,
          89,
          90,
          91,
          92,
          93,
          94,
          95,
          96,
          97,
          98,
          99
         ],
         "y": [
          -0.6680661855631249,
          0.1949766871965313,
          0.03297058007779891,
          -0.6990703851144047,
          -1.1904809035565296,
          -0.9978851799370811,
          -1.8582319261511087,
          -0.5267661337775508,
          -1.5686461478635814,
          -1.0627343935664582,
          0.9661118140498371,
          0.565313506626537,
          -1.4206021024681288,
          0.6560188287072177,
          0.5342773017547415,
          0.4439743344940591,
          0.6052930388775157,
          0.7164107464286641,
          0.9375280230990192,
          -0.8939516328602036,
          0.4924348203413822,
          -2.1780131590071496,
          -0.5438072379862946,
          -0.9334923463833898,
          0.6713486104662258,
          -0.7065440484824034,
          -1.3874324539214875,
          -0.8896410077863353,
          -0.07984657932136635,
          -0.12572505592806968,
          0.8137383767766075,
          -1.858491455192245,
          -0.3724586312111986,
          2.402354817353567,
          1.0410195382811984,
          -1.5139559628272126,
          0.8076529167916344,
          -0.3035271559810558,
          2.4116330281807286,
          2.1223346600953814,
          0.16436122619428503,
          -0.46652198272400175,
          0.24256961333364677,
          0.2863986325603095,
          -3.099977310251452,
          0.3417341517045552,
          -1.229051663697874,
          -0.0825055265741576,
          0.5643689745296832,
          0.2643607398377007,
          0.8404584998456432,
          -0.9599932628266316,
          0.9620952929558358,
          2.1487719813839155,
          0.8702399277132442,
          -0.6786256915599027,
          -0.551562117174487,
          -0.7569418009249309,
          -0.7578840771473123,
          -0.7979818046465237,
          1.7875060506298361,
          -1.1376330255000242,
          -1.7296967915248824,
          1.0120261071074859,
          0.07626292262330708,
          -0.5161229432965986,
          -1.9828965516645491,
          1.2236247293138747,
          -1.4987687258773836,
          0.728921907199498,
          -1.0224292690506944,
          0.7636030501956129,
          -1.4035448034462434,
          0.8741822629080838,
          -1.575143589119851,
          0.5783812385108045,
          -0.9559912307275771,
          -0.06416912485000843,
          1.5340650493135644,
          1.0625590148885438,
          0.8926470152500349,
          -0.10936690562114973,
          -0.24245197468062515,
          1.5191649065321466,
          0.736591302550211,
          0.3806355692794749,
          -0.19094272495077746,
          -0.4809111086547659,
          -1.3393209311998107,
          0.3444845242142359,
          -0.308530466508197,
          0.5971519605520483,
          -0.2961393984777049,
          2.0527924932523907,
          -0.42898583486115943,
          0.7361587789620776,
          -0.6655264065881279,
          0.4869596491478256,
          -0.42392394888161156,
          0.0960209955254644
         ]
        },
        {
         "line": {
          "color": "rgba(55, 128, 191, 1.0)",
          "dash": "solid",
          "shape": "linear",
          "width": 1.3
         },
         "mode": "lines",
         "name": "B",
         "text": "",
         "type": "scatter",
         "x": [
          0,
          1,
          2,
          3,
          4,
          5,
          6,
          7,
          8,
          9,
          10,
          11,
          12,
          13,
          14,
          15,
          16,
          17,
          18,
          19,
          20,
          21,
          22,
          23,
          24,
          25,
          26,
          27,
          28,
          29,
          30,
          31,
          32,
          33,
          34,
          35,
          36,
          37,
          38,
          39,
          40,
          41,
          42,
          43,
          44,
          45,
          46,
          47,
          48,
          49,
          50,
          51,
          52,
          53,
          54,
          55,
          56,
          57,
          58,
          59,
          60,
          61,
          62,
          63,
          64,
          65,
          66,
          67,
          68,
          69,
          70,
          71,
          72,
          73,
          74,
          75,
          76,
          77,
          78,
          79,
          80,
          81,
          82,
          83,
          84,
          85,
          86,
          87,
          88,
          89,
          90,
          91,
          92,
          93,
          94,
          95,
          96,
          97,
          98,
          99
         ],
         "y": [
          -0.6810784119889212,
          -0.12672851621571565,
          -2.0807241915160843,
          2.1123832635269437,
          -0.037441185918270566,
          -0.8419160328363937,
          -0.965051019475013,
          0.8311693286344598,
          -0.12892638840714116,
          -0.3223623657442055,
          -0.2651621978066173,
          0.5751051482978644,
          -1.5954080823970926,
          0.35868808673820946,
          2.472151302817571,
          0.262160516152913,
          -0.34492136425427206,
          2.642740897818084,
          0.41347183169097945,
          1.4222362844595409,
          1.0478656163489362,
          -1.4989625631723997,
          -1.1573817060636589,
          -0.1902543592584037,
          -1.5924763685255088,
          -0.04356499912556374,
          -0.32646573064441586,
          1.4195081126291589,
          1.3506300184179498,
          -1.8861410729263206,
          0.6078372185494824,
          0.5896587847914512,
          -1.8647497848327925,
          0.16162438429861858,
          0.6426130692999505,
          1.7639945077246302,
          0.7761834037906911,
          0.421145954098237,
          0.1854040095139653,
          0.9429598683866964,
          -0.7099509267598096,
          -1.7564388380669502,
          1.3881239407102857,
          -1.3120206969144075,
          -1.2360995942787971,
          -0.10177615060000193,
          1.207999550088633,
          0.11356010121118484,
          -0.13811616381196112,
          1.3505494572062853,
          1.0177776805673846,
          -1.4837634818277279,
          -0.6319011207391553,
          0.20812478489292638,
          -0.08134859369177261,
          -0.7277076405660484,
          0.840470334848689,
          -1.7870213204890557,
          0.03588632950819402,
          -0.3733539244362292,
          0.43292408303107593,
          -0.5686082275326253,
          -0.6758945175654862,
          -0.6070459436824658,
          1.1050416756450765,
          -0.059510924986301804,
          0.8447858158747069,
          0.499972993569185,
          -0.13434501044250866,
          -1.8070564697994906,
          -1.714991039757765,
          -0.3751013035128291,
          1.0953223101313094,
          -1.4369805212753772,
          0.39107212877171116,
          -0.2516191386082863,
          0.22228696010046495,
          0.1725199646415227,
          -1.050096031944785,
          0.5061413187280068,
          -0.12351473087442927,
          -0.7146092641508545,
          0.4954838312980374,
          1.3551362084378633,
          0.9634550093677506,
          1.0479339303158377,
          1.059923568234994,
          -0.7117493946644667,
          -1.0699478167895864,
          -0.2362919262806339,
          1.403646945157495,
          0.28071705389078044,
          -0.15182662408610997,
          0.17489614347413823,
          -0.9742686872933056,
          0.1786922050680465,
          -0.6273672164757751,
          -0.4488967123079796,
          -1.4551355833120438,
          -1.0757746516273758
         ]
        },
        {
         "line": {
          "color": "rgba(50, 171, 96, 1.0)",
          "dash": "solid",
          "shape": "linear",
          "width": 1.3
         },
         "mode": "lines",
         "name": "C",
         "text": "",
         "type": "scatter",
         "x": [
          0,
          1,
          2,
          3,
          4,
          5,
          6,
          7,
          8,
          9,
          10,
          11,
          12,
          13,
          14,
          15,
          16,
          17,
          18,
          19,
          20,
          21,
          22,
          23,
          24,
          25,
          26,
          27,
          28,
          29,
          30,
          31,
          32,
          33,
          34,
          35,
          36,
          37,
          38,
          39,
          40,
          41,
          42,
          43,
          44,
          45,
          46,
          47,
          48,
          49,
          50,
          51,
          52,
          53,
          54,
          55,
          56,
          57,
          58,
          59,
          60,
          61,
          62,
          63,
          64,
          65,
          66,
          67,
          68,
          69,
          70,
          71,
          72,
          73,
          74,
          75,
          76,
          77,
          78,
          79,
          80,
          81,
          82,
          83,
          84,
          85,
          86,
          87,
          88,
          89,
          90,
          91,
          92,
          93,
          94,
          95,
          96,
          97,
          98,
          99
         ],
         "y": [
          -2.3073638620301433,
          -0.9962041490678315,
          1.3208116314786846,
          -0.025390771166009407,
          -0.9648363933317966,
          0.24326610193825265,
          0.7833001534921529,
          -0.8663752013312572,
          0.28426532861252757,
          1.8525904754774485,
          0.5164054496741013,
          1.2303099931032626,
          0.5360513363234279,
          0.7314049395469593,
          -0.05158527579854278,
          -0.5217391984873557,
          0.6011760081316192,
          0.09789419963031891,
          -0.4874882753947355,
          -0.2989607053704855,
          0.9383987116683369,
          -0.29624269819989724,
          -3.0132871456839267,
          -0.2600934938003665,
          -0.5169579690827044,
          -0.8119315582610903,
          -0.34731928941074086,
          -1.820136372657824,
          1.2256674920965915,
          -1.5566391864661864,
          -0.06809802410845756,
          -0.2871133753382355,
          0.9244116752222192,
          -0.6759585741687546,
          -0.6744735212611921,
          -1.6040426177574216,
          1.2850611144199247,
          0.8279989883462856,
          -0.2878489752861659,
          -0.23566306928665398,
          1.3076158299163698,
          -1.6401124481321587,
          0.546773763745836,
          0.2763863222089421,
          0.1382460666083625,
          0.34761977999188315,
          0.18678832068275122,
          -0.7826894546849915,
          -0.22804525413889637,
          -0.27774414758352944,
          -0.679220647452501,
          -0.5321792137613572,
          -1.1818314843254512,
          -0.24222642777041425,
          0.2594990627819901,
          1.6806485495058059,
          1.2494555826282385,
          1.7561180265516112,
          -0.18337912849127272,
          0.1986178157101335,
          1.1144016939165797,
          -1.1232355481853946,
          0.3312435482633644,
          -0.5356280710427399,
          -0.3475497394030127,
          1.3188617574462058,
          -0.03536711573532913,
          0.8809219197152772,
          0.0944716655023659,
          0.4550279458603338,
          1.8136067916398246,
          -0.18360533019846725,
          -0.23021685288304736,
          0.3406496620591469,
          1.4145557922085121,
          0.5315204905167306,
          -1.640263959883622,
          -1.0955524713900873,
          -1.4774176081870156,
          -0.33843055481629236,
          0.07218683504377033,
          -1.3554867431755546,
          -0.24673020354673178,
          -1.826836764908707,
          -0.5894495017125044,
          -1.5883001645521029,
          1.9347900221285799,
          0.9264335949306093,
          -0.19619855277123432,
          1.311730305133455,
          -0.005833191408164211,
          -0.15789828864743358,
          0.1270696407524092,
          1.6577163232652115,
          -0.05443421620407633,
          1.2837041675848508,
          0.5593938838023739,
          -1.5122145518614358,
          -1.3051058219297798,
          -0.09372562766382454
         ]
        },
        {
         "line": {
          "color": "rgba(128, 0, 128, 1.0)",
          "dash": "solid",
          "shape": "linear",
          "width": 1.3
         },
         "mode": "lines",
         "name": "D",
         "text": "",
         "type": "scatter",
         "x": [
          0,
          1,
          2,
          3,
          4,
          5,
          6,
          7,
          8,
          9,
          10,
          11,
          12,
          13,
          14,
          15,
          16,
          17,
          18,
          19,
          20,
          21,
          22,
          23,
          24,
          25,
          26,
          27,
          28,
          29,
          30,
          31,
          32,
          33,
          34,
          35,
          36,
          37,
          38,
          39,
          40,
          41,
          42,
          43,
          44,
          45,
          46,
          47,
          48,
          49,
          50,
          51,
          52,
          53,
          54,
          55,
          56,
          57,
          58,
          59,
          60,
          61,
          62,
          63,
          64,
          65,
          66,
          67,
          68,
          69,
          70,
          71,
          72,
          73,
          74,
          75,
          76,
          77,
          78,
          79,
          80,
          81,
          82,
          83,
          84,
          85,
          86,
          87,
          88,
          89,
          90,
          91,
          92,
          93,
          94,
          95,
          96,
          97,
          98,
          99
         ],
         "y": [
          0.49209094387433777,
          0.9062738969829228,
          0.17329610259510156,
          -0.10736420792233334,
          0.6105223392819806,
          -1.691053205670486,
          1.728568659259317,
          -1.2008015945078236,
          -1.9179174593378803,
          -0.3579727607746801,
          1.1705371096116617,
          0.47667608570186953,
          0.4776399709111016,
          -0.9461143733421219,
          -0.4131117792381057,
          -1.1115425891296822,
          1.2860346537356238,
          0.3271027808073432,
          0.5159953352965916,
          0.27729083117100445,
          0.7752711293926082,
          0.7312747438193341,
          1.2198693462173729,
          0.6601897806334215,
          -1.1484082051607591,
          -0.3601506624529033,
          0.21892965155005714,
          -0.7446991443981005,
          -1.6010064110796367,
          1.3027877160597294,
          2.637352783614263,
          -1.164496585131879,
          -0.7988405568663156,
          0.11240713416388613,
          1.048160908681509,
          0.5619149248158571,
          0.06147046441390483,
          -0.5124104027274924,
          1.0115304797672606,
          -1.0608392192028855,
          -0.1749354641614772,
          0.6544231807132385,
          -0.2380150085031945,
          -1.0382675925006104,
          -0.9786969318035704,
          0.9353387685518132,
          0.6186048691727825,
          -1.051367316882182,
          0.5481837683884434,
          1.0869489723875991,
          -0.8276597485186798,
          -1.1423774236881996,
          -0.5987684068731174,
          2.262905971559901,
          0.8269721442349901,
          -1.3517187768902508,
          0.3046845694376493,
          -1.5691671988994118,
          -1.6147450747653498,
          0.9385118541776004,
          1.3772116111856814,
          -0.3887872739543808,
          -0.04981835019742325,
          0.49369312086794365,
          1.6798331571822096,
          1.0567192540587917,
          0.47869354866514785,
          -1.24362767645016,
          0.3188194983492261,
          0.6847930611588089,
          0.357196047620388,
          -1.0419965151392447,
          0.2547774715058307,
          -0.29597959868541857,
          -0.6981530674093167,
          -0.07526311848588445,
          -0.18163384482479397,
          0.31075032419206056,
          -0.19408849419085747,
          1.5738822461027282,
          -0.08032086069342659,
          1.059622216455474,
          -1.320266007365862,
          1.8918701425077586,
          0.28571864790101287,
          1.8446892555185024,
          -1.045913687048723,
          -0.39532679311263735,
          -0.7580947693260994,
          -0.247466127162814,
          1.210722428462035,
          -1.4024327566377963,
          0.5632509162805431,
          -0.13694559351436295,
          -0.08578184302281991,
          0.7981344850479162,
          -1.7176037255632028,
          1.9520742819822292,
          -0.3330151467131199,
          0.027219819562331278
         ]
        }
       ],
       "layout": {
        "legend": {
         "bgcolor": "#F5F6F9",
         "font": {
          "color": "#4D5663"
         }
        },
        "paper_bgcolor": "#F5F6F9",
        "plot_bgcolor": "#F5F6F9",
        "template": {
         "data": {
          "bar": [
           {
            "error_x": {
             "color": "#2a3f5f"
            },
            "error_y": {
             "color": "#2a3f5f"
            },
            "marker": {
             "line": {
              "color": "#E5ECF6",
              "width": 0.5
             }
            },
            "type": "bar"
           }
          ],
          "barpolar": [
           {
            "marker": {
             "line": {
              "color": "#E5ECF6",
              "width": 0.5
             }
            },
            "type": "barpolar"
           }
          ],
          "carpet": [
           {
            "aaxis": {
             "endlinecolor": "#2a3f5f",
             "gridcolor": "white",
             "linecolor": "white",
             "minorgridcolor": "white",
             "startlinecolor": "#2a3f5f"
            },
            "baxis": {
             "endlinecolor": "#2a3f5f",
             "gridcolor": "white",
             "linecolor": "white",
             "minorgridcolor": "white",
             "startlinecolor": "#2a3f5f"
            },
            "type": "carpet"
           }
          ],
          "choropleth": [
           {
            "colorbar": {
             "outlinewidth": 0,
             "ticks": ""
            },
            "type": "choropleth"
           }
          ],
          "contour": [
           {
            "colorbar": {
             "outlinewidth": 0,
             "ticks": ""
            },
            "colorscale": [
             [
              0,
              "#0d0887"
             ],
             [
              0.1111111111111111,
              "#46039f"
             ],
             [
              0.2222222222222222,
              "#7201a8"
             ],
             [
              0.3333333333333333,
              "#9c179e"
             ],
             [
              0.4444444444444444,
              "#bd3786"
             ],
             [
              0.5555555555555556,
              "#d8576b"
             ],
             [
              0.6666666666666666,
              "#ed7953"
             ],
             [
              0.7777777777777778,
              "#fb9f3a"
             ],
             [
              0.8888888888888888,
              "#fdca26"
             ],
             [
              1,
              "#f0f921"
             ]
            ],
            "type": "contour"
           }
          ],
          "contourcarpet": [
           {
            "colorbar": {
             "outlinewidth": 0,
             "ticks": ""
            },
            "type": "contourcarpet"
           }
          ],
          "heatmap": [
           {
            "colorbar": {
             "outlinewidth": 0,
             "ticks": ""
            },
            "colorscale": [
             [
              0,
              "#0d0887"
             ],
             [
              0.1111111111111111,
              "#46039f"
             ],
             [
              0.2222222222222222,
              "#7201a8"
             ],
             [
              0.3333333333333333,
              "#9c179e"
             ],
             [
              0.4444444444444444,
              "#bd3786"
             ],
             [
              0.5555555555555556,
              "#d8576b"
             ],
             [
              0.6666666666666666,
              "#ed7953"
             ],
             [
              0.7777777777777778,
              "#fb9f3a"
             ],
             [
              0.8888888888888888,
              "#fdca26"
             ],
             [
              1,
              "#f0f921"
             ]
            ],
            "type": "heatmap"
           }
          ],
          "heatmapgl": [
           {
            "colorbar": {
             "outlinewidth": 0,
             "ticks": ""
            },
            "colorscale": [
             [
              0,
              "#0d0887"
             ],
             [
              0.1111111111111111,
              "#46039f"
             ],
             [
              0.2222222222222222,
              "#7201a8"
             ],
             [
              0.3333333333333333,
              "#9c179e"
             ],
             [
              0.4444444444444444,
              "#bd3786"
             ],
             [
              0.5555555555555556,
              "#d8576b"
             ],
             [
              0.6666666666666666,
              "#ed7953"
             ],
             [
              0.7777777777777778,
              "#fb9f3a"
             ],
             [
              0.8888888888888888,
              "#fdca26"
             ],
             [
              1,
              "#f0f921"
             ]
            ],
            "type": "heatmapgl"
           }
          ],
          "histogram": [
           {
            "marker": {
             "colorbar": {
              "outlinewidth": 0,
              "ticks": ""
             }
            },
            "type": "histogram"
           }
          ],
          "histogram2d": [
           {
            "colorbar": {
             "outlinewidth": 0,
             "ticks": ""
            },
            "colorscale": [
             [
              0,
              "#0d0887"
             ],
             [
              0.1111111111111111,
              "#46039f"
             ],
             [
              0.2222222222222222,
              "#7201a8"
             ],
             [
              0.3333333333333333,
              "#9c179e"
             ],
             [
              0.4444444444444444,
              "#bd3786"
             ],
             [
              0.5555555555555556,
              "#d8576b"
             ],
             [
              0.6666666666666666,
              "#ed7953"
             ],
             [
              0.7777777777777778,
              "#fb9f3a"
             ],
             [
              0.8888888888888888,
              "#fdca26"
             ],
             [
              1,
              "#f0f921"
             ]
            ],
            "type": "histogram2d"
           }
          ],
          "histogram2dcontour": [
           {
            "colorbar": {
             "outlinewidth": 0,
             "ticks": ""
            },
            "colorscale": [
             [
              0,
              "#0d0887"
             ],
             [
              0.1111111111111111,
              "#46039f"
             ],
             [
              0.2222222222222222,
              "#7201a8"
             ],
             [
              0.3333333333333333,
              "#9c179e"
             ],
             [
              0.4444444444444444,
              "#bd3786"
             ],
             [
              0.5555555555555556,
              "#d8576b"
             ],
             [
              0.6666666666666666,
              "#ed7953"
             ],
             [
              0.7777777777777778,
              "#fb9f3a"
             ],
             [
              0.8888888888888888,
              "#fdca26"
             ],
             [
              1,
              "#f0f921"
             ]
            ],
            "type": "histogram2dcontour"
           }
          ],
          "mesh3d": [
           {
            "colorbar": {
             "outlinewidth": 0,
             "ticks": ""
            },
            "type": "mesh3d"
           }
          ],
          "parcoords": [
           {
            "line": {
             "colorbar": {
              "outlinewidth": 0,
              "ticks": ""
             }
            },
            "type": "parcoords"
           }
          ],
          "pie": [
           {
            "automargin": true,
            "type": "pie"
           }
          ],
          "scatter": [
           {
            "marker": {
             "colorbar": {
              "outlinewidth": 0,
              "ticks": ""
             }
            },
            "type": "scatter"
           }
          ],
          "scatter3d": [
           {
            "line": {
             "colorbar": {
              "outlinewidth": 0,
              "ticks": ""
             }
            },
            "marker": {
             "colorbar": {
              "outlinewidth": 0,
              "ticks": ""
             }
            },
            "type": "scatter3d"
           }
          ],
          "scattercarpet": [
           {
            "marker": {
             "colorbar": {
              "outlinewidth": 0,
              "ticks": ""
             }
            },
            "type": "scattercarpet"
           }
          ],
          "scattergeo": [
           {
            "marker": {
             "colorbar": {
              "outlinewidth": 0,
              "ticks": ""
             }
            },
            "type": "scattergeo"
           }
          ],
          "scattergl": [
           {
            "marker": {
             "colorbar": {
              "outlinewidth": 0,
              "ticks": ""
             }
            },
            "type": "scattergl"
           }
          ],
          "scattermapbox": [
           {
            "marker": {
             "colorbar": {
              "outlinewidth": 0,
              "ticks": ""
             }
            },
            "type": "scattermapbox"
           }
          ],
          "scatterpolar": [
           {
            "marker": {
             "colorbar": {
              "outlinewidth": 0,
              "ticks": ""
             }
            },
            "type": "scatterpolar"
           }
          ],
          "scatterpolargl": [
           {
            "marker": {
             "colorbar": {
              "outlinewidth": 0,
              "ticks": ""
             }
            },
            "type": "scatterpolargl"
           }
          ],
          "scatterternary": [
           {
            "marker": {
             "colorbar": {
              "outlinewidth": 0,
              "ticks": ""
             }
            },
            "type": "scatterternary"
           }
          ],
          "surface": [
           {
            "colorbar": {
             "outlinewidth": 0,
             "ticks": ""
            },
            "colorscale": [
             [
              0,
              "#0d0887"
             ],
             [
              0.1111111111111111,
              "#46039f"
             ],
             [
              0.2222222222222222,
              "#7201a8"
             ],
             [
              0.3333333333333333,
              "#9c179e"
             ],
             [
              0.4444444444444444,
              "#bd3786"
             ],
             [
              0.5555555555555556,
              "#d8576b"
             ],
             [
              0.6666666666666666,
              "#ed7953"
             ],
             [
              0.7777777777777778,
              "#fb9f3a"
             ],
             [
              0.8888888888888888,
              "#fdca26"
             ],
             [
              1,
              "#f0f921"
             ]
            ],
            "type": "surface"
           }
          ],
          "table": [
           {
            "cells": {
             "fill": {
              "color": "#EBF0F8"
             },
             "line": {
              "color": "white"
             }
            },
            "header": {
             "fill": {
              "color": "#C8D4E3"
             },
             "line": {
              "color": "white"
             }
            },
            "type": "table"
           }
          ]
         },
         "layout": {
          "annotationdefaults": {
           "arrowcolor": "#2a3f5f",
           "arrowhead": 0,
           "arrowwidth": 1
          },
          "coloraxis": {
           "colorbar": {
            "outlinewidth": 0,
            "ticks": ""
           }
          },
          "colorscale": {
           "diverging": [
            [
             0,
             "#8e0152"
            ],
            [
             0.1,
             "#c51b7d"
            ],
            [
             0.2,
             "#de77ae"
            ],
            [
             0.3,
             "#f1b6da"
            ],
            [
             0.4,
             "#fde0ef"
            ],
            [
             0.5,
             "#f7f7f7"
            ],
            [
             0.6,
             "#e6f5d0"
            ],
            [
             0.7,
             "#b8e186"
            ],
            [
             0.8,
             "#7fbc41"
            ],
            [
             0.9,
             "#4d9221"
            ],
            [
             1,
             "#276419"
            ]
           ],
           "sequential": [
            [
             0,
             "#0d0887"
            ],
            [
             0.1111111111111111,
             "#46039f"
            ],
            [
             0.2222222222222222,
             "#7201a8"
            ],
            [
             0.3333333333333333,
             "#9c179e"
            ],
            [
             0.4444444444444444,
             "#bd3786"
            ],
            [
             0.5555555555555556,
             "#d8576b"
            ],
            [
             0.6666666666666666,
             "#ed7953"
            ],
            [
             0.7777777777777778,
             "#fb9f3a"
            ],
            [
             0.8888888888888888,
             "#fdca26"
            ],
            [
             1,
             "#f0f921"
            ]
           ],
           "sequentialminus": [
            [
             0,
             "#0d0887"
            ],
            [
             0.1111111111111111,
             "#46039f"
            ],
            [
             0.2222222222222222,
             "#7201a8"
            ],
            [
             0.3333333333333333,
             "#9c179e"
            ],
            [
             0.4444444444444444,
             "#bd3786"
            ],
            [
             0.5555555555555556,
             "#d8576b"
            ],
            [
             0.6666666666666666,
             "#ed7953"
            ],
            [
             0.7777777777777778,
             "#fb9f3a"
            ],
            [
             0.8888888888888888,
             "#fdca26"
            ],
            [
             1,
             "#f0f921"
            ]
           ]
          },
          "colorway": [
           "#636efa",
           "#EF553B",
           "#00cc96",
           "#ab63fa",
           "#FFA15A",
           "#19d3f3",
           "#FF6692",
           "#B6E880",
           "#FF97FF",
           "#FECB52"
          ],
          "font": {
           "color": "#2a3f5f"
          },
          "geo": {
           "bgcolor": "white",
           "lakecolor": "white",
           "landcolor": "#E5ECF6",
           "showlakes": true,
           "showland": true,
           "subunitcolor": "white"
          },
          "hoverlabel": {
           "align": "left"
          },
          "hovermode": "closest",
          "mapbox": {
           "style": "light"
          },
          "paper_bgcolor": "white",
          "plot_bgcolor": "#E5ECF6",
          "polar": {
           "angularaxis": {
            "gridcolor": "white",
            "linecolor": "white",
            "ticks": ""
           },
           "bgcolor": "#E5ECF6",
           "radialaxis": {
            "gridcolor": "white",
            "linecolor": "white",
            "ticks": ""
           }
          },
          "scene": {
           "xaxis": {
            "backgroundcolor": "#E5ECF6",
            "gridcolor": "white",
            "gridwidth": 2,
            "linecolor": "white",
            "showbackground": true,
            "ticks": "",
            "zerolinecolor": "white"
           },
           "yaxis": {
            "backgroundcolor": "#E5ECF6",
            "gridcolor": "white",
            "gridwidth": 2,
            "linecolor": "white",
            "showbackground": true,
            "ticks": "",
            "zerolinecolor": "white"
           },
           "zaxis": {
            "backgroundcolor": "#E5ECF6",
            "gridcolor": "white",
            "gridwidth": 2,
            "linecolor": "white",
            "showbackground": true,
            "ticks": "",
            "zerolinecolor": "white"
           }
          },
          "shapedefaults": {
           "line": {
            "color": "#2a3f5f"
           }
          },
          "ternary": {
           "aaxis": {
            "gridcolor": "white",
            "linecolor": "white",
            "ticks": ""
           },
           "baxis": {
            "gridcolor": "white",
            "linecolor": "white",
            "ticks": ""
           },
           "bgcolor": "#E5ECF6",
           "caxis": {
            "gridcolor": "white",
            "linecolor": "white",
            "ticks": ""
           }
          },
          "title": {
           "x": 0.05
          },
          "xaxis": {
           "automargin": true,
           "gridcolor": "white",
           "linecolor": "white",
           "ticks": "",
           "title": {
            "standoff": 15
           },
           "zerolinecolor": "white",
           "zerolinewidth": 2
          },
          "yaxis": {
           "automargin": true,
           "gridcolor": "white",
           "linecolor": "white",
           "ticks": "",
           "title": {
            "standoff": 15
           },
           "zerolinecolor": "white",
           "zerolinewidth": 2
          }
         }
        },
        "title": {
         "font": {
          "color": "#4D5663"
         }
        },
        "xaxis": {
         "gridcolor": "#E1E5ED",
         "showgrid": true,
         "tickfont": {
          "color": "#4D5663"
         },
         "title": {
          "font": {
           "color": "#4D5663"
          },
          "text": ""
         },
         "zerolinecolor": "#E1E5ED"
        },
        "yaxis": {
         "gridcolor": "#E1E5ED",
         "showgrid": true,
         "tickfont": {
          "color": "#4D5663"
         },
         "title": {
          "font": {
           "color": "#4D5663"
          },
          "text": ""
         },
         "zerolinecolor": "#E1E5ED"
        }
       }
      },
      "text/html": [
       "<div>\n",
       "        \n",
       "        \n",
       "            <div id=\"492db2c9-23d1-471d-b567-5558a03cfb44\" class=\"plotly-graph-div\" style=\"height:525px; width:100%;\"></div>\n",
       "            <script type=\"text/javascript\">\n",
       "                require([\"plotly\"], function(Plotly) {\n",
       "                    window.PLOTLYENV=window.PLOTLYENV || {};\n",
       "                    window.PLOTLYENV.BASE_URL='https://plot.ly';\n",
       "                    \n",
       "                if (document.getElementById(\"492db2c9-23d1-471d-b567-5558a03cfb44\")) {\n",
       "                    Plotly.newPlot(\n",
       "                        '492db2c9-23d1-471d-b567-5558a03cfb44',\n",
       "                        [{\"line\": {\"color\": \"rgba(255, 153, 51, 1.0)\", \"dash\": \"solid\", \"shape\": \"linear\", \"width\": 1.3}, \"mode\": \"lines\", \"name\": \"A\", \"text\": \"\", \"type\": \"scatter\", \"x\": [0, 1, 2, 3, 4, 5, 6, 7, 8, 9, 10, 11, 12, 13, 14, 15, 16, 17, 18, 19, 20, 21, 22, 23, 24, 25, 26, 27, 28, 29, 30, 31, 32, 33, 34, 35, 36, 37, 38, 39, 40, 41, 42, 43, 44, 45, 46, 47, 48, 49, 50, 51, 52, 53, 54, 55, 56, 57, 58, 59, 60, 61, 62, 63, 64, 65, 66, 67, 68, 69, 70, 71, 72, 73, 74, 75, 76, 77, 78, 79, 80, 81, 82, 83, 84, 85, 86, 87, 88, 89, 90, 91, 92, 93, 94, 95, 96, 97, 98, 99], \"y\": [-0.6680661855631249, 0.1949766871965313, 0.03297058007779891, -0.6990703851144047, -1.1904809035565296, -0.9978851799370811, -1.8582319261511087, -0.5267661337775508, -1.5686461478635814, -1.0627343935664582, 0.9661118140498371, 0.565313506626537, -1.4206021024681288, 0.6560188287072177, 0.5342773017547415, 0.4439743344940591, 0.6052930388775157, 0.7164107464286641, 0.9375280230990192, -0.8939516328602036, 0.4924348203413822, -2.1780131590071496, -0.5438072379862946, -0.9334923463833898, 0.6713486104662258, -0.7065440484824034, -1.3874324539214875, -0.8896410077863353, -0.07984657932136635, -0.12572505592806968, 0.8137383767766075, -1.858491455192245, -0.3724586312111986, 2.402354817353567, 1.0410195382811984, -1.5139559628272126, 0.8076529167916344, -0.3035271559810558, 2.4116330281807286, 2.1223346600953814, 0.16436122619428503, -0.46652198272400175, 0.24256961333364677, 0.2863986325603095, -3.099977310251452, 0.3417341517045552, -1.229051663697874, -0.0825055265741576, 0.5643689745296832, 0.2643607398377007, 0.8404584998456432, -0.9599932628266316, 0.9620952929558358, 2.1487719813839155, 0.8702399277132442, -0.6786256915599027, -0.551562117174487, -0.7569418009249309, -0.7578840771473123, -0.7979818046465237, 1.7875060506298361, -1.1376330255000242, -1.7296967915248824, 1.0120261071074859, 0.07626292262330708, -0.5161229432965986, -1.9828965516645491, 1.2236247293138747, -1.4987687258773836, 0.728921907199498, -1.0224292690506944, 0.7636030501956129, -1.4035448034462434, 0.8741822629080838, -1.575143589119851, 0.5783812385108045, -0.9559912307275771, -0.06416912485000843, 1.5340650493135644, 1.0625590148885438, 0.8926470152500349, -0.10936690562114973, -0.24245197468062515, 1.5191649065321466, 0.736591302550211, 0.3806355692794749, -0.19094272495077746, -0.4809111086547659, -1.3393209311998107, 0.3444845242142359, -0.308530466508197, 0.5971519605520483, -0.2961393984777049, 2.0527924932523907, -0.42898583486115943, 0.7361587789620776, -0.6655264065881279, 0.4869596491478256, -0.42392394888161156, 0.0960209955254644]}, {\"line\": {\"color\": \"rgba(55, 128, 191, 1.0)\", \"dash\": \"solid\", \"shape\": \"linear\", \"width\": 1.3}, \"mode\": \"lines\", \"name\": \"B\", \"text\": \"\", \"type\": \"scatter\", \"x\": [0, 1, 2, 3, 4, 5, 6, 7, 8, 9, 10, 11, 12, 13, 14, 15, 16, 17, 18, 19, 20, 21, 22, 23, 24, 25, 26, 27, 28, 29, 30, 31, 32, 33, 34, 35, 36, 37, 38, 39, 40, 41, 42, 43, 44, 45, 46, 47, 48, 49, 50, 51, 52, 53, 54, 55, 56, 57, 58, 59, 60, 61, 62, 63, 64, 65, 66, 67, 68, 69, 70, 71, 72, 73, 74, 75, 76, 77, 78, 79, 80, 81, 82, 83, 84, 85, 86, 87, 88, 89, 90, 91, 92, 93, 94, 95, 96, 97, 98, 99], \"y\": [-0.6810784119889212, -0.12672851621571565, -2.0807241915160843, 2.1123832635269437, -0.037441185918270566, -0.8419160328363937, -0.965051019475013, 0.8311693286344598, -0.12892638840714116, -0.3223623657442055, -0.2651621978066173, 0.5751051482978644, -1.5954080823970926, 0.35868808673820946, 2.472151302817571, 0.262160516152913, -0.34492136425427206, 2.642740897818084, 0.41347183169097945, 1.4222362844595409, 1.0478656163489362, -1.4989625631723997, -1.1573817060636589, -0.1902543592584037, -1.5924763685255088, -0.04356499912556374, -0.32646573064441586, 1.4195081126291589, 1.3506300184179498, -1.8861410729263206, 0.6078372185494824, 0.5896587847914512, -1.8647497848327925, 0.16162438429861858, 0.6426130692999505, 1.7639945077246302, 0.7761834037906911, 0.421145954098237, 0.1854040095139653, 0.9429598683866964, -0.7099509267598096, -1.7564388380669502, 1.3881239407102857, -1.3120206969144075, -1.2360995942787971, -0.10177615060000193, 1.207999550088633, 0.11356010121118484, -0.13811616381196112, 1.3505494572062853, 1.0177776805673846, -1.4837634818277279, -0.6319011207391553, 0.20812478489292638, -0.08134859369177261, -0.7277076405660484, 0.840470334848689, -1.7870213204890557, 0.03588632950819402, -0.3733539244362292, 0.43292408303107593, -0.5686082275326253, -0.6758945175654862, -0.6070459436824658, 1.1050416756450765, -0.059510924986301804, 0.8447858158747069, 0.499972993569185, -0.13434501044250866, -1.8070564697994906, -1.714991039757765, -0.3751013035128291, 1.0953223101313094, -1.4369805212753772, 0.39107212877171116, -0.2516191386082863, 0.22228696010046495, 0.1725199646415227, -1.050096031944785, 0.5061413187280068, -0.12351473087442927, -0.7146092641508545, 0.4954838312980374, 1.3551362084378633, 0.9634550093677506, 1.0479339303158377, 1.059923568234994, -0.7117493946644667, -1.0699478167895864, -0.2362919262806339, 1.403646945157495, 0.28071705389078044, -0.15182662408610997, 0.17489614347413823, -0.9742686872933056, 0.1786922050680465, -0.6273672164757751, -0.4488967123079796, -1.4551355833120438, -1.0757746516273758]}, {\"line\": {\"color\": \"rgba(50, 171, 96, 1.0)\", \"dash\": \"solid\", \"shape\": \"linear\", \"width\": 1.3}, \"mode\": \"lines\", \"name\": \"C\", \"text\": \"\", \"type\": \"scatter\", \"x\": [0, 1, 2, 3, 4, 5, 6, 7, 8, 9, 10, 11, 12, 13, 14, 15, 16, 17, 18, 19, 20, 21, 22, 23, 24, 25, 26, 27, 28, 29, 30, 31, 32, 33, 34, 35, 36, 37, 38, 39, 40, 41, 42, 43, 44, 45, 46, 47, 48, 49, 50, 51, 52, 53, 54, 55, 56, 57, 58, 59, 60, 61, 62, 63, 64, 65, 66, 67, 68, 69, 70, 71, 72, 73, 74, 75, 76, 77, 78, 79, 80, 81, 82, 83, 84, 85, 86, 87, 88, 89, 90, 91, 92, 93, 94, 95, 96, 97, 98, 99], \"y\": [-2.3073638620301433, -0.9962041490678315, 1.3208116314786846, -0.025390771166009407, -0.9648363933317966, 0.24326610193825265, 0.7833001534921529, -0.8663752013312572, 0.28426532861252757, 1.8525904754774485, 0.5164054496741013, 1.2303099931032626, 0.5360513363234279, 0.7314049395469593, -0.05158527579854278, -0.5217391984873557, 0.6011760081316192, 0.09789419963031891, -0.4874882753947355, -0.2989607053704855, 0.9383987116683369, -0.29624269819989724, -3.0132871456839267, -0.2600934938003665, -0.5169579690827044, -0.8119315582610903, -0.34731928941074086, -1.820136372657824, 1.2256674920965915, -1.5566391864661864, -0.06809802410845756, -0.2871133753382355, 0.9244116752222192, -0.6759585741687546, -0.6744735212611921, -1.6040426177574216, 1.2850611144199247, 0.8279989883462856, -0.2878489752861659, -0.23566306928665398, 1.3076158299163698, -1.6401124481321587, 0.546773763745836, 0.2763863222089421, 0.1382460666083625, 0.34761977999188315, 0.18678832068275122, -0.7826894546849915, -0.22804525413889637, -0.27774414758352944, -0.679220647452501, -0.5321792137613572, -1.1818314843254512, -0.24222642777041425, 0.2594990627819901, 1.6806485495058059, 1.2494555826282385, 1.7561180265516112, -0.18337912849127272, 0.1986178157101335, 1.1144016939165797, -1.1232355481853946, 0.3312435482633644, -0.5356280710427399, -0.3475497394030127, 1.3188617574462058, -0.03536711573532913, 0.8809219197152772, 0.0944716655023659, 0.4550279458603338, 1.8136067916398246, -0.18360533019846725, -0.23021685288304736, 0.3406496620591469, 1.4145557922085121, 0.5315204905167306, -1.640263959883622, -1.0955524713900873, -1.4774176081870156, -0.33843055481629236, 0.07218683504377033, -1.3554867431755546, -0.24673020354673178, -1.826836764908707, -0.5894495017125044, -1.5883001645521029, 1.9347900221285799, 0.9264335949306093, -0.19619855277123432, 1.311730305133455, -0.005833191408164211, -0.15789828864743358, 0.1270696407524092, 1.6577163232652115, -0.05443421620407633, 1.2837041675848508, 0.5593938838023739, -1.5122145518614358, -1.3051058219297798, -0.09372562766382454]}, {\"line\": {\"color\": \"rgba(128, 0, 128, 1.0)\", \"dash\": \"solid\", \"shape\": \"linear\", \"width\": 1.3}, \"mode\": \"lines\", \"name\": \"D\", \"text\": \"\", \"type\": \"scatter\", \"x\": [0, 1, 2, 3, 4, 5, 6, 7, 8, 9, 10, 11, 12, 13, 14, 15, 16, 17, 18, 19, 20, 21, 22, 23, 24, 25, 26, 27, 28, 29, 30, 31, 32, 33, 34, 35, 36, 37, 38, 39, 40, 41, 42, 43, 44, 45, 46, 47, 48, 49, 50, 51, 52, 53, 54, 55, 56, 57, 58, 59, 60, 61, 62, 63, 64, 65, 66, 67, 68, 69, 70, 71, 72, 73, 74, 75, 76, 77, 78, 79, 80, 81, 82, 83, 84, 85, 86, 87, 88, 89, 90, 91, 92, 93, 94, 95, 96, 97, 98, 99], \"y\": [0.49209094387433777, 0.9062738969829228, 0.17329610259510156, -0.10736420792233334, 0.6105223392819806, -1.691053205670486, 1.728568659259317, -1.2008015945078236, -1.9179174593378803, -0.3579727607746801, 1.1705371096116617, 0.47667608570186953, 0.4776399709111016, -0.9461143733421219, -0.4131117792381057, -1.1115425891296822, 1.2860346537356238, 0.3271027808073432, 0.5159953352965916, 0.27729083117100445, 0.7752711293926082, 0.7312747438193341, 1.2198693462173729, 0.6601897806334215, -1.1484082051607591, -0.3601506624529033, 0.21892965155005714, -0.7446991443981005, -1.6010064110796367, 1.3027877160597294, 2.637352783614263, -1.164496585131879, -0.7988405568663156, 0.11240713416388613, 1.048160908681509, 0.5619149248158571, 0.06147046441390483, -0.5124104027274924, 1.0115304797672606, -1.0608392192028855, -0.1749354641614772, 0.6544231807132385, -0.2380150085031945, -1.0382675925006104, -0.9786969318035704, 0.9353387685518132, 0.6186048691727825, -1.051367316882182, 0.5481837683884434, 1.0869489723875991, -0.8276597485186798, -1.1423774236881996, -0.5987684068731174, 2.262905971559901, 0.8269721442349901, -1.3517187768902508, 0.3046845694376493, -1.5691671988994118, -1.6147450747653498, 0.9385118541776004, 1.3772116111856814, -0.3887872739543808, -0.04981835019742325, 0.49369312086794365, 1.6798331571822096, 1.0567192540587917, 0.47869354866514785, -1.24362767645016, 0.3188194983492261, 0.6847930611588089, 0.357196047620388, -1.0419965151392447, 0.2547774715058307, -0.29597959868541857, -0.6981530674093167, -0.07526311848588445, -0.18163384482479397, 0.31075032419206056, -0.19408849419085747, 1.5738822461027282, -0.08032086069342659, 1.059622216455474, -1.320266007365862, 1.8918701425077586, 0.28571864790101287, 1.8446892555185024, -1.045913687048723, -0.39532679311263735, -0.7580947693260994, -0.247466127162814, 1.210722428462035, -1.4024327566377963, 0.5632509162805431, -0.13694559351436295, -0.08578184302281991, 0.7981344850479162, -1.7176037255632028, 1.9520742819822292, -0.3330151467131199, 0.027219819562331278]}],\n",
       "                        {\"legend\": {\"bgcolor\": \"#F5F6F9\", \"font\": {\"color\": \"#4D5663\"}}, \"paper_bgcolor\": \"#F5F6F9\", \"plot_bgcolor\": \"#F5F6F9\", \"template\": {\"data\": {\"bar\": [{\"error_x\": {\"color\": \"#2a3f5f\"}, \"error_y\": {\"color\": \"#2a3f5f\"}, \"marker\": {\"line\": {\"color\": \"#E5ECF6\", \"width\": 0.5}}, \"type\": \"bar\"}], \"barpolar\": [{\"marker\": {\"line\": {\"color\": \"#E5ECF6\", \"width\": 0.5}}, \"type\": \"barpolar\"}], \"carpet\": [{\"aaxis\": {\"endlinecolor\": \"#2a3f5f\", \"gridcolor\": \"white\", \"linecolor\": \"white\", \"minorgridcolor\": \"white\", \"startlinecolor\": \"#2a3f5f\"}, \"baxis\": {\"endlinecolor\": \"#2a3f5f\", \"gridcolor\": \"white\", \"linecolor\": \"white\", \"minorgridcolor\": \"white\", \"startlinecolor\": \"#2a3f5f\"}, \"type\": \"carpet\"}], \"choropleth\": [{\"colorbar\": {\"outlinewidth\": 0, \"ticks\": \"\"}, \"type\": \"choropleth\"}], \"contour\": [{\"colorbar\": {\"outlinewidth\": 0, \"ticks\": \"\"}, \"colorscale\": [[0.0, \"#0d0887\"], [0.1111111111111111, \"#46039f\"], [0.2222222222222222, \"#7201a8\"], [0.3333333333333333, \"#9c179e\"], [0.4444444444444444, \"#bd3786\"], [0.5555555555555556, \"#d8576b\"], [0.6666666666666666, \"#ed7953\"], [0.7777777777777778, \"#fb9f3a\"], [0.8888888888888888, \"#fdca26\"], [1.0, \"#f0f921\"]], \"type\": \"contour\"}], \"contourcarpet\": [{\"colorbar\": {\"outlinewidth\": 0, \"ticks\": \"\"}, \"type\": \"contourcarpet\"}], \"heatmap\": [{\"colorbar\": {\"outlinewidth\": 0, \"ticks\": \"\"}, \"colorscale\": [[0.0, \"#0d0887\"], [0.1111111111111111, \"#46039f\"], [0.2222222222222222, \"#7201a8\"], [0.3333333333333333, \"#9c179e\"], [0.4444444444444444, \"#bd3786\"], [0.5555555555555556, \"#d8576b\"], [0.6666666666666666, \"#ed7953\"], [0.7777777777777778, \"#fb9f3a\"], [0.8888888888888888, \"#fdca26\"], [1.0, \"#f0f921\"]], \"type\": \"heatmap\"}], \"heatmapgl\": [{\"colorbar\": {\"outlinewidth\": 0, \"ticks\": \"\"}, \"colorscale\": [[0.0, \"#0d0887\"], [0.1111111111111111, \"#46039f\"], [0.2222222222222222, \"#7201a8\"], [0.3333333333333333, \"#9c179e\"], [0.4444444444444444, \"#bd3786\"], [0.5555555555555556, \"#d8576b\"], [0.6666666666666666, \"#ed7953\"], [0.7777777777777778, \"#fb9f3a\"], [0.8888888888888888, \"#fdca26\"], [1.0, \"#f0f921\"]], \"type\": \"heatmapgl\"}], \"histogram\": [{\"marker\": {\"colorbar\": {\"outlinewidth\": 0, \"ticks\": \"\"}}, \"type\": \"histogram\"}], \"histogram2d\": [{\"colorbar\": {\"outlinewidth\": 0, \"ticks\": \"\"}, \"colorscale\": [[0.0, \"#0d0887\"], [0.1111111111111111, \"#46039f\"], [0.2222222222222222, \"#7201a8\"], [0.3333333333333333, \"#9c179e\"], [0.4444444444444444, \"#bd3786\"], [0.5555555555555556, \"#d8576b\"], [0.6666666666666666, \"#ed7953\"], [0.7777777777777778, \"#fb9f3a\"], [0.8888888888888888, \"#fdca26\"], [1.0, \"#f0f921\"]], \"type\": \"histogram2d\"}], \"histogram2dcontour\": [{\"colorbar\": {\"outlinewidth\": 0, \"ticks\": \"\"}, \"colorscale\": [[0.0, \"#0d0887\"], [0.1111111111111111, \"#46039f\"], [0.2222222222222222, \"#7201a8\"], [0.3333333333333333, \"#9c179e\"], [0.4444444444444444, \"#bd3786\"], [0.5555555555555556, \"#d8576b\"], [0.6666666666666666, \"#ed7953\"], [0.7777777777777778, \"#fb9f3a\"], [0.8888888888888888, \"#fdca26\"], [1.0, \"#f0f921\"]], \"type\": \"histogram2dcontour\"}], \"mesh3d\": [{\"colorbar\": {\"outlinewidth\": 0, \"ticks\": \"\"}, \"type\": \"mesh3d\"}], \"parcoords\": [{\"line\": {\"colorbar\": {\"outlinewidth\": 0, \"ticks\": \"\"}}, \"type\": \"parcoords\"}], \"pie\": [{\"automargin\": true, \"type\": \"pie\"}], \"scatter\": [{\"marker\": {\"colorbar\": {\"outlinewidth\": 0, \"ticks\": \"\"}}, \"type\": \"scatter\"}], \"scatter3d\": [{\"line\": {\"colorbar\": {\"outlinewidth\": 0, \"ticks\": \"\"}}, \"marker\": {\"colorbar\": {\"outlinewidth\": 0, \"ticks\": \"\"}}, \"type\": \"scatter3d\"}], \"scattercarpet\": [{\"marker\": {\"colorbar\": {\"outlinewidth\": 0, \"ticks\": \"\"}}, \"type\": \"scattercarpet\"}], \"scattergeo\": [{\"marker\": {\"colorbar\": {\"outlinewidth\": 0, \"ticks\": \"\"}}, \"type\": \"scattergeo\"}], \"scattergl\": [{\"marker\": {\"colorbar\": {\"outlinewidth\": 0, \"ticks\": \"\"}}, \"type\": \"scattergl\"}], \"scattermapbox\": [{\"marker\": {\"colorbar\": {\"outlinewidth\": 0, \"ticks\": \"\"}}, \"type\": \"scattermapbox\"}], \"scatterpolar\": [{\"marker\": {\"colorbar\": {\"outlinewidth\": 0, \"ticks\": \"\"}}, \"type\": \"scatterpolar\"}], \"scatterpolargl\": [{\"marker\": {\"colorbar\": {\"outlinewidth\": 0, \"ticks\": \"\"}}, \"type\": \"scatterpolargl\"}], \"scatterternary\": [{\"marker\": {\"colorbar\": {\"outlinewidth\": 0, \"ticks\": \"\"}}, \"type\": \"scatterternary\"}], \"surface\": [{\"colorbar\": {\"outlinewidth\": 0, \"ticks\": \"\"}, \"colorscale\": [[0.0, \"#0d0887\"], [0.1111111111111111, \"#46039f\"], [0.2222222222222222, \"#7201a8\"], [0.3333333333333333, \"#9c179e\"], [0.4444444444444444, \"#bd3786\"], [0.5555555555555556, \"#d8576b\"], [0.6666666666666666, \"#ed7953\"], [0.7777777777777778, \"#fb9f3a\"], [0.8888888888888888, \"#fdca26\"], [1.0, \"#f0f921\"]], \"type\": \"surface\"}], \"table\": [{\"cells\": {\"fill\": {\"color\": \"#EBF0F8\"}, \"line\": {\"color\": \"white\"}}, \"header\": {\"fill\": {\"color\": \"#C8D4E3\"}, \"line\": {\"color\": \"white\"}}, \"type\": \"table\"}]}, \"layout\": {\"annotationdefaults\": {\"arrowcolor\": \"#2a3f5f\", \"arrowhead\": 0, \"arrowwidth\": 1}, \"coloraxis\": {\"colorbar\": {\"outlinewidth\": 0, \"ticks\": \"\"}}, \"colorscale\": {\"diverging\": [[0, \"#8e0152\"], [0.1, \"#c51b7d\"], [0.2, \"#de77ae\"], [0.3, \"#f1b6da\"], [0.4, \"#fde0ef\"], [0.5, \"#f7f7f7\"], [0.6, \"#e6f5d0\"], [0.7, \"#b8e186\"], [0.8, \"#7fbc41\"], [0.9, \"#4d9221\"], [1, \"#276419\"]], \"sequential\": [[0.0, \"#0d0887\"], [0.1111111111111111, \"#46039f\"], [0.2222222222222222, \"#7201a8\"], [0.3333333333333333, \"#9c179e\"], [0.4444444444444444, \"#bd3786\"], [0.5555555555555556, \"#d8576b\"], [0.6666666666666666, \"#ed7953\"], [0.7777777777777778, \"#fb9f3a\"], [0.8888888888888888, \"#fdca26\"], [1.0, \"#f0f921\"]], \"sequentialminus\": [[0.0, \"#0d0887\"], [0.1111111111111111, \"#46039f\"], [0.2222222222222222, \"#7201a8\"], [0.3333333333333333, \"#9c179e\"], [0.4444444444444444, \"#bd3786\"], [0.5555555555555556, \"#d8576b\"], [0.6666666666666666, \"#ed7953\"], [0.7777777777777778, \"#fb9f3a\"], [0.8888888888888888, \"#fdca26\"], [1.0, \"#f0f921\"]]}, \"colorway\": [\"#636efa\", \"#EF553B\", \"#00cc96\", \"#ab63fa\", \"#FFA15A\", \"#19d3f3\", \"#FF6692\", \"#B6E880\", \"#FF97FF\", \"#FECB52\"], \"font\": {\"color\": \"#2a3f5f\"}, \"geo\": {\"bgcolor\": \"white\", \"lakecolor\": \"white\", \"landcolor\": \"#E5ECF6\", \"showlakes\": true, \"showland\": true, \"subunitcolor\": \"white\"}, \"hoverlabel\": {\"align\": \"left\"}, \"hovermode\": \"closest\", \"mapbox\": {\"style\": \"light\"}, \"paper_bgcolor\": \"white\", \"plot_bgcolor\": \"#E5ECF6\", \"polar\": {\"angularaxis\": {\"gridcolor\": \"white\", \"linecolor\": \"white\", \"ticks\": \"\"}, \"bgcolor\": \"#E5ECF6\", \"radialaxis\": {\"gridcolor\": \"white\", \"linecolor\": \"white\", \"ticks\": \"\"}}, \"scene\": {\"xaxis\": {\"backgroundcolor\": \"#E5ECF6\", \"gridcolor\": \"white\", \"gridwidth\": 2, \"linecolor\": \"white\", \"showbackground\": true, \"ticks\": \"\", \"zerolinecolor\": \"white\"}, \"yaxis\": {\"backgroundcolor\": \"#E5ECF6\", \"gridcolor\": \"white\", \"gridwidth\": 2, \"linecolor\": \"white\", \"showbackground\": true, \"ticks\": \"\", \"zerolinecolor\": \"white\"}, \"zaxis\": {\"backgroundcolor\": \"#E5ECF6\", \"gridcolor\": \"white\", \"gridwidth\": 2, \"linecolor\": \"white\", \"showbackground\": true, \"ticks\": \"\", \"zerolinecolor\": \"white\"}}, \"shapedefaults\": {\"line\": {\"color\": \"#2a3f5f\"}}, \"ternary\": {\"aaxis\": {\"gridcolor\": \"white\", \"linecolor\": \"white\", \"ticks\": \"\"}, \"baxis\": {\"gridcolor\": \"white\", \"linecolor\": \"white\", \"ticks\": \"\"}, \"bgcolor\": \"#E5ECF6\", \"caxis\": {\"gridcolor\": \"white\", \"linecolor\": \"white\", \"ticks\": \"\"}}, \"title\": {\"x\": 0.05}, \"xaxis\": {\"automargin\": true, \"gridcolor\": \"white\", \"linecolor\": \"white\", \"ticks\": \"\", \"title\": {\"standoff\": 15}, \"zerolinecolor\": \"white\", \"zerolinewidth\": 2}, \"yaxis\": {\"automargin\": true, \"gridcolor\": \"white\", \"linecolor\": \"white\", \"ticks\": \"\", \"title\": {\"standoff\": 15}, \"zerolinecolor\": \"white\", \"zerolinewidth\": 2}}}, \"title\": {\"font\": {\"color\": \"#4D5663\"}}, \"xaxis\": {\"gridcolor\": \"#E1E5ED\", \"showgrid\": true, \"tickfont\": {\"color\": \"#4D5663\"}, \"title\": {\"font\": {\"color\": \"#4D5663\"}, \"text\": \"\"}, \"zerolinecolor\": \"#E1E5ED\"}, \"yaxis\": {\"gridcolor\": \"#E1E5ED\", \"showgrid\": true, \"tickfont\": {\"color\": \"#4D5663\"}, \"title\": {\"font\": {\"color\": \"#4D5663\"}, \"text\": \"\"}, \"zerolinecolor\": \"#E1E5ED\"}},\n",
       "                        {\"showLink\": true, \"linkText\": \"Export to plot.ly\", \"plotlyServerURL\": \"https://plot.ly\", \"responsive\": true}\n",
       "                    ).then(function(){\n",
       "                            \n",
       "var gd = document.getElementById('492db2c9-23d1-471d-b567-5558a03cfb44');\n",
       "var x = new MutationObserver(function (mutations, observer) {{\n",
       "        var display = window.getComputedStyle(gd).display;\n",
       "        if (!display || display === 'none') {{\n",
       "            console.log([gd, 'removed!']);\n",
       "            Plotly.purge(gd);\n",
       "            observer.disconnect();\n",
       "        }}\n",
       "}});\n",
       "\n",
       "// Listen for the removal of the full notebook cells\n",
       "var notebookContainer = gd.closest('#notebook-container');\n",
       "if (notebookContainer) {{\n",
       "    x.observe(notebookContainer, {childList: true});\n",
       "}}\n",
       "\n",
       "// Listen for the clearing of the current output cell\n",
       "var outputEl = gd.closest('.output');\n",
       "if (outputEl) {{\n",
       "    x.observe(outputEl, {childList: true});\n",
       "}}\n",
       "\n",
       "                        })\n",
       "                };\n",
       "                });\n",
       "            </script>\n",
       "        </div>"
      ]
     },
     "metadata": {},
     "output_type": "display_data"
    }
   ],
   "source": [
    "df.iplot()\n",
    "#has been converted to plotly interactive image\n",
    "#u also have tools"
   ]
  },
  {
   "cell_type": "markdown",
   "metadata": {},
   "source": [
    "## Scatterplot"
   ]
  },
  {
   "cell_type": "code",
   "execution_count": 14,
   "metadata": {},
   "outputs": [
    {
     "data": {
      "application/vnd.plotly.v1+json": {
       "config": {
        "linkText": "Export to plot.ly",
        "plotlyServerURL": "https://plot.ly",
        "showLink": true
       },
       "data": [
        {
         "line": {
          "color": "rgba(255, 153, 51, 1.0)",
          "dash": "solid",
          "shape": "linear",
          "width": 1.3
         },
         "marker": {
          "size": 15,
          "symbol": "circle"
         },
         "mode": "markers",
         "name": "B",
         "text": "",
         "type": "scatter",
         "x": [
          -0.6680661855631249,
          0.1949766871965313,
          0.03297058007779891,
          -0.6990703851144047,
          -1.1904809035565296,
          -0.9978851799370811,
          -1.8582319261511087,
          -0.5267661337775508,
          -1.5686461478635814,
          -1.0627343935664582,
          0.9661118140498371,
          0.565313506626537,
          -1.4206021024681288,
          0.6560188287072177,
          0.5342773017547415,
          0.4439743344940591,
          0.6052930388775157,
          0.7164107464286641,
          0.9375280230990192,
          -0.8939516328602036,
          0.4924348203413822,
          -2.1780131590071496,
          -0.5438072379862946,
          -0.9334923463833898,
          0.6713486104662258,
          -0.7065440484824034,
          -1.3874324539214875,
          -0.8896410077863353,
          -0.07984657932136635,
          -0.12572505592806968,
          0.8137383767766075,
          -1.858491455192245,
          -0.3724586312111986,
          2.402354817353567,
          1.0410195382811984,
          -1.5139559628272126,
          0.8076529167916344,
          -0.3035271559810558,
          2.4116330281807286,
          2.1223346600953814,
          0.16436122619428503,
          -0.46652198272400175,
          0.24256961333364677,
          0.2863986325603095,
          -3.099977310251452,
          0.3417341517045552,
          -1.229051663697874,
          -0.0825055265741576,
          0.5643689745296832,
          0.2643607398377007,
          0.8404584998456432,
          -0.9599932628266316,
          0.9620952929558358,
          2.1487719813839155,
          0.8702399277132442,
          -0.6786256915599027,
          -0.551562117174487,
          -0.7569418009249309,
          -0.7578840771473123,
          -0.7979818046465237,
          1.7875060506298361,
          -1.1376330255000242,
          -1.7296967915248824,
          1.0120261071074859,
          0.07626292262330708,
          -0.5161229432965986,
          -1.9828965516645491,
          1.2236247293138747,
          -1.4987687258773836,
          0.728921907199498,
          -1.0224292690506944,
          0.7636030501956129,
          -1.4035448034462434,
          0.8741822629080838,
          -1.575143589119851,
          0.5783812385108045,
          -0.9559912307275771,
          -0.06416912485000843,
          1.5340650493135644,
          1.0625590148885438,
          0.8926470152500349,
          -0.10936690562114973,
          -0.24245197468062515,
          1.5191649065321466,
          0.736591302550211,
          0.3806355692794749,
          -0.19094272495077746,
          -0.4809111086547659,
          -1.3393209311998107,
          0.3444845242142359,
          -0.308530466508197,
          0.5971519605520483,
          -0.2961393984777049,
          2.0527924932523907,
          -0.42898583486115943,
          0.7361587789620776,
          -0.6655264065881279,
          0.4869596491478256,
          -0.42392394888161156,
          0.0960209955254644
         ],
         "y": [
          -0.6810784119889212,
          -0.12672851621571565,
          -2.0807241915160843,
          2.1123832635269437,
          -0.037441185918270566,
          -0.8419160328363937,
          -0.965051019475013,
          0.8311693286344598,
          -0.12892638840714116,
          -0.3223623657442055,
          -0.2651621978066173,
          0.5751051482978644,
          -1.5954080823970926,
          0.35868808673820946,
          2.472151302817571,
          0.262160516152913,
          -0.34492136425427206,
          2.642740897818084,
          0.41347183169097945,
          1.4222362844595409,
          1.0478656163489362,
          -1.4989625631723997,
          -1.1573817060636589,
          -0.1902543592584037,
          -1.5924763685255088,
          -0.04356499912556374,
          -0.32646573064441586,
          1.4195081126291589,
          1.3506300184179498,
          -1.8861410729263206,
          0.6078372185494824,
          0.5896587847914512,
          -1.8647497848327925,
          0.16162438429861858,
          0.6426130692999505,
          1.7639945077246302,
          0.7761834037906911,
          0.421145954098237,
          0.1854040095139653,
          0.9429598683866964,
          -0.7099509267598096,
          -1.7564388380669502,
          1.3881239407102857,
          -1.3120206969144075,
          -1.2360995942787971,
          -0.10177615060000193,
          1.207999550088633,
          0.11356010121118484,
          -0.13811616381196112,
          1.3505494572062853,
          1.0177776805673846,
          -1.4837634818277279,
          -0.6319011207391553,
          0.20812478489292638,
          -0.08134859369177261,
          -0.7277076405660484,
          0.840470334848689,
          -1.7870213204890557,
          0.03588632950819402,
          -0.3733539244362292,
          0.43292408303107593,
          -0.5686082275326253,
          -0.6758945175654862,
          -0.6070459436824658,
          1.1050416756450765,
          -0.059510924986301804,
          0.8447858158747069,
          0.499972993569185,
          -0.13434501044250866,
          -1.8070564697994906,
          -1.714991039757765,
          -0.3751013035128291,
          1.0953223101313094,
          -1.4369805212753772,
          0.39107212877171116,
          -0.2516191386082863,
          0.22228696010046495,
          0.1725199646415227,
          -1.050096031944785,
          0.5061413187280068,
          -0.12351473087442927,
          -0.7146092641508545,
          0.4954838312980374,
          1.3551362084378633,
          0.9634550093677506,
          1.0479339303158377,
          1.059923568234994,
          -0.7117493946644667,
          -1.0699478167895864,
          -0.2362919262806339,
          1.403646945157495,
          0.28071705389078044,
          -0.15182662408610997,
          0.17489614347413823,
          -0.9742686872933056,
          0.1786922050680465,
          -0.6273672164757751,
          -0.4488967123079796,
          -1.4551355833120438,
          -1.0757746516273758
         ]
        }
       ],
       "layout": {
        "legend": {
         "bgcolor": "#F5F6F9",
         "font": {
          "color": "#4D5663"
         }
        },
        "paper_bgcolor": "#F5F6F9",
        "plot_bgcolor": "#F5F6F9",
        "template": {
         "data": {
          "bar": [
           {
            "error_x": {
             "color": "#2a3f5f"
            },
            "error_y": {
             "color": "#2a3f5f"
            },
            "marker": {
             "line": {
              "color": "#E5ECF6",
              "width": 0.5
             }
            },
            "type": "bar"
           }
          ],
          "barpolar": [
           {
            "marker": {
             "line": {
              "color": "#E5ECF6",
              "width": 0.5
             }
            },
            "type": "barpolar"
           }
          ],
          "carpet": [
           {
            "aaxis": {
             "endlinecolor": "#2a3f5f",
             "gridcolor": "white",
             "linecolor": "white",
             "minorgridcolor": "white",
             "startlinecolor": "#2a3f5f"
            },
            "baxis": {
             "endlinecolor": "#2a3f5f",
             "gridcolor": "white",
             "linecolor": "white",
             "minorgridcolor": "white",
             "startlinecolor": "#2a3f5f"
            },
            "type": "carpet"
           }
          ],
          "choropleth": [
           {
            "colorbar": {
             "outlinewidth": 0,
             "ticks": ""
            },
            "type": "choropleth"
           }
          ],
          "contour": [
           {
            "colorbar": {
             "outlinewidth": 0,
             "ticks": ""
            },
            "colorscale": [
             [
              0,
              "#0d0887"
             ],
             [
              0.1111111111111111,
              "#46039f"
             ],
             [
              0.2222222222222222,
              "#7201a8"
             ],
             [
              0.3333333333333333,
              "#9c179e"
             ],
             [
              0.4444444444444444,
              "#bd3786"
             ],
             [
              0.5555555555555556,
              "#d8576b"
             ],
             [
              0.6666666666666666,
              "#ed7953"
             ],
             [
              0.7777777777777778,
              "#fb9f3a"
             ],
             [
              0.8888888888888888,
              "#fdca26"
             ],
             [
              1,
              "#f0f921"
             ]
            ],
            "type": "contour"
           }
          ],
          "contourcarpet": [
           {
            "colorbar": {
             "outlinewidth": 0,
             "ticks": ""
            },
            "type": "contourcarpet"
           }
          ],
          "heatmap": [
           {
            "colorbar": {
             "outlinewidth": 0,
             "ticks": ""
            },
            "colorscale": [
             [
              0,
              "#0d0887"
             ],
             [
              0.1111111111111111,
              "#46039f"
             ],
             [
              0.2222222222222222,
              "#7201a8"
             ],
             [
              0.3333333333333333,
              "#9c179e"
             ],
             [
              0.4444444444444444,
              "#bd3786"
             ],
             [
              0.5555555555555556,
              "#d8576b"
             ],
             [
              0.6666666666666666,
              "#ed7953"
             ],
             [
              0.7777777777777778,
              "#fb9f3a"
             ],
             [
              0.8888888888888888,
              "#fdca26"
             ],
             [
              1,
              "#f0f921"
             ]
            ],
            "type": "heatmap"
           }
          ],
          "heatmapgl": [
           {
            "colorbar": {
             "outlinewidth": 0,
             "ticks": ""
            },
            "colorscale": [
             [
              0,
              "#0d0887"
             ],
             [
              0.1111111111111111,
              "#46039f"
             ],
             [
              0.2222222222222222,
              "#7201a8"
             ],
             [
              0.3333333333333333,
              "#9c179e"
             ],
             [
              0.4444444444444444,
              "#bd3786"
             ],
             [
              0.5555555555555556,
              "#d8576b"
             ],
             [
              0.6666666666666666,
              "#ed7953"
             ],
             [
              0.7777777777777778,
              "#fb9f3a"
             ],
             [
              0.8888888888888888,
              "#fdca26"
             ],
             [
              1,
              "#f0f921"
             ]
            ],
            "type": "heatmapgl"
           }
          ],
          "histogram": [
           {
            "marker": {
             "colorbar": {
              "outlinewidth": 0,
              "ticks": ""
             }
            },
            "type": "histogram"
           }
          ],
          "histogram2d": [
           {
            "colorbar": {
             "outlinewidth": 0,
             "ticks": ""
            },
            "colorscale": [
             [
              0,
              "#0d0887"
             ],
             [
              0.1111111111111111,
              "#46039f"
             ],
             [
              0.2222222222222222,
              "#7201a8"
             ],
             [
              0.3333333333333333,
              "#9c179e"
             ],
             [
              0.4444444444444444,
              "#bd3786"
             ],
             [
              0.5555555555555556,
              "#d8576b"
             ],
             [
              0.6666666666666666,
              "#ed7953"
             ],
             [
              0.7777777777777778,
              "#fb9f3a"
             ],
             [
              0.8888888888888888,
              "#fdca26"
             ],
             [
              1,
              "#f0f921"
             ]
            ],
            "type": "histogram2d"
           }
          ],
          "histogram2dcontour": [
           {
            "colorbar": {
             "outlinewidth": 0,
             "ticks": ""
            },
            "colorscale": [
             [
              0,
              "#0d0887"
             ],
             [
              0.1111111111111111,
              "#46039f"
             ],
             [
              0.2222222222222222,
              "#7201a8"
             ],
             [
              0.3333333333333333,
              "#9c179e"
             ],
             [
              0.4444444444444444,
              "#bd3786"
             ],
             [
              0.5555555555555556,
              "#d8576b"
             ],
             [
              0.6666666666666666,
              "#ed7953"
             ],
             [
              0.7777777777777778,
              "#fb9f3a"
             ],
             [
              0.8888888888888888,
              "#fdca26"
             ],
             [
              1,
              "#f0f921"
             ]
            ],
            "type": "histogram2dcontour"
           }
          ],
          "mesh3d": [
           {
            "colorbar": {
             "outlinewidth": 0,
             "ticks": ""
            },
            "type": "mesh3d"
           }
          ],
          "parcoords": [
           {
            "line": {
             "colorbar": {
              "outlinewidth": 0,
              "ticks": ""
             }
            },
            "type": "parcoords"
           }
          ],
          "pie": [
           {
            "automargin": true,
            "type": "pie"
           }
          ],
          "scatter": [
           {
            "marker": {
             "colorbar": {
              "outlinewidth": 0,
              "ticks": ""
             }
            },
            "type": "scatter"
           }
          ],
          "scatter3d": [
           {
            "line": {
             "colorbar": {
              "outlinewidth": 0,
              "ticks": ""
             }
            },
            "marker": {
             "colorbar": {
              "outlinewidth": 0,
              "ticks": ""
             }
            },
            "type": "scatter3d"
           }
          ],
          "scattercarpet": [
           {
            "marker": {
             "colorbar": {
              "outlinewidth": 0,
              "ticks": ""
             }
            },
            "type": "scattercarpet"
           }
          ],
          "scattergeo": [
           {
            "marker": {
             "colorbar": {
              "outlinewidth": 0,
              "ticks": ""
             }
            },
            "type": "scattergeo"
           }
          ],
          "scattergl": [
           {
            "marker": {
             "colorbar": {
              "outlinewidth": 0,
              "ticks": ""
             }
            },
            "type": "scattergl"
           }
          ],
          "scattermapbox": [
           {
            "marker": {
             "colorbar": {
              "outlinewidth": 0,
              "ticks": ""
             }
            },
            "type": "scattermapbox"
           }
          ],
          "scatterpolar": [
           {
            "marker": {
             "colorbar": {
              "outlinewidth": 0,
              "ticks": ""
             }
            },
            "type": "scatterpolar"
           }
          ],
          "scatterpolargl": [
           {
            "marker": {
             "colorbar": {
              "outlinewidth": 0,
              "ticks": ""
             }
            },
            "type": "scatterpolargl"
           }
          ],
          "scatterternary": [
           {
            "marker": {
             "colorbar": {
              "outlinewidth": 0,
              "ticks": ""
             }
            },
            "type": "scatterternary"
           }
          ],
          "surface": [
           {
            "colorbar": {
             "outlinewidth": 0,
             "ticks": ""
            },
            "colorscale": [
             [
              0,
              "#0d0887"
             ],
             [
              0.1111111111111111,
              "#46039f"
             ],
             [
              0.2222222222222222,
              "#7201a8"
             ],
             [
              0.3333333333333333,
              "#9c179e"
             ],
             [
              0.4444444444444444,
              "#bd3786"
             ],
             [
              0.5555555555555556,
              "#d8576b"
             ],
             [
              0.6666666666666666,
              "#ed7953"
             ],
             [
              0.7777777777777778,
              "#fb9f3a"
             ],
             [
              0.8888888888888888,
              "#fdca26"
             ],
             [
              1,
              "#f0f921"
             ]
            ],
            "type": "surface"
           }
          ],
          "table": [
           {
            "cells": {
             "fill": {
              "color": "#EBF0F8"
             },
             "line": {
              "color": "white"
             }
            },
            "header": {
             "fill": {
              "color": "#C8D4E3"
             },
             "line": {
              "color": "white"
             }
            },
            "type": "table"
           }
          ]
         },
         "layout": {
          "annotationdefaults": {
           "arrowcolor": "#2a3f5f",
           "arrowhead": 0,
           "arrowwidth": 1
          },
          "coloraxis": {
           "colorbar": {
            "outlinewidth": 0,
            "ticks": ""
           }
          },
          "colorscale": {
           "diverging": [
            [
             0,
             "#8e0152"
            ],
            [
             0.1,
             "#c51b7d"
            ],
            [
             0.2,
             "#de77ae"
            ],
            [
             0.3,
             "#f1b6da"
            ],
            [
             0.4,
             "#fde0ef"
            ],
            [
             0.5,
             "#f7f7f7"
            ],
            [
             0.6,
             "#e6f5d0"
            ],
            [
             0.7,
             "#b8e186"
            ],
            [
             0.8,
             "#7fbc41"
            ],
            [
             0.9,
             "#4d9221"
            ],
            [
             1,
             "#276419"
            ]
           ],
           "sequential": [
            [
             0,
             "#0d0887"
            ],
            [
             0.1111111111111111,
             "#46039f"
            ],
            [
             0.2222222222222222,
             "#7201a8"
            ],
            [
             0.3333333333333333,
             "#9c179e"
            ],
            [
             0.4444444444444444,
             "#bd3786"
            ],
            [
             0.5555555555555556,
             "#d8576b"
            ],
            [
             0.6666666666666666,
             "#ed7953"
            ],
            [
             0.7777777777777778,
             "#fb9f3a"
            ],
            [
             0.8888888888888888,
             "#fdca26"
            ],
            [
             1,
             "#f0f921"
            ]
           ],
           "sequentialminus": [
            [
             0,
             "#0d0887"
            ],
            [
             0.1111111111111111,
             "#46039f"
            ],
            [
             0.2222222222222222,
             "#7201a8"
            ],
            [
             0.3333333333333333,
             "#9c179e"
            ],
            [
             0.4444444444444444,
             "#bd3786"
            ],
            [
             0.5555555555555556,
             "#d8576b"
            ],
            [
             0.6666666666666666,
             "#ed7953"
            ],
            [
             0.7777777777777778,
             "#fb9f3a"
            ],
            [
             0.8888888888888888,
             "#fdca26"
            ],
            [
             1,
             "#f0f921"
            ]
           ]
          },
          "colorway": [
           "#636efa",
           "#EF553B",
           "#00cc96",
           "#ab63fa",
           "#FFA15A",
           "#19d3f3",
           "#FF6692",
           "#B6E880",
           "#FF97FF",
           "#FECB52"
          ],
          "font": {
           "color": "#2a3f5f"
          },
          "geo": {
           "bgcolor": "white",
           "lakecolor": "white",
           "landcolor": "#E5ECF6",
           "showlakes": true,
           "showland": true,
           "subunitcolor": "white"
          },
          "hoverlabel": {
           "align": "left"
          },
          "hovermode": "closest",
          "mapbox": {
           "style": "light"
          },
          "paper_bgcolor": "white",
          "plot_bgcolor": "#E5ECF6",
          "polar": {
           "angularaxis": {
            "gridcolor": "white",
            "linecolor": "white",
            "ticks": ""
           },
           "bgcolor": "#E5ECF6",
           "radialaxis": {
            "gridcolor": "white",
            "linecolor": "white",
            "ticks": ""
           }
          },
          "scene": {
           "xaxis": {
            "backgroundcolor": "#E5ECF6",
            "gridcolor": "white",
            "gridwidth": 2,
            "linecolor": "white",
            "showbackground": true,
            "ticks": "",
            "zerolinecolor": "white"
           },
           "yaxis": {
            "backgroundcolor": "#E5ECF6",
            "gridcolor": "white",
            "gridwidth": 2,
            "linecolor": "white",
            "showbackground": true,
            "ticks": "",
            "zerolinecolor": "white"
           },
           "zaxis": {
            "backgroundcolor": "#E5ECF6",
            "gridcolor": "white",
            "gridwidth": 2,
            "linecolor": "white",
            "showbackground": true,
            "ticks": "",
            "zerolinecolor": "white"
           }
          },
          "shapedefaults": {
           "line": {
            "color": "#2a3f5f"
           }
          },
          "ternary": {
           "aaxis": {
            "gridcolor": "white",
            "linecolor": "white",
            "ticks": ""
           },
           "baxis": {
            "gridcolor": "white",
            "linecolor": "white",
            "ticks": ""
           },
           "bgcolor": "#E5ECF6",
           "caxis": {
            "gridcolor": "white",
            "linecolor": "white",
            "ticks": ""
           }
          },
          "title": {
           "x": 0.05
          },
          "xaxis": {
           "automargin": true,
           "gridcolor": "white",
           "linecolor": "white",
           "ticks": "",
           "title": {
            "standoff": 15
           },
           "zerolinecolor": "white",
           "zerolinewidth": 2
          },
          "yaxis": {
           "automargin": true,
           "gridcolor": "white",
           "linecolor": "white",
           "ticks": "",
           "title": {
            "standoff": 15
           },
           "zerolinecolor": "white",
           "zerolinewidth": 2
          }
         }
        },
        "title": {
         "font": {
          "color": "#4D5663"
         }
        },
        "xaxis": {
         "gridcolor": "#E1E5ED",
         "showgrid": true,
         "tickfont": {
          "color": "#4D5663"
         },
         "title": {
          "font": {
           "color": "#4D5663"
          },
          "text": ""
         },
         "zerolinecolor": "#E1E5ED"
        },
        "yaxis": {
         "gridcolor": "#E1E5ED",
         "showgrid": true,
         "tickfont": {
          "color": "#4D5663"
         },
         "title": {
          "font": {
           "color": "#4D5663"
          },
          "text": ""
         },
         "zerolinecolor": "#E1E5ED"
        }
       }
      },
      "text/html": [
       "<div>\n",
       "        \n",
       "        \n",
       "            <div id=\"abee661c-0259-4b26-b322-125f36452c0c\" class=\"plotly-graph-div\" style=\"height:525px; width:100%;\"></div>\n",
       "            <script type=\"text/javascript\">\n",
       "                require([\"plotly\"], function(Plotly) {\n",
       "                    window.PLOTLYENV=window.PLOTLYENV || {};\n",
       "                    window.PLOTLYENV.BASE_URL='https://plot.ly';\n",
       "                    \n",
       "                if (document.getElementById(\"abee661c-0259-4b26-b322-125f36452c0c\")) {\n",
       "                    Plotly.newPlot(\n",
       "                        'abee661c-0259-4b26-b322-125f36452c0c',\n",
       "                        [{\"line\": {\"color\": \"rgba(255, 153, 51, 1.0)\", \"dash\": \"solid\", \"shape\": \"linear\", \"width\": 1.3}, \"marker\": {\"size\": 15, \"symbol\": \"circle\"}, \"mode\": \"markers\", \"name\": \"B\", \"text\": \"\", \"type\": \"scatter\", \"x\": [-0.6680661855631249, 0.1949766871965313, 0.03297058007779891, -0.6990703851144047, -1.1904809035565296, -0.9978851799370811, -1.8582319261511087, -0.5267661337775508, -1.5686461478635814, -1.0627343935664582, 0.9661118140498371, 0.565313506626537, -1.4206021024681288, 0.6560188287072177, 0.5342773017547415, 0.4439743344940591, 0.6052930388775157, 0.7164107464286641, 0.9375280230990192, -0.8939516328602036, 0.4924348203413822, -2.1780131590071496, -0.5438072379862946, -0.9334923463833898, 0.6713486104662258, -0.7065440484824034, -1.3874324539214875, -0.8896410077863353, -0.07984657932136635, -0.12572505592806968, 0.8137383767766075, -1.858491455192245, -0.3724586312111986, 2.402354817353567, 1.0410195382811984, -1.5139559628272126, 0.8076529167916344, -0.3035271559810558, 2.4116330281807286, 2.1223346600953814, 0.16436122619428503, -0.46652198272400175, 0.24256961333364677, 0.2863986325603095, -3.099977310251452, 0.3417341517045552, -1.229051663697874, -0.0825055265741576, 0.5643689745296832, 0.2643607398377007, 0.8404584998456432, -0.9599932628266316, 0.9620952929558358, 2.1487719813839155, 0.8702399277132442, -0.6786256915599027, -0.551562117174487, -0.7569418009249309, -0.7578840771473123, -0.7979818046465237, 1.7875060506298361, -1.1376330255000242, -1.7296967915248824, 1.0120261071074859, 0.07626292262330708, -0.5161229432965986, -1.9828965516645491, 1.2236247293138747, -1.4987687258773836, 0.728921907199498, -1.0224292690506944, 0.7636030501956129, -1.4035448034462434, 0.8741822629080838, -1.575143589119851, 0.5783812385108045, -0.9559912307275771, -0.06416912485000843, 1.5340650493135644, 1.0625590148885438, 0.8926470152500349, -0.10936690562114973, -0.24245197468062515, 1.5191649065321466, 0.736591302550211, 0.3806355692794749, -0.19094272495077746, -0.4809111086547659, -1.3393209311998107, 0.3444845242142359, -0.308530466508197, 0.5971519605520483, -0.2961393984777049, 2.0527924932523907, -0.42898583486115943, 0.7361587789620776, -0.6655264065881279, 0.4869596491478256, -0.42392394888161156, 0.0960209955254644], \"y\": [-0.6810784119889212, -0.12672851621571565, -2.0807241915160843, 2.1123832635269437, -0.037441185918270566, -0.8419160328363937, -0.965051019475013, 0.8311693286344598, -0.12892638840714116, -0.3223623657442055, -0.2651621978066173, 0.5751051482978644, -1.5954080823970926, 0.35868808673820946, 2.472151302817571, 0.262160516152913, -0.34492136425427206, 2.642740897818084, 0.41347183169097945, 1.4222362844595409, 1.0478656163489362, -1.4989625631723997, -1.1573817060636589, -0.1902543592584037, -1.5924763685255088, -0.04356499912556374, -0.32646573064441586, 1.4195081126291589, 1.3506300184179498, -1.8861410729263206, 0.6078372185494824, 0.5896587847914512, -1.8647497848327925, 0.16162438429861858, 0.6426130692999505, 1.7639945077246302, 0.7761834037906911, 0.421145954098237, 0.1854040095139653, 0.9429598683866964, -0.7099509267598096, -1.7564388380669502, 1.3881239407102857, -1.3120206969144075, -1.2360995942787971, -0.10177615060000193, 1.207999550088633, 0.11356010121118484, -0.13811616381196112, 1.3505494572062853, 1.0177776805673846, -1.4837634818277279, -0.6319011207391553, 0.20812478489292638, -0.08134859369177261, -0.7277076405660484, 0.840470334848689, -1.7870213204890557, 0.03588632950819402, -0.3733539244362292, 0.43292408303107593, -0.5686082275326253, -0.6758945175654862, -0.6070459436824658, 1.1050416756450765, -0.059510924986301804, 0.8447858158747069, 0.499972993569185, -0.13434501044250866, -1.8070564697994906, -1.714991039757765, -0.3751013035128291, 1.0953223101313094, -1.4369805212753772, 0.39107212877171116, -0.2516191386082863, 0.22228696010046495, 0.1725199646415227, -1.050096031944785, 0.5061413187280068, -0.12351473087442927, -0.7146092641508545, 0.4954838312980374, 1.3551362084378633, 0.9634550093677506, 1.0479339303158377, 1.059923568234994, -0.7117493946644667, -1.0699478167895864, -0.2362919262806339, 1.403646945157495, 0.28071705389078044, -0.15182662408610997, 0.17489614347413823, -0.9742686872933056, 0.1786922050680465, -0.6273672164757751, -0.4488967123079796, -1.4551355833120438, -1.0757746516273758]}],\n",
       "                        {\"legend\": {\"bgcolor\": \"#F5F6F9\", \"font\": {\"color\": \"#4D5663\"}}, \"paper_bgcolor\": \"#F5F6F9\", \"plot_bgcolor\": \"#F5F6F9\", \"template\": {\"data\": {\"bar\": [{\"error_x\": {\"color\": \"#2a3f5f\"}, \"error_y\": {\"color\": \"#2a3f5f\"}, \"marker\": {\"line\": {\"color\": \"#E5ECF6\", \"width\": 0.5}}, \"type\": \"bar\"}], \"barpolar\": [{\"marker\": {\"line\": {\"color\": \"#E5ECF6\", \"width\": 0.5}}, \"type\": \"barpolar\"}], \"carpet\": [{\"aaxis\": {\"endlinecolor\": \"#2a3f5f\", \"gridcolor\": \"white\", \"linecolor\": \"white\", \"minorgridcolor\": \"white\", \"startlinecolor\": \"#2a3f5f\"}, \"baxis\": {\"endlinecolor\": \"#2a3f5f\", \"gridcolor\": \"white\", \"linecolor\": \"white\", \"minorgridcolor\": \"white\", \"startlinecolor\": \"#2a3f5f\"}, \"type\": \"carpet\"}], \"choropleth\": [{\"colorbar\": {\"outlinewidth\": 0, \"ticks\": \"\"}, \"type\": \"choropleth\"}], \"contour\": [{\"colorbar\": {\"outlinewidth\": 0, \"ticks\": \"\"}, \"colorscale\": [[0.0, \"#0d0887\"], [0.1111111111111111, \"#46039f\"], [0.2222222222222222, \"#7201a8\"], [0.3333333333333333, \"#9c179e\"], [0.4444444444444444, \"#bd3786\"], [0.5555555555555556, \"#d8576b\"], [0.6666666666666666, \"#ed7953\"], [0.7777777777777778, \"#fb9f3a\"], [0.8888888888888888, \"#fdca26\"], [1.0, \"#f0f921\"]], \"type\": \"contour\"}], \"contourcarpet\": [{\"colorbar\": {\"outlinewidth\": 0, \"ticks\": \"\"}, \"type\": \"contourcarpet\"}], \"heatmap\": [{\"colorbar\": {\"outlinewidth\": 0, \"ticks\": \"\"}, \"colorscale\": [[0.0, \"#0d0887\"], [0.1111111111111111, \"#46039f\"], [0.2222222222222222, \"#7201a8\"], [0.3333333333333333, \"#9c179e\"], [0.4444444444444444, \"#bd3786\"], [0.5555555555555556, \"#d8576b\"], [0.6666666666666666, \"#ed7953\"], [0.7777777777777778, \"#fb9f3a\"], [0.8888888888888888, \"#fdca26\"], [1.0, \"#f0f921\"]], \"type\": \"heatmap\"}], \"heatmapgl\": [{\"colorbar\": {\"outlinewidth\": 0, \"ticks\": \"\"}, \"colorscale\": [[0.0, \"#0d0887\"], [0.1111111111111111, \"#46039f\"], [0.2222222222222222, \"#7201a8\"], [0.3333333333333333, \"#9c179e\"], [0.4444444444444444, \"#bd3786\"], [0.5555555555555556, \"#d8576b\"], [0.6666666666666666, \"#ed7953\"], [0.7777777777777778, \"#fb9f3a\"], [0.8888888888888888, \"#fdca26\"], [1.0, \"#f0f921\"]], \"type\": \"heatmapgl\"}], \"histogram\": [{\"marker\": {\"colorbar\": {\"outlinewidth\": 0, \"ticks\": \"\"}}, \"type\": \"histogram\"}], \"histogram2d\": [{\"colorbar\": {\"outlinewidth\": 0, \"ticks\": \"\"}, \"colorscale\": [[0.0, \"#0d0887\"], [0.1111111111111111, \"#46039f\"], [0.2222222222222222, \"#7201a8\"], [0.3333333333333333, \"#9c179e\"], [0.4444444444444444, \"#bd3786\"], [0.5555555555555556, \"#d8576b\"], [0.6666666666666666, \"#ed7953\"], [0.7777777777777778, \"#fb9f3a\"], [0.8888888888888888, \"#fdca26\"], [1.0, \"#f0f921\"]], \"type\": \"histogram2d\"}], \"histogram2dcontour\": [{\"colorbar\": {\"outlinewidth\": 0, \"ticks\": \"\"}, \"colorscale\": [[0.0, \"#0d0887\"], [0.1111111111111111, \"#46039f\"], [0.2222222222222222, \"#7201a8\"], [0.3333333333333333, \"#9c179e\"], [0.4444444444444444, \"#bd3786\"], [0.5555555555555556, \"#d8576b\"], [0.6666666666666666, \"#ed7953\"], [0.7777777777777778, \"#fb9f3a\"], [0.8888888888888888, \"#fdca26\"], [1.0, \"#f0f921\"]], \"type\": \"histogram2dcontour\"}], \"mesh3d\": [{\"colorbar\": {\"outlinewidth\": 0, \"ticks\": \"\"}, \"type\": \"mesh3d\"}], \"parcoords\": [{\"line\": {\"colorbar\": {\"outlinewidth\": 0, \"ticks\": \"\"}}, \"type\": \"parcoords\"}], \"pie\": [{\"automargin\": true, \"type\": \"pie\"}], \"scatter\": [{\"marker\": {\"colorbar\": {\"outlinewidth\": 0, \"ticks\": \"\"}}, \"type\": \"scatter\"}], \"scatter3d\": [{\"line\": {\"colorbar\": {\"outlinewidth\": 0, \"ticks\": \"\"}}, \"marker\": {\"colorbar\": {\"outlinewidth\": 0, \"ticks\": \"\"}}, \"type\": \"scatter3d\"}], \"scattercarpet\": [{\"marker\": {\"colorbar\": {\"outlinewidth\": 0, \"ticks\": \"\"}}, \"type\": \"scattercarpet\"}], \"scattergeo\": [{\"marker\": {\"colorbar\": {\"outlinewidth\": 0, \"ticks\": \"\"}}, \"type\": \"scattergeo\"}], \"scattergl\": [{\"marker\": {\"colorbar\": {\"outlinewidth\": 0, \"ticks\": \"\"}}, \"type\": \"scattergl\"}], \"scattermapbox\": [{\"marker\": {\"colorbar\": {\"outlinewidth\": 0, \"ticks\": \"\"}}, \"type\": \"scattermapbox\"}], \"scatterpolar\": [{\"marker\": {\"colorbar\": {\"outlinewidth\": 0, \"ticks\": \"\"}}, \"type\": \"scatterpolar\"}], \"scatterpolargl\": [{\"marker\": {\"colorbar\": {\"outlinewidth\": 0, \"ticks\": \"\"}}, \"type\": \"scatterpolargl\"}], \"scatterternary\": [{\"marker\": {\"colorbar\": {\"outlinewidth\": 0, \"ticks\": \"\"}}, \"type\": \"scatterternary\"}], \"surface\": [{\"colorbar\": {\"outlinewidth\": 0, \"ticks\": \"\"}, \"colorscale\": [[0.0, \"#0d0887\"], [0.1111111111111111, \"#46039f\"], [0.2222222222222222, \"#7201a8\"], [0.3333333333333333, \"#9c179e\"], [0.4444444444444444, \"#bd3786\"], [0.5555555555555556, \"#d8576b\"], [0.6666666666666666, \"#ed7953\"], [0.7777777777777778, \"#fb9f3a\"], [0.8888888888888888, \"#fdca26\"], [1.0, \"#f0f921\"]], \"type\": \"surface\"}], \"table\": [{\"cells\": {\"fill\": {\"color\": \"#EBF0F8\"}, \"line\": {\"color\": \"white\"}}, \"header\": {\"fill\": {\"color\": \"#C8D4E3\"}, \"line\": {\"color\": \"white\"}}, \"type\": \"table\"}]}, \"layout\": {\"annotationdefaults\": {\"arrowcolor\": \"#2a3f5f\", \"arrowhead\": 0, \"arrowwidth\": 1}, \"coloraxis\": {\"colorbar\": {\"outlinewidth\": 0, \"ticks\": \"\"}}, \"colorscale\": {\"diverging\": [[0, \"#8e0152\"], [0.1, \"#c51b7d\"], [0.2, \"#de77ae\"], [0.3, \"#f1b6da\"], [0.4, \"#fde0ef\"], [0.5, \"#f7f7f7\"], [0.6, \"#e6f5d0\"], [0.7, \"#b8e186\"], [0.8, \"#7fbc41\"], [0.9, \"#4d9221\"], [1, \"#276419\"]], \"sequential\": [[0.0, \"#0d0887\"], [0.1111111111111111, \"#46039f\"], [0.2222222222222222, \"#7201a8\"], [0.3333333333333333, \"#9c179e\"], [0.4444444444444444, \"#bd3786\"], [0.5555555555555556, \"#d8576b\"], [0.6666666666666666, \"#ed7953\"], [0.7777777777777778, \"#fb9f3a\"], [0.8888888888888888, \"#fdca26\"], [1.0, \"#f0f921\"]], \"sequentialminus\": [[0.0, \"#0d0887\"], [0.1111111111111111, \"#46039f\"], [0.2222222222222222, \"#7201a8\"], [0.3333333333333333, \"#9c179e\"], [0.4444444444444444, \"#bd3786\"], [0.5555555555555556, \"#d8576b\"], [0.6666666666666666, \"#ed7953\"], [0.7777777777777778, \"#fb9f3a\"], [0.8888888888888888, \"#fdca26\"], [1.0, \"#f0f921\"]]}, \"colorway\": [\"#636efa\", \"#EF553B\", \"#00cc96\", \"#ab63fa\", \"#FFA15A\", \"#19d3f3\", \"#FF6692\", \"#B6E880\", \"#FF97FF\", \"#FECB52\"], \"font\": {\"color\": \"#2a3f5f\"}, \"geo\": {\"bgcolor\": \"white\", \"lakecolor\": \"white\", \"landcolor\": \"#E5ECF6\", \"showlakes\": true, \"showland\": true, \"subunitcolor\": \"white\"}, \"hoverlabel\": {\"align\": \"left\"}, \"hovermode\": \"closest\", \"mapbox\": {\"style\": \"light\"}, \"paper_bgcolor\": \"white\", \"plot_bgcolor\": \"#E5ECF6\", \"polar\": {\"angularaxis\": {\"gridcolor\": \"white\", \"linecolor\": \"white\", \"ticks\": \"\"}, \"bgcolor\": \"#E5ECF6\", \"radialaxis\": {\"gridcolor\": \"white\", \"linecolor\": \"white\", \"ticks\": \"\"}}, \"scene\": {\"xaxis\": {\"backgroundcolor\": \"#E5ECF6\", \"gridcolor\": \"white\", \"gridwidth\": 2, \"linecolor\": \"white\", \"showbackground\": true, \"ticks\": \"\", \"zerolinecolor\": \"white\"}, \"yaxis\": {\"backgroundcolor\": \"#E5ECF6\", \"gridcolor\": \"white\", \"gridwidth\": 2, \"linecolor\": \"white\", \"showbackground\": true, \"ticks\": \"\", \"zerolinecolor\": \"white\"}, \"zaxis\": {\"backgroundcolor\": \"#E5ECF6\", \"gridcolor\": \"white\", \"gridwidth\": 2, \"linecolor\": \"white\", \"showbackground\": true, \"ticks\": \"\", \"zerolinecolor\": \"white\"}}, \"shapedefaults\": {\"line\": {\"color\": \"#2a3f5f\"}}, \"ternary\": {\"aaxis\": {\"gridcolor\": \"white\", \"linecolor\": \"white\", \"ticks\": \"\"}, \"baxis\": {\"gridcolor\": \"white\", \"linecolor\": \"white\", \"ticks\": \"\"}, \"bgcolor\": \"#E5ECF6\", \"caxis\": {\"gridcolor\": \"white\", \"linecolor\": \"white\", \"ticks\": \"\"}}, \"title\": {\"x\": 0.05}, \"xaxis\": {\"automargin\": true, \"gridcolor\": \"white\", \"linecolor\": \"white\", \"ticks\": \"\", \"title\": {\"standoff\": 15}, \"zerolinecolor\": \"white\", \"zerolinewidth\": 2}, \"yaxis\": {\"automargin\": true, \"gridcolor\": \"white\", \"linecolor\": \"white\", \"ticks\": \"\", \"title\": {\"standoff\": 15}, \"zerolinecolor\": \"white\", \"zerolinewidth\": 2}}}, \"title\": {\"font\": {\"color\": \"#4D5663\"}}, \"xaxis\": {\"gridcolor\": \"#E1E5ED\", \"showgrid\": true, \"tickfont\": {\"color\": \"#4D5663\"}, \"title\": {\"font\": {\"color\": \"#4D5663\"}, \"text\": \"\"}, \"zerolinecolor\": \"#E1E5ED\"}, \"yaxis\": {\"gridcolor\": \"#E1E5ED\", \"showgrid\": true, \"tickfont\": {\"color\": \"#4D5663\"}, \"title\": {\"font\": {\"color\": \"#4D5663\"}, \"text\": \"\"}, \"zerolinecolor\": \"#E1E5ED\"}},\n",
       "                        {\"showLink\": true, \"linkText\": \"Export to plot.ly\", \"plotlyServerURL\": \"https://plot.ly\", \"responsive\": true}\n",
       "                    ).then(function(){\n",
       "                            \n",
       "var gd = document.getElementById('abee661c-0259-4b26-b322-125f36452c0c');\n",
       "var x = new MutationObserver(function (mutations, observer) {{\n",
       "        var display = window.getComputedStyle(gd).display;\n",
       "        if (!display || display === 'none') {{\n",
       "            console.log([gd, 'removed!']);\n",
       "            Plotly.purge(gd);\n",
       "            observer.disconnect();\n",
       "        }}\n",
       "}});\n",
       "\n",
       "// Listen for the removal of the full notebook cells\n",
       "var notebookContainer = gd.closest('#notebook-container');\n",
       "if (notebookContainer) {{\n",
       "    x.observe(notebookContainer, {childList: true});\n",
       "}}\n",
       "\n",
       "// Listen for the clearing of the current output cell\n",
       "var outputEl = gd.closest('.output');\n",
       "if (outputEl) {{\n",
       "    x.observe(outputEl, {childList: true});\n",
       "}}\n",
       "\n",
       "                        })\n",
       "                };\n",
       "                });\n",
       "            </script>\n",
       "        </div>"
      ]
     },
     "metadata": {},
     "output_type": "display_data"
    }
   ],
   "source": [
    "df.iplot(kind='scatter',x='A',y='B',mode='markers',size=15)\n",
    "#without mode u get some weird shape  where the points are connected \n",
    "#through a line"
   ]
  },
  {
   "cell_type": "markdown",
   "metadata": {},
   "source": [
    "## Barplot"
   ]
  },
  {
   "cell_type": "code",
   "execution_count": 15,
   "metadata": {},
   "outputs": [
    {
     "data": {
      "application/vnd.plotly.v1+json": {
       "config": {
        "linkText": "Export to plot.ly",
        "plotlyServerURL": "https://plot.ly",
        "showLink": true
       },
       "data": [
        {
         "marker": {
          "color": "rgba(255, 153, 51, 0.6)",
          "line": {
           "color": "rgba(255, 153, 51, 1.0)",
           "width": 1
          }
         },
         "name": "Values",
         "orientation": "v",
         "text": "",
         "type": "bar",
         "x": [
          "A",
          "B",
          "C"
         ],
         "y": [
          32,
          43,
          50
         ]
        }
       ],
       "layout": {
        "legend": {
         "bgcolor": "#F5F6F9",
         "font": {
          "color": "#4D5663"
         }
        },
        "paper_bgcolor": "#F5F6F9",
        "plot_bgcolor": "#F5F6F9",
        "template": {
         "data": {
          "bar": [
           {
            "error_x": {
             "color": "#2a3f5f"
            },
            "error_y": {
             "color": "#2a3f5f"
            },
            "marker": {
             "line": {
              "color": "#E5ECF6",
              "width": 0.5
             }
            },
            "type": "bar"
           }
          ],
          "barpolar": [
           {
            "marker": {
             "line": {
              "color": "#E5ECF6",
              "width": 0.5
             }
            },
            "type": "barpolar"
           }
          ],
          "carpet": [
           {
            "aaxis": {
             "endlinecolor": "#2a3f5f",
             "gridcolor": "white",
             "linecolor": "white",
             "minorgridcolor": "white",
             "startlinecolor": "#2a3f5f"
            },
            "baxis": {
             "endlinecolor": "#2a3f5f",
             "gridcolor": "white",
             "linecolor": "white",
             "minorgridcolor": "white",
             "startlinecolor": "#2a3f5f"
            },
            "type": "carpet"
           }
          ],
          "choropleth": [
           {
            "colorbar": {
             "outlinewidth": 0,
             "ticks": ""
            },
            "type": "choropleth"
           }
          ],
          "contour": [
           {
            "colorbar": {
             "outlinewidth": 0,
             "ticks": ""
            },
            "colorscale": [
             [
              0,
              "#0d0887"
             ],
             [
              0.1111111111111111,
              "#46039f"
             ],
             [
              0.2222222222222222,
              "#7201a8"
             ],
             [
              0.3333333333333333,
              "#9c179e"
             ],
             [
              0.4444444444444444,
              "#bd3786"
             ],
             [
              0.5555555555555556,
              "#d8576b"
             ],
             [
              0.6666666666666666,
              "#ed7953"
             ],
             [
              0.7777777777777778,
              "#fb9f3a"
             ],
             [
              0.8888888888888888,
              "#fdca26"
             ],
             [
              1,
              "#f0f921"
             ]
            ],
            "type": "contour"
           }
          ],
          "contourcarpet": [
           {
            "colorbar": {
             "outlinewidth": 0,
             "ticks": ""
            },
            "type": "contourcarpet"
           }
          ],
          "heatmap": [
           {
            "colorbar": {
             "outlinewidth": 0,
             "ticks": ""
            },
            "colorscale": [
             [
              0,
              "#0d0887"
             ],
             [
              0.1111111111111111,
              "#46039f"
             ],
             [
              0.2222222222222222,
              "#7201a8"
             ],
             [
              0.3333333333333333,
              "#9c179e"
             ],
             [
              0.4444444444444444,
              "#bd3786"
             ],
             [
              0.5555555555555556,
              "#d8576b"
             ],
             [
              0.6666666666666666,
              "#ed7953"
             ],
             [
              0.7777777777777778,
              "#fb9f3a"
             ],
             [
              0.8888888888888888,
              "#fdca26"
             ],
             [
              1,
              "#f0f921"
             ]
            ],
            "type": "heatmap"
           }
          ],
          "heatmapgl": [
           {
            "colorbar": {
             "outlinewidth": 0,
             "ticks": ""
            },
            "colorscale": [
             [
              0,
              "#0d0887"
             ],
             [
              0.1111111111111111,
              "#46039f"
             ],
             [
              0.2222222222222222,
              "#7201a8"
             ],
             [
              0.3333333333333333,
              "#9c179e"
             ],
             [
              0.4444444444444444,
              "#bd3786"
             ],
             [
              0.5555555555555556,
              "#d8576b"
             ],
             [
              0.6666666666666666,
              "#ed7953"
             ],
             [
              0.7777777777777778,
              "#fb9f3a"
             ],
             [
              0.8888888888888888,
              "#fdca26"
             ],
             [
              1,
              "#f0f921"
             ]
            ],
            "type": "heatmapgl"
           }
          ],
          "histogram": [
           {
            "marker": {
             "colorbar": {
              "outlinewidth": 0,
              "ticks": ""
             }
            },
            "type": "histogram"
           }
          ],
          "histogram2d": [
           {
            "colorbar": {
             "outlinewidth": 0,
             "ticks": ""
            },
            "colorscale": [
             [
              0,
              "#0d0887"
             ],
             [
              0.1111111111111111,
              "#46039f"
             ],
             [
              0.2222222222222222,
              "#7201a8"
             ],
             [
              0.3333333333333333,
              "#9c179e"
             ],
             [
              0.4444444444444444,
              "#bd3786"
             ],
             [
              0.5555555555555556,
              "#d8576b"
             ],
             [
              0.6666666666666666,
              "#ed7953"
             ],
             [
              0.7777777777777778,
              "#fb9f3a"
             ],
             [
              0.8888888888888888,
              "#fdca26"
             ],
             [
              1,
              "#f0f921"
             ]
            ],
            "type": "histogram2d"
           }
          ],
          "histogram2dcontour": [
           {
            "colorbar": {
             "outlinewidth": 0,
             "ticks": ""
            },
            "colorscale": [
             [
              0,
              "#0d0887"
             ],
             [
              0.1111111111111111,
              "#46039f"
             ],
             [
              0.2222222222222222,
              "#7201a8"
             ],
             [
              0.3333333333333333,
              "#9c179e"
             ],
             [
              0.4444444444444444,
              "#bd3786"
             ],
             [
              0.5555555555555556,
              "#d8576b"
             ],
             [
              0.6666666666666666,
              "#ed7953"
             ],
             [
              0.7777777777777778,
              "#fb9f3a"
             ],
             [
              0.8888888888888888,
              "#fdca26"
             ],
             [
              1,
              "#f0f921"
             ]
            ],
            "type": "histogram2dcontour"
           }
          ],
          "mesh3d": [
           {
            "colorbar": {
             "outlinewidth": 0,
             "ticks": ""
            },
            "type": "mesh3d"
           }
          ],
          "parcoords": [
           {
            "line": {
             "colorbar": {
              "outlinewidth": 0,
              "ticks": ""
             }
            },
            "type": "parcoords"
           }
          ],
          "pie": [
           {
            "automargin": true,
            "type": "pie"
           }
          ],
          "scatter": [
           {
            "marker": {
             "colorbar": {
              "outlinewidth": 0,
              "ticks": ""
             }
            },
            "type": "scatter"
           }
          ],
          "scatter3d": [
           {
            "line": {
             "colorbar": {
              "outlinewidth": 0,
              "ticks": ""
             }
            },
            "marker": {
             "colorbar": {
              "outlinewidth": 0,
              "ticks": ""
             }
            },
            "type": "scatter3d"
           }
          ],
          "scattercarpet": [
           {
            "marker": {
             "colorbar": {
              "outlinewidth": 0,
              "ticks": ""
             }
            },
            "type": "scattercarpet"
           }
          ],
          "scattergeo": [
           {
            "marker": {
             "colorbar": {
              "outlinewidth": 0,
              "ticks": ""
             }
            },
            "type": "scattergeo"
           }
          ],
          "scattergl": [
           {
            "marker": {
             "colorbar": {
              "outlinewidth": 0,
              "ticks": ""
             }
            },
            "type": "scattergl"
           }
          ],
          "scattermapbox": [
           {
            "marker": {
             "colorbar": {
              "outlinewidth": 0,
              "ticks": ""
             }
            },
            "type": "scattermapbox"
           }
          ],
          "scatterpolar": [
           {
            "marker": {
             "colorbar": {
              "outlinewidth": 0,
              "ticks": ""
             }
            },
            "type": "scatterpolar"
           }
          ],
          "scatterpolargl": [
           {
            "marker": {
             "colorbar": {
              "outlinewidth": 0,
              "ticks": ""
             }
            },
            "type": "scatterpolargl"
           }
          ],
          "scatterternary": [
           {
            "marker": {
             "colorbar": {
              "outlinewidth": 0,
              "ticks": ""
             }
            },
            "type": "scatterternary"
           }
          ],
          "surface": [
           {
            "colorbar": {
             "outlinewidth": 0,
             "ticks": ""
            },
            "colorscale": [
             [
              0,
              "#0d0887"
             ],
             [
              0.1111111111111111,
              "#46039f"
             ],
             [
              0.2222222222222222,
              "#7201a8"
             ],
             [
              0.3333333333333333,
              "#9c179e"
             ],
             [
              0.4444444444444444,
              "#bd3786"
             ],
             [
              0.5555555555555556,
              "#d8576b"
             ],
             [
              0.6666666666666666,
              "#ed7953"
             ],
             [
              0.7777777777777778,
              "#fb9f3a"
             ],
             [
              0.8888888888888888,
              "#fdca26"
             ],
             [
              1,
              "#f0f921"
             ]
            ],
            "type": "surface"
           }
          ],
          "table": [
           {
            "cells": {
             "fill": {
              "color": "#EBF0F8"
             },
             "line": {
              "color": "white"
             }
            },
            "header": {
             "fill": {
              "color": "#C8D4E3"
             },
             "line": {
              "color": "white"
             }
            },
            "type": "table"
           }
          ]
         },
         "layout": {
          "annotationdefaults": {
           "arrowcolor": "#2a3f5f",
           "arrowhead": 0,
           "arrowwidth": 1
          },
          "coloraxis": {
           "colorbar": {
            "outlinewidth": 0,
            "ticks": ""
           }
          },
          "colorscale": {
           "diverging": [
            [
             0,
             "#8e0152"
            ],
            [
             0.1,
             "#c51b7d"
            ],
            [
             0.2,
             "#de77ae"
            ],
            [
             0.3,
             "#f1b6da"
            ],
            [
             0.4,
             "#fde0ef"
            ],
            [
             0.5,
             "#f7f7f7"
            ],
            [
             0.6,
             "#e6f5d0"
            ],
            [
             0.7,
             "#b8e186"
            ],
            [
             0.8,
             "#7fbc41"
            ],
            [
             0.9,
             "#4d9221"
            ],
            [
             1,
             "#276419"
            ]
           ],
           "sequential": [
            [
             0,
             "#0d0887"
            ],
            [
             0.1111111111111111,
             "#46039f"
            ],
            [
             0.2222222222222222,
             "#7201a8"
            ],
            [
             0.3333333333333333,
             "#9c179e"
            ],
            [
             0.4444444444444444,
             "#bd3786"
            ],
            [
             0.5555555555555556,
             "#d8576b"
            ],
            [
             0.6666666666666666,
             "#ed7953"
            ],
            [
             0.7777777777777778,
             "#fb9f3a"
            ],
            [
             0.8888888888888888,
             "#fdca26"
            ],
            [
             1,
             "#f0f921"
            ]
           ],
           "sequentialminus": [
            [
             0,
             "#0d0887"
            ],
            [
             0.1111111111111111,
             "#46039f"
            ],
            [
             0.2222222222222222,
             "#7201a8"
            ],
            [
             0.3333333333333333,
             "#9c179e"
            ],
            [
             0.4444444444444444,
             "#bd3786"
            ],
            [
             0.5555555555555556,
             "#d8576b"
            ],
            [
             0.6666666666666666,
             "#ed7953"
            ],
            [
             0.7777777777777778,
             "#fb9f3a"
            ],
            [
             0.8888888888888888,
             "#fdca26"
            ],
            [
             1,
             "#f0f921"
            ]
           ]
          },
          "colorway": [
           "#636efa",
           "#EF553B",
           "#00cc96",
           "#ab63fa",
           "#FFA15A",
           "#19d3f3",
           "#FF6692",
           "#B6E880",
           "#FF97FF",
           "#FECB52"
          ],
          "font": {
           "color": "#2a3f5f"
          },
          "geo": {
           "bgcolor": "white",
           "lakecolor": "white",
           "landcolor": "#E5ECF6",
           "showlakes": true,
           "showland": true,
           "subunitcolor": "white"
          },
          "hoverlabel": {
           "align": "left"
          },
          "hovermode": "closest",
          "mapbox": {
           "style": "light"
          },
          "paper_bgcolor": "white",
          "plot_bgcolor": "#E5ECF6",
          "polar": {
           "angularaxis": {
            "gridcolor": "white",
            "linecolor": "white",
            "ticks": ""
           },
           "bgcolor": "#E5ECF6",
           "radialaxis": {
            "gridcolor": "white",
            "linecolor": "white",
            "ticks": ""
           }
          },
          "scene": {
           "xaxis": {
            "backgroundcolor": "#E5ECF6",
            "gridcolor": "white",
            "gridwidth": 2,
            "linecolor": "white",
            "showbackground": true,
            "ticks": "",
            "zerolinecolor": "white"
           },
           "yaxis": {
            "backgroundcolor": "#E5ECF6",
            "gridcolor": "white",
            "gridwidth": 2,
            "linecolor": "white",
            "showbackground": true,
            "ticks": "",
            "zerolinecolor": "white"
           },
           "zaxis": {
            "backgroundcolor": "#E5ECF6",
            "gridcolor": "white",
            "gridwidth": 2,
            "linecolor": "white",
            "showbackground": true,
            "ticks": "",
            "zerolinecolor": "white"
           }
          },
          "shapedefaults": {
           "line": {
            "color": "#2a3f5f"
           }
          },
          "ternary": {
           "aaxis": {
            "gridcolor": "white",
            "linecolor": "white",
            "ticks": ""
           },
           "baxis": {
            "gridcolor": "white",
            "linecolor": "white",
            "ticks": ""
           },
           "bgcolor": "#E5ECF6",
           "caxis": {
            "gridcolor": "white",
            "linecolor": "white",
            "ticks": ""
           }
          },
          "title": {
           "x": 0.05
          },
          "xaxis": {
           "automargin": true,
           "gridcolor": "white",
           "linecolor": "white",
           "ticks": "",
           "title": {
            "standoff": 15
           },
           "zerolinecolor": "white",
           "zerolinewidth": 2
          },
          "yaxis": {
           "automargin": true,
           "gridcolor": "white",
           "linecolor": "white",
           "ticks": "",
           "title": {
            "standoff": 15
           },
           "zerolinecolor": "white",
           "zerolinewidth": 2
          }
         }
        },
        "title": {
         "font": {
          "color": "#4D5663"
         }
        },
        "xaxis": {
         "gridcolor": "#E1E5ED",
         "showgrid": true,
         "tickfont": {
          "color": "#4D5663"
         },
         "title": {
          "font": {
           "color": "#4D5663"
          },
          "text": ""
         },
         "zerolinecolor": "#E1E5ED"
        },
        "yaxis": {
         "gridcolor": "#E1E5ED",
         "showgrid": true,
         "tickfont": {
          "color": "#4D5663"
         },
         "title": {
          "font": {
           "color": "#4D5663"
          },
          "text": ""
         },
         "zerolinecolor": "#E1E5ED"
        }
       }
      },
      "text/html": [
       "<div>\n",
       "        \n",
       "        \n",
       "            <div id=\"d6cdd10e-f8e8-46f2-a30b-1d7932043b59\" class=\"plotly-graph-div\" style=\"height:525px; width:100%;\"></div>\n",
       "            <script type=\"text/javascript\">\n",
       "                require([\"plotly\"], function(Plotly) {\n",
       "                    window.PLOTLYENV=window.PLOTLYENV || {};\n",
       "                    window.PLOTLYENV.BASE_URL='https://plot.ly';\n",
       "                    \n",
       "                if (document.getElementById(\"d6cdd10e-f8e8-46f2-a30b-1d7932043b59\")) {\n",
       "                    Plotly.newPlot(\n",
       "                        'd6cdd10e-f8e8-46f2-a30b-1d7932043b59',\n",
       "                        [{\"marker\": {\"color\": \"rgba(255, 153, 51, 0.6)\", \"line\": {\"color\": \"rgba(255, 153, 51, 1.0)\", \"width\": 1}}, \"name\": \"Values\", \"orientation\": \"v\", \"text\": \"\", \"type\": \"bar\", \"x\": [\"A\", \"B\", \"C\"], \"y\": [32, 43, 50]}],\n",
       "                        {\"legend\": {\"bgcolor\": \"#F5F6F9\", \"font\": {\"color\": \"#4D5663\"}}, \"paper_bgcolor\": \"#F5F6F9\", \"plot_bgcolor\": \"#F5F6F9\", \"template\": {\"data\": {\"bar\": [{\"error_x\": {\"color\": \"#2a3f5f\"}, \"error_y\": {\"color\": \"#2a3f5f\"}, \"marker\": {\"line\": {\"color\": \"#E5ECF6\", \"width\": 0.5}}, \"type\": \"bar\"}], \"barpolar\": [{\"marker\": {\"line\": {\"color\": \"#E5ECF6\", \"width\": 0.5}}, \"type\": \"barpolar\"}], \"carpet\": [{\"aaxis\": {\"endlinecolor\": \"#2a3f5f\", \"gridcolor\": \"white\", \"linecolor\": \"white\", \"minorgridcolor\": \"white\", \"startlinecolor\": \"#2a3f5f\"}, \"baxis\": {\"endlinecolor\": \"#2a3f5f\", \"gridcolor\": \"white\", \"linecolor\": \"white\", \"minorgridcolor\": \"white\", \"startlinecolor\": \"#2a3f5f\"}, \"type\": \"carpet\"}], \"choropleth\": [{\"colorbar\": {\"outlinewidth\": 0, \"ticks\": \"\"}, \"type\": \"choropleth\"}], \"contour\": [{\"colorbar\": {\"outlinewidth\": 0, \"ticks\": \"\"}, \"colorscale\": [[0.0, \"#0d0887\"], [0.1111111111111111, \"#46039f\"], [0.2222222222222222, \"#7201a8\"], [0.3333333333333333, \"#9c179e\"], [0.4444444444444444, \"#bd3786\"], [0.5555555555555556, \"#d8576b\"], [0.6666666666666666, \"#ed7953\"], [0.7777777777777778, \"#fb9f3a\"], [0.8888888888888888, \"#fdca26\"], [1.0, \"#f0f921\"]], \"type\": \"contour\"}], \"contourcarpet\": [{\"colorbar\": {\"outlinewidth\": 0, \"ticks\": \"\"}, \"type\": \"contourcarpet\"}], \"heatmap\": [{\"colorbar\": {\"outlinewidth\": 0, \"ticks\": \"\"}, \"colorscale\": [[0.0, \"#0d0887\"], [0.1111111111111111, \"#46039f\"], [0.2222222222222222, \"#7201a8\"], [0.3333333333333333, \"#9c179e\"], [0.4444444444444444, \"#bd3786\"], [0.5555555555555556, \"#d8576b\"], [0.6666666666666666, \"#ed7953\"], [0.7777777777777778, \"#fb9f3a\"], [0.8888888888888888, \"#fdca26\"], [1.0, \"#f0f921\"]], \"type\": \"heatmap\"}], \"heatmapgl\": [{\"colorbar\": {\"outlinewidth\": 0, \"ticks\": \"\"}, \"colorscale\": [[0.0, \"#0d0887\"], [0.1111111111111111, \"#46039f\"], [0.2222222222222222, \"#7201a8\"], [0.3333333333333333, \"#9c179e\"], [0.4444444444444444, \"#bd3786\"], [0.5555555555555556, \"#d8576b\"], [0.6666666666666666, \"#ed7953\"], [0.7777777777777778, \"#fb9f3a\"], [0.8888888888888888, \"#fdca26\"], [1.0, \"#f0f921\"]], \"type\": \"heatmapgl\"}], \"histogram\": [{\"marker\": {\"colorbar\": {\"outlinewidth\": 0, \"ticks\": \"\"}}, \"type\": \"histogram\"}], \"histogram2d\": [{\"colorbar\": {\"outlinewidth\": 0, \"ticks\": \"\"}, \"colorscale\": [[0.0, \"#0d0887\"], [0.1111111111111111, \"#46039f\"], [0.2222222222222222, \"#7201a8\"], [0.3333333333333333, \"#9c179e\"], [0.4444444444444444, \"#bd3786\"], [0.5555555555555556, \"#d8576b\"], [0.6666666666666666, \"#ed7953\"], [0.7777777777777778, \"#fb9f3a\"], [0.8888888888888888, \"#fdca26\"], [1.0, \"#f0f921\"]], \"type\": \"histogram2d\"}], \"histogram2dcontour\": [{\"colorbar\": {\"outlinewidth\": 0, \"ticks\": \"\"}, \"colorscale\": [[0.0, \"#0d0887\"], [0.1111111111111111, \"#46039f\"], [0.2222222222222222, \"#7201a8\"], [0.3333333333333333, \"#9c179e\"], [0.4444444444444444, \"#bd3786\"], [0.5555555555555556, \"#d8576b\"], [0.6666666666666666, \"#ed7953\"], [0.7777777777777778, \"#fb9f3a\"], [0.8888888888888888, \"#fdca26\"], [1.0, \"#f0f921\"]], \"type\": \"histogram2dcontour\"}], \"mesh3d\": [{\"colorbar\": {\"outlinewidth\": 0, \"ticks\": \"\"}, \"type\": \"mesh3d\"}], \"parcoords\": [{\"line\": {\"colorbar\": {\"outlinewidth\": 0, \"ticks\": \"\"}}, \"type\": \"parcoords\"}], \"pie\": [{\"automargin\": true, \"type\": \"pie\"}], \"scatter\": [{\"marker\": {\"colorbar\": {\"outlinewidth\": 0, \"ticks\": \"\"}}, \"type\": \"scatter\"}], \"scatter3d\": [{\"line\": {\"colorbar\": {\"outlinewidth\": 0, \"ticks\": \"\"}}, \"marker\": {\"colorbar\": {\"outlinewidth\": 0, \"ticks\": \"\"}}, \"type\": \"scatter3d\"}], \"scattercarpet\": [{\"marker\": {\"colorbar\": {\"outlinewidth\": 0, \"ticks\": \"\"}}, \"type\": \"scattercarpet\"}], \"scattergeo\": [{\"marker\": {\"colorbar\": {\"outlinewidth\": 0, \"ticks\": \"\"}}, \"type\": \"scattergeo\"}], \"scattergl\": [{\"marker\": {\"colorbar\": {\"outlinewidth\": 0, \"ticks\": \"\"}}, \"type\": \"scattergl\"}], \"scattermapbox\": [{\"marker\": {\"colorbar\": {\"outlinewidth\": 0, \"ticks\": \"\"}}, \"type\": \"scattermapbox\"}], \"scatterpolar\": [{\"marker\": {\"colorbar\": {\"outlinewidth\": 0, \"ticks\": \"\"}}, \"type\": \"scatterpolar\"}], \"scatterpolargl\": [{\"marker\": {\"colorbar\": {\"outlinewidth\": 0, \"ticks\": \"\"}}, \"type\": \"scatterpolargl\"}], \"scatterternary\": [{\"marker\": {\"colorbar\": {\"outlinewidth\": 0, \"ticks\": \"\"}}, \"type\": \"scatterternary\"}], \"surface\": [{\"colorbar\": {\"outlinewidth\": 0, \"ticks\": \"\"}, \"colorscale\": [[0.0, \"#0d0887\"], [0.1111111111111111, \"#46039f\"], [0.2222222222222222, \"#7201a8\"], [0.3333333333333333, \"#9c179e\"], [0.4444444444444444, \"#bd3786\"], [0.5555555555555556, \"#d8576b\"], [0.6666666666666666, \"#ed7953\"], [0.7777777777777778, \"#fb9f3a\"], [0.8888888888888888, \"#fdca26\"], [1.0, \"#f0f921\"]], \"type\": \"surface\"}], \"table\": [{\"cells\": {\"fill\": {\"color\": \"#EBF0F8\"}, \"line\": {\"color\": \"white\"}}, \"header\": {\"fill\": {\"color\": \"#C8D4E3\"}, \"line\": {\"color\": \"white\"}}, \"type\": \"table\"}]}, \"layout\": {\"annotationdefaults\": {\"arrowcolor\": \"#2a3f5f\", \"arrowhead\": 0, \"arrowwidth\": 1}, \"coloraxis\": {\"colorbar\": {\"outlinewidth\": 0, \"ticks\": \"\"}}, \"colorscale\": {\"diverging\": [[0, \"#8e0152\"], [0.1, \"#c51b7d\"], [0.2, \"#de77ae\"], [0.3, \"#f1b6da\"], [0.4, \"#fde0ef\"], [0.5, \"#f7f7f7\"], [0.6, \"#e6f5d0\"], [0.7, \"#b8e186\"], [0.8, \"#7fbc41\"], [0.9, \"#4d9221\"], [1, \"#276419\"]], \"sequential\": [[0.0, \"#0d0887\"], [0.1111111111111111, \"#46039f\"], [0.2222222222222222, \"#7201a8\"], [0.3333333333333333, \"#9c179e\"], [0.4444444444444444, \"#bd3786\"], [0.5555555555555556, \"#d8576b\"], [0.6666666666666666, \"#ed7953\"], [0.7777777777777778, \"#fb9f3a\"], [0.8888888888888888, \"#fdca26\"], [1.0, \"#f0f921\"]], \"sequentialminus\": [[0.0, \"#0d0887\"], [0.1111111111111111, \"#46039f\"], [0.2222222222222222, \"#7201a8\"], [0.3333333333333333, \"#9c179e\"], [0.4444444444444444, \"#bd3786\"], [0.5555555555555556, \"#d8576b\"], [0.6666666666666666, \"#ed7953\"], [0.7777777777777778, \"#fb9f3a\"], [0.8888888888888888, \"#fdca26\"], [1.0, \"#f0f921\"]]}, \"colorway\": [\"#636efa\", \"#EF553B\", \"#00cc96\", \"#ab63fa\", \"#FFA15A\", \"#19d3f3\", \"#FF6692\", \"#B6E880\", \"#FF97FF\", \"#FECB52\"], \"font\": {\"color\": \"#2a3f5f\"}, \"geo\": {\"bgcolor\": \"white\", \"lakecolor\": \"white\", \"landcolor\": \"#E5ECF6\", \"showlakes\": true, \"showland\": true, \"subunitcolor\": \"white\"}, \"hoverlabel\": {\"align\": \"left\"}, \"hovermode\": \"closest\", \"mapbox\": {\"style\": \"light\"}, \"paper_bgcolor\": \"white\", \"plot_bgcolor\": \"#E5ECF6\", \"polar\": {\"angularaxis\": {\"gridcolor\": \"white\", \"linecolor\": \"white\", \"ticks\": \"\"}, \"bgcolor\": \"#E5ECF6\", \"radialaxis\": {\"gridcolor\": \"white\", \"linecolor\": \"white\", \"ticks\": \"\"}}, \"scene\": {\"xaxis\": {\"backgroundcolor\": \"#E5ECF6\", \"gridcolor\": \"white\", \"gridwidth\": 2, \"linecolor\": \"white\", \"showbackground\": true, \"ticks\": \"\", \"zerolinecolor\": \"white\"}, \"yaxis\": {\"backgroundcolor\": \"#E5ECF6\", \"gridcolor\": \"white\", \"gridwidth\": 2, \"linecolor\": \"white\", \"showbackground\": true, \"ticks\": \"\", \"zerolinecolor\": \"white\"}, \"zaxis\": {\"backgroundcolor\": \"#E5ECF6\", \"gridcolor\": \"white\", \"gridwidth\": 2, \"linecolor\": \"white\", \"showbackground\": true, \"ticks\": \"\", \"zerolinecolor\": \"white\"}}, \"shapedefaults\": {\"line\": {\"color\": \"#2a3f5f\"}}, \"ternary\": {\"aaxis\": {\"gridcolor\": \"white\", \"linecolor\": \"white\", \"ticks\": \"\"}, \"baxis\": {\"gridcolor\": \"white\", \"linecolor\": \"white\", \"ticks\": \"\"}, \"bgcolor\": \"#E5ECF6\", \"caxis\": {\"gridcolor\": \"white\", \"linecolor\": \"white\", \"ticks\": \"\"}}, \"title\": {\"x\": 0.05}, \"xaxis\": {\"automargin\": true, \"gridcolor\": \"white\", \"linecolor\": \"white\", \"ticks\": \"\", \"title\": {\"standoff\": 15}, \"zerolinecolor\": \"white\", \"zerolinewidth\": 2}, \"yaxis\": {\"automargin\": true, \"gridcolor\": \"white\", \"linecolor\": \"white\", \"ticks\": \"\", \"title\": {\"standoff\": 15}, \"zerolinecolor\": \"white\", \"zerolinewidth\": 2}}}, \"title\": {\"font\": {\"color\": \"#4D5663\"}}, \"xaxis\": {\"gridcolor\": \"#E1E5ED\", \"showgrid\": true, \"tickfont\": {\"color\": \"#4D5663\"}, \"title\": {\"font\": {\"color\": \"#4D5663\"}, \"text\": \"\"}, \"zerolinecolor\": \"#E1E5ED\"}, \"yaxis\": {\"gridcolor\": \"#E1E5ED\", \"showgrid\": true, \"tickfont\": {\"color\": \"#4D5663\"}, \"title\": {\"font\": {\"color\": \"#4D5663\"}, \"text\": \"\"}, \"zerolinecolor\": \"#E1E5ED\"}},\n",
       "                        {\"showLink\": true, \"linkText\": \"Export to plot.ly\", \"plotlyServerURL\": \"https://plot.ly\", \"responsive\": true}\n",
       "                    ).then(function(){\n",
       "                            \n",
       "var gd = document.getElementById('d6cdd10e-f8e8-46f2-a30b-1d7932043b59');\n",
       "var x = new MutationObserver(function (mutations, observer) {{\n",
       "        var display = window.getComputedStyle(gd).display;\n",
       "        if (!display || display === 'none') {{\n",
       "            console.log([gd, 'removed!']);\n",
       "            Plotly.purge(gd);\n",
       "            observer.disconnect();\n",
       "        }}\n",
       "}});\n",
       "\n",
       "// Listen for the removal of the full notebook cells\n",
       "var notebookContainer = gd.closest('#notebook-container');\n",
       "if (notebookContainer) {{\n",
       "    x.observe(notebookContainer, {childList: true});\n",
       "}}\n",
       "\n",
       "// Listen for the clearing of the current output cell\n",
       "var outputEl = gd.closest('.output');\n",
       "if (outputEl) {{\n",
       "    x.observe(outputEl, {childList: true});\n",
       "}}\n",
       "\n",
       "                        })\n",
       "                };\n",
       "                });\n",
       "            </script>\n",
       "        </div>"
      ]
     },
     "metadata": {},
     "output_type": "display_data"
    }
   ],
   "source": [
    "df2.iplot(kind='bar',x='Category',y='Values')"
   ]
  },
  {
   "cell_type": "code",
   "execution_count": 16,
   "metadata": {},
   "outputs": [
    {
     "data": {
      "application/vnd.plotly.v1+json": {
       "config": {
        "linkText": "Export to plot.ly",
        "plotlyServerURL": "https://plot.ly",
        "showLink": true
       },
       "data": [
        {
         "marker": {
          "color": "rgba(255, 153, 51, 0.6)",
          "line": {
           "color": "rgba(255, 153, 51, 1.0)",
           "width": 1
          }
         },
         "name": "A",
         "orientation": "v",
         "text": "",
         "type": "bar",
         "x": [
          0,
          1,
          2,
          3,
          4,
          5,
          6,
          7,
          8,
          9,
          10,
          11,
          12,
          13,
          14,
          15,
          16,
          17,
          18,
          19,
          20,
          21,
          22,
          23,
          24,
          25,
          26,
          27,
          28,
          29,
          30,
          31,
          32,
          33,
          34,
          35,
          36,
          37,
          38,
          39,
          40,
          41,
          42,
          43,
          44,
          45,
          46,
          47,
          48,
          49,
          50,
          51,
          52,
          53,
          54,
          55,
          56,
          57,
          58,
          59,
          60,
          61,
          62,
          63,
          64,
          65,
          66,
          67,
          68,
          69,
          70,
          71,
          72,
          73,
          74,
          75,
          76,
          77,
          78,
          79,
          80,
          81,
          82,
          83,
          84,
          85,
          86,
          87,
          88,
          89,
          90,
          91,
          92,
          93,
          94,
          95,
          96,
          97,
          98,
          99
         ],
         "y": [
          -0.6680661855631249,
          0.1949766871965313,
          0.03297058007779891,
          -0.6990703851144047,
          -1.1904809035565296,
          -0.9978851799370811,
          -1.8582319261511087,
          -0.5267661337775508,
          -1.5686461478635814,
          -1.0627343935664582,
          0.9661118140498371,
          0.565313506626537,
          -1.4206021024681288,
          0.6560188287072177,
          0.5342773017547415,
          0.4439743344940591,
          0.6052930388775157,
          0.7164107464286641,
          0.9375280230990192,
          -0.8939516328602036,
          0.4924348203413822,
          -2.1780131590071496,
          -0.5438072379862946,
          -0.9334923463833898,
          0.6713486104662258,
          -0.7065440484824034,
          -1.3874324539214875,
          -0.8896410077863353,
          -0.07984657932136635,
          -0.12572505592806968,
          0.8137383767766075,
          -1.858491455192245,
          -0.3724586312111986,
          2.402354817353567,
          1.0410195382811984,
          -1.5139559628272126,
          0.8076529167916344,
          -0.3035271559810558,
          2.4116330281807286,
          2.1223346600953814,
          0.16436122619428503,
          -0.46652198272400175,
          0.24256961333364677,
          0.2863986325603095,
          -3.099977310251452,
          0.3417341517045552,
          -1.229051663697874,
          -0.0825055265741576,
          0.5643689745296832,
          0.2643607398377007,
          0.8404584998456432,
          -0.9599932628266316,
          0.9620952929558358,
          2.1487719813839155,
          0.8702399277132442,
          -0.6786256915599027,
          -0.551562117174487,
          -0.7569418009249309,
          -0.7578840771473123,
          -0.7979818046465237,
          1.7875060506298361,
          -1.1376330255000242,
          -1.7296967915248824,
          1.0120261071074859,
          0.07626292262330708,
          -0.5161229432965986,
          -1.9828965516645491,
          1.2236247293138747,
          -1.4987687258773836,
          0.728921907199498,
          -1.0224292690506944,
          0.7636030501956129,
          -1.4035448034462434,
          0.8741822629080838,
          -1.575143589119851,
          0.5783812385108045,
          -0.9559912307275771,
          -0.06416912485000843,
          1.5340650493135644,
          1.0625590148885438,
          0.8926470152500349,
          -0.10936690562114973,
          -0.24245197468062515,
          1.5191649065321466,
          0.736591302550211,
          0.3806355692794749,
          -0.19094272495077746,
          -0.4809111086547659,
          -1.3393209311998107,
          0.3444845242142359,
          -0.308530466508197,
          0.5971519605520483,
          -0.2961393984777049,
          2.0527924932523907,
          -0.42898583486115943,
          0.7361587789620776,
          -0.6655264065881279,
          0.4869596491478256,
          -0.42392394888161156,
          0.0960209955254644
         ]
        },
        {
         "marker": {
          "color": "rgba(55, 128, 191, 0.6)",
          "line": {
           "color": "rgba(55, 128, 191, 1.0)",
           "width": 1
          }
         },
         "name": "B",
         "orientation": "v",
         "text": "",
         "type": "bar",
         "x": [
          0,
          1,
          2,
          3,
          4,
          5,
          6,
          7,
          8,
          9,
          10,
          11,
          12,
          13,
          14,
          15,
          16,
          17,
          18,
          19,
          20,
          21,
          22,
          23,
          24,
          25,
          26,
          27,
          28,
          29,
          30,
          31,
          32,
          33,
          34,
          35,
          36,
          37,
          38,
          39,
          40,
          41,
          42,
          43,
          44,
          45,
          46,
          47,
          48,
          49,
          50,
          51,
          52,
          53,
          54,
          55,
          56,
          57,
          58,
          59,
          60,
          61,
          62,
          63,
          64,
          65,
          66,
          67,
          68,
          69,
          70,
          71,
          72,
          73,
          74,
          75,
          76,
          77,
          78,
          79,
          80,
          81,
          82,
          83,
          84,
          85,
          86,
          87,
          88,
          89,
          90,
          91,
          92,
          93,
          94,
          95,
          96,
          97,
          98,
          99
         ],
         "y": [
          -0.6810784119889212,
          -0.12672851621571565,
          -2.0807241915160843,
          2.1123832635269437,
          -0.037441185918270566,
          -0.8419160328363937,
          -0.965051019475013,
          0.8311693286344598,
          -0.12892638840714116,
          -0.3223623657442055,
          -0.2651621978066173,
          0.5751051482978644,
          -1.5954080823970926,
          0.35868808673820946,
          2.472151302817571,
          0.262160516152913,
          -0.34492136425427206,
          2.642740897818084,
          0.41347183169097945,
          1.4222362844595409,
          1.0478656163489362,
          -1.4989625631723997,
          -1.1573817060636589,
          -0.1902543592584037,
          -1.5924763685255088,
          -0.04356499912556374,
          -0.32646573064441586,
          1.4195081126291589,
          1.3506300184179498,
          -1.8861410729263206,
          0.6078372185494824,
          0.5896587847914512,
          -1.8647497848327925,
          0.16162438429861858,
          0.6426130692999505,
          1.7639945077246302,
          0.7761834037906911,
          0.421145954098237,
          0.1854040095139653,
          0.9429598683866964,
          -0.7099509267598096,
          -1.7564388380669502,
          1.3881239407102857,
          -1.3120206969144075,
          -1.2360995942787971,
          -0.10177615060000193,
          1.207999550088633,
          0.11356010121118484,
          -0.13811616381196112,
          1.3505494572062853,
          1.0177776805673846,
          -1.4837634818277279,
          -0.6319011207391553,
          0.20812478489292638,
          -0.08134859369177261,
          -0.7277076405660484,
          0.840470334848689,
          -1.7870213204890557,
          0.03588632950819402,
          -0.3733539244362292,
          0.43292408303107593,
          -0.5686082275326253,
          -0.6758945175654862,
          -0.6070459436824658,
          1.1050416756450765,
          -0.059510924986301804,
          0.8447858158747069,
          0.499972993569185,
          -0.13434501044250866,
          -1.8070564697994906,
          -1.714991039757765,
          -0.3751013035128291,
          1.0953223101313094,
          -1.4369805212753772,
          0.39107212877171116,
          -0.2516191386082863,
          0.22228696010046495,
          0.1725199646415227,
          -1.050096031944785,
          0.5061413187280068,
          -0.12351473087442927,
          -0.7146092641508545,
          0.4954838312980374,
          1.3551362084378633,
          0.9634550093677506,
          1.0479339303158377,
          1.059923568234994,
          -0.7117493946644667,
          -1.0699478167895864,
          -0.2362919262806339,
          1.403646945157495,
          0.28071705389078044,
          -0.15182662408610997,
          0.17489614347413823,
          -0.9742686872933056,
          0.1786922050680465,
          -0.6273672164757751,
          -0.4488967123079796,
          -1.4551355833120438,
          -1.0757746516273758
         ]
        },
        {
         "marker": {
          "color": "rgba(50, 171, 96, 0.6)",
          "line": {
           "color": "rgba(50, 171, 96, 1.0)",
           "width": 1
          }
         },
         "name": "C",
         "orientation": "v",
         "text": "",
         "type": "bar",
         "x": [
          0,
          1,
          2,
          3,
          4,
          5,
          6,
          7,
          8,
          9,
          10,
          11,
          12,
          13,
          14,
          15,
          16,
          17,
          18,
          19,
          20,
          21,
          22,
          23,
          24,
          25,
          26,
          27,
          28,
          29,
          30,
          31,
          32,
          33,
          34,
          35,
          36,
          37,
          38,
          39,
          40,
          41,
          42,
          43,
          44,
          45,
          46,
          47,
          48,
          49,
          50,
          51,
          52,
          53,
          54,
          55,
          56,
          57,
          58,
          59,
          60,
          61,
          62,
          63,
          64,
          65,
          66,
          67,
          68,
          69,
          70,
          71,
          72,
          73,
          74,
          75,
          76,
          77,
          78,
          79,
          80,
          81,
          82,
          83,
          84,
          85,
          86,
          87,
          88,
          89,
          90,
          91,
          92,
          93,
          94,
          95,
          96,
          97,
          98,
          99
         ],
         "y": [
          -2.3073638620301433,
          -0.9962041490678315,
          1.3208116314786846,
          -0.025390771166009407,
          -0.9648363933317966,
          0.24326610193825265,
          0.7833001534921529,
          -0.8663752013312572,
          0.28426532861252757,
          1.8525904754774485,
          0.5164054496741013,
          1.2303099931032626,
          0.5360513363234279,
          0.7314049395469593,
          -0.05158527579854278,
          -0.5217391984873557,
          0.6011760081316192,
          0.09789419963031891,
          -0.4874882753947355,
          -0.2989607053704855,
          0.9383987116683369,
          -0.29624269819989724,
          -3.0132871456839267,
          -0.2600934938003665,
          -0.5169579690827044,
          -0.8119315582610903,
          -0.34731928941074086,
          -1.820136372657824,
          1.2256674920965915,
          -1.5566391864661864,
          -0.06809802410845756,
          -0.2871133753382355,
          0.9244116752222192,
          -0.6759585741687546,
          -0.6744735212611921,
          -1.6040426177574216,
          1.2850611144199247,
          0.8279989883462856,
          -0.2878489752861659,
          -0.23566306928665398,
          1.3076158299163698,
          -1.6401124481321587,
          0.546773763745836,
          0.2763863222089421,
          0.1382460666083625,
          0.34761977999188315,
          0.18678832068275122,
          -0.7826894546849915,
          -0.22804525413889637,
          -0.27774414758352944,
          -0.679220647452501,
          -0.5321792137613572,
          -1.1818314843254512,
          -0.24222642777041425,
          0.2594990627819901,
          1.6806485495058059,
          1.2494555826282385,
          1.7561180265516112,
          -0.18337912849127272,
          0.1986178157101335,
          1.1144016939165797,
          -1.1232355481853946,
          0.3312435482633644,
          -0.5356280710427399,
          -0.3475497394030127,
          1.3188617574462058,
          -0.03536711573532913,
          0.8809219197152772,
          0.0944716655023659,
          0.4550279458603338,
          1.8136067916398246,
          -0.18360533019846725,
          -0.23021685288304736,
          0.3406496620591469,
          1.4145557922085121,
          0.5315204905167306,
          -1.640263959883622,
          -1.0955524713900873,
          -1.4774176081870156,
          -0.33843055481629236,
          0.07218683504377033,
          -1.3554867431755546,
          -0.24673020354673178,
          -1.826836764908707,
          -0.5894495017125044,
          -1.5883001645521029,
          1.9347900221285799,
          0.9264335949306093,
          -0.19619855277123432,
          1.311730305133455,
          -0.005833191408164211,
          -0.15789828864743358,
          0.1270696407524092,
          1.6577163232652115,
          -0.05443421620407633,
          1.2837041675848508,
          0.5593938838023739,
          -1.5122145518614358,
          -1.3051058219297798,
          -0.09372562766382454
         ]
        },
        {
         "marker": {
          "color": "rgba(128, 0, 128, 0.6)",
          "line": {
           "color": "rgba(128, 0, 128, 1.0)",
           "width": 1
          }
         },
         "name": "D",
         "orientation": "v",
         "text": "",
         "type": "bar",
         "x": [
          0,
          1,
          2,
          3,
          4,
          5,
          6,
          7,
          8,
          9,
          10,
          11,
          12,
          13,
          14,
          15,
          16,
          17,
          18,
          19,
          20,
          21,
          22,
          23,
          24,
          25,
          26,
          27,
          28,
          29,
          30,
          31,
          32,
          33,
          34,
          35,
          36,
          37,
          38,
          39,
          40,
          41,
          42,
          43,
          44,
          45,
          46,
          47,
          48,
          49,
          50,
          51,
          52,
          53,
          54,
          55,
          56,
          57,
          58,
          59,
          60,
          61,
          62,
          63,
          64,
          65,
          66,
          67,
          68,
          69,
          70,
          71,
          72,
          73,
          74,
          75,
          76,
          77,
          78,
          79,
          80,
          81,
          82,
          83,
          84,
          85,
          86,
          87,
          88,
          89,
          90,
          91,
          92,
          93,
          94,
          95,
          96,
          97,
          98,
          99
         ],
         "y": [
          0.49209094387433777,
          0.9062738969829228,
          0.17329610259510156,
          -0.10736420792233334,
          0.6105223392819806,
          -1.691053205670486,
          1.728568659259317,
          -1.2008015945078236,
          -1.9179174593378803,
          -0.3579727607746801,
          1.1705371096116617,
          0.47667608570186953,
          0.4776399709111016,
          -0.9461143733421219,
          -0.4131117792381057,
          -1.1115425891296822,
          1.2860346537356238,
          0.3271027808073432,
          0.5159953352965916,
          0.27729083117100445,
          0.7752711293926082,
          0.7312747438193341,
          1.2198693462173729,
          0.6601897806334215,
          -1.1484082051607591,
          -0.3601506624529033,
          0.21892965155005714,
          -0.7446991443981005,
          -1.6010064110796367,
          1.3027877160597294,
          2.637352783614263,
          -1.164496585131879,
          -0.7988405568663156,
          0.11240713416388613,
          1.048160908681509,
          0.5619149248158571,
          0.06147046441390483,
          -0.5124104027274924,
          1.0115304797672606,
          -1.0608392192028855,
          -0.1749354641614772,
          0.6544231807132385,
          -0.2380150085031945,
          -1.0382675925006104,
          -0.9786969318035704,
          0.9353387685518132,
          0.6186048691727825,
          -1.051367316882182,
          0.5481837683884434,
          1.0869489723875991,
          -0.8276597485186798,
          -1.1423774236881996,
          -0.5987684068731174,
          2.262905971559901,
          0.8269721442349901,
          -1.3517187768902508,
          0.3046845694376493,
          -1.5691671988994118,
          -1.6147450747653498,
          0.9385118541776004,
          1.3772116111856814,
          -0.3887872739543808,
          -0.04981835019742325,
          0.49369312086794365,
          1.6798331571822096,
          1.0567192540587917,
          0.47869354866514785,
          -1.24362767645016,
          0.3188194983492261,
          0.6847930611588089,
          0.357196047620388,
          -1.0419965151392447,
          0.2547774715058307,
          -0.29597959868541857,
          -0.6981530674093167,
          -0.07526311848588445,
          -0.18163384482479397,
          0.31075032419206056,
          -0.19408849419085747,
          1.5738822461027282,
          -0.08032086069342659,
          1.059622216455474,
          -1.320266007365862,
          1.8918701425077586,
          0.28571864790101287,
          1.8446892555185024,
          -1.045913687048723,
          -0.39532679311263735,
          -0.7580947693260994,
          -0.247466127162814,
          1.210722428462035,
          -1.4024327566377963,
          0.5632509162805431,
          -0.13694559351436295,
          -0.08578184302281991,
          0.7981344850479162,
          -1.7176037255632028,
          1.9520742819822292,
          -0.3330151467131199,
          0.027219819562331278
         ]
        }
       ],
       "layout": {
        "legend": {
         "bgcolor": "#F5F6F9",
         "font": {
          "color": "#4D5663"
         }
        },
        "paper_bgcolor": "#F5F6F9",
        "plot_bgcolor": "#F5F6F9",
        "template": {
         "data": {
          "bar": [
           {
            "error_x": {
             "color": "#2a3f5f"
            },
            "error_y": {
             "color": "#2a3f5f"
            },
            "marker": {
             "line": {
              "color": "#E5ECF6",
              "width": 0.5
             }
            },
            "type": "bar"
           }
          ],
          "barpolar": [
           {
            "marker": {
             "line": {
              "color": "#E5ECF6",
              "width": 0.5
             }
            },
            "type": "barpolar"
           }
          ],
          "carpet": [
           {
            "aaxis": {
             "endlinecolor": "#2a3f5f",
             "gridcolor": "white",
             "linecolor": "white",
             "minorgridcolor": "white",
             "startlinecolor": "#2a3f5f"
            },
            "baxis": {
             "endlinecolor": "#2a3f5f",
             "gridcolor": "white",
             "linecolor": "white",
             "minorgridcolor": "white",
             "startlinecolor": "#2a3f5f"
            },
            "type": "carpet"
           }
          ],
          "choropleth": [
           {
            "colorbar": {
             "outlinewidth": 0,
             "ticks": ""
            },
            "type": "choropleth"
           }
          ],
          "contour": [
           {
            "colorbar": {
             "outlinewidth": 0,
             "ticks": ""
            },
            "colorscale": [
             [
              0,
              "#0d0887"
             ],
             [
              0.1111111111111111,
              "#46039f"
             ],
             [
              0.2222222222222222,
              "#7201a8"
             ],
             [
              0.3333333333333333,
              "#9c179e"
             ],
             [
              0.4444444444444444,
              "#bd3786"
             ],
             [
              0.5555555555555556,
              "#d8576b"
             ],
             [
              0.6666666666666666,
              "#ed7953"
             ],
             [
              0.7777777777777778,
              "#fb9f3a"
             ],
             [
              0.8888888888888888,
              "#fdca26"
             ],
             [
              1,
              "#f0f921"
             ]
            ],
            "type": "contour"
           }
          ],
          "contourcarpet": [
           {
            "colorbar": {
             "outlinewidth": 0,
             "ticks": ""
            },
            "type": "contourcarpet"
           }
          ],
          "heatmap": [
           {
            "colorbar": {
             "outlinewidth": 0,
             "ticks": ""
            },
            "colorscale": [
             [
              0,
              "#0d0887"
             ],
             [
              0.1111111111111111,
              "#46039f"
             ],
             [
              0.2222222222222222,
              "#7201a8"
             ],
             [
              0.3333333333333333,
              "#9c179e"
             ],
             [
              0.4444444444444444,
              "#bd3786"
             ],
             [
              0.5555555555555556,
              "#d8576b"
             ],
             [
              0.6666666666666666,
              "#ed7953"
             ],
             [
              0.7777777777777778,
              "#fb9f3a"
             ],
             [
              0.8888888888888888,
              "#fdca26"
             ],
             [
              1,
              "#f0f921"
             ]
            ],
            "type": "heatmap"
           }
          ],
          "heatmapgl": [
           {
            "colorbar": {
             "outlinewidth": 0,
             "ticks": ""
            },
            "colorscale": [
             [
              0,
              "#0d0887"
             ],
             [
              0.1111111111111111,
              "#46039f"
             ],
             [
              0.2222222222222222,
              "#7201a8"
             ],
             [
              0.3333333333333333,
              "#9c179e"
             ],
             [
              0.4444444444444444,
              "#bd3786"
             ],
             [
              0.5555555555555556,
              "#d8576b"
             ],
             [
              0.6666666666666666,
              "#ed7953"
             ],
             [
              0.7777777777777778,
              "#fb9f3a"
             ],
             [
              0.8888888888888888,
              "#fdca26"
             ],
             [
              1,
              "#f0f921"
             ]
            ],
            "type": "heatmapgl"
           }
          ],
          "histogram": [
           {
            "marker": {
             "colorbar": {
              "outlinewidth": 0,
              "ticks": ""
             }
            },
            "type": "histogram"
           }
          ],
          "histogram2d": [
           {
            "colorbar": {
             "outlinewidth": 0,
             "ticks": ""
            },
            "colorscale": [
             [
              0,
              "#0d0887"
             ],
             [
              0.1111111111111111,
              "#46039f"
             ],
             [
              0.2222222222222222,
              "#7201a8"
             ],
             [
              0.3333333333333333,
              "#9c179e"
             ],
             [
              0.4444444444444444,
              "#bd3786"
             ],
             [
              0.5555555555555556,
              "#d8576b"
             ],
             [
              0.6666666666666666,
              "#ed7953"
             ],
             [
              0.7777777777777778,
              "#fb9f3a"
             ],
             [
              0.8888888888888888,
              "#fdca26"
             ],
             [
              1,
              "#f0f921"
             ]
            ],
            "type": "histogram2d"
           }
          ],
          "histogram2dcontour": [
           {
            "colorbar": {
             "outlinewidth": 0,
             "ticks": ""
            },
            "colorscale": [
             [
              0,
              "#0d0887"
             ],
             [
              0.1111111111111111,
              "#46039f"
             ],
             [
              0.2222222222222222,
              "#7201a8"
             ],
             [
              0.3333333333333333,
              "#9c179e"
             ],
             [
              0.4444444444444444,
              "#bd3786"
             ],
             [
              0.5555555555555556,
              "#d8576b"
             ],
             [
              0.6666666666666666,
              "#ed7953"
             ],
             [
              0.7777777777777778,
              "#fb9f3a"
             ],
             [
              0.8888888888888888,
              "#fdca26"
             ],
             [
              1,
              "#f0f921"
             ]
            ],
            "type": "histogram2dcontour"
           }
          ],
          "mesh3d": [
           {
            "colorbar": {
             "outlinewidth": 0,
             "ticks": ""
            },
            "type": "mesh3d"
           }
          ],
          "parcoords": [
           {
            "line": {
             "colorbar": {
              "outlinewidth": 0,
              "ticks": ""
             }
            },
            "type": "parcoords"
           }
          ],
          "pie": [
           {
            "automargin": true,
            "type": "pie"
           }
          ],
          "scatter": [
           {
            "marker": {
             "colorbar": {
              "outlinewidth": 0,
              "ticks": ""
             }
            },
            "type": "scatter"
           }
          ],
          "scatter3d": [
           {
            "line": {
             "colorbar": {
              "outlinewidth": 0,
              "ticks": ""
             }
            },
            "marker": {
             "colorbar": {
              "outlinewidth": 0,
              "ticks": ""
             }
            },
            "type": "scatter3d"
           }
          ],
          "scattercarpet": [
           {
            "marker": {
             "colorbar": {
              "outlinewidth": 0,
              "ticks": ""
             }
            },
            "type": "scattercarpet"
           }
          ],
          "scattergeo": [
           {
            "marker": {
             "colorbar": {
              "outlinewidth": 0,
              "ticks": ""
             }
            },
            "type": "scattergeo"
           }
          ],
          "scattergl": [
           {
            "marker": {
             "colorbar": {
              "outlinewidth": 0,
              "ticks": ""
             }
            },
            "type": "scattergl"
           }
          ],
          "scattermapbox": [
           {
            "marker": {
             "colorbar": {
              "outlinewidth": 0,
              "ticks": ""
             }
            },
            "type": "scattermapbox"
           }
          ],
          "scatterpolar": [
           {
            "marker": {
             "colorbar": {
              "outlinewidth": 0,
              "ticks": ""
             }
            },
            "type": "scatterpolar"
           }
          ],
          "scatterpolargl": [
           {
            "marker": {
             "colorbar": {
              "outlinewidth": 0,
              "ticks": ""
             }
            },
            "type": "scatterpolargl"
           }
          ],
          "scatterternary": [
           {
            "marker": {
             "colorbar": {
              "outlinewidth": 0,
              "ticks": ""
             }
            },
            "type": "scatterternary"
           }
          ],
          "surface": [
           {
            "colorbar": {
             "outlinewidth": 0,
             "ticks": ""
            },
            "colorscale": [
             [
              0,
              "#0d0887"
             ],
             [
              0.1111111111111111,
              "#46039f"
             ],
             [
              0.2222222222222222,
              "#7201a8"
             ],
             [
              0.3333333333333333,
              "#9c179e"
             ],
             [
              0.4444444444444444,
              "#bd3786"
             ],
             [
              0.5555555555555556,
              "#d8576b"
             ],
             [
              0.6666666666666666,
              "#ed7953"
             ],
             [
              0.7777777777777778,
              "#fb9f3a"
             ],
             [
              0.8888888888888888,
              "#fdca26"
             ],
             [
              1,
              "#f0f921"
             ]
            ],
            "type": "surface"
           }
          ],
          "table": [
           {
            "cells": {
             "fill": {
              "color": "#EBF0F8"
             },
             "line": {
              "color": "white"
             }
            },
            "header": {
             "fill": {
              "color": "#C8D4E3"
             },
             "line": {
              "color": "white"
             }
            },
            "type": "table"
           }
          ]
         },
         "layout": {
          "annotationdefaults": {
           "arrowcolor": "#2a3f5f",
           "arrowhead": 0,
           "arrowwidth": 1
          },
          "coloraxis": {
           "colorbar": {
            "outlinewidth": 0,
            "ticks": ""
           }
          },
          "colorscale": {
           "diverging": [
            [
             0,
             "#8e0152"
            ],
            [
             0.1,
             "#c51b7d"
            ],
            [
             0.2,
             "#de77ae"
            ],
            [
             0.3,
             "#f1b6da"
            ],
            [
             0.4,
             "#fde0ef"
            ],
            [
             0.5,
             "#f7f7f7"
            ],
            [
             0.6,
             "#e6f5d0"
            ],
            [
             0.7,
             "#b8e186"
            ],
            [
             0.8,
             "#7fbc41"
            ],
            [
             0.9,
             "#4d9221"
            ],
            [
             1,
             "#276419"
            ]
           ],
           "sequential": [
            [
             0,
             "#0d0887"
            ],
            [
             0.1111111111111111,
             "#46039f"
            ],
            [
             0.2222222222222222,
             "#7201a8"
            ],
            [
             0.3333333333333333,
             "#9c179e"
            ],
            [
             0.4444444444444444,
             "#bd3786"
            ],
            [
             0.5555555555555556,
             "#d8576b"
            ],
            [
             0.6666666666666666,
             "#ed7953"
            ],
            [
             0.7777777777777778,
             "#fb9f3a"
            ],
            [
             0.8888888888888888,
             "#fdca26"
            ],
            [
             1,
             "#f0f921"
            ]
           ],
           "sequentialminus": [
            [
             0,
             "#0d0887"
            ],
            [
             0.1111111111111111,
             "#46039f"
            ],
            [
             0.2222222222222222,
             "#7201a8"
            ],
            [
             0.3333333333333333,
             "#9c179e"
            ],
            [
             0.4444444444444444,
             "#bd3786"
            ],
            [
             0.5555555555555556,
             "#d8576b"
            ],
            [
             0.6666666666666666,
             "#ed7953"
            ],
            [
             0.7777777777777778,
             "#fb9f3a"
            ],
            [
             0.8888888888888888,
             "#fdca26"
            ],
            [
             1,
             "#f0f921"
            ]
           ]
          },
          "colorway": [
           "#636efa",
           "#EF553B",
           "#00cc96",
           "#ab63fa",
           "#FFA15A",
           "#19d3f3",
           "#FF6692",
           "#B6E880",
           "#FF97FF",
           "#FECB52"
          ],
          "font": {
           "color": "#2a3f5f"
          },
          "geo": {
           "bgcolor": "white",
           "lakecolor": "white",
           "landcolor": "#E5ECF6",
           "showlakes": true,
           "showland": true,
           "subunitcolor": "white"
          },
          "hoverlabel": {
           "align": "left"
          },
          "hovermode": "closest",
          "mapbox": {
           "style": "light"
          },
          "paper_bgcolor": "white",
          "plot_bgcolor": "#E5ECF6",
          "polar": {
           "angularaxis": {
            "gridcolor": "white",
            "linecolor": "white",
            "ticks": ""
           },
           "bgcolor": "#E5ECF6",
           "radialaxis": {
            "gridcolor": "white",
            "linecolor": "white",
            "ticks": ""
           }
          },
          "scene": {
           "xaxis": {
            "backgroundcolor": "#E5ECF6",
            "gridcolor": "white",
            "gridwidth": 2,
            "linecolor": "white",
            "showbackground": true,
            "ticks": "",
            "zerolinecolor": "white"
           },
           "yaxis": {
            "backgroundcolor": "#E5ECF6",
            "gridcolor": "white",
            "gridwidth": 2,
            "linecolor": "white",
            "showbackground": true,
            "ticks": "",
            "zerolinecolor": "white"
           },
           "zaxis": {
            "backgroundcolor": "#E5ECF6",
            "gridcolor": "white",
            "gridwidth": 2,
            "linecolor": "white",
            "showbackground": true,
            "ticks": "",
            "zerolinecolor": "white"
           }
          },
          "shapedefaults": {
           "line": {
            "color": "#2a3f5f"
           }
          },
          "ternary": {
           "aaxis": {
            "gridcolor": "white",
            "linecolor": "white",
            "ticks": ""
           },
           "baxis": {
            "gridcolor": "white",
            "linecolor": "white",
            "ticks": ""
           },
           "bgcolor": "#E5ECF6",
           "caxis": {
            "gridcolor": "white",
            "linecolor": "white",
            "ticks": ""
           }
          },
          "title": {
           "x": 0.05
          },
          "xaxis": {
           "automargin": true,
           "gridcolor": "white",
           "linecolor": "white",
           "ticks": "",
           "title": {
            "standoff": 15
           },
           "zerolinecolor": "white",
           "zerolinewidth": 2
          },
          "yaxis": {
           "automargin": true,
           "gridcolor": "white",
           "linecolor": "white",
           "ticks": "",
           "title": {
            "standoff": 15
           },
           "zerolinecolor": "white",
           "zerolinewidth": 2
          }
         }
        },
        "title": {
         "font": {
          "color": "#4D5663"
         }
        },
        "xaxis": {
         "gridcolor": "#E1E5ED",
         "showgrid": true,
         "tickfont": {
          "color": "#4D5663"
         },
         "title": {
          "font": {
           "color": "#4D5663"
          },
          "text": ""
         },
         "zerolinecolor": "#E1E5ED"
        },
        "yaxis": {
         "gridcolor": "#E1E5ED",
         "showgrid": true,
         "tickfont": {
          "color": "#4D5663"
         },
         "title": {
          "font": {
           "color": "#4D5663"
          },
          "text": ""
         },
         "zerolinecolor": "#E1E5ED"
        }
       }
      },
      "text/html": [
       "<div>\n",
       "        \n",
       "        \n",
       "            <div id=\"f8c4e950-34e0-4f73-8a79-9819276c610c\" class=\"plotly-graph-div\" style=\"height:525px; width:100%;\"></div>\n",
       "            <script type=\"text/javascript\">\n",
       "                require([\"plotly\"], function(Plotly) {\n",
       "                    window.PLOTLYENV=window.PLOTLYENV || {};\n",
       "                    window.PLOTLYENV.BASE_URL='https://plot.ly';\n",
       "                    \n",
       "                if (document.getElementById(\"f8c4e950-34e0-4f73-8a79-9819276c610c\")) {\n",
       "                    Plotly.newPlot(\n",
       "                        'f8c4e950-34e0-4f73-8a79-9819276c610c',\n",
       "                        [{\"marker\": {\"color\": \"rgba(255, 153, 51, 0.6)\", \"line\": {\"color\": \"rgba(255, 153, 51, 1.0)\", \"width\": 1}}, \"name\": \"A\", \"orientation\": \"v\", \"text\": \"\", \"type\": \"bar\", \"x\": [0, 1, 2, 3, 4, 5, 6, 7, 8, 9, 10, 11, 12, 13, 14, 15, 16, 17, 18, 19, 20, 21, 22, 23, 24, 25, 26, 27, 28, 29, 30, 31, 32, 33, 34, 35, 36, 37, 38, 39, 40, 41, 42, 43, 44, 45, 46, 47, 48, 49, 50, 51, 52, 53, 54, 55, 56, 57, 58, 59, 60, 61, 62, 63, 64, 65, 66, 67, 68, 69, 70, 71, 72, 73, 74, 75, 76, 77, 78, 79, 80, 81, 82, 83, 84, 85, 86, 87, 88, 89, 90, 91, 92, 93, 94, 95, 96, 97, 98, 99], \"y\": [-0.6680661855631249, 0.1949766871965313, 0.03297058007779891, -0.6990703851144047, -1.1904809035565296, -0.9978851799370811, -1.8582319261511087, -0.5267661337775508, -1.5686461478635814, -1.0627343935664582, 0.9661118140498371, 0.565313506626537, -1.4206021024681288, 0.6560188287072177, 0.5342773017547415, 0.4439743344940591, 0.6052930388775157, 0.7164107464286641, 0.9375280230990192, -0.8939516328602036, 0.4924348203413822, -2.1780131590071496, -0.5438072379862946, -0.9334923463833898, 0.6713486104662258, -0.7065440484824034, -1.3874324539214875, -0.8896410077863353, -0.07984657932136635, -0.12572505592806968, 0.8137383767766075, -1.858491455192245, -0.3724586312111986, 2.402354817353567, 1.0410195382811984, -1.5139559628272126, 0.8076529167916344, -0.3035271559810558, 2.4116330281807286, 2.1223346600953814, 0.16436122619428503, -0.46652198272400175, 0.24256961333364677, 0.2863986325603095, -3.099977310251452, 0.3417341517045552, -1.229051663697874, -0.0825055265741576, 0.5643689745296832, 0.2643607398377007, 0.8404584998456432, -0.9599932628266316, 0.9620952929558358, 2.1487719813839155, 0.8702399277132442, -0.6786256915599027, -0.551562117174487, -0.7569418009249309, -0.7578840771473123, -0.7979818046465237, 1.7875060506298361, -1.1376330255000242, -1.7296967915248824, 1.0120261071074859, 0.07626292262330708, -0.5161229432965986, -1.9828965516645491, 1.2236247293138747, -1.4987687258773836, 0.728921907199498, -1.0224292690506944, 0.7636030501956129, -1.4035448034462434, 0.8741822629080838, -1.575143589119851, 0.5783812385108045, -0.9559912307275771, -0.06416912485000843, 1.5340650493135644, 1.0625590148885438, 0.8926470152500349, -0.10936690562114973, -0.24245197468062515, 1.5191649065321466, 0.736591302550211, 0.3806355692794749, -0.19094272495077746, -0.4809111086547659, -1.3393209311998107, 0.3444845242142359, -0.308530466508197, 0.5971519605520483, -0.2961393984777049, 2.0527924932523907, -0.42898583486115943, 0.7361587789620776, -0.6655264065881279, 0.4869596491478256, -0.42392394888161156, 0.0960209955254644]}, {\"marker\": {\"color\": \"rgba(55, 128, 191, 0.6)\", \"line\": {\"color\": \"rgba(55, 128, 191, 1.0)\", \"width\": 1}}, \"name\": \"B\", \"orientation\": \"v\", \"text\": \"\", \"type\": \"bar\", \"x\": [0, 1, 2, 3, 4, 5, 6, 7, 8, 9, 10, 11, 12, 13, 14, 15, 16, 17, 18, 19, 20, 21, 22, 23, 24, 25, 26, 27, 28, 29, 30, 31, 32, 33, 34, 35, 36, 37, 38, 39, 40, 41, 42, 43, 44, 45, 46, 47, 48, 49, 50, 51, 52, 53, 54, 55, 56, 57, 58, 59, 60, 61, 62, 63, 64, 65, 66, 67, 68, 69, 70, 71, 72, 73, 74, 75, 76, 77, 78, 79, 80, 81, 82, 83, 84, 85, 86, 87, 88, 89, 90, 91, 92, 93, 94, 95, 96, 97, 98, 99], \"y\": [-0.6810784119889212, -0.12672851621571565, -2.0807241915160843, 2.1123832635269437, -0.037441185918270566, -0.8419160328363937, -0.965051019475013, 0.8311693286344598, -0.12892638840714116, -0.3223623657442055, -0.2651621978066173, 0.5751051482978644, -1.5954080823970926, 0.35868808673820946, 2.472151302817571, 0.262160516152913, -0.34492136425427206, 2.642740897818084, 0.41347183169097945, 1.4222362844595409, 1.0478656163489362, -1.4989625631723997, -1.1573817060636589, -0.1902543592584037, -1.5924763685255088, -0.04356499912556374, -0.32646573064441586, 1.4195081126291589, 1.3506300184179498, -1.8861410729263206, 0.6078372185494824, 0.5896587847914512, -1.8647497848327925, 0.16162438429861858, 0.6426130692999505, 1.7639945077246302, 0.7761834037906911, 0.421145954098237, 0.1854040095139653, 0.9429598683866964, -0.7099509267598096, -1.7564388380669502, 1.3881239407102857, -1.3120206969144075, -1.2360995942787971, -0.10177615060000193, 1.207999550088633, 0.11356010121118484, -0.13811616381196112, 1.3505494572062853, 1.0177776805673846, -1.4837634818277279, -0.6319011207391553, 0.20812478489292638, -0.08134859369177261, -0.7277076405660484, 0.840470334848689, -1.7870213204890557, 0.03588632950819402, -0.3733539244362292, 0.43292408303107593, -0.5686082275326253, -0.6758945175654862, -0.6070459436824658, 1.1050416756450765, -0.059510924986301804, 0.8447858158747069, 0.499972993569185, -0.13434501044250866, -1.8070564697994906, -1.714991039757765, -0.3751013035128291, 1.0953223101313094, -1.4369805212753772, 0.39107212877171116, -0.2516191386082863, 0.22228696010046495, 0.1725199646415227, -1.050096031944785, 0.5061413187280068, -0.12351473087442927, -0.7146092641508545, 0.4954838312980374, 1.3551362084378633, 0.9634550093677506, 1.0479339303158377, 1.059923568234994, -0.7117493946644667, -1.0699478167895864, -0.2362919262806339, 1.403646945157495, 0.28071705389078044, -0.15182662408610997, 0.17489614347413823, -0.9742686872933056, 0.1786922050680465, -0.6273672164757751, -0.4488967123079796, -1.4551355833120438, -1.0757746516273758]}, {\"marker\": {\"color\": \"rgba(50, 171, 96, 0.6)\", \"line\": {\"color\": \"rgba(50, 171, 96, 1.0)\", \"width\": 1}}, \"name\": \"C\", \"orientation\": \"v\", \"text\": \"\", \"type\": \"bar\", \"x\": [0, 1, 2, 3, 4, 5, 6, 7, 8, 9, 10, 11, 12, 13, 14, 15, 16, 17, 18, 19, 20, 21, 22, 23, 24, 25, 26, 27, 28, 29, 30, 31, 32, 33, 34, 35, 36, 37, 38, 39, 40, 41, 42, 43, 44, 45, 46, 47, 48, 49, 50, 51, 52, 53, 54, 55, 56, 57, 58, 59, 60, 61, 62, 63, 64, 65, 66, 67, 68, 69, 70, 71, 72, 73, 74, 75, 76, 77, 78, 79, 80, 81, 82, 83, 84, 85, 86, 87, 88, 89, 90, 91, 92, 93, 94, 95, 96, 97, 98, 99], \"y\": [-2.3073638620301433, -0.9962041490678315, 1.3208116314786846, -0.025390771166009407, -0.9648363933317966, 0.24326610193825265, 0.7833001534921529, -0.8663752013312572, 0.28426532861252757, 1.8525904754774485, 0.5164054496741013, 1.2303099931032626, 0.5360513363234279, 0.7314049395469593, -0.05158527579854278, -0.5217391984873557, 0.6011760081316192, 0.09789419963031891, -0.4874882753947355, -0.2989607053704855, 0.9383987116683369, -0.29624269819989724, -3.0132871456839267, -0.2600934938003665, -0.5169579690827044, -0.8119315582610903, -0.34731928941074086, -1.820136372657824, 1.2256674920965915, -1.5566391864661864, -0.06809802410845756, -0.2871133753382355, 0.9244116752222192, -0.6759585741687546, -0.6744735212611921, -1.6040426177574216, 1.2850611144199247, 0.8279989883462856, -0.2878489752861659, -0.23566306928665398, 1.3076158299163698, -1.6401124481321587, 0.546773763745836, 0.2763863222089421, 0.1382460666083625, 0.34761977999188315, 0.18678832068275122, -0.7826894546849915, -0.22804525413889637, -0.27774414758352944, -0.679220647452501, -0.5321792137613572, -1.1818314843254512, -0.24222642777041425, 0.2594990627819901, 1.6806485495058059, 1.2494555826282385, 1.7561180265516112, -0.18337912849127272, 0.1986178157101335, 1.1144016939165797, -1.1232355481853946, 0.3312435482633644, -0.5356280710427399, -0.3475497394030127, 1.3188617574462058, -0.03536711573532913, 0.8809219197152772, 0.0944716655023659, 0.4550279458603338, 1.8136067916398246, -0.18360533019846725, -0.23021685288304736, 0.3406496620591469, 1.4145557922085121, 0.5315204905167306, -1.640263959883622, -1.0955524713900873, -1.4774176081870156, -0.33843055481629236, 0.07218683504377033, -1.3554867431755546, -0.24673020354673178, -1.826836764908707, -0.5894495017125044, -1.5883001645521029, 1.9347900221285799, 0.9264335949306093, -0.19619855277123432, 1.311730305133455, -0.005833191408164211, -0.15789828864743358, 0.1270696407524092, 1.6577163232652115, -0.05443421620407633, 1.2837041675848508, 0.5593938838023739, -1.5122145518614358, -1.3051058219297798, -0.09372562766382454]}, {\"marker\": {\"color\": \"rgba(128, 0, 128, 0.6)\", \"line\": {\"color\": \"rgba(128, 0, 128, 1.0)\", \"width\": 1}}, \"name\": \"D\", \"orientation\": \"v\", \"text\": \"\", \"type\": \"bar\", \"x\": [0, 1, 2, 3, 4, 5, 6, 7, 8, 9, 10, 11, 12, 13, 14, 15, 16, 17, 18, 19, 20, 21, 22, 23, 24, 25, 26, 27, 28, 29, 30, 31, 32, 33, 34, 35, 36, 37, 38, 39, 40, 41, 42, 43, 44, 45, 46, 47, 48, 49, 50, 51, 52, 53, 54, 55, 56, 57, 58, 59, 60, 61, 62, 63, 64, 65, 66, 67, 68, 69, 70, 71, 72, 73, 74, 75, 76, 77, 78, 79, 80, 81, 82, 83, 84, 85, 86, 87, 88, 89, 90, 91, 92, 93, 94, 95, 96, 97, 98, 99], \"y\": [0.49209094387433777, 0.9062738969829228, 0.17329610259510156, -0.10736420792233334, 0.6105223392819806, -1.691053205670486, 1.728568659259317, -1.2008015945078236, -1.9179174593378803, -0.3579727607746801, 1.1705371096116617, 0.47667608570186953, 0.4776399709111016, -0.9461143733421219, -0.4131117792381057, -1.1115425891296822, 1.2860346537356238, 0.3271027808073432, 0.5159953352965916, 0.27729083117100445, 0.7752711293926082, 0.7312747438193341, 1.2198693462173729, 0.6601897806334215, -1.1484082051607591, -0.3601506624529033, 0.21892965155005714, -0.7446991443981005, -1.6010064110796367, 1.3027877160597294, 2.637352783614263, -1.164496585131879, -0.7988405568663156, 0.11240713416388613, 1.048160908681509, 0.5619149248158571, 0.06147046441390483, -0.5124104027274924, 1.0115304797672606, -1.0608392192028855, -0.1749354641614772, 0.6544231807132385, -0.2380150085031945, -1.0382675925006104, -0.9786969318035704, 0.9353387685518132, 0.6186048691727825, -1.051367316882182, 0.5481837683884434, 1.0869489723875991, -0.8276597485186798, -1.1423774236881996, -0.5987684068731174, 2.262905971559901, 0.8269721442349901, -1.3517187768902508, 0.3046845694376493, -1.5691671988994118, -1.6147450747653498, 0.9385118541776004, 1.3772116111856814, -0.3887872739543808, -0.04981835019742325, 0.49369312086794365, 1.6798331571822096, 1.0567192540587917, 0.47869354866514785, -1.24362767645016, 0.3188194983492261, 0.6847930611588089, 0.357196047620388, -1.0419965151392447, 0.2547774715058307, -0.29597959868541857, -0.6981530674093167, -0.07526311848588445, -0.18163384482479397, 0.31075032419206056, -0.19408849419085747, 1.5738822461027282, -0.08032086069342659, 1.059622216455474, -1.320266007365862, 1.8918701425077586, 0.28571864790101287, 1.8446892555185024, -1.045913687048723, -0.39532679311263735, -0.7580947693260994, -0.247466127162814, 1.210722428462035, -1.4024327566377963, 0.5632509162805431, -0.13694559351436295, -0.08578184302281991, 0.7981344850479162, -1.7176037255632028, 1.9520742819822292, -0.3330151467131199, 0.027219819562331278]}],\n",
       "                        {\"legend\": {\"bgcolor\": \"#F5F6F9\", \"font\": {\"color\": \"#4D5663\"}}, \"paper_bgcolor\": \"#F5F6F9\", \"plot_bgcolor\": \"#F5F6F9\", \"template\": {\"data\": {\"bar\": [{\"error_x\": {\"color\": \"#2a3f5f\"}, \"error_y\": {\"color\": \"#2a3f5f\"}, \"marker\": {\"line\": {\"color\": \"#E5ECF6\", \"width\": 0.5}}, \"type\": \"bar\"}], \"barpolar\": [{\"marker\": {\"line\": {\"color\": \"#E5ECF6\", \"width\": 0.5}}, \"type\": \"barpolar\"}], \"carpet\": [{\"aaxis\": {\"endlinecolor\": \"#2a3f5f\", \"gridcolor\": \"white\", \"linecolor\": \"white\", \"minorgridcolor\": \"white\", \"startlinecolor\": \"#2a3f5f\"}, \"baxis\": {\"endlinecolor\": \"#2a3f5f\", \"gridcolor\": \"white\", \"linecolor\": \"white\", \"minorgridcolor\": \"white\", \"startlinecolor\": \"#2a3f5f\"}, \"type\": \"carpet\"}], \"choropleth\": [{\"colorbar\": {\"outlinewidth\": 0, \"ticks\": \"\"}, \"type\": \"choropleth\"}], \"contour\": [{\"colorbar\": {\"outlinewidth\": 0, \"ticks\": \"\"}, \"colorscale\": [[0.0, \"#0d0887\"], [0.1111111111111111, \"#46039f\"], [0.2222222222222222, \"#7201a8\"], [0.3333333333333333, \"#9c179e\"], [0.4444444444444444, \"#bd3786\"], [0.5555555555555556, \"#d8576b\"], [0.6666666666666666, \"#ed7953\"], [0.7777777777777778, \"#fb9f3a\"], [0.8888888888888888, \"#fdca26\"], [1.0, \"#f0f921\"]], \"type\": \"contour\"}], \"contourcarpet\": [{\"colorbar\": {\"outlinewidth\": 0, \"ticks\": \"\"}, \"type\": \"contourcarpet\"}], \"heatmap\": [{\"colorbar\": {\"outlinewidth\": 0, \"ticks\": \"\"}, \"colorscale\": [[0.0, \"#0d0887\"], [0.1111111111111111, \"#46039f\"], [0.2222222222222222, \"#7201a8\"], [0.3333333333333333, \"#9c179e\"], [0.4444444444444444, \"#bd3786\"], [0.5555555555555556, \"#d8576b\"], [0.6666666666666666, \"#ed7953\"], [0.7777777777777778, \"#fb9f3a\"], [0.8888888888888888, \"#fdca26\"], [1.0, \"#f0f921\"]], \"type\": \"heatmap\"}], \"heatmapgl\": [{\"colorbar\": {\"outlinewidth\": 0, \"ticks\": \"\"}, \"colorscale\": [[0.0, \"#0d0887\"], [0.1111111111111111, \"#46039f\"], [0.2222222222222222, \"#7201a8\"], [0.3333333333333333, \"#9c179e\"], [0.4444444444444444, \"#bd3786\"], [0.5555555555555556, \"#d8576b\"], [0.6666666666666666, \"#ed7953\"], [0.7777777777777778, \"#fb9f3a\"], [0.8888888888888888, \"#fdca26\"], [1.0, \"#f0f921\"]], \"type\": \"heatmapgl\"}], \"histogram\": [{\"marker\": {\"colorbar\": {\"outlinewidth\": 0, \"ticks\": \"\"}}, \"type\": \"histogram\"}], \"histogram2d\": [{\"colorbar\": {\"outlinewidth\": 0, \"ticks\": \"\"}, \"colorscale\": [[0.0, \"#0d0887\"], [0.1111111111111111, \"#46039f\"], [0.2222222222222222, \"#7201a8\"], [0.3333333333333333, \"#9c179e\"], [0.4444444444444444, \"#bd3786\"], [0.5555555555555556, \"#d8576b\"], [0.6666666666666666, \"#ed7953\"], [0.7777777777777778, \"#fb9f3a\"], [0.8888888888888888, \"#fdca26\"], [1.0, \"#f0f921\"]], \"type\": \"histogram2d\"}], \"histogram2dcontour\": [{\"colorbar\": {\"outlinewidth\": 0, \"ticks\": \"\"}, \"colorscale\": [[0.0, \"#0d0887\"], [0.1111111111111111, \"#46039f\"], [0.2222222222222222, \"#7201a8\"], [0.3333333333333333, \"#9c179e\"], [0.4444444444444444, \"#bd3786\"], [0.5555555555555556, \"#d8576b\"], [0.6666666666666666, \"#ed7953\"], [0.7777777777777778, \"#fb9f3a\"], [0.8888888888888888, \"#fdca26\"], [1.0, \"#f0f921\"]], \"type\": \"histogram2dcontour\"}], \"mesh3d\": [{\"colorbar\": {\"outlinewidth\": 0, \"ticks\": \"\"}, \"type\": \"mesh3d\"}], \"parcoords\": [{\"line\": {\"colorbar\": {\"outlinewidth\": 0, \"ticks\": \"\"}}, \"type\": \"parcoords\"}], \"pie\": [{\"automargin\": true, \"type\": \"pie\"}], \"scatter\": [{\"marker\": {\"colorbar\": {\"outlinewidth\": 0, \"ticks\": \"\"}}, \"type\": \"scatter\"}], \"scatter3d\": [{\"line\": {\"colorbar\": {\"outlinewidth\": 0, \"ticks\": \"\"}}, \"marker\": {\"colorbar\": {\"outlinewidth\": 0, \"ticks\": \"\"}}, \"type\": \"scatter3d\"}], \"scattercarpet\": [{\"marker\": {\"colorbar\": {\"outlinewidth\": 0, \"ticks\": \"\"}}, \"type\": \"scattercarpet\"}], \"scattergeo\": [{\"marker\": {\"colorbar\": {\"outlinewidth\": 0, \"ticks\": \"\"}}, \"type\": \"scattergeo\"}], \"scattergl\": [{\"marker\": {\"colorbar\": {\"outlinewidth\": 0, \"ticks\": \"\"}}, \"type\": \"scattergl\"}], \"scattermapbox\": [{\"marker\": {\"colorbar\": {\"outlinewidth\": 0, \"ticks\": \"\"}}, \"type\": \"scattermapbox\"}], \"scatterpolar\": [{\"marker\": {\"colorbar\": {\"outlinewidth\": 0, \"ticks\": \"\"}}, \"type\": \"scatterpolar\"}], \"scatterpolargl\": [{\"marker\": {\"colorbar\": {\"outlinewidth\": 0, \"ticks\": \"\"}}, \"type\": \"scatterpolargl\"}], \"scatterternary\": [{\"marker\": {\"colorbar\": {\"outlinewidth\": 0, \"ticks\": \"\"}}, \"type\": \"scatterternary\"}], \"surface\": [{\"colorbar\": {\"outlinewidth\": 0, \"ticks\": \"\"}, \"colorscale\": [[0.0, \"#0d0887\"], [0.1111111111111111, \"#46039f\"], [0.2222222222222222, \"#7201a8\"], [0.3333333333333333, \"#9c179e\"], [0.4444444444444444, \"#bd3786\"], [0.5555555555555556, \"#d8576b\"], [0.6666666666666666, \"#ed7953\"], [0.7777777777777778, \"#fb9f3a\"], [0.8888888888888888, \"#fdca26\"], [1.0, \"#f0f921\"]], \"type\": \"surface\"}], \"table\": [{\"cells\": {\"fill\": {\"color\": \"#EBF0F8\"}, \"line\": {\"color\": \"white\"}}, \"header\": {\"fill\": {\"color\": \"#C8D4E3\"}, \"line\": {\"color\": \"white\"}}, \"type\": \"table\"}]}, \"layout\": {\"annotationdefaults\": {\"arrowcolor\": \"#2a3f5f\", \"arrowhead\": 0, \"arrowwidth\": 1}, \"coloraxis\": {\"colorbar\": {\"outlinewidth\": 0, \"ticks\": \"\"}}, \"colorscale\": {\"diverging\": [[0, \"#8e0152\"], [0.1, \"#c51b7d\"], [0.2, \"#de77ae\"], [0.3, \"#f1b6da\"], [0.4, \"#fde0ef\"], [0.5, \"#f7f7f7\"], [0.6, \"#e6f5d0\"], [0.7, \"#b8e186\"], [0.8, \"#7fbc41\"], [0.9, \"#4d9221\"], [1, \"#276419\"]], \"sequential\": [[0.0, \"#0d0887\"], [0.1111111111111111, \"#46039f\"], [0.2222222222222222, \"#7201a8\"], [0.3333333333333333, \"#9c179e\"], [0.4444444444444444, \"#bd3786\"], [0.5555555555555556, \"#d8576b\"], [0.6666666666666666, \"#ed7953\"], [0.7777777777777778, \"#fb9f3a\"], [0.8888888888888888, \"#fdca26\"], [1.0, \"#f0f921\"]], \"sequentialminus\": [[0.0, \"#0d0887\"], [0.1111111111111111, \"#46039f\"], [0.2222222222222222, \"#7201a8\"], [0.3333333333333333, \"#9c179e\"], [0.4444444444444444, \"#bd3786\"], [0.5555555555555556, \"#d8576b\"], [0.6666666666666666, \"#ed7953\"], [0.7777777777777778, \"#fb9f3a\"], [0.8888888888888888, \"#fdca26\"], [1.0, \"#f0f921\"]]}, \"colorway\": [\"#636efa\", \"#EF553B\", \"#00cc96\", \"#ab63fa\", \"#FFA15A\", \"#19d3f3\", \"#FF6692\", \"#B6E880\", \"#FF97FF\", \"#FECB52\"], \"font\": {\"color\": \"#2a3f5f\"}, \"geo\": {\"bgcolor\": \"white\", \"lakecolor\": \"white\", \"landcolor\": \"#E5ECF6\", \"showlakes\": true, \"showland\": true, \"subunitcolor\": \"white\"}, \"hoverlabel\": {\"align\": \"left\"}, \"hovermode\": \"closest\", \"mapbox\": {\"style\": \"light\"}, \"paper_bgcolor\": \"white\", \"plot_bgcolor\": \"#E5ECF6\", \"polar\": {\"angularaxis\": {\"gridcolor\": \"white\", \"linecolor\": \"white\", \"ticks\": \"\"}, \"bgcolor\": \"#E5ECF6\", \"radialaxis\": {\"gridcolor\": \"white\", \"linecolor\": \"white\", \"ticks\": \"\"}}, \"scene\": {\"xaxis\": {\"backgroundcolor\": \"#E5ECF6\", \"gridcolor\": \"white\", \"gridwidth\": 2, \"linecolor\": \"white\", \"showbackground\": true, \"ticks\": \"\", \"zerolinecolor\": \"white\"}, \"yaxis\": {\"backgroundcolor\": \"#E5ECF6\", \"gridcolor\": \"white\", \"gridwidth\": 2, \"linecolor\": \"white\", \"showbackground\": true, \"ticks\": \"\", \"zerolinecolor\": \"white\"}, \"zaxis\": {\"backgroundcolor\": \"#E5ECF6\", \"gridcolor\": \"white\", \"gridwidth\": 2, \"linecolor\": \"white\", \"showbackground\": true, \"ticks\": \"\", \"zerolinecolor\": \"white\"}}, \"shapedefaults\": {\"line\": {\"color\": \"#2a3f5f\"}}, \"ternary\": {\"aaxis\": {\"gridcolor\": \"white\", \"linecolor\": \"white\", \"ticks\": \"\"}, \"baxis\": {\"gridcolor\": \"white\", \"linecolor\": \"white\", \"ticks\": \"\"}, \"bgcolor\": \"#E5ECF6\", \"caxis\": {\"gridcolor\": \"white\", \"linecolor\": \"white\", \"ticks\": \"\"}}, \"title\": {\"x\": 0.05}, \"xaxis\": {\"automargin\": true, \"gridcolor\": \"white\", \"linecolor\": \"white\", \"ticks\": \"\", \"title\": {\"standoff\": 15}, \"zerolinecolor\": \"white\", \"zerolinewidth\": 2}, \"yaxis\": {\"automargin\": true, \"gridcolor\": \"white\", \"linecolor\": \"white\", \"ticks\": \"\", \"title\": {\"standoff\": 15}, \"zerolinecolor\": \"white\", \"zerolinewidth\": 2}}}, \"title\": {\"font\": {\"color\": \"#4D5663\"}}, \"xaxis\": {\"gridcolor\": \"#E1E5ED\", \"showgrid\": true, \"tickfont\": {\"color\": \"#4D5663\"}, \"title\": {\"font\": {\"color\": \"#4D5663\"}, \"text\": \"\"}, \"zerolinecolor\": \"#E1E5ED\"}, \"yaxis\": {\"gridcolor\": \"#E1E5ED\", \"showgrid\": true, \"tickfont\": {\"color\": \"#4D5663\"}, \"title\": {\"font\": {\"color\": \"#4D5663\"}, \"text\": \"\"}, \"zerolinecolor\": \"#E1E5ED\"}},\n",
       "                        {\"showLink\": true, \"linkText\": \"Export to plot.ly\", \"plotlyServerURL\": \"https://plot.ly\", \"responsive\": true}\n",
       "                    ).then(function(){\n",
       "                            \n",
       "var gd = document.getElementById('f8c4e950-34e0-4f73-8a79-9819276c610c');\n",
       "var x = new MutationObserver(function (mutations, observer) {{\n",
       "        var display = window.getComputedStyle(gd).display;\n",
       "        if (!display || display === 'none') {{\n",
       "            console.log([gd, 'removed!']);\n",
       "            Plotly.purge(gd);\n",
       "            observer.disconnect();\n",
       "        }}\n",
       "}});\n",
       "\n",
       "// Listen for the removal of the full notebook cells\n",
       "var notebookContainer = gd.closest('#notebook-container');\n",
       "if (notebookContainer) {{\n",
       "    x.observe(notebookContainer, {childList: true});\n",
       "}}\n",
       "\n",
       "// Listen for the clearing of the current output cell\n",
       "var outputEl = gd.closest('.output');\n",
       "if (outputEl) {{\n",
       "    x.observe(outputEl, {childList: true});\n",
       "}}\n",
       "\n",
       "                        })\n",
       "                };\n",
       "                });\n",
       "            </script>\n",
       "        </div>"
      ]
     },
     "metadata": {},
     "output_type": "display_data"
    }
   ],
   "source": [
    "df.iplot(kind='bar')\n",
    "#bunch of bar for every plot"
   ]
  },
  {
   "cell_type": "code",
   "execution_count": 17,
   "metadata": {},
   "outputs": [
    {
     "data": {
      "application/vnd.plotly.v1+json": {
       "config": {
        "linkText": "Export to plot.ly",
        "plotlyServerURL": "https://plot.ly",
        "showLink": true
       },
       "data": [
        {
         "marker": {
          "color": "rgba(255, 153, 51, 0.6)",
          "line": {
           "color": "rgba(255, 153, 51, 1.0)",
           "width": 1
          }
         },
         "name": "None",
         "orientation": "v",
         "text": "",
         "type": "bar",
         "x": [
          "A",
          "B",
          "C",
          "D"
         ],
         "y": [
          100,
          100,
          100,
          100
         ]
        }
       ],
       "layout": {
        "legend": {
         "bgcolor": "#F5F6F9",
         "font": {
          "color": "#4D5663"
         }
        },
        "paper_bgcolor": "#F5F6F9",
        "plot_bgcolor": "#F5F6F9",
        "template": {
         "data": {
          "bar": [
           {
            "error_x": {
             "color": "#2a3f5f"
            },
            "error_y": {
             "color": "#2a3f5f"
            },
            "marker": {
             "line": {
              "color": "#E5ECF6",
              "width": 0.5
             }
            },
            "type": "bar"
           }
          ],
          "barpolar": [
           {
            "marker": {
             "line": {
              "color": "#E5ECF6",
              "width": 0.5
             }
            },
            "type": "barpolar"
           }
          ],
          "carpet": [
           {
            "aaxis": {
             "endlinecolor": "#2a3f5f",
             "gridcolor": "white",
             "linecolor": "white",
             "minorgridcolor": "white",
             "startlinecolor": "#2a3f5f"
            },
            "baxis": {
             "endlinecolor": "#2a3f5f",
             "gridcolor": "white",
             "linecolor": "white",
             "minorgridcolor": "white",
             "startlinecolor": "#2a3f5f"
            },
            "type": "carpet"
           }
          ],
          "choropleth": [
           {
            "colorbar": {
             "outlinewidth": 0,
             "ticks": ""
            },
            "type": "choropleth"
           }
          ],
          "contour": [
           {
            "colorbar": {
             "outlinewidth": 0,
             "ticks": ""
            },
            "colorscale": [
             [
              0,
              "#0d0887"
             ],
             [
              0.1111111111111111,
              "#46039f"
             ],
             [
              0.2222222222222222,
              "#7201a8"
             ],
             [
              0.3333333333333333,
              "#9c179e"
             ],
             [
              0.4444444444444444,
              "#bd3786"
             ],
             [
              0.5555555555555556,
              "#d8576b"
             ],
             [
              0.6666666666666666,
              "#ed7953"
             ],
             [
              0.7777777777777778,
              "#fb9f3a"
             ],
             [
              0.8888888888888888,
              "#fdca26"
             ],
             [
              1,
              "#f0f921"
             ]
            ],
            "type": "contour"
           }
          ],
          "contourcarpet": [
           {
            "colorbar": {
             "outlinewidth": 0,
             "ticks": ""
            },
            "type": "contourcarpet"
           }
          ],
          "heatmap": [
           {
            "colorbar": {
             "outlinewidth": 0,
             "ticks": ""
            },
            "colorscale": [
             [
              0,
              "#0d0887"
             ],
             [
              0.1111111111111111,
              "#46039f"
             ],
             [
              0.2222222222222222,
              "#7201a8"
             ],
             [
              0.3333333333333333,
              "#9c179e"
             ],
             [
              0.4444444444444444,
              "#bd3786"
             ],
             [
              0.5555555555555556,
              "#d8576b"
             ],
             [
              0.6666666666666666,
              "#ed7953"
             ],
             [
              0.7777777777777778,
              "#fb9f3a"
             ],
             [
              0.8888888888888888,
              "#fdca26"
             ],
             [
              1,
              "#f0f921"
             ]
            ],
            "type": "heatmap"
           }
          ],
          "heatmapgl": [
           {
            "colorbar": {
             "outlinewidth": 0,
             "ticks": ""
            },
            "colorscale": [
             [
              0,
              "#0d0887"
             ],
             [
              0.1111111111111111,
              "#46039f"
             ],
             [
              0.2222222222222222,
              "#7201a8"
             ],
             [
              0.3333333333333333,
              "#9c179e"
             ],
             [
              0.4444444444444444,
              "#bd3786"
             ],
             [
              0.5555555555555556,
              "#d8576b"
             ],
             [
              0.6666666666666666,
              "#ed7953"
             ],
             [
              0.7777777777777778,
              "#fb9f3a"
             ],
             [
              0.8888888888888888,
              "#fdca26"
             ],
             [
              1,
              "#f0f921"
             ]
            ],
            "type": "heatmapgl"
           }
          ],
          "histogram": [
           {
            "marker": {
             "colorbar": {
              "outlinewidth": 0,
              "ticks": ""
             }
            },
            "type": "histogram"
           }
          ],
          "histogram2d": [
           {
            "colorbar": {
             "outlinewidth": 0,
             "ticks": ""
            },
            "colorscale": [
             [
              0,
              "#0d0887"
             ],
             [
              0.1111111111111111,
              "#46039f"
             ],
             [
              0.2222222222222222,
              "#7201a8"
             ],
             [
              0.3333333333333333,
              "#9c179e"
             ],
             [
              0.4444444444444444,
              "#bd3786"
             ],
             [
              0.5555555555555556,
              "#d8576b"
             ],
             [
              0.6666666666666666,
              "#ed7953"
             ],
             [
              0.7777777777777778,
              "#fb9f3a"
             ],
             [
              0.8888888888888888,
              "#fdca26"
             ],
             [
              1,
              "#f0f921"
             ]
            ],
            "type": "histogram2d"
           }
          ],
          "histogram2dcontour": [
           {
            "colorbar": {
             "outlinewidth": 0,
             "ticks": ""
            },
            "colorscale": [
             [
              0,
              "#0d0887"
             ],
             [
              0.1111111111111111,
              "#46039f"
             ],
             [
              0.2222222222222222,
              "#7201a8"
             ],
             [
              0.3333333333333333,
              "#9c179e"
             ],
             [
              0.4444444444444444,
              "#bd3786"
             ],
             [
              0.5555555555555556,
              "#d8576b"
             ],
             [
              0.6666666666666666,
              "#ed7953"
             ],
             [
              0.7777777777777778,
              "#fb9f3a"
             ],
             [
              0.8888888888888888,
              "#fdca26"
             ],
             [
              1,
              "#f0f921"
             ]
            ],
            "type": "histogram2dcontour"
           }
          ],
          "mesh3d": [
           {
            "colorbar": {
             "outlinewidth": 0,
             "ticks": ""
            },
            "type": "mesh3d"
           }
          ],
          "parcoords": [
           {
            "line": {
             "colorbar": {
              "outlinewidth": 0,
              "ticks": ""
             }
            },
            "type": "parcoords"
           }
          ],
          "pie": [
           {
            "automargin": true,
            "type": "pie"
           }
          ],
          "scatter": [
           {
            "marker": {
             "colorbar": {
              "outlinewidth": 0,
              "ticks": ""
             }
            },
            "type": "scatter"
           }
          ],
          "scatter3d": [
           {
            "line": {
             "colorbar": {
              "outlinewidth": 0,
              "ticks": ""
             }
            },
            "marker": {
             "colorbar": {
              "outlinewidth": 0,
              "ticks": ""
             }
            },
            "type": "scatter3d"
           }
          ],
          "scattercarpet": [
           {
            "marker": {
             "colorbar": {
              "outlinewidth": 0,
              "ticks": ""
             }
            },
            "type": "scattercarpet"
           }
          ],
          "scattergeo": [
           {
            "marker": {
             "colorbar": {
              "outlinewidth": 0,
              "ticks": ""
             }
            },
            "type": "scattergeo"
           }
          ],
          "scattergl": [
           {
            "marker": {
             "colorbar": {
              "outlinewidth": 0,
              "ticks": ""
             }
            },
            "type": "scattergl"
           }
          ],
          "scattermapbox": [
           {
            "marker": {
             "colorbar": {
              "outlinewidth": 0,
              "ticks": ""
             }
            },
            "type": "scattermapbox"
           }
          ],
          "scatterpolar": [
           {
            "marker": {
             "colorbar": {
              "outlinewidth": 0,
              "ticks": ""
             }
            },
            "type": "scatterpolar"
           }
          ],
          "scatterpolargl": [
           {
            "marker": {
             "colorbar": {
              "outlinewidth": 0,
              "ticks": ""
             }
            },
            "type": "scatterpolargl"
           }
          ],
          "scatterternary": [
           {
            "marker": {
             "colorbar": {
              "outlinewidth": 0,
              "ticks": ""
             }
            },
            "type": "scatterternary"
           }
          ],
          "surface": [
           {
            "colorbar": {
             "outlinewidth": 0,
             "ticks": ""
            },
            "colorscale": [
             [
              0,
              "#0d0887"
             ],
             [
              0.1111111111111111,
              "#46039f"
             ],
             [
              0.2222222222222222,
              "#7201a8"
             ],
             [
              0.3333333333333333,
              "#9c179e"
             ],
             [
              0.4444444444444444,
              "#bd3786"
             ],
             [
              0.5555555555555556,
              "#d8576b"
             ],
             [
              0.6666666666666666,
              "#ed7953"
             ],
             [
              0.7777777777777778,
              "#fb9f3a"
             ],
             [
              0.8888888888888888,
              "#fdca26"
             ],
             [
              1,
              "#f0f921"
             ]
            ],
            "type": "surface"
           }
          ],
          "table": [
           {
            "cells": {
             "fill": {
              "color": "#EBF0F8"
             },
             "line": {
              "color": "white"
             }
            },
            "header": {
             "fill": {
              "color": "#C8D4E3"
             },
             "line": {
              "color": "white"
             }
            },
            "type": "table"
           }
          ]
         },
         "layout": {
          "annotationdefaults": {
           "arrowcolor": "#2a3f5f",
           "arrowhead": 0,
           "arrowwidth": 1
          },
          "coloraxis": {
           "colorbar": {
            "outlinewidth": 0,
            "ticks": ""
           }
          },
          "colorscale": {
           "diverging": [
            [
             0,
             "#8e0152"
            ],
            [
             0.1,
             "#c51b7d"
            ],
            [
             0.2,
             "#de77ae"
            ],
            [
             0.3,
             "#f1b6da"
            ],
            [
             0.4,
             "#fde0ef"
            ],
            [
             0.5,
             "#f7f7f7"
            ],
            [
             0.6,
             "#e6f5d0"
            ],
            [
             0.7,
             "#b8e186"
            ],
            [
             0.8,
             "#7fbc41"
            ],
            [
             0.9,
             "#4d9221"
            ],
            [
             1,
             "#276419"
            ]
           ],
           "sequential": [
            [
             0,
             "#0d0887"
            ],
            [
             0.1111111111111111,
             "#46039f"
            ],
            [
             0.2222222222222222,
             "#7201a8"
            ],
            [
             0.3333333333333333,
             "#9c179e"
            ],
            [
             0.4444444444444444,
             "#bd3786"
            ],
            [
             0.5555555555555556,
             "#d8576b"
            ],
            [
             0.6666666666666666,
             "#ed7953"
            ],
            [
             0.7777777777777778,
             "#fb9f3a"
            ],
            [
             0.8888888888888888,
             "#fdca26"
            ],
            [
             1,
             "#f0f921"
            ]
           ],
           "sequentialminus": [
            [
             0,
             "#0d0887"
            ],
            [
             0.1111111111111111,
             "#46039f"
            ],
            [
             0.2222222222222222,
             "#7201a8"
            ],
            [
             0.3333333333333333,
             "#9c179e"
            ],
            [
             0.4444444444444444,
             "#bd3786"
            ],
            [
             0.5555555555555556,
             "#d8576b"
            ],
            [
             0.6666666666666666,
             "#ed7953"
            ],
            [
             0.7777777777777778,
             "#fb9f3a"
            ],
            [
             0.8888888888888888,
             "#fdca26"
            ],
            [
             1,
             "#f0f921"
            ]
           ]
          },
          "colorway": [
           "#636efa",
           "#EF553B",
           "#00cc96",
           "#ab63fa",
           "#FFA15A",
           "#19d3f3",
           "#FF6692",
           "#B6E880",
           "#FF97FF",
           "#FECB52"
          ],
          "font": {
           "color": "#2a3f5f"
          },
          "geo": {
           "bgcolor": "white",
           "lakecolor": "white",
           "landcolor": "#E5ECF6",
           "showlakes": true,
           "showland": true,
           "subunitcolor": "white"
          },
          "hoverlabel": {
           "align": "left"
          },
          "hovermode": "closest",
          "mapbox": {
           "style": "light"
          },
          "paper_bgcolor": "white",
          "plot_bgcolor": "#E5ECF6",
          "polar": {
           "angularaxis": {
            "gridcolor": "white",
            "linecolor": "white",
            "ticks": ""
           },
           "bgcolor": "#E5ECF6",
           "radialaxis": {
            "gridcolor": "white",
            "linecolor": "white",
            "ticks": ""
           }
          },
          "scene": {
           "xaxis": {
            "backgroundcolor": "#E5ECF6",
            "gridcolor": "white",
            "gridwidth": 2,
            "linecolor": "white",
            "showbackground": true,
            "ticks": "",
            "zerolinecolor": "white"
           },
           "yaxis": {
            "backgroundcolor": "#E5ECF6",
            "gridcolor": "white",
            "gridwidth": 2,
            "linecolor": "white",
            "showbackground": true,
            "ticks": "",
            "zerolinecolor": "white"
           },
           "zaxis": {
            "backgroundcolor": "#E5ECF6",
            "gridcolor": "white",
            "gridwidth": 2,
            "linecolor": "white",
            "showbackground": true,
            "ticks": "",
            "zerolinecolor": "white"
           }
          },
          "shapedefaults": {
           "line": {
            "color": "#2a3f5f"
           }
          },
          "ternary": {
           "aaxis": {
            "gridcolor": "white",
            "linecolor": "white",
            "ticks": ""
           },
           "baxis": {
            "gridcolor": "white",
            "linecolor": "white",
            "ticks": ""
           },
           "bgcolor": "#E5ECF6",
           "caxis": {
            "gridcolor": "white",
            "linecolor": "white",
            "ticks": ""
           }
          },
          "title": {
           "x": 0.05
          },
          "xaxis": {
           "automargin": true,
           "gridcolor": "white",
           "linecolor": "white",
           "ticks": "",
           "title": {
            "standoff": 15
           },
           "zerolinecolor": "white",
           "zerolinewidth": 2
          },
          "yaxis": {
           "automargin": true,
           "gridcolor": "white",
           "linecolor": "white",
           "ticks": "",
           "title": {
            "standoff": 15
           },
           "zerolinecolor": "white",
           "zerolinewidth": 2
          }
         }
        },
        "title": {
         "font": {
          "color": "#4D5663"
         }
        },
        "xaxis": {
         "gridcolor": "#E1E5ED",
         "showgrid": true,
         "tickfont": {
          "color": "#4D5663"
         },
         "title": {
          "font": {
           "color": "#4D5663"
          },
          "text": ""
         },
         "zerolinecolor": "#E1E5ED"
        },
        "yaxis": {
         "gridcolor": "#E1E5ED",
         "showgrid": true,
         "tickfont": {
          "color": "#4D5663"
         },
         "title": {
          "font": {
           "color": "#4D5663"
          },
          "text": ""
         },
         "zerolinecolor": "#E1E5ED"
        }
       }
      },
      "text/html": [
       "<div>\n",
       "        \n",
       "        \n",
       "            <div id=\"db0f1935-fee4-4a9b-94df-4e42b0ca4314\" class=\"plotly-graph-div\" style=\"height:525px; width:100%;\"></div>\n",
       "            <script type=\"text/javascript\">\n",
       "                require([\"plotly\"], function(Plotly) {\n",
       "                    window.PLOTLYENV=window.PLOTLYENV || {};\n",
       "                    window.PLOTLYENV.BASE_URL='https://plot.ly';\n",
       "                    \n",
       "                if (document.getElementById(\"db0f1935-fee4-4a9b-94df-4e42b0ca4314\")) {\n",
       "                    Plotly.newPlot(\n",
       "                        'db0f1935-fee4-4a9b-94df-4e42b0ca4314',\n",
       "                        [{\"marker\": {\"color\": \"rgba(255, 153, 51, 0.6)\", \"line\": {\"color\": \"rgba(255, 153, 51, 1.0)\", \"width\": 1}}, \"name\": \"None\", \"orientation\": \"v\", \"text\": \"\", \"type\": \"bar\", \"x\": [\"A\", \"B\", \"C\", \"D\"], \"y\": [100, 100, 100, 100]}],\n",
       "                        {\"legend\": {\"bgcolor\": \"#F5F6F9\", \"font\": {\"color\": \"#4D5663\"}}, \"paper_bgcolor\": \"#F5F6F9\", \"plot_bgcolor\": \"#F5F6F9\", \"template\": {\"data\": {\"bar\": [{\"error_x\": {\"color\": \"#2a3f5f\"}, \"error_y\": {\"color\": \"#2a3f5f\"}, \"marker\": {\"line\": {\"color\": \"#E5ECF6\", \"width\": 0.5}}, \"type\": \"bar\"}], \"barpolar\": [{\"marker\": {\"line\": {\"color\": \"#E5ECF6\", \"width\": 0.5}}, \"type\": \"barpolar\"}], \"carpet\": [{\"aaxis\": {\"endlinecolor\": \"#2a3f5f\", \"gridcolor\": \"white\", \"linecolor\": \"white\", \"minorgridcolor\": \"white\", \"startlinecolor\": \"#2a3f5f\"}, \"baxis\": {\"endlinecolor\": \"#2a3f5f\", \"gridcolor\": \"white\", \"linecolor\": \"white\", \"minorgridcolor\": \"white\", \"startlinecolor\": \"#2a3f5f\"}, \"type\": \"carpet\"}], \"choropleth\": [{\"colorbar\": {\"outlinewidth\": 0, \"ticks\": \"\"}, \"type\": \"choropleth\"}], \"contour\": [{\"colorbar\": {\"outlinewidth\": 0, \"ticks\": \"\"}, \"colorscale\": [[0.0, \"#0d0887\"], [0.1111111111111111, \"#46039f\"], [0.2222222222222222, \"#7201a8\"], [0.3333333333333333, \"#9c179e\"], [0.4444444444444444, \"#bd3786\"], [0.5555555555555556, \"#d8576b\"], [0.6666666666666666, \"#ed7953\"], [0.7777777777777778, \"#fb9f3a\"], [0.8888888888888888, \"#fdca26\"], [1.0, \"#f0f921\"]], \"type\": \"contour\"}], \"contourcarpet\": [{\"colorbar\": {\"outlinewidth\": 0, \"ticks\": \"\"}, \"type\": \"contourcarpet\"}], \"heatmap\": [{\"colorbar\": {\"outlinewidth\": 0, \"ticks\": \"\"}, \"colorscale\": [[0.0, \"#0d0887\"], [0.1111111111111111, \"#46039f\"], [0.2222222222222222, \"#7201a8\"], [0.3333333333333333, \"#9c179e\"], [0.4444444444444444, \"#bd3786\"], [0.5555555555555556, \"#d8576b\"], [0.6666666666666666, \"#ed7953\"], [0.7777777777777778, \"#fb9f3a\"], [0.8888888888888888, \"#fdca26\"], [1.0, \"#f0f921\"]], \"type\": \"heatmap\"}], \"heatmapgl\": [{\"colorbar\": {\"outlinewidth\": 0, \"ticks\": \"\"}, \"colorscale\": [[0.0, \"#0d0887\"], [0.1111111111111111, \"#46039f\"], [0.2222222222222222, \"#7201a8\"], [0.3333333333333333, \"#9c179e\"], [0.4444444444444444, \"#bd3786\"], [0.5555555555555556, \"#d8576b\"], [0.6666666666666666, \"#ed7953\"], [0.7777777777777778, \"#fb9f3a\"], [0.8888888888888888, \"#fdca26\"], [1.0, \"#f0f921\"]], \"type\": \"heatmapgl\"}], \"histogram\": [{\"marker\": {\"colorbar\": {\"outlinewidth\": 0, \"ticks\": \"\"}}, \"type\": \"histogram\"}], \"histogram2d\": [{\"colorbar\": {\"outlinewidth\": 0, \"ticks\": \"\"}, \"colorscale\": [[0.0, \"#0d0887\"], [0.1111111111111111, \"#46039f\"], [0.2222222222222222, \"#7201a8\"], [0.3333333333333333, \"#9c179e\"], [0.4444444444444444, \"#bd3786\"], [0.5555555555555556, \"#d8576b\"], [0.6666666666666666, \"#ed7953\"], [0.7777777777777778, \"#fb9f3a\"], [0.8888888888888888, \"#fdca26\"], [1.0, \"#f0f921\"]], \"type\": \"histogram2d\"}], \"histogram2dcontour\": [{\"colorbar\": {\"outlinewidth\": 0, \"ticks\": \"\"}, \"colorscale\": [[0.0, \"#0d0887\"], [0.1111111111111111, \"#46039f\"], [0.2222222222222222, \"#7201a8\"], [0.3333333333333333, \"#9c179e\"], [0.4444444444444444, \"#bd3786\"], [0.5555555555555556, \"#d8576b\"], [0.6666666666666666, \"#ed7953\"], [0.7777777777777778, \"#fb9f3a\"], [0.8888888888888888, \"#fdca26\"], [1.0, \"#f0f921\"]], \"type\": \"histogram2dcontour\"}], \"mesh3d\": [{\"colorbar\": {\"outlinewidth\": 0, \"ticks\": \"\"}, \"type\": \"mesh3d\"}], \"parcoords\": [{\"line\": {\"colorbar\": {\"outlinewidth\": 0, \"ticks\": \"\"}}, \"type\": \"parcoords\"}], \"pie\": [{\"automargin\": true, \"type\": \"pie\"}], \"scatter\": [{\"marker\": {\"colorbar\": {\"outlinewidth\": 0, \"ticks\": \"\"}}, \"type\": \"scatter\"}], \"scatter3d\": [{\"line\": {\"colorbar\": {\"outlinewidth\": 0, \"ticks\": \"\"}}, \"marker\": {\"colorbar\": {\"outlinewidth\": 0, \"ticks\": \"\"}}, \"type\": \"scatter3d\"}], \"scattercarpet\": [{\"marker\": {\"colorbar\": {\"outlinewidth\": 0, \"ticks\": \"\"}}, \"type\": \"scattercarpet\"}], \"scattergeo\": [{\"marker\": {\"colorbar\": {\"outlinewidth\": 0, \"ticks\": \"\"}}, \"type\": \"scattergeo\"}], \"scattergl\": [{\"marker\": {\"colorbar\": {\"outlinewidth\": 0, \"ticks\": \"\"}}, \"type\": \"scattergl\"}], \"scattermapbox\": [{\"marker\": {\"colorbar\": {\"outlinewidth\": 0, \"ticks\": \"\"}}, \"type\": \"scattermapbox\"}], \"scatterpolar\": [{\"marker\": {\"colorbar\": {\"outlinewidth\": 0, \"ticks\": \"\"}}, \"type\": \"scatterpolar\"}], \"scatterpolargl\": [{\"marker\": {\"colorbar\": {\"outlinewidth\": 0, \"ticks\": \"\"}}, \"type\": \"scatterpolargl\"}], \"scatterternary\": [{\"marker\": {\"colorbar\": {\"outlinewidth\": 0, \"ticks\": \"\"}}, \"type\": \"scatterternary\"}], \"surface\": [{\"colorbar\": {\"outlinewidth\": 0, \"ticks\": \"\"}, \"colorscale\": [[0.0, \"#0d0887\"], [0.1111111111111111, \"#46039f\"], [0.2222222222222222, \"#7201a8\"], [0.3333333333333333, \"#9c179e\"], [0.4444444444444444, \"#bd3786\"], [0.5555555555555556, \"#d8576b\"], [0.6666666666666666, \"#ed7953\"], [0.7777777777777778, \"#fb9f3a\"], [0.8888888888888888, \"#fdca26\"], [1.0, \"#f0f921\"]], \"type\": \"surface\"}], \"table\": [{\"cells\": {\"fill\": {\"color\": \"#EBF0F8\"}, \"line\": {\"color\": \"white\"}}, \"header\": {\"fill\": {\"color\": \"#C8D4E3\"}, \"line\": {\"color\": \"white\"}}, \"type\": \"table\"}]}, \"layout\": {\"annotationdefaults\": {\"arrowcolor\": \"#2a3f5f\", \"arrowhead\": 0, \"arrowwidth\": 1}, \"coloraxis\": {\"colorbar\": {\"outlinewidth\": 0, \"ticks\": \"\"}}, \"colorscale\": {\"diverging\": [[0, \"#8e0152\"], [0.1, \"#c51b7d\"], [0.2, \"#de77ae\"], [0.3, \"#f1b6da\"], [0.4, \"#fde0ef\"], [0.5, \"#f7f7f7\"], [0.6, \"#e6f5d0\"], [0.7, \"#b8e186\"], [0.8, \"#7fbc41\"], [0.9, \"#4d9221\"], [1, \"#276419\"]], \"sequential\": [[0.0, \"#0d0887\"], [0.1111111111111111, \"#46039f\"], [0.2222222222222222, \"#7201a8\"], [0.3333333333333333, \"#9c179e\"], [0.4444444444444444, \"#bd3786\"], [0.5555555555555556, \"#d8576b\"], [0.6666666666666666, \"#ed7953\"], [0.7777777777777778, \"#fb9f3a\"], [0.8888888888888888, \"#fdca26\"], [1.0, \"#f0f921\"]], \"sequentialminus\": [[0.0, \"#0d0887\"], [0.1111111111111111, \"#46039f\"], [0.2222222222222222, \"#7201a8\"], [0.3333333333333333, \"#9c179e\"], [0.4444444444444444, \"#bd3786\"], [0.5555555555555556, \"#d8576b\"], [0.6666666666666666, \"#ed7953\"], [0.7777777777777778, \"#fb9f3a\"], [0.8888888888888888, \"#fdca26\"], [1.0, \"#f0f921\"]]}, \"colorway\": [\"#636efa\", \"#EF553B\", \"#00cc96\", \"#ab63fa\", \"#FFA15A\", \"#19d3f3\", \"#FF6692\", \"#B6E880\", \"#FF97FF\", \"#FECB52\"], \"font\": {\"color\": \"#2a3f5f\"}, \"geo\": {\"bgcolor\": \"white\", \"lakecolor\": \"white\", \"landcolor\": \"#E5ECF6\", \"showlakes\": true, \"showland\": true, \"subunitcolor\": \"white\"}, \"hoverlabel\": {\"align\": \"left\"}, \"hovermode\": \"closest\", \"mapbox\": {\"style\": \"light\"}, \"paper_bgcolor\": \"white\", \"plot_bgcolor\": \"#E5ECF6\", \"polar\": {\"angularaxis\": {\"gridcolor\": \"white\", \"linecolor\": \"white\", \"ticks\": \"\"}, \"bgcolor\": \"#E5ECF6\", \"radialaxis\": {\"gridcolor\": \"white\", \"linecolor\": \"white\", \"ticks\": \"\"}}, \"scene\": {\"xaxis\": {\"backgroundcolor\": \"#E5ECF6\", \"gridcolor\": \"white\", \"gridwidth\": 2, \"linecolor\": \"white\", \"showbackground\": true, \"ticks\": \"\", \"zerolinecolor\": \"white\"}, \"yaxis\": {\"backgroundcolor\": \"#E5ECF6\", \"gridcolor\": \"white\", \"gridwidth\": 2, \"linecolor\": \"white\", \"showbackground\": true, \"ticks\": \"\", \"zerolinecolor\": \"white\"}, \"zaxis\": {\"backgroundcolor\": \"#E5ECF6\", \"gridcolor\": \"white\", \"gridwidth\": 2, \"linecolor\": \"white\", \"showbackground\": true, \"ticks\": \"\", \"zerolinecolor\": \"white\"}}, \"shapedefaults\": {\"line\": {\"color\": \"#2a3f5f\"}}, \"ternary\": {\"aaxis\": {\"gridcolor\": \"white\", \"linecolor\": \"white\", \"ticks\": \"\"}, \"baxis\": {\"gridcolor\": \"white\", \"linecolor\": \"white\", \"ticks\": \"\"}, \"bgcolor\": \"#E5ECF6\", \"caxis\": {\"gridcolor\": \"white\", \"linecolor\": \"white\", \"ticks\": \"\"}}, \"title\": {\"x\": 0.05}, \"xaxis\": {\"automargin\": true, \"gridcolor\": \"white\", \"linecolor\": \"white\", \"ticks\": \"\", \"title\": {\"standoff\": 15}, \"zerolinecolor\": \"white\", \"zerolinewidth\": 2}, \"yaxis\": {\"automargin\": true, \"gridcolor\": \"white\", \"linecolor\": \"white\", \"ticks\": \"\", \"title\": {\"standoff\": 15}, \"zerolinecolor\": \"white\", \"zerolinewidth\": 2}}}, \"title\": {\"font\": {\"color\": \"#4D5663\"}}, \"xaxis\": {\"gridcolor\": \"#E1E5ED\", \"showgrid\": true, \"tickfont\": {\"color\": \"#4D5663\"}, \"title\": {\"font\": {\"color\": \"#4D5663\"}, \"text\": \"\"}, \"zerolinecolor\": \"#E1E5ED\"}, \"yaxis\": {\"gridcolor\": \"#E1E5ED\", \"showgrid\": true, \"tickfont\": {\"color\": \"#4D5663\"}, \"title\": {\"font\": {\"color\": \"#4D5663\"}, \"text\": \"\"}, \"zerolinecolor\": \"#E1E5ED\"}},\n",
       "                        {\"showLink\": true, \"linkText\": \"Export to plot.ly\", \"plotlyServerURL\": \"https://plot.ly\", \"responsive\": true}\n",
       "                    ).then(function(){\n",
       "                            \n",
       "var gd = document.getElementById('db0f1935-fee4-4a9b-94df-4e42b0ca4314');\n",
       "var x = new MutationObserver(function (mutations, observer) {{\n",
       "        var display = window.getComputedStyle(gd).display;\n",
       "        if (!display || display === 'none') {{\n",
       "            console.log([gd, 'removed!']);\n",
       "            Plotly.purge(gd);\n",
       "            observer.disconnect();\n",
       "        }}\n",
       "}});\n",
       "\n",
       "// Listen for the removal of the full notebook cells\n",
       "var notebookContainer = gd.closest('#notebook-container');\n",
       "if (notebookContainer) {{\n",
       "    x.observe(notebookContainer, {childList: true});\n",
       "}}\n",
       "\n",
       "// Listen for the clearing of the current output cell\n",
       "var outputEl = gd.closest('.output');\n",
       "if (outputEl) {{\n",
       "    x.observe(outputEl, {childList: true});\n",
       "}}\n",
       "\n",
       "                        })\n",
       "                };\n",
       "                });\n",
       "            </script>\n",
       "        </div>"
      ]
     },
     "metadata": {},
     "output_type": "display_data"
    }
   ],
   "source": [
    "df.count().iplot(kind='bar')"
   ]
  },
  {
   "cell_type": "code",
   "execution_count": 18,
   "metadata": {},
   "outputs": [
    {
     "data": {
      "application/vnd.plotly.v1+json": {
       "config": {
        "linkText": "Export to plot.ly",
        "plotlyServerURL": "https://plot.ly",
        "showLink": true
       },
       "data": [
        {
         "marker": {
          "color": "rgba(255, 153, 51, 0.6)",
          "line": {
           "color": "rgba(255, 153, 51, 1.0)",
           "width": 1
          }
         },
         "name": "None",
         "orientation": "v",
         "text": "",
         "type": "bar",
         "x": [
          "A",
          "B",
          "C",
          "D"
         ],
         "y": [
          -6.948420880281411,
          -3.1678705975032715,
          -3.147590029931268,
          7.764470055661226
         ]
        }
       ],
       "layout": {
        "legend": {
         "bgcolor": "#F5F6F9",
         "font": {
          "color": "#4D5663"
         }
        },
        "paper_bgcolor": "#F5F6F9",
        "plot_bgcolor": "#F5F6F9",
        "template": {
         "data": {
          "bar": [
           {
            "error_x": {
             "color": "#2a3f5f"
            },
            "error_y": {
             "color": "#2a3f5f"
            },
            "marker": {
             "line": {
              "color": "#E5ECF6",
              "width": 0.5
             }
            },
            "type": "bar"
           }
          ],
          "barpolar": [
           {
            "marker": {
             "line": {
              "color": "#E5ECF6",
              "width": 0.5
             }
            },
            "type": "barpolar"
           }
          ],
          "carpet": [
           {
            "aaxis": {
             "endlinecolor": "#2a3f5f",
             "gridcolor": "white",
             "linecolor": "white",
             "minorgridcolor": "white",
             "startlinecolor": "#2a3f5f"
            },
            "baxis": {
             "endlinecolor": "#2a3f5f",
             "gridcolor": "white",
             "linecolor": "white",
             "minorgridcolor": "white",
             "startlinecolor": "#2a3f5f"
            },
            "type": "carpet"
           }
          ],
          "choropleth": [
           {
            "colorbar": {
             "outlinewidth": 0,
             "ticks": ""
            },
            "type": "choropleth"
           }
          ],
          "contour": [
           {
            "colorbar": {
             "outlinewidth": 0,
             "ticks": ""
            },
            "colorscale": [
             [
              0,
              "#0d0887"
             ],
             [
              0.1111111111111111,
              "#46039f"
             ],
             [
              0.2222222222222222,
              "#7201a8"
             ],
             [
              0.3333333333333333,
              "#9c179e"
             ],
             [
              0.4444444444444444,
              "#bd3786"
             ],
             [
              0.5555555555555556,
              "#d8576b"
             ],
             [
              0.6666666666666666,
              "#ed7953"
             ],
             [
              0.7777777777777778,
              "#fb9f3a"
             ],
             [
              0.8888888888888888,
              "#fdca26"
             ],
             [
              1,
              "#f0f921"
             ]
            ],
            "type": "contour"
           }
          ],
          "contourcarpet": [
           {
            "colorbar": {
             "outlinewidth": 0,
             "ticks": ""
            },
            "type": "contourcarpet"
           }
          ],
          "heatmap": [
           {
            "colorbar": {
             "outlinewidth": 0,
             "ticks": ""
            },
            "colorscale": [
             [
              0,
              "#0d0887"
             ],
             [
              0.1111111111111111,
              "#46039f"
             ],
             [
              0.2222222222222222,
              "#7201a8"
             ],
             [
              0.3333333333333333,
              "#9c179e"
             ],
             [
              0.4444444444444444,
              "#bd3786"
             ],
             [
              0.5555555555555556,
              "#d8576b"
             ],
             [
              0.6666666666666666,
              "#ed7953"
             ],
             [
              0.7777777777777778,
              "#fb9f3a"
             ],
             [
              0.8888888888888888,
              "#fdca26"
             ],
             [
              1,
              "#f0f921"
             ]
            ],
            "type": "heatmap"
           }
          ],
          "heatmapgl": [
           {
            "colorbar": {
             "outlinewidth": 0,
             "ticks": ""
            },
            "colorscale": [
             [
              0,
              "#0d0887"
             ],
             [
              0.1111111111111111,
              "#46039f"
             ],
             [
              0.2222222222222222,
              "#7201a8"
             ],
             [
              0.3333333333333333,
              "#9c179e"
             ],
             [
              0.4444444444444444,
              "#bd3786"
             ],
             [
              0.5555555555555556,
              "#d8576b"
             ],
             [
              0.6666666666666666,
              "#ed7953"
             ],
             [
              0.7777777777777778,
              "#fb9f3a"
             ],
             [
              0.8888888888888888,
              "#fdca26"
             ],
             [
              1,
              "#f0f921"
             ]
            ],
            "type": "heatmapgl"
           }
          ],
          "histogram": [
           {
            "marker": {
             "colorbar": {
              "outlinewidth": 0,
              "ticks": ""
             }
            },
            "type": "histogram"
           }
          ],
          "histogram2d": [
           {
            "colorbar": {
             "outlinewidth": 0,
             "ticks": ""
            },
            "colorscale": [
             [
              0,
              "#0d0887"
             ],
             [
              0.1111111111111111,
              "#46039f"
             ],
             [
              0.2222222222222222,
              "#7201a8"
             ],
             [
              0.3333333333333333,
              "#9c179e"
             ],
             [
              0.4444444444444444,
              "#bd3786"
             ],
             [
              0.5555555555555556,
              "#d8576b"
             ],
             [
              0.6666666666666666,
              "#ed7953"
             ],
             [
              0.7777777777777778,
              "#fb9f3a"
             ],
             [
              0.8888888888888888,
              "#fdca26"
             ],
             [
              1,
              "#f0f921"
             ]
            ],
            "type": "histogram2d"
           }
          ],
          "histogram2dcontour": [
           {
            "colorbar": {
             "outlinewidth": 0,
             "ticks": ""
            },
            "colorscale": [
             [
              0,
              "#0d0887"
             ],
             [
              0.1111111111111111,
              "#46039f"
             ],
             [
              0.2222222222222222,
              "#7201a8"
             ],
             [
              0.3333333333333333,
              "#9c179e"
             ],
             [
              0.4444444444444444,
              "#bd3786"
             ],
             [
              0.5555555555555556,
              "#d8576b"
             ],
             [
              0.6666666666666666,
              "#ed7953"
             ],
             [
              0.7777777777777778,
              "#fb9f3a"
             ],
             [
              0.8888888888888888,
              "#fdca26"
             ],
             [
              1,
              "#f0f921"
             ]
            ],
            "type": "histogram2dcontour"
           }
          ],
          "mesh3d": [
           {
            "colorbar": {
             "outlinewidth": 0,
             "ticks": ""
            },
            "type": "mesh3d"
           }
          ],
          "parcoords": [
           {
            "line": {
             "colorbar": {
              "outlinewidth": 0,
              "ticks": ""
             }
            },
            "type": "parcoords"
           }
          ],
          "pie": [
           {
            "automargin": true,
            "type": "pie"
           }
          ],
          "scatter": [
           {
            "marker": {
             "colorbar": {
              "outlinewidth": 0,
              "ticks": ""
             }
            },
            "type": "scatter"
           }
          ],
          "scatter3d": [
           {
            "line": {
             "colorbar": {
              "outlinewidth": 0,
              "ticks": ""
             }
            },
            "marker": {
             "colorbar": {
              "outlinewidth": 0,
              "ticks": ""
             }
            },
            "type": "scatter3d"
           }
          ],
          "scattercarpet": [
           {
            "marker": {
             "colorbar": {
              "outlinewidth": 0,
              "ticks": ""
             }
            },
            "type": "scattercarpet"
           }
          ],
          "scattergeo": [
           {
            "marker": {
             "colorbar": {
              "outlinewidth": 0,
              "ticks": ""
             }
            },
            "type": "scattergeo"
           }
          ],
          "scattergl": [
           {
            "marker": {
             "colorbar": {
              "outlinewidth": 0,
              "ticks": ""
             }
            },
            "type": "scattergl"
           }
          ],
          "scattermapbox": [
           {
            "marker": {
             "colorbar": {
              "outlinewidth": 0,
              "ticks": ""
             }
            },
            "type": "scattermapbox"
           }
          ],
          "scatterpolar": [
           {
            "marker": {
             "colorbar": {
              "outlinewidth": 0,
              "ticks": ""
             }
            },
            "type": "scatterpolar"
           }
          ],
          "scatterpolargl": [
           {
            "marker": {
             "colorbar": {
              "outlinewidth": 0,
              "ticks": ""
             }
            },
            "type": "scatterpolargl"
           }
          ],
          "scatterternary": [
           {
            "marker": {
             "colorbar": {
              "outlinewidth": 0,
              "ticks": ""
             }
            },
            "type": "scatterternary"
           }
          ],
          "surface": [
           {
            "colorbar": {
             "outlinewidth": 0,
             "ticks": ""
            },
            "colorscale": [
             [
              0,
              "#0d0887"
             ],
             [
              0.1111111111111111,
              "#46039f"
             ],
             [
              0.2222222222222222,
              "#7201a8"
             ],
             [
              0.3333333333333333,
              "#9c179e"
             ],
             [
              0.4444444444444444,
              "#bd3786"
             ],
             [
              0.5555555555555556,
              "#d8576b"
             ],
             [
              0.6666666666666666,
              "#ed7953"
             ],
             [
              0.7777777777777778,
              "#fb9f3a"
             ],
             [
              0.8888888888888888,
              "#fdca26"
             ],
             [
              1,
              "#f0f921"
             ]
            ],
            "type": "surface"
           }
          ],
          "table": [
           {
            "cells": {
             "fill": {
              "color": "#EBF0F8"
             },
             "line": {
              "color": "white"
             }
            },
            "header": {
             "fill": {
              "color": "#C8D4E3"
             },
             "line": {
              "color": "white"
             }
            },
            "type": "table"
           }
          ]
         },
         "layout": {
          "annotationdefaults": {
           "arrowcolor": "#2a3f5f",
           "arrowhead": 0,
           "arrowwidth": 1
          },
          "coloraxis": {
           "colorbar": {
            "outlinewidth": 0,
            "ticks": ""
           }
          },
          "colorscale": {
           "diverging": [
            [
             0,
             "#8e0152"
            ],
            [
             0.1,
             "#c51b7d"
            ],
            [
             0.2,
             "#de77ae"
            ],
            [
             0.3,
             "#f1b6da"
            ],
            [
             0.4,
             "#fde0ef"
            ],
            [
             0.5,
             "#f7f7f7"
            ],
            [
             0.6,
             "#e6f5d0"
            ],
            [
             0.7,
             "#b8e186"
            ],
            [
             0.8,
             "#7fbc41"
            ],
            [
             0.9,
             "#4d9221"
            ],
            [
             1,
             "#276419"
            ]
           ],
           "sequential": [
            [
             0,
             "#0d0887"
            ],
            [
             0.1111111111111111,
             "#46039f"
            ],
            [
             0.2222222222222222,
             "#7201a8"
            ],
            [
             0.3333333333333333,
             "#9c179e"
            ],
            [
             0.4444444444444444,
             "#bd3786"
            ],
            [
             0.5555555555555556,
             "#d8576b"
            ],
            [
             0.6666666666666666,
             "#ed7953"
            ],
            [
             0.7777777777777778,
             "#fb9f3a"
            ],
            [
             0.8888888888888888,
             "#fdca26"
            ],
            [
             1,
             "#f0f921"
            ]
           ],
           "sequentialminus": [
            [
             0,
             "#0d0887"
            ],
            [
             0.1111111111111111,
             "#46039f"
            ],
            [
             0.2222222222222222,
             "#7201a8"
            ],
            [
             0.3333333333333333,
             "#9c179e"
            ],
            [
             0.4444444444444444,
             "#bd3786"
            ],
            [
             0.5555555555555556,
             "#d8576b"
            ],
            [
             0.6666666666666666,
             "#ed7953"
            ],
            [
             0.7777777777777778,
             "#fb9f3a"
            ],
            [
             0.8888888888888888,
             "#fdca26"
            ],
            [
             1,
             "#f0f921"
            ]
           ]
          },
          "colorway": [
           "#636efa",
           "#EF553B",
           "#00cc96",
           "#ab63fa",
           "#FFA15A",
           "#19d3f3",
           "#FF6692",
           "#B6E880",
           "#FF97FF",
           "#FECB52"
          ],
          "font": {
           "color": "#2a3f5f"
          },
          "geo": {
           "bgcolor": "white",
           "lakecolor": "white",
           "landcolor": "#E5ECF6",
           "showlakes": true,
           "showland": true,
           "subunitcolor": "white"
          },
          "hoverlabel": {
           "align": "left"
          },
          "hovermode": "closest",
          "mapbox": {
           "style": "light"
          },
          "paper_bgcolor": "white",
          "plot_bgcolor": "#E5ECF6",
          "polar": {
           "angularaxis": {
            "gridcolor": "white",
            "linecolor": "white",
            "ticks": ""
           },
           "bgcolor": "#E5ECF6",
           "radialaxis": {
            "gridcolor": "white",
            "linecolor": "white",
            "ticks": ""
           }
          },
          "scene": {
           "xaxis": {
            "backgroundcolor": "#E5ECF6",
            "gridcolor": "white",
            "gridwidth": 2,
            "linecolor": "white",
            "showbackground": true,
            "ticks": "",
            "zerolinecolor": "white"
           },
           "yaxis": {
            "backgroundcolor": "#E5ECF6",
            "gridcolor": "white",
            "gridwidth": 2,
            "linecolor": "white",
            "showbackground": true,
            "ticks": "",
            "zerolinecolor": "white"
           },
           "zaxis": {
            "backgroundcolor": "#E5ECF6",
            "gridcolor": "white",
            "gridwidth": 2,
            "linecolor": "white",
            "showbackground": true,
            "ticks": "",
            "zerolinecolor": "white"
           }
          },
          "shapedefaults": {
           "line": {
            "color": "#2a3f5f"
           }
          },
          "ternary": {
           "aaxis": {
            "gridcolor": "white",
            "linecolor": "white",
            "ticks": ""
           },
           "baxis": {
            "gridcolor": "white",
            "linecolor": "white",
            "ticks": ""
           },
           "bgcolor": "#E5ECF6",
           "caxis": {
            "gridcolor": "white",
            "linecolor": "white",
            "ticks": ""
           }
          },
          "title": {
           "x": 0.05
          },
          "xaxis": {
           "automargin": true,
           "gridcolor": "white",
           "linecolor": "white",
           "ticks": "",
           "title": {
            "standoff": 15
           },
           "zerolinecolor": "white",
           "zerolinewidth": 2
          },
          "yaxis": {
           "automargin": true,
           "gridcolor": "white",
           "linecolor": "white",
           "ticks": "",
           "title": {
            "standoff": 15
           },
           "zerolinecolor": "white",
           "zerolinewidth": 2
          }
         }
        },
        "title": {
         "font": {
          "color": "#4D5663"
         }
        },
        "xaxis": {
         "gridcolor": "#E1E5ED",
         "showgrid": true,
         "tickfont": {
          "color": "#4D5663"
         },
         "title": {
          "font": {
           "color": "#4D5663"
          },
          "text": ""
         },
         "zerolinecolor": "#E1E5ED"
        },
        "yaxis": {
         "gridcolor": "#E1E5ED",
         "showgrid": true,
         "tickfont": {
          "color": "#4D5663"
         },
         "title": {
          "font": {
           "color": "#4D5663"
          },
          "text": ""
         },
         "zerolinecolor": "#E1E5ED"
        }
       }
      },
      "text/html": [
       "<div>\n",
       "        \n",
       "        \n",
       "            <div id=\"c2b74d77-638f-4c2d-8657-936ae3dca6dc\" class=\"plotly-graph-div\" style=\"height:525px; width:100%;\"></div>\n",
       "            <script type=\"text/javascript\">\n",
       "                require([\"plotly\"], function(Plotly) {\n",
       "                    window.PLOTLYENV=window.PLOTLYENV || {};\n",
       "                    window.PLOTLYENV.BASE_URL='https://plot.ly';\n",
       "                    \n",
       "                if (document.getElementById(\"c2b74d77-638f-4c2d-8657-936ae3dca6dc\")) {\n",
       "                    Plotly.newPlot(\n",
       "                        'c2b74d77-638f-4c2d-8657-936ae3dca6dc',\n",
       "                        [{\"marker\": {\"color\": \"rgba(255, 153, 51, 0.6)\", \"line\": {\"color\": \"rgba(255, 153, 51, 1.0)\", \"width\": 1}}, \"name\": \"None\", \"orientation\": \"v\", \"text\": \"\", \"type\": \"bar\", \"x\": [\"A\", \"B\", \"C\", \"D\"], \"y\": [-6.948420880281411, -3.1678705975032715, -3.147590029931268, 7.764470055661226]}],\n",
       "                        {\"legend\": {\"bgcolor\": \"#F5F6F9\", \"font\": {\"color\": \"#4D5663\"}}, \"paper_bgcolor\": \"#F5F6F9\", \"plot_bgcolor\": \"#F5F6F9\", \"template\": {\"data\": {\"bar\": [{\"error_x\": {\"color\": \"#2a3f5f\"}, \"error_y\": {\"color\": \"#2a3f5f\"}, \"marker\": {\"line\": {\"color\": \"#E5ECF6\", \"width\": 0.5}}, \"type\": \"bar\"}], \"barpolar\": [{\"marker\": {\"line\": {\"color\": \"#E5ECF6\", \"width\": 0.5}}, \"type\": \"barpolar\"}], \"carpet\": [{\"aaxis\": {\"endlinecolor\": \"#2a3f5f\", \"gridcolor\": \"white\", \"linecolor\": \"white\", \"minorgridcolor\": \"white\", \"startlinecolor\": \"#2a3f5f\"}, \"baxis\": {\"endlinecolor\": \"#2a3f5f\", \"gridcolor\": \"white\", \"linecolor\": \"white\", \"minorgridcolor\": \"white\", \"startlinecolor\": \"#2a3f5f\"}, \"type\": \"carpet\"}], \"choropleth\": [{\"colorbar\": {\"outlinewidth\": 0, \"ticks\": \"\"}, \"type\": \"choropleth\"}], \"contour\": [{\"colorbar\": {\"outlinewidth\": 0, \"ticks\": \"\"}, \"colorscale\": [[0.0, \"#0d0887\"], [0.1111111111111111, \"#46039f\"], [0.2222222222222222, \"#7201a8\"], [0.3333333333333333, \"#9c179e\"], [0.4444444444444444, \"#bd3786\"], [0.5555555555555556, \"#d8576b\"], [0.6666666666666666, \"#ed7953\"], [0.7777777777777778, \"#fb9f3a\"], [0.8888888888888888, \"#fdca26\"], [1.0, \"#f0f921\"]], \"type\": \"contour\"}], \"contourcarpet\": [{\"colorbar\": {\"outlinewidth\": 0, \"ticks\": \"\"}, \"type\": \"contourcarpet\"}], \"heatmap\": [{\"colorbar\": {\"outlinewidth\": 0, \"ticks\": \"\"}, \"colorscale\": [[0.0, \"#0d0887\"], [0.1111111111111111, \"#46039f\"], [0.2222222222222222, \"#7201a8\"], [0.3333333333333333, \"#9c179e\"], [0.4444444444444444, \"#bd3786\"], [0.5555555555555556, \"#d8576b\"], [0.6666666666666666, \"#ed7953\"], [0.7777777777777778, \"#fb9f3a\"], [0.8888888888888888, \"#fdca26\"], [1.0, \"#f0f921\"]], \"type\": \"heatmap\"}], \"heatmapgl\": [{\"colorbar\": {\"outlinewidth\": 0, \"ticks\": \"\"}, \"colorscale\": [[0.0, \"#0d0887\"], [0.1111111111111111, \"#46039f\"], [0.2222222222222222, \"#7201a8\"], [0.3333333333333333, \"#9c179e\"], [0.4444444444444444, \"#bd3786\"], [0.5555555555555556, \"#d8576b\"], [0.6666666666666666, \"#ed7953\"], [0.7777777777777778, \"#fb9f3a\"], [0.8888888888888888, \"#fdca26\"], [1.0, \"#f0f921\"]], \"type\": \"heatmapgl\"}], \"histogram\": [{\"marker\": {\"colorbar\": {\"outlinewidth\": 0, \"ticks\": \"\"}}, \"type\": \"histogram\"}], \"histogram2d\": [{\"colorbar\": {\"outlinewidth\": 0, \"ticks\": \"\"}, \"colorscale\": [[0.0, \"#0d0887\"], [0.1111111111111111, \"#46039f\"], [0.2222222222222222, \"#7201a8\"], [0.3333333333333333, \"#9c179e\"], [0.4444444444444444, \"#bd3786\"], [0.5555555555555556, \"#d8576b\"], [0.6666666666666666, \"#ed7953\"], [0.7777777777777778, \"#fb9f3a\"], [0.8888888888888888, \"#fdca26\"], [1.0, \"#f0f921\"]], \"type\": \"histogram2d\"}], \"histogram2dcontour\": [{\"colorbar\": {\"outlinewidth\": 0, \"ticks\": \"\"}, \"colorscale\": [[0.0, \"#0d0887\"], [0.1111111111111111, \"#46039f\"], [0.2222222222222222, \"#7201a8\"], [0.3333333333333333, \"#9c179e\"], [0.4444444444444444, \"#bd3786\"], [0.5555555555555556, \"#d8576b\"], [0.6666666666666666, \"#ed7953\"], [0.7777777777777778, \"#fb9f3a\"], [0.8888888888888888, \"#fdca26\"], [1.0, \"#f0f921\"]], \"type\": \"histogram2dcontour\"}], \"mesh3d\": [{\"colorbar\": {\"outlinewidth\": 0, \"ticks\": \"\"}, \"type\": \"mesh3d\"}], \"parcoords\": [{\"line\": {\"colorbar\": {\"outlinewidth\": 0, \"ticks\": \"\"}}, \"type\": \"parcoords\"}], \"pie\": [{\"automargin\": true, \"type\": \"pie\"}], \"scatter\": [{\"marker\": {\"colorbar\": {\"outlinewidth\": 0, \"ticks\": \"\"}}, \"type\": \"scatter\"}], \"scatter3d\": [{\"line\": {\"colorbar\": {\"outlinewidth\": 0, \"ticks\": \"\"}}, \"marker\": {\"colorbar\": {\"outlinewidth\": 0, \"ticks\": \"\"}}, \"type\": \"scatter3d\"}], \"scattercarpet\": [{\"marker\": {\"colorbar\": {\"outlinewidth\": 0, \"ticks\": \"\"}}, \"type\": \"scattercarpet\"}], \"scattergeo\": [{\"marker\": {\"colorbar\": {\"outlinewidth\": 0, \"ticks\": \"\"}}, \"type\": \"scattergeo\"}], \"scattergl\": [{\"marker\": {\"colorbar\": {\"outlinewidth\": 0, \"ticks\": \"\"}}, \"type\": \"scattergl\"}], \"scattermapbox\": [{\"marker\": {\"colorbar\": {\"outlinewidth\": 0, \"ticks\": \"\"}}, \"type\": \"scattermapbox\"}], \"scatterpolar\": [{\"marker\": {\"colorbar\": {\"outlinewidth\": 0, \"ticks\": \"\"}}, \"type\": \"scatterpolar\"}], \"scatterpolargl\": [{\"marker\": {\"colorbar\": {\"outlinewidth\": 0, \"ticks\": \"\"}}, \"type\": \"scatterpolargl\"}], \"scatterternary\": [{\"marker\": {\"colorbar\": {\"outlinewidth\": 0, \"ticks\": \"\"}}, \"type\": \"scatterternary\"}], \"surface\": [{\"colorbar\": {\"outlinewidth\": 0, \"ticks\": \"\"}, \"colorscale\": [[0.0, \"#0d0887\"], [0.1111111111111111, \"#46039f\"], [0.2222222222222222, \"#7201a8\"], [0.3333333333333333, \"#9c179e\"], [0.4444444444444444, \"#bd3786\"], [0.5555555555555556, \"#d8576b\"], [0.6666666666666666, \"#ed7953\"], [0.7777777777777778, \"#fb9f3a\"], [0.8888888888888888, \"#fdca26\"], [1.0, \"#f0f921\"]], \"type\": \"surface\"}], \"table\": [{\"cells\": {\"fill\": {\"color\": \"#EBF0F8\"}, \"line\": {\"color\": \"white\"}}, \"header\": {\"fill\": {\"color\": \"#C8D4E3\"}, \"line\": {\"color\": \"white\"}}, \"type\": \"table\"}]}, \"layout\": {\"annotationdefaults\": {\"arrowcolor\": \"#2a3f5f\", \"arrowhead\": 0, \"arrowwidth\": 1}, \"coloraxis\": {\"colorbar\": {\"outlinewidth\": 0, \"ticks\": \"\"}}, \"colorscale\": {\"diverging\": [[0, \"#8e0152\"], [0.1, \"#c51b7d\"], [0.2, \"#de77ae\"], [0.3, \"#f1b6da\"], [0.4, \"#fde0ef\"], [0.5, \"#f7f7f7\"], [0.6, \"#e6f5d0\"], [0.7, \"#b8e186\"], [0.8, \"#7fbc41\"], [0.9, \"#4d9221\"], [1, \"#276419\"]], \"sequential\": [[0.0, \"#0d0887\"], [0.1111111111111111, \"#46039f\"], [0.2222222222222222, \"#7201a8\"], [0.3333333333333333, \"#9c179e\"], [0.4444444444444444, \"#bd3786\"], [0.5555555555555556, \"#d8576b\"], [0.6666666666666666, \"#ed7953\"], [0.7777777777777778, \"#fb9f3a\"], [0.8888888888888888, \"#fdca26\"], [1.0, \"#f0f921\"]], \"sequentialminus\": [[0.0, \"#0d0887\"], [0.1111111111111111, \"#46039f\"], [0.2222222222222222, \"#7201a8\"], [0.3333333333333333, \"#9c179e\"], [0.4444444444444444, \"#bd3786\"], [0.5555555555555556, \"#d8576b\"], [0.6666666666666666, \"#ed7953\"], [0.7777777777777778, \"#fb9f3a\"], [0.8888888888888888, \"#fdca26\"], [1.0, \"#f0f921\"]]}, \"colorway\": [\"#636efa\", \"#EF553B\", \"#00cc96\", \"#ab63fa\", \"#FFA15A\", \"#19d3f3\", \"#FF6692\", \"#B6E880\", \"#FF97FF\", \"#FECB52\"], \"font\": {\"color\": \"#2a3f5f\"}, \"geo\": {\"bgcolor\": \"white\", \"lakecolor\": \"white\", \"landcolor\": \"#E5ECF6\", \"showlakes\": true, \"showland\": true, \"subunitcolor\": \"white\"}, \"hoverlabel\": {\"align\": \"left\"}, \"hovermode\": \"closest\", \"mapbox\": {\"style\": \"light\"}, \"paper_bgcolor\": \"white\", \"plot_bgcolor\": \"#E5ECF6\", \"polar\": {\"angularaxis\": {\"gridcolor\": \"white\", \"linecolor\": \"white\", \"ticks\": \"\"}, \"bgcolor\": \"#E5ECF6\", \"radialaxis\": {\"gridcolor\": \"white\", \"linecolor\": \"white\", \"ticks\": \"\"}}, \"scene\": {\"xaxis\": {\"backgroundcolor\": \"#E5ECF6\", \"gridcolor\": \"white\", \"gridwidth\": 2, \"linecolor\": \"white\", \"showbackground\": true, \"ticks\": \"\", \"zerolinecolor\": \"white\"}, \"yaxis\": {\"backgroundcolor\": \"#E5ECF6\", \"gridcolor\": \"white\", \"gridwidth\": 2, \"linecolor\": \"white\", \"showbackground\": true, \"ticks\": \"\", \"zerolinecolor\": \"white\"}, \"zaxis\": {\"backgroundcolor\": \"#E5ECF6\", \"gridcolor\": \"white\", \"gridwidth\": 2, \"linecolor\": \"white\", \"showbackground\": true, \"ticks\": \"\", \"zerolinecolor\": \"white\"}}, \"shapedefaults\": {\"line\": {\"color\": \"#2a3f5f\"}}, \"ternary\": {\"aaxis\": {\"gridcolor\": \"white\", \"linecolor\": \"white\", \"ticks\": \"\"}, \"baxis\": {\"gridcolor\": \"white\", \"linecolor\": \"white\", \"ticks\": \"\"}, \"bgcolor\": \"#E5ECF6\", \"caxis\": {\"gridcolor\": \"white\", \"linecolor\": \"white\", \"ticks\": \"\"}}, \"title\": {\"x\": 0.05}, \"xaxis\": {\"automargin\": true, \"gridcolor\": \"white\", \"linecolor\": \"white\", \"ticks\": \"\", \"title\": {\"standoff\": 15}, \"zerolinecolor\": \"white\", \"zerolinewidth\": 2}, \"yaxis\": {\"automargin\": true, \"gridcolor\": \"white\", \"linecolor\": \"white\", \"ticks\": \"\", \"title\": {\"standoff\": 15}, \"zerolinecolor\": \"white\", \"zerolinewidth\": 2}}}, \"title\": {\"font\": {\"color\": \"#4D5663\"}}, \"xaxis\": {\"gridcolor\": \"#E1E5ED\", \"showgrid\": true, \"tickfont\": {\"color\": \"#4D5663\"}, \"title\": {\"font\": {\"color\": \"#4D5663\"}, \"text\": \"\"}, \"zerolinecolor\": \"#E1E5ED\"}, \"yaxis\": {\"gridcolor\": \"#E1E5ED\", \"showgrid\": true, \"tickfont\": {\"color\": \"#4D5663\"}, \"title\": {\"font\": {\"color\": \"#4D5663\"}, \"text\": \"\"}, \"zerolinecolor\": \"#E1E5ED\"}},\n",
       "                        {\"showLink\": true, \"linkText\": \"Export to plot.ly\", \"plotlyServerURL\": \"https://plot.ly\", \"responsive\": true}\n",
       "                    ).then(function(){\n",
       "                            \n",
       "var gd = document.getElementById('c2b74d77-638f-4c2d-8657-936ae3dca6dc');\n",
       "var x = new MutationObserver(function (mutations, observer) {{\n",
       "        var display = window.getComputedStyle(gd).display;\n",
       "        if (!display || display === 'none') {{\n",
       "            console.log([gd, 'removed!']);\n",
       "            Plotly.purge(gd);\n",
       "            observer.disconnect();\n",
       "        }}\n",
       "}});\n",
       "\n",
       "// Listen for the removal of the full notebook cells\n",
       "var notebookContainer = gd.closest('#notebook-container');\n",
       "if (notebookContainer) {{\n",
       "    x.observe(notebookContainer, {childList: true});\n",
       "}}\n",
       "\n",
       "// Listen for the clearing of the current output cell\n",
       "var outputEl = gd.closest('.output');\n",
       "if (outputEl) {{\n",
       "    x.observe(outputEl, {childList: true});\n",
       "}}\n",
       "\n",
       "                        })\n",
       "                };\n",
       "                });\n",
       "            </script>\n",
       "        </div>"
      ]
     },
     "metadata": {},
     "output_type": "display_data"
    }
   ],
   "source": [
    "df.sum().iplot(kind='bar')"
   ]
  },
  {
   "cell_type": "markdown",
   "metadata": {},
   "source": [
    "## Boxplot"
   ]
  },
  {
   "cell_type": "code",
   "execution_count": 19,
   "metadata": {},
   "outputs": [
    {
     "data": {
      "application/vnd.plotly.v1+json": {
       "config": {
        "linkText": "Export to plot.ly",
        "plotlyServerURL": "https://plot.ly",
        "showLink": true
       },
       "data": [
        {
         "boxpoints": false,
         "line": {
          "width": 1.3
         },
         "marker": {
          "color": "rgba(255, 153, 51, 1.0)"
         },
         "name": "A",
         "orientation": "v",
         "type": "box",
         "y": [
          -0.6680661855631249,
          0.1949766871965313,
          0.03297058007779891,
          -0.6990703851144047,
          -1.1904809035565296,
          -0.9978851799370811,
          -1.8582319261511087,
          -0.5267661337775508,
          -1.5686461478635814,
          -1.0627343935664582,
          0.9661118140498371,
          0.565313506626537,
          -1.4206021024681288,
          0.6560188287072177,
          0.5342773017547415,
          0.4439743344940591,
          0.6052930388775157,
          0.7164107464286641,
          0.9375280230990192,
          -0.8939516328602036,
          0.4924348203413822,
          -2.1780131590071496,
          -0.5438072379862946,
          -0.9334923463833898,
          0.6713486104662258,
          -0.7065440484824034,
          -1.3874324539214875,
          -0.8896410077863353,
          -0.07984657932136635,
          -0.12572505592806968,
          0.8137383767766075,
          -1.858491455192245,
          -0.3724586312111986,
          2.402354817353567,
          1.0410195382811984,
          -1.5139559628272126,
          0.8076529167916344,
          -0.3035271559810558,
          2.4116330281807286,
          2.1223346600953814,
          0.16436122619428503,
          -0.46652198272400175,
          0.24256961333364677,
          0.2863986325603095,
          -3.099977310251452,
          0.3417341517045552,
          -1.229051663697874,
          -0.0825055265741576,
          0.5643689745296832,
          0.2643607398377007,
          0.8404584998456432,
          -0.9599932628266316,
          0.9620952929558358,
          2.1487719813839155,
          0.8702399277132442,
          -0.6786256915599027,
          -0.551562117174487,
          -0.7569418009249309,
          -0.7578840771473123,
          -0.7979818046465237,
          1.7875060506298361,
          -1.1376330255000242,
          -1.7296967915248824,
          1.0120261071074859,
          0.07626292262330708,
          -0.5161229432965986,
          -1.9828965516645491,
          1.2236247293138747,
          -1.4987687258773836,
          0.728921907199498,
          -1.0224292690506944,
          0.7636030501956129,
          -1.4035448034462434,
          0.8741822629080838,
          -1.575143589119851,
          0.5783812385108045,
          -0.9559912307275771,
          -0.06416912485000843,
          1.5340650493135644,
          1.0625590148885438,
          0.8926470152500349,
          -0.10936690562114973,
          -0.24245197468062515,
          1.5191649065321466,
          0.736591302550211,
          0.3806355692794749,
          -0.19094272495077746,
          -0.4809111086547659,
          -1.3393209311998107,
          0.3444845242142359,
          -0.308530466508197,
          0.5971519605520483,
          -0.2961393984777049,
          2.0527924932523907,
          -0.42898583486115943,
          0.7361587789620776,
          -0.6655264065881279,
          0.4869596491478256,
          -0.42392394888161156,
          0.0960209955254644
         ]
        },
        {
         "boxpoints": false,
         "line": {
          "width": 1.3
         },
         "marker": {
          "color": "rgba(55, 128, 191, 1.0)"
         },
         "name": "B",
         "orientation": "v",
         "type": "box",
         "y": [
          -0.6810784119889212,
          -0.12672851621571565,
          -2.0807241915160843,
          2.1123832635269437,
          -0.037441185918270566,
          -0.8419160328363937,
          -0.965051019475013,
          0.8311693286344598,
          -0.12892638840714116,
          -0.3223623657442055,
          -0.2651621978066173,
          0.5751051482978644,
          -1.5954080823970926,
          0.35868808673820946,
          2.472151302817571,
          0.262160516152913,
          -0.34492136425427206,
          2.642740897818084,
          0.41347183169097945,
          1.4222362844595409,
          1.0478656163489362,
          -1.4989625631723997,
          -1.1573817060636589,
          -0.1902543592584037,
          -1.5924763685255088,
          -0.04356499912556374,
          -0.32646573064441586,
          1.4195081126291589,
          1.3506300184179498,
          -1.8861410729263206,
          0.6078372185494824,
          0.5896587847914512,
          -1.8647497848327925,
          0.16162438429861858,
          0.6426130692999505,
          1.7639945077246302,
          0.7761834037906911,
          0.421145954098237,
          0.1854040095139653,
          0.9429598683866964,
          -0.7099509267598096,
          -1.7564388380669502,
          1.3881239407102857,
          -1.3120206969144075,
          -1.2360995942787971,
          -0.10177615060000193,
          1.207999550088633,
          0.11356010121118484,
          -0.13811616381196112,
          1.3505494572062853,
          1.0177776805673846,
          -1.4837634818277279,
          -0.6319011207391553,
          0.20812478489292638,
          -0.08134859369177261,
          -0.7277076405660484,
          0.840470334848689,
          -1.7870213204890557,
          0.03588632950819402,
          -0.3733539244362292,
          0.43292408303107593,
          -0.5686082275326253,
          -0.6758945175654862,
          -0.6070459436824658,
          1.1050416756450765,
          -0.059510924986301804,
          0.8447858158747069,
          0.499972993569185,
          -0.13434501044250866,
          -1.8070564697994906,
          -1.714991039757765,
          -0.3751013035128291,
          1.0953223101313094,
          -1.4369805212753772,
          0.39107212877171116,
          -0.2516191386082863,
          0.22228696010046495,
          0.1725199646415227,
          -1.050096031944785,
          0.5061413187280068,
          -0.12351473087442927,
          -0.7146092641508545,
          0.4954838312980374,
          1.3551362084378633,
          0.9634550093677506,
          1.0479339303158377,
          1.059923568234994,
          -0.7117493946644667,
          -1.0699478167895864,
          -0.2362919262806339,
          1.403646945157495,
          0.28071705389078044,
          -0.15182662408610997,
          0.17489614347413823,
          -0.9742686872933056,
          0.1786922050680465,
          -0.6273672164757751,
          -0.4488967123079796,
          -1.4551355833120438,
          -1.0757746516273758
         ]
        },
        {
         "boxpoints": false,
         "line": {
          "width": 1.3
         },
         "marker": {
          "color": "rgba(50, 171, 96, 1.0)"
         },
         "name": "C",
         "orientation": "v",
         "type": "box",
         "y": [
          -2.3073638620301433,
          -0.9962041490678315,
          1.3208116314786846,
          -0.025390771166009407,
          -0.9648363933317966,
          0.24326610193825265,
          0.7833001534921529,
          -0.8663752013312572,
          0.28426532861252757,
          1.8525904754774485,
          0.5164054496741013,
          1.2303099931032626,
          0.5360513363234279,
          0.7314049395469593,
          -0.05158527579854278,
          -0.5217391984873557,
          0.6011760081316192,
          0.09789419963031891,
          -0.4874882753947355,
          -0.2989607053704855,
          0.9383987116683369,
          -0.29624269819989724,
          -3.0132871456839267,
          -0.2600934938003665,
          -0.5169579690827044,
          -0.8119315582610903,
          -0.34731928941074086,
          -1.820136372657824,
          1.2256674920965915,
          -1.5566391864661864,
          -0.06809802410845756,
          -0.2871133753382355,
          0.9244116752222192,
          -0.6759585741687546,
          -0.6744735212611921,
          -1.6040426177574216,
          1.2850611144199247,
          0.8279989883462856,
          -0.2878489752861659,
          -0.23566306928665398,
          1.3076158299163698,
          -1.6401124481321587,
          0.546773763745836,
          0.2763863222089421,
          0.1382460666083625,
          0.34761977999188315,
          0.18678832068275122,
          -0.7826894546849915,
          -0.22804525413889637,
          -0.27774414758352944,
          -0.679220647452501,
          -0.5321792137613572,
          -1.1818314843254512,
          -0.24222642777041425,
          0.2594990627819901,
          1.6806485495058059,
          1.2494555826282385,
          1.7561180265516112,
          -0.18337912849127272,
          0.1986178157101335,
          1.1144016939165797,
          -1.1232355481853946,
          0.3312435482633644,
          -0.5356280710427399,
          -0.3475497394030127,
          1.3188617574462058,
          -0.03536711573532913,
          0.8809219197152772,
          0.0944716655023659,
          0.4550279458603338,
          1.8136067916398246,
          -0.18360533019846725,
          -0.23021685288304736,
          0.3406496620591469,
          1.4145557922085121,
          0.5315204905167306,
          -1.640263959883622,
          -1.0955524713900873,
          -1.4774176081870156,
          -0.33843055481629236,
          0.07218683504377033,
          -1.3554867431755546,
          -0.24673020354673178,
          -1.826836764908707,
          -0.5894495017125044,
          -1.5883001645521029,
          1.9347900221285799,
          0.9264335949306093,
          -0.19619855277123432,
          1.311730305133455,
          -0.005833191408164211,
          -0.15789828864743358,
          0.1270696407524092,
          1.6577163232652115,
          -0.05443421620407633,
          1.2837041675848508,
          0.5593938838023739,
          -1.5122145518614358,
          -1.3051058219297798,
          -0.09372562766382454
         ]
        },
        {
         "boxpoints": false,
         "line": {
          "width": 1.3
         },
         "marker": {
          "color": "rgba(128, 0, 128, 1.0)"
         },
         "name": "D",
         "orientation": "v",
         "type": "box",
         "y": [
          0.49209094387433777,
          0.9062738969829228,
          0.17329610259510156,
          -0.10736420792233334,
          0.6105223392819806,
          -1.691053205670486,
          1.728568659259317,
          -1.2008015945078236,
          -1.9179174593378803,
          -0.3579727607746801,
          1.1705371096116617,
          0.47667608570186953,
          0.4776399709111016,
          -0.9461143733421219,
          -0.4131117792381057,
          -1.1115425891296822,
          1.2860346537356238,
          0.3271027808073432,
          0.5159953352965916,
          0.27729083117100445,
          0.7752711293926082,
          0.7312747438193341,
          1.2198693462173729,
          0.6601897806334215,
          -1.1484082051607591,
          -0.3601506624529033,
          0.21892965155005714,
          -0.7446991443981005,
          -1.6010064110796367,
          1.3027877160597294,
          2.637352783614263,
          -1.164496585131879,
          -0.7988405568663156,
          0.11240713416388613,
          1.048160908681509,
          0.5619149248158571,
          0.06147046441390483,
          -0.5124104027274924,
          1.0115304797672606,
          -1.0608392192028855,
          -0.1749354641614772,
          0.6544231807132385,
          -0.2380150085031945,
          -1.0382675925006104,
          -0.9786969318035704,
          0.9353387685518132,
          0.6186048691727825,
          -1.051367316882182,
          0.5481837683884434,
          1.0869489723875991,
          -0.8276597485186798,
          -1.1423774236881996,
          -0.5987684068731174,
          2.262905971559901,
          0.8269721442349901,
          -1.3517187768902508,
          0.3046845694376493,
          -1.5691671988994118,
          -1.6147450747653498,
          0.9385118541776004,
          1.3772116111856814,
          -0.3887872739543808,
          -0.04981835019742325,
          0.49369312086794365,
          1.6798331571822096,
          1.0567192540587917,
          0.47869354866514785,
          -1.24362767645016,
          0.3188194983492261,
          0.6847930611588089,
          0.357196047620388,
          -1.0419965151392447,
          0.2547774715058307,
          -0.29597959868541857,
          -0.6981530674093167,
          -0.07526311848588445,
          -0.18163384482479397,
          0.31075032419206056,
          -0.19408849419085747,
          1.5738822461027282,
          -0.08032086069342659,
          1.059622216455474,
          -1.320266007365862,
          1.8918701425077586,
          0.28571864790101287,
          1.8446892555185024,
          -1.045913687048723,
          -0.39532679311263735,
          -0.7580947693260994,
          -0.247466127162814,
          1.210722428462035,
          -1.4024327566377963,
          0.5632509162805431,
          -0.13694559351436295,
          -0.08578184302281991,
          0.7981344850479162,
          -1.7176037255632028,
          1.9520742819822292,
          -0.3330151467131199,
          0.027219819562331278
         ]
        }
       ],
       "layout": {
        "legend": {
         "bgcolor": "#F5F6F9",
         "font": {
          "color": "#4D5663"
         }
        },
        "paper_bgcolor": "#F5F6F9",
        "plot_bgcolor": "#F5F6F9",
        "template": {
         "data": {
          "bar": [
           {
            "error_x": {
             "color": "#2a3f5f"
            },
            "error_y": {
             "color": "#2a3f5f"
            },
            "marker": {
             "line": {
              "color": "#E5ECF6",
              "width": 0.5
             }
            },
            "type": "bar"
           }
          ],
          "barpolar": [
           {
            "marker": {
             "line": {
              "color": "#E5ECF6",
              "width": 0.5
             }
            },
            "type": "barpolar"
           }
          ],
          "carpet": [
           {
            "aaxis": {
             "endlinecolor": "#2a3f5f",
             "gridcolor": "white",
             "linecolor": "white",
             "minorgridcolor": "white",
             "startlinecolor": "#2a3f5f"
            },
            "baxis": {
             "endlinecolor": "#2a3f5f",
             "gridcolor": "white",
             "linecolor": "white",
             "minorgridcolor": "white",
             "startlinecolor": "#2a3f5f"
            },
            "type": "carpet"
           }
          ],
          "choropleth": [
           {
            "colorbar": {
             "outlinewidth": 0,
             "ticks": ""
            },
            "type": "choropleth"
           }
          ],
          "contour": [
           {
            "colorbar": {
             "outlinewidth": 0,
             "ticks": ""
            },
            "colorscale": [
             [
              0,
              "#0d0887"
             ],
             [
              0.1111111111111111,
              "#46039f"
             ],
             [
              0.2222222222222222,
              "#7201a8"
             ],
             [
              0.3333333333333333,
              "#9c179e"
             ],
             [
              0.4444444444444444,
              "#bd3786"
             ],
             [
              0.5555555555555556,
              "#d8576b"
             ],
             [
              0.6666666666666666,
              "#ed7953"
             ],
             [
              0.7777777777777778,
              "#fb9f3a"
             ],
             [
              0.8888888888888888,
              "#fdca26"
             ],
             [
              1,
              "#f0f921"
             ]
            ],
            "type": "contour"
           }
          ],
          "contourcarpet": [
           {
            "colorbar": {
             "outlinewidth": 0,
             "ticks": ""
            },
            "type": "contourcarpet"
           }
          ],
          "heatmap": [
           {
            "colorbar": {
             "outlinewidth": 0,
             "ticks": ""
            },
            "colorscale": [
             [
              0,
              "#0d0887"
             ],
             [
              0.1111111111111111,
              "#46039f"
             ],
             [
              0.2222222222222222,
              "#7201a8"
             ],
             [
              0.3333333333333333,
              "#9c179e"
             ],
             [
              0.4444444444444444,
              "#bd3786"
             ],
             [
              0.5555555555555556,
              "#d8576b"
             ],
             [
              0.6666666666666666,
              "#ed7953"
             ],
             [
              0.7777777777777778,
              "#fb9f3a"
             ],
             [
              0.8888888888888888,
              "#fdca26"
             ],
             [
              1,
              "#f0f921"
             ]
            ],
            "type": "heatmap"
           }
          ],
          "heatmapgl": [
           {
            "colorbar": {
             "outlinewidth": 0,
             "ticks": ""
            },
            "colorscale": [
             [
              0,
              "#0d0887"
             ],
             [
              0.1111111111111111,
              "#46039f"
             ],
             [
              0.2222222222222222,
              "#7201a8"
             ],
             [
              0.3333333333333333,
              "#9c179e"
             ],
             [
              0.4444444444444444,
              "#bd3786"
             ],
             [
              0.5555555555555556,
              "#d8576b"
             ],
             [
              0.6666666666666666,
              "#ed7953"
             ],
             [
              0.7777777777777778,
              "#fb9f3a"
             ],
             [
              0.8888888888888888,
              "#fdca26"
             ],
             [
              1,
              "#f0f921"
             ]
            ],
            "type": "heatmapgl"
           }
          ],
          "histogram": [
           {
            "marker": {
             "colorbar": {
              "outlinewidth": 0,
              "ticks": ""
             }
            },
            "type": "histogram"
           }
          ],
          "histogram2d": [
           {
            "colorbar": {
             "outlinewidth": 0,
             "ticks": ""
            },
            "colorscale": [
             [
              0,
              "#0d0887"
             ],
             [
              0.1111111111111111,
              "#46039f"
             ],
             [
              0.2222222222222222,
              "#7201a8"
             ],
             [
              0.3333333333333333,
              "#9c179e"
             ],
             [
              0.4444444444444444,
              "#bd3786"
             ],
             [
              0.5555555555555556,
              "#d8576b"
             ],
             [
              0.6666666666666666,
              "#ed7953"
             ],
             [
              0.7777777777777778,
              "#fb9f3a"
             ],
             [
              0.8888888888888888,
              "#fdca26"
             ],
             [
              1,
              "#f0f921"
             ]
            ],
            "type": "histogram2d"
           }
          ],
          "histogram2dcontour": [
           {
            "colorbar": {
             "outlinewidth": 0,
             "ticks": ""
            },
            "colorscale": [
             [
              0,
              "#0d0887"
             ],
             [
              0.1111111111111111,
              "#46039f"
             ],
             [
              0.2222222222222222,
              "#7201a8"
             ],
             [
              0.3333333333333333,
              "#9c179e"
             ],
             [
              0.4444444444444444,
              "#bd3786"
             ],
             [
              0.5555555555555556,
              "#d8576b"
             ],
             [
              0.6666666666666666,
              "#ed7953"
             ],
             [
              0.7777777777777778,
              "#fb9f3a"
             ],
             [
              0.8888888888888888,
              "#fdca26"
             ],
             [
              1,
              "#f0f921"
             ]
            ],
            "type": "histogram2dcontour"
           }
          ],
          "mesh3d": [
           {
            "colorbar": {
             "outlinewidth": 0,
             "ticks": ""
            },
            "type": "mesh3d"
           }
          ],
          "parcoords": [
           {
            "line": {
             "colorbar": {
              "outlinewidth": 0,
              "ticks": ""
             }
            },
            "type": "parcoords"
           }
          ],
          "pie": [
           {
            "automargin": true,
            "type": "pie"
           }
          ],
          "scatter": [
           {
            "marker": {
             "colorbar": {
              "outlinewidth": 0,
              "ticks": ""
             }
            },
            "type": "scatter"
           }
          ],
          "scatter3d": [
           {
            "line": {
             "colorbar": {
              "outlinewidth": 0,
              "ticks": ""
             }
            },
            "marker": {
             "colorbar": {
              "outlinewidth": 0,
              "ticks": ""
             }
            },
            "type": "scatter3d"
           }
          ],
          "scattercarpet": [
           {
            "marker": {
             "colorbar": {
              "outlinewidth": 0,
              "ticks": ""
             }
            },
            "type": "scattercarpet"
           }
          ],
          "scattergeo": [
           {
            "marker": {
             "colorbar": {
              "outlinewidth": 0,
              "ticks": ""
             }
            },
            "type": "scattergeo"
           }
          ],
          "scattergl": [
           {
            "marker": {
             "colorbar": {
              "outlinewidth": 0,
              "ticks": ""
             }
            },
            "type": "scattergl"
           }
          ],
          "scattermapbox": [
           {
            "marker": {
             "colorbar": {
              "outlinewidth": 0,
              "ticks": ""
             }
            },
            "type": "scattermapbox"
           }
          ],
          "scatterpolar": [
           {
            "marker": {
             "colorbar": {
              "outlinewidth": 0,
              "ticks": ""
             }
            },
            "type": "scatterpolar"
           }
          ],
          "scatterpolargl": [
           {
            "marker": {
             "colorbar": {
              "outlinewidth": 0,
              "ticks": ""
             }
            },
            "type": "scatterpolargl"
           }
          ],
          "scatterternary": [
           {
            "marker": {
             "colorbar": {
              "outlinewidth": 0,
              "ticks": ""
             }
            },
            "type": "scatterternary"
           }
          ],
          "surface": [
           {
            "colorbar": {
             "outlinewidth": 0,
             "ticks": ""
            },
            "colorscale": [
             [
              0,
              "#0d0887"
             ],
             [
              0.1111111111111111,
              "#46039f"
             ],
             [
              0.2222222222222222,
              "#7201a8"
             ],
             [
              0.3333333333333333,
              "#9c179e"
             ],
             [
              0.4444444444444444,
              "#bd3786"
             ],
             [
              0.5555555555555556,
              "#d8576b"
             ],
             [
              0.6666666666666666,
              "#ed7953"
             ],
             [
              0.7777777777777778,
              "#fb9f3a"
             ],
             [
              0.8888888888888888,
              "#fdca26"
             ],
             [
              1,
              "#f0f921"
             ]
            ],
            "type": "surface"
           }
          ],
          "table": [
           {
            "cells": {
             "fill": {
              "color": "#EBF0F8"
             },
             "line": {
              "color": "white"
             }
            },
            "header": {
             "fill": {
              "color": "#C8D4E3"
             },
             "line": {
              "color": "white"
             }
            },
            "type": "table"
           }
          ]
         },
         "layout": {
          "annotationdefaults": {
           "arrowcolor": "#2a3f5f",
           "arrowhead": 0,
           "arrowwidth": 1
          },
          "coloraxis": {
           "colorbar": {
            "outlinewidth": 0,
            "ticks": ""
           }
          },
          "colorscale": {
           "diverging": [
            [
             0,
             "#8e0152"
            ],
            [
             0.1,
             "#c51b7d"
            ],
            [
             0.2,
             "#de77ae"
            ],
            [
             0.3,
             "#f1b6da"
            ],
            [
             0.4,
             "#fde0ef"
            ],
            [
             0.5,
             "#f7f7f7"
            ],
            [
             0.6,
             "#e6f5d0"
            ],
            [
             0.7,
             "#b8e186"
            ],
            [
             0.8,
             "#7fbc41"
            ],
            [
             0.9,
             "#4d9221"
            ],
            [
             1,
             "#276419"
            ]
           ],
           "sequential": [
            [
             0,
             "#0d0887"
            ],
            [
             0.1111111111111111,
             "#46039f"
            ],
            [
             0.2222222222222222,
             "#7201a8"
            ],
            [
             0.3333333333333333,
             "#9c179e"
            ],
            [
             0.4444444444444444,
             "#bd3786"
            ],
            [
             0.5555555555555556,
             "#d8576b"
            ],
            [
             0.6666666666666666,
             "#ed7953"
            ],
            [
             0.7777777777777778,
             "#fb9f3a"
            ],
            [
             0.8888888888888888,
             "#fdca26"
            ],
            [
             1,
             "#f0f921"
            ]
           ],
           "sequentialminus": [
            [
             0,
             "#0d0887"
            ],
            [
             0.1111111111111111,
             "#46039f"
            ],
            [
             0.2222222222222222,
             "#7201a8"
            ],
            [
             0.3333333333333333,
             "#9c179e"
            ],
            [
             0.4444444444444444,
             "#bd3786"
            ],
            [
             0.5555555555555556,
             "#d8576b"
            ],
            [
             0.6666666666666666,
             "#ed7953"
            ],
            [
             0.7777777777777778,
             "#fb9f3a"
            ],
            [
             0.8888888888888888,
             "#fdca26"
            ],
            [
             1,
             "#f0f921"
            ]
           ]
          },
          "colorway": [
           "#636efa",
           "#EF553B",
           "#00cc96",
           "#ab63fa",
           "#FFA15A",
           "#19d3f3",
           "#FF6692",
           "#B6E880",
           "#FF97FF",
           "#FECB52"
          ],
          "font": {
           "color": "#2a3f5f"
          },
          "geo": {
           "bgcolor": "white",
           "lakecolor": "white",
           "landcolor": "#E5ECF6",
           "showlakes": true,
           "showland": true,
           "subunitcolor": "white"
          },
          "hoverlabel": {
           "align": "left"
          },
          "hovermode": "closest",
          "mapbox": {
           "style": "light"
          },
          "paper_bgcolor": "white",
          "plot_bgcolor": "#E5ECF6",
          "polar": {
           "angularaxis": {
            "gridcolor": "white",
            "linecolor": "white",
            "ticks": ""
           },
           "bgcolor": "#E5ECF6",
           "radialaxis": {
            "gridcolor": "white",
            "linecolor": "white",
            "ticks": ""
           }
          },
          "scene": {
           "xaxis": {
            "backgroundcolor": "#E5ECF6",
            "gridcolor": "white",
            "gridwidth": 2,
            "linecolor": "white",
            "showbackground": true,
            "ticks": "",
            "zerolinecolor": "white"
           },
           "yaxis": {
            "backgroundcolor": "#E5ECF6",
            "gridcolor": "white",
            "gridwidth": 2,
            "linecolor": "white",
            "showbackground": true,
            "ticks": "",
            "zerolinecolor": "white"
           },
           "zaxis": {
            "backgroundcolor": "#E5ECF6",
            "gridcolor": "white",
            "gridwidth": 2,
            "linecolor": "white",
            "showbackground": true,
            "ticks": "",
            "zerolinecolor": "white"
           }
          },
          "shapedefaults": {
           "line": {
            "color": "#2a3f5f"
           }
          },
          "ternary": {
           "aaxis": {
            "gridcolor": "white",
            "linecolor": "white",
            "ticks": ""
           },
           "baxis": {
            "gridcolor": "white",
            "linecolor": "white",
            "ticks": ""
           },
           "bgcolor": "#E5ECF6",
           "caxis": {
            "gridcolor": "white",
            "linecolor": "white",
            "ticks": ""
           }
          },
          "title": {
           "x": 0.05
          },
          "xaxis": {
           "automargin": true,
           "gridcolor": "white",
           "linecolor": "white",
           "ticks": "",
           "title": {
            "standoff": 15
           },
           "zerolinecolor": "white",
           "zerolinewidth": 2
          },
          "yaxis": {
           "automargin": true,
           "gridcolor": "white",
           "linecolor": "white",
           "ticks": "",
           "title": {
            "standoff": 15
           },
           "zerolinecolor": "white",
           "zerolinewidth": 2
          }
         }
        },
        "title": {
         "font": {
          "color": "#4D5663"
         }
        },
        "xaxis": {
         "gridcolor": "#E1E5ED",
         "showgrid": true,
         "tickfont": {
          "color": "#4D5663"
         },
         "title": {
          "font": {
           "color": "#4D5663"
          },
          "text": ""
         },
         "zerolinecolor": "#E1E5ED"
        },
        "yaxis": {
         "gridcolor": "#E1E5ED",
         "showgrid": true,
         "tickfont": {
          "color": "#4D5663"
         },
         "title": {
          "font": {
           "color": "#4D5663"
          },
          "text": ""
         },
         "zerolinecolor": "#E1E5ED"
        }
       }
      },
      "text/html": [
       "<div>\n",
       "        \n",
       "        \n",
       "            <div id=\"e5110865-3419-4385-ab4f-47fed71a8b01\" class=\"plotly-graph-div\" style=\"height:525px; width:100%;\"></div>\n",
       "            <script type=\"text/javascript\">\n",
       "                require([\"plotly\"], function(Plotly) {\n",
       "                    window.PLOTLYENV=window.PLOTLYENV || {};\n",
       "                    window.PLOTLYENV.BASE_URL='https://plot.ly';\n",
       "                    \n",
       "                if (document.getElementById(\"e5110865-3419-4385-ab4f-47fed71a8b01\")) {\n",
       "                    Plotly.newPlot(\n",
       "                        'e5110865-3419-4385-ab4f-47fed71a8b01',\n",
       "                        [{\"boxpoints\": false, \"line\": {\"width\": 1.3}, \"marker\": {\"color\": \"rgba(255, 153, 51, 1.0)\"}, \"name\": \"A\", \"orientation\": \"v\", \"type\": \"box\", \"y\": [-0.6680661855631249, 0.1949766871965313, 0.03297058007779891, -0.6990703851144047, -1.1904809035565296, -0.9978851799370811, -1.8582319261511087, -0.5267661337775508, -1.5686461478635814, -1.0627343935664582, 0.9661118140498371, 0.565313506626537, -1.4206021024681288, 0.6560188287072177, 0.5342773017547415, 0.4439743344940591, 0.6052930388775157, 0.7164107464286641, 0.9375280230990192, -0.8939516328602036, 0.4924348203413822, -2.1780131590071496, -0.5438072379862946, -0.9334923463833898, 0.6713486104662258, -0.7065440484824034, -1.3874324539214875, -0.8896410077863353, -0.07984657932136635, -0.12572505592806968, 0.8137383767766075, -1.858491455192245, -0.3724586312111986, 2.402354817353567, 1.0410195382811984, -1.5139559628272126, 0.8076529167916344, -0.3035271559810558, 2.4116330281807286, 2.1223346600953814, 0.16436122619428503, -0.46652198272400175, 0.24256961333364677, 0.2863986325603095, -3.099977310251452, 0.3417341517045552, -1.229051663697874, -0.0825055265741576, 0.5643689745296832, 0.2643607398377007, 0.8404584998456432, -0.9599932628266316, 0.9620952929558358, 2.1487719813839155, 0.8702399277132442, -0.6786256915599027, -0.551562117174487, -0.7569418009249309, -0.7578840771473123, -0.7979818046465237, 1.7875060506298361, -1.1376330255000242, -1.7296967915248824, 1.0120261071074859, 0.07626292262330708, -0.5161229432965986, -1.9828965516645491, 1.2236247293138747, -1.4987687258773836, 0.728921907199498, -1.0224292690506944, 0.7636030501956129, -1.4035448034462434, 0.8741822629080838, -1.575143589119851, 0.5783812385108045, -0.9559912307275771, -0.06416912485000843, 1.5340650493135644, 1.0625590148885438, 0.8926470152500349, -0.10936690562114973, -0.24245197468062515, 1.5191649065321466, 0.736591302550211, 0.3806355692794749, -0.19094272495077746, -0.4809111086547659, -1.3393209311998107, 0.3444845242142359, -0.308530466508197, 0.5971519605520483, -0.2961393984777049, 2.0527924932523907, -0.42898583486115943, 0.7361587789620776, -0.6655264065881279, 0.4869596491478256, -0.42392394888161156, 0.0960209955254644]}, {\"boxpoints\": false, \"line\": {\"width\": 1.3}, \"marker\": {\"color\": \"rgba(55, 128, 191, 1.0)\"}, \"name\": \"B\", \"orientation\": \"v\", \"type\": \"box\", \"y\": [-0.6810784119889212, -0.12672851621571565, -2.0807241915160843, 2.1123832635269437, -0.037441185918270566, -0.8419160328363937, -0.965051019475013, 0.8311693286344598, -0.12892638840714116, -0.3223623657442055, -0.2651621978066173, 0.5751051482978644, -1.5954080823970926, 0.35868808673820946, 2.472151302817571, 0.262160516152913, -0.34492136425427206, 2.642740897818084, 0.41347183169097945, 1.4222362844595409, 1.0478656163489362, -1.4989625631723997, -1.1573817060636589, -0.1902543592584037, -1.5924763685255088, -0.04356499912556374, -0.32646573064441586, 1.4195081126291589, 1.3506300184179498, -1.8861410729263206, 0.6078372185494824, 0.5896587847914512, -1.8647497848327925, 0.16162438429861858, 0.6426130692999505, 1.7639945077246302, 0.7761834037906911, 0.421145954098237, 0.1854040095139653, 0.9429598683866964, -0.7099509267598096, -1.7564388380669502, 1.3881239407102857, -1.3120206969144075, -1.2360995942787971, -0.10177615060000193, 1.207999550088633, 0.11356010121118484, -0.13811616381196112, 1.3505494572062853, 1.0177776805673846, -1.4837634818277279, -0.6319011207391553, 0.20812478489292638, -0.08134859369177261, -0.7277076405660484, 0.840470334848689, -1.7870213204890557, 0.03588632950819402, -0.3733539244362292, 0.43292408303107593, -0.5686082275326253, -0.6758945175654862, -0.6070459436824658, 1.1050416756450765, -0.059510924986301804, 0.8447858158747069, 0.499972993569185, -0.13434501044250866, -1.8070564697994906, -1.714991039757765, -0.3751013035128291, 1.0953223101313094, -1.4369805212753772, 0.39107212877171116, -0.2516191386082863, 0.22228696010046495, 0.1725199646415227, -1.050096031944785, 0.5061413187280068, -0.12351473087442927, -0.7146092641508545, 0.4954838312980374, 1.3551362084378633, 0.9634550093677506, 1.0479339303158377, 1.059923568234994, -0.7117493946644667, -1.0699478167895864, -0.2362919262806339, 1.403646945157495, 0.28071705389078044, -0.15182662408610997, 0.17489614347413823, -0.9742686872933056, 0.1786922050680465, -0.6273672164757751, -0.4488967123079796, -1.4551355833120438, -1.0757746516273758]}, {\"boxpoints\": false, \"line\": {\"width\": 1.3}, \"marker\": {\"color\": \"rgba(50, 171, 96, 1.0)\"}, \"name\": \"C\", \"orientation\": \"v\", \"type\": \"box\", \"y\": [-2.3073638620301433, -0.9962041490678315, 1.3208116314786846, -0.025390771166009407, -0.9648363933317966, 0.24326610193825265, 0.7833001534921529, -0.8663752013312572, 0.28426532861252757, 1.8525904754774485, 0.5164054496741013, 1.2303099931032626, 0.5360513363234279, 0.7314049395469593, -0.05158527579854278, -0.5217391984873557, 0.6011760081316192, 0.09789419963031891, -0.4874882753947355, -0.2989607053704855, 0.9383987116683369, -0.29624269819989724, -3.0132871456839267, -0.2600934938003665, -0.5169579690827044, -0.8119315582610903, -0.34731928941074086, -1.820136372657824, 1.2256674920965915, -1.5566391864661864, -0.06809802410845756, -0.2871133753382355, 0.9244116752222192, -0.6759585741687546, -0.6744735212611921, -1.6040426177574216, 1.2850611144199247, 0.8279989883462856, -0.2878489752861659, -0.23566306928665398, 1.3076158299163698, -1.6401124481321587, 0.546773763745836, 0.2763863222089421, 0.1382460666083625, 0.34761977999188315, 0.18678832068275122, -0.7826894546849915, -0.22804525413889637, -0.27774414758352944, -0.679220647452501, -0.5321792137613572, -1.1818314843254512, -0.24222642777041425, 0.2594990627819901, 1.6806485495058059, 1.2494555826282385, 1.7561180265516112, -0.18337912849127272, 0.1986178157101335, 1.1144016939165797, -1.1232355481853946, 0.3312435482633644, -0.5356280710427399, -0.3475497394030127, 1.3188617574462058, -0.03536711573532913, 0.8809219197152772, 0.0944716655023659, 0.4550279458603338, 1.8136067916398246, -0.18360533019846725, -0.23021685288304736, 0.3406496620591469, 1.4145557922085121, 0.5315204905167306, -1.640263959883622, -1.0955524713900873, -1.4774176081870156, -0.33843055481629236, 0.07218683504377033, -1.3554867431755546, -0.24673020354673178, -1.826836764908707, -0.5894495017125044, -1.5883001645521029, 1.9347900221285799, 0.9264335949306093, -0.19619855277123432, 1.311730305133455, -0.005833191408164211, -0.15789828864743358, 0.1270696407524092, 1.6577163232652115, -0.05443421620407633, 1.2837041675848508, 0.5593938838023739, -1.5122145518614358, -1.3051058219297798, -0.09372562766382454]}, {\"boxpoints\": false, \"line\": {\"width\": 1.3}, \"marker\": {\"color\": \"rgba(128, 0, 128, 1.0)\"}, \"name\": \"D\", \"orientation\": \"v\", \"type\": \"box\", \"y\": [0.49209094387433777, 0.9062738969829228, 0.17329610259510156, -0.10736420792233334, 0.6105223392819806, -1.691053205670486, 1.728568659259317, -1.2008015945078236, -1.9179174593378803, -0.3579727607746801, 1.1705371096116617, 0.47667608570186953, 0.4776399709111016, -0.9461143733421219, -0.4131117792381057, -1.1115425891296822, 1.2860346537356238, 0.3271027808073432, 0.5159953352965916, 0.27729083117100445, 0.7752711293926082, 0.7312747438193341, 1.2198693462173729, 0.6601897806334215, -1.1484082051607591, -0.3601506624529033, 0.21892965155005714, -0.7446991443981005, -1.6010064110796367, 1.3027877160597294, 2.637352783614263, -1.164496585131879, -0.7988405568663156, 0.11240713416388613, 1.048160908681509, 0.5619149248158571, 0.06147046441390483, -0.5124104027274924, 1.0115304797672606, -1.0608392192028855, -0.1749354641614772, 0.6544231807132385, -0.2380150085031945, -1.0382675925006104, -0.9786969318035704, 0.9353387685518132, 0.6186048691727825, -1.051367316882182, 0.5481837683884434, 1.0869489723875991, -0.8276597485186798, -1.1423774236881996, -0.5987684068731174, 2.262905971559901, 0.8269721442349901, -1.3517187768902508, 0.3046845694376493, -1.5691671988994118, -1.6147450747653498, 0.9385118541776004, 1.3772116111856814, -0.3887872739543808, -0.04981835019742325, 0.49369312086794365, 1.6798331571822096, 1.0567192540587917, 0.47869354866514785, -1.24362767645016, 0.3188194983492261, 0.6847930611588089, 0.357196047620388, -1.0419965151392447, 0.2547774715058307, -0.29597959868541857, -0.6981530674093167, -0.07526311848588445, -0.18163384482479397, 0.31075032419206056, -0.19408849419085747, 1.5738822461027282, -0.08032086069342659, 1.059622216455474, -1.320266007365862, 1.8918701425077586, 0.28571864790101287, 1.8446892555185024, -1.045913687048723, -0.39532679311263735, -0.7580947693260994, -0.247466127162814, 1.210722428462035, -1.4024327566377963, 0.5632509162805431, -0.13694559351436295, -0.08578184302281991, 0.7981344850479162, -1.7176037255632028, 1.9520742819822292, -0.3330151467131199, 0.027219819562331278]}],\n",
       "                        {\"legend\": {\"bgcolor\": \"#F5F6F9\", \"font\": {\"color\": \"#4D5663\"}}, \"paper_bgcolor\": \"#F5F6F9\", \"plot_bgcolor\": \"#F5F6F9\", \"template\": {\"data\": {\"bar\": [{\"error_x\": {\"color\": \"#2a3f5f\"}, \"error_y\": {\"color\": \"#2a3f5f\"}, \"marker\": {\"line\": {\"color\": \"#E5ECF6\", \"width\": 0.5}}, \"type\": \"bar\"}], \"barpolar\": [{\"marker\": {\"line\": {\"color\": \"#E5ECF6\", \"width\": 0.5}}, \"type\": \"barpolar\"}], \"carpet\": [{\"aaxis\": {\"endlinecolor\": \"#2a3f5f\", \"gridcolor\": \"white\", \"linecolor\": \"white\", \"minorgridcolor\": \"white\", \"startlinecolor\": \"#2a3f5f\"}, \"baxis\": {\"endlinecolor\": \"#2a3f5f\", \"gridcolor\": \"white\", \"linecolor\": \"white\", \"minorgridcolor\": \"white\", \"startlinecolor\": \"#2a3f5f\"}, \"type\": \"carpet\"}], \"choropleth\": [{\"colorbar\": {\"outlinewidth\": 0, \"ticks\": \"\"}, \"type\": \"choropleth\"}], \"contour\": [{\"colorbar\": {\"outlinewidth\": 0, \"ticks\": \"\"}, \"colorscale\": [[0.0, \"#0d0887\"], [0.1111111111111111, \"#46039f\"], [0.2222222222222222, \"#7201a8\"], [0.3333333333333333, \"#9c179e\"], [0.4444444444444444, \"#bd3786\"], [0.5555555555555556, \"#d8576b\"], [0.6666666666666666, \"#ed7953\"], [0.7777777777777778, \"#fb9f3a\"], [0.8888888888888888, \"#fdca26\"], [1.0, \"#f0f921\"]], \"type\": \"contour\"}], \"contourcarpet\": [{\"colorbar\": {\"outlinewidth\": 0, \"ticks\": \"\"}, \"type\": \"contourcarpet\"}], \"heatmap\": [{\"colorbar\": {\"outlinewidth\": 0, \"ticks\": \"\"}, \"colorscale\": [[0.0, \"#0d0887\"], [0.1111111111111111, \"#46039f\"], [0.2222222222222222, \"#7201a8\"], [0.3333333333333333, \"#9c179e\"], [0.4444444444444444, \"#bd3786\"], [0.5555555555555556, \"#d8576b\"], [0.6666666666666666, \"#ed7953\"], [0.7777777777777778, \"#fb9f3a\"], [0.8888888888888888, \"#fdca26\"], [1.0, \"#f0f921\"]], \"type\": \"heatmap\"}], \"heatmapgl\": [{\"colorbar\": {\"outlinewidth\": 0, \"ticks\": \"\"}, \"colorscale\": [[0.0, \"#0d0887\"], [0.1111111111111111, \"#46039f\"], [0.2222222222222222, \"#7201a8\"], [0.3333333333333333, \"#9c179e\"], [0.4444444444444444, \"#bd3786\"], [0.5555555555555556, \"#d8576b\"], [0.6666666666666666, \"#ed7953\"], [0.7777777777777778, \"#fb9f3a\"], [0.8888888888888888, \"#fdca26\"], [1.0, \"#f0f921\"]], \"type\": \"heatmapgl\"}], \"histogram\": [{\"marker\": {\"colorbar\": {\"outlinewidth\": 0, \"ticks\": \"\"}}, \"type\": \"histogram\"}], \"histogram2d\": [{\"colorbar\": {\"outlinewidth\": 0, \"ticks\": \"\"}, \"colorscale\": [[0.0, \"#0d0887\"], [0.1111111111111111, \"#46039f\"], [0.2222222222222222, \"#7201a8\"], [0.3333333333333333, \"#9c179e\"], [0.4444444444444444, \"#bd3786\"], [0.5555555555555556, \"#d8576b\"], [0.6666666666666666, \"#ed7953\"], [0.7777777777777778, \"#fb9f3a\"], [0.8888888888888888, \"#fdca26\"], [1.0, \"#f0f921\"]], \"type\": \"histogram2d\"}], \"histogram2dcontour\": [{\"colorbar\": {\"outlinewidth\": 0, \"ticks\": \"\"}, \"colorscale\": [[0.0, \"#0d0887\"], [0.1111111111111111, \"#46039f\"], [0.2222222222222222, \"#7201a8\"], [0.3333333333333333, \"#9c179e\"], [0.4444444444444444, \"#bd3786\"], [0.5555555555555556, \"#d8576b\"], [0.6666666666666666, \"#ed7953\"], [0.7777777777777778, \"#fb9f3a\"], [0.8888888888888888, \"#fdca26\"], [1.0, \"#f0f921\"]], \"type\": \"histogram2dcontour\"}], \"mesh3d\": [{\"colorbar\": {\"outlinewidth\": 0, \"ticks\": \"\"}, \"type\": \"mesh3d\"}], \"parcoords\": [{\"line\": {\"colorbar\": {\"outlinewidth\": 0, \"ticks\": \"\"}}, \"type\": \"parcoords\"}], \"pie\": [{\"automargin\": true, \"type\": \"pie\"}], \"scatter\": [{\"marker\": {\"colorbar\": {\"outlinewidth\": 0, \"ticks\": \"\"}}, \"type\": \"scatter\"}], \"scatter3d\": [{\"line\": {\"colorbar\": {\"outlinewidth\": 0, \"ticks\": \"\"}}, \"marker\": {\"colorbar\": {\"outlinewidth\": 0, \"ticks\": \"\"}}, \"type\": \"scatter3d\"}], \"scattercarpet\": [{\"marker\": {\"colorbar\": {\"outlinewidth\": 0, \"ticks\": \"\"}}, \"type\": \"scattercarpet\"}], \"scattergeo\": [{\"marker\": {\"colorbar\": {\"outlinewidth\": 0, \"ticks\": \"\"}}, \"type\": \"scattergeo\"}], \"scattergl\": [{\"marker\": {\"colorbar\": {\"outlinewidth\": 0, \"ticks\": \"\"}}, \"type\": \"scattergl\"}], \"scattermapbox\": [{\"marker\": {\"colorbar\": {\"outlinewidth\": 0, \"ticks\": \"\"}}, \"type\": \"scattermapbox\"}], \"scatterpolar\": [{\"marker\": {\"colorbar\": {\"outlinewidth\": 0, \"ticks\": \"\"}}, \"type\": \"scatterpolar\"}], \"scatterpolargl\": [{\"marker\": {\"colorbar\": {\"outlinewidth\": 0, \"ticks\": \"\"}}, \"type\": \"scatterpolargl\"}], \"scatterternary\": [{\"marker\": {\"colorbar\": {\"outlinewidth\": 0, \"ticks\": \"\"}}, \"type\": \"scatterternary\"}], \"surface\": [{\"colorbar\": {\"outlinewidth\": 0, \"ticks\": \"\"}, \"colorscale\": [[0.0, \"#0d0887\"], [0.1111111111111111, \"#46039f\"], [0.2222222222222222, \"#7201a8\"], [0.3333333333333333, \"#9c179e\"], [0.4444444444444444, \"#bd3786\"], [0.5555555555555556, \"#d8576b\"], [0.6666666666666666, \"#ed7953\"], [0.7777777777777778, \"#fb9f3a\"], [0.8888888888888888, \"#fdca26\"], [1.0, \"#f0f921\"]], \"type\": \"surface\"}], \"table\": [{\"cells\": {\"fill\": {\"color\": \"#EBF0F8\"}, \"line\": {\"color\": \"white\"}}, \"header\": {\"fill\": {\"color\": \"#C8D4E3\"}, \"line\": {\"color\": \"white\"}}, \"type\": \"table\"}]}, \"layout\": {\"annotationdefaults\": {\"arrowcolor\": \"#2a3f5f\", \"arrowhead\": 0, \"arrowwidth\": 1}, \"coloraxis\": {\"colorbar\": {\"outlinewidth\": 0, \"ticks\": \"\"}}, \"colorscale\": {\"diverging\": [[0, \"#8e0152\"], [0.1, \"#c51b7d\"], [0.2, \"#de77ae\"], [0.3, \"#f1b6da\"], [0.4, \"#fde0ef\"], [0.5, \"#f7f7f7\"], [0.6, \"#e6f5d0\"], [0.7, \"#b8e186\"], [0.8, \"#7fbc41\"], [0.9, \"#4d9221\"], [1, \"#276419\"]], \"sequential\": [[0.0, \"#0d0887\"], [0.1111111111111111, \"#46039f\"], [0.2222222222222222, \"#7201a8\"], [0.3333333333333333, \"#9c179e\"], [0.4444444444444444, \"#bd3786\"], [0.5555555555555556, \"#d8576b\"], [0.6666666666666666, \"#ed7953\"], [0.7777777777777778, \"#fb9f3a\"], [0.8888888888888888, \"#fdca26\"], [1.0, \"#f0f921\"]], \"sequentialminus\": [[0.0, \"#0d0887\"], [0.1111111111111111, \"#46039f\"], [0.2222222222222222, \"#7201a8\"], [0.3333333333333333, \"#9c179e\"], [0.4444444444444444, \"#bd3786\"], [0.5555555555555556, \"#d8576b\"], [0.6666666666666666, \"#ed7953\"], [0.7777777777777778, \"#fb9f3a\"], [0.8888888888888888, \"#fdca26\"], [1.0, \"#f0f921\"]]}, \"colorway\": [\"#636efa\", \"#EF553B\", \"#00cc96\", \"#ab63fa\", \"#FFA15A\", \"#19d3f3\", \"#FF6692\", \"#B6E880\", \"#FF97FF\", \"#FECB52\"], \"font\": {\"color\": \"#2a3f5f\"}, \"geo\": {\"bgcolor\": \"white\", \"lakecolor\": \"white\", \"landcolor\": \"#E5ECF6\", \"showlakes\": true, \"showland\": true, \"subunitcolor\": \"white\"}, \"hoverlabel\": {\"align\": \"left\"}, \"hovermode\": \"closest\", \"mapbox\": {\"style\": \"light\"}, \"paper_bgcolor\": \"white\", \"plot_bgcolor\": \"#E5ECF6\", \"polar\": {\"angularaxis\": {\"gridcolor\": \"white\", \"linecolor\": \"white\", \"ticks\": \"\"}, \"bgcolor\": \"#E5ECF6\", \"radialaxis\": {\"gridcolor\": \"white\", \"linecolor\": \"white\", \"ticks\": \"\"}}, \"scene\": {\"xaxis\": {\"backgroundcolor\": \"#E5ECF6\", \"gridcolor\": \"white\", \"gridwidth\": 2, \"linecolor\": \"white\", \"showbackground\": true, \"ticks\": \"\", \"zerolinecolor\": \"white\"}, \"yaxis\": {\"backgroundcolor\": \"#E5ECF6\", \"gridcolor\": \"white\", \"gridwidth\": 2, \"linecolor\": \"white\", \"showbackground\": true, \"ticks\": \"\", \"zerolinecolor\": \"white\"}, \"zaxis\": {\"backgroundcolor\": \"#E5ECF6\", \"gridcolor\": \"white\", \"gridwidth\": 2, \"linecolor\": \"white\", \"showbackground\": true, \"ticks\": \"\", \"zerolinecolor\": \"white\"}}, \"shapedefaults\": {\"line\": {\"color\": \"#2a3f5f\"}}, \"ternary\": {\"aaxis\": {\"gridcolor\": \"white\", \"linecolor\": \"white\", \"ticks\": \"\"}, \"baxis\": {\"gridcolor\": \"white\", \"linecolor\": \"white\", \"ticks\": \"\"}, \"bgcolor\": \"#E5ECF6\", \"caxis\": {\"gridcolor\": \"white\", \"linecolor\": \"white\", \"ticks\": \"\"}}, \"title\": {\"x\": 0.05}, \"xaxis\": {\"automargin\": true, \"gridcolor\": \"white\", \"linecolor\": \"white\", \"ticks\": \"\", \"title\": {\"standoff\": 15}, \"zerolinecolor\": \"white\", \"zerolinewidth\": 2}, \"yaxis\": {\"automargin\": true, \"gridcolor\": \"white\", \"linecolor\": \"white\", \"ticks\": \"\", \"title\": {\"standoff\": 15}, \"zerolinecolor\": \"white\", \"zerolinewidth\": 2}}}, \"title\": {\"font\": {\"color\": \"#4D5663\"}}, \"xaxis\": {\"gridcolor\": \"#E1E5ED\", \"showgrid\": true, \"tickfont\": {\"color\": \"#4D5663\"}, \"title\": {\"font\": {\"color\": \"#4D5663\"}, \"text\": \"\"}, \"zerolinecolor\": \"#E1E5ED\"}, \"yaxis\": {\"gridcolor\": \"#E1E5ED\", \"showgrid\": true, \"tickfont\": {\"color\": \"#4D5663\"}, \"title\": {\"font\": {\"color\": \"#4D5663\"}, \"text\": \"\"}, \"zerolinecolor\": \"#E1E5ED\"}},\n",
       "                        {\"showLink\": true, \"linkText\": \"Export to plot.ly\", \"plotlyServerURL\": \"https://plot.ly\", \"responsive\": true}\n",
       "                    ).then(function(){\n",
       "                            \n",
       "var gd = document.getElementById('e5110865-3419-4385-ab4f-47fed71a8b01');\n",
       "var x = new MutationObserver(function (mutations, observer) {{\n",
       "        var display = window.getComputedStyle(gd).display;\n",
       "        if (!display || display === 'none') {{\n",
       "            console.log([gd, 'removed!']);\n",
       "            Plotly.purge(gd);\n",
       "            observer.disconnect();\n",
       "        }}\n",
       "}});\n",
       "\n",
       "// Listen for the removal of the full notebook cells\n",
       "var notebookContainer = gd.closest('#notebook-container');\n",
       "if (notebookContainer) {{\n",
       "    x.observe(notebookContainer, {childList: true});\n",
       "}}\n",
       "\n",
       "// Listen for the clearing of the current output cell\n",
       "var outputEl = gd.closest('.output');\n",
       "if (outputEl) {{\n",
       "    x.observe(outputEl, {childList: true});\n",
       "}}\n",
       "\n",
       "                        })\n",
       "                };\n",
       "                });\n",
       "            </script>\n",
       "        </div>"
      ]
     },
     "metadata": {},
     "output_type": "display_data"
    }
   ],
   "source": [
    "df.iplot(kind='box')"
   ]
  },
  {
   "cell_type": "markdown",
   "metadata": {},
   "source": [
    "## 3D surface plot"
   ]
  },
  {
   "cell_type": "code",
   "execution_count": 20,
   "metadata": {},
   "outputs": [],
   "source": [
    "df3 = pd.DataFrame({'x':[1,2,3,4,5],'y':[10,20,30,20,10],'z':[500,400,300,200,100]})"
   ]
  },
  {
   "cell_type": "code",
   "execution_count": 21,
   "metadata": {},
   "outputs": [
    {
     "data": {
      "text/html": [
       "<div>\n",
       "<style scoped>\n",
       "    .dataframe tbody tr th:only-of-type {\n",
       "        vertical-align: middle;\n",
       "    }\n",
       "\n",
       "    .dataframe tbody tr th {\n",
       "        vertical-align: top;\n",
       "    }\n",
       "\n",
       "    .dataframe thead th {\n",
       "        text-align: right;\n",
       "    }\n",
       "</style>\n",
       "<table border=\"1\" class=\"dataframe\">\n",
       "  <thead>\n",
       "    <tr style=\"text-align: right;\">\n",
       "      <th></th>\n",
       "      <th>x</th>\n",
       "      <th>y</th>\n",
       "      <th>z</th>\n",
       "    </tr>\n",
       "  </thead>\n",
       "  <tbody>\n",
       "    <tr>\n",
       "      <th>0</th>\n",
       "      <td>1</td>\n",
       "      <td>10</td>\n",
       "      <td>500</td>\n",
       "    </tr>\n",
       "    <tr>\n",
       "      <th>1</th>\n",
       "      <td>2</td>\n",
       "      <td>20</td>\n",
       "      <td>400</td>\n",
       "    </tr>\n",
       "    <tr>\n",
       "      <th>2</th>\n",
       "      <td>3</td>\n",
       "      <td>30</td>\n",
       "      <td>300</td>\n",
       "    </tr>\n",
       "    <tr>\n",
       "      <th>3</th>\n",
       "      <td>4</td>\n",
       "      <td>20</td>\n",
       "      <td>200</td>\n",
       "    </tr>\n",
       "    <tr>\n",
       "      <th>4</th>\n",
       "      <td>5</td>\n",
       "      <td>10</td>\n",
       "      <td>100</td>\n",
       "    </tr>\n",
       "  </tbody>\n",
       "</table>\n",
       "</div>"
      ],
      "text/plain": [
       "   x   y    z\n",
       "0  1  10  500\n",
       "1  2  20  400\n",
       "2  3  30  300\n",
       "3  4  20  200\n",
       "4  5  10  100"
      ]
     },
     "execution_count": 21,
     "metadata": {},
     "output_type": "execute_result"
    }
   ],
   "source": [
    "df3"
   ]
  },
  {
   "cell_type": "code",
   "execution_count": 22,
   "metadata": {},
   "outputs": [
    {
     "data": {
      "application/vnd.plotly.v1+json": {
       "config": {
        "linkText": "Export to plot.ly",
        "plotlyServerURL": "https://plot.ly",
        "showLink": true
       },
       "data": [
        {
         "colorscale": [
          [
           0,
           "rgb(255, 153, 51)"
          ],
          [
           0.1111111111111111,
           "rgb(55, 128, 191)"
          ],
          [
           0.2222222222222222,
           "rgb(50, 171, 96)"
          ],
          [
           0.3333333333333333,
           "rgb(128, 0, 128)"
          ],
          [
           0.4444444444444444,
           "rgb(219, 64, 82)"
          ],
          [
           0.5555555555555556,
           "rgb(0, 128, 128)"
          ],
          [
           0.6666666666666666,
           "rgb(255, 255, 51)"
          ],
          [
           0.7777777777777778,
           "rgb(128, 128, 0)"
          ],
          [
           0.8888888888888888,
           "rgb(251, 128, 114)"
          ],
          [
           1,
           "rgb(128, 177, 211)"
          ]
         ],
         "type": "surface",
         "x": [
          0,
          1,
          2,
          3,
          4
         ],
         "y": [
          "x",
          "y",
          "z"
         ],
         "z": [
          [
           1,
           2,
           3,
           4,
           5
          ],
          [
           10,
           20,
           30,
           20,
           10
          ],
          [
           500,
           400,
           300,
           200,
           100
          ]
         ]
        }
       ],
       "layout": {
        "legend": {
         "bgcolor": "#F5F6F9",
         "font": {
          "color": "#4D5663"
         }
        },
        "paper_bgcolor": "#F5F6F9",
        "plot_bgcolor": "#F5F6F9",
        "template": {
         "data": {
          "bar": [
           {
            "error_x": {
             "color": "#2a3f5f"
            },
            "error_y": {
             "color": "#2a3f5f"
            },
            "marker": {
             "line": {
              "color": "#E5ECF6",
              "width": 0.5
             }
            },
            "type": "bar"
           }
          ],
          "barpolar": [
           {
            "marker": {
             "line": {
              "color": "#E5ECF6",
              "width": 0.5
             }
            },
            "type": "barpolar"
           }
          ],
          "carpet": [
           {
            "aaxis": {
             "endlinecolor": "#2a3f5f",
             "gridcolor": "white",
             "linecolor": "white",
             "minorgridcolor": "white",
             "startlinecolor": "#2a3f5f"
            },
            "baxis": {
             "endlinecolor": "#2a3f5f",
             "gridcolor": "white",
             "linecolor": "white",
             "minorgridcolor": "white",
             "startlinecolor": "#2a3f5f"
            },
            "type": "carpet"
           }
          ],
          "choropleth": [
           {
            "colorbar": {
             "outlinewidth": 0,
             "ticks": ""
            },
            "type": "choropleth"
           }
          ],
          "contour": [
           {
            "colorbar": {
             "outlinewidth": 0,
             "ticks": ""
            },
            "colorscale": [
             [
              0,
              "#0d0887"
             ],
             [
              0.1111111111111111,
              "#46039f"
             ],
             [
              0.2222222222222222,
              "#7201a8"
             ],
             [
              0.3333333333333333,
              "#9c179e"
             ],
             [
              0.4444444444444444,
              "#bd3786"
             ],
             [
              0.5555555555555556,
              "#d8576b"
             ],
             [
              0.6666666666666666,
              "#ed7953"
             ],
             [
              0.7777777777777778,
              "#fb9f3a"
             ],
             [
              0.8888888888888888,
              "#fdca26"
             ],
             [
              1,
              "#f0f921"
             ]
            ],
            "type": "contour"
           }
          ],
          "contourcarpet": [
           {
            "colorbar": {
             "outlinewidth": 0,
             "ticks": ""
            },
            "type": "contourcarpet"
           }
          ],
          "heatmap": [
           {
            "colorbar": {
             "outlinewidth": 0,
             "ticks": ""
            },
            "colorscale": [
             [
              0,
              "#0d0887"
             ],
             [
              0.1111111111111111,
              "#46039f"
             ],
             [
              0.2222222222222222,
              "#7201a8"
             ],
             [
              0.3333333333333333,
              "#9c179e"
             ],
             [
              0.4444444444444444,
              "#bd3786"
             ],
             [
              0.5555555555555556,
              "#d8576b"
             ],
             [
              0.6666666666666666,
              "#ed7953"
             ],
             [
              0.7777777777777778,
              "#fb9f3a"
             ],
             [
              0.8888888888888888,
              "#fdca26"
             ],
             [
              1,
              "#f0f921"
             ]
            ],
            "type": "heatmap"
           }
          ],
          "heatmapgl": [
           {
            "colorbar": {
             "outlinewidth": 0,
             "ticks": ""
            },
            "colorscale": [
             [
              0,
              "#0d0887"
             ],
             [
              0.1111111111111111,
              "#46039f"
             ],
             [
              0.2222222222222222,
              "#7201a8"
             ],
             [
              0.3333333333333333,
              "#9c179e"
             ],
             [
              0.4444444444444444,
              "#bd3786"
             ],
             [
              0.5555555555555556,
              "#d8576b"
             ],
             [
              0.6666666666666666,
              "#ed7953"
             ],
             [
              0.7777777777777778,
              "#fb9f3a"
             ],
             [
              0.8888888888888888,
              "#fdca26"
             ],
             [
              1,
              "#f0f921"
             ]
            ],
            "type": "heatmapgl"
           }
          ],
          "histogram": [
           {
            "marker": {
             "colorbar": {
              "outlinewidth": 0,
              "ticks": ""
             }
            },
            "type": "histogram"
           }
          ],
          "histogram2d": [
           {
            "colorbar": {
             "outlinewidth": 0,
             "ticks": ""
            },
            "colorscale": [
             [
              0,
              "#0d0887"
             ],
             [
              0.1111111111111111,
              "#46039f"
             ],
             [
              0.2222222222222222,
              "#7201a8"
             ],
             [
              0.3333333333333333,
              "#9c179e"
             ],
             [
              0.4444444444444444,
              "#bd3786"
             ],
             [
              0.5555555555555556,
              "#d8576b"
             ],
             [
              0.6666666666666666,
              "#ed7953"
             ],
             [
              0.7777777777777778,
              "#fb9f3a"
             ],
             [
              0.8888888888888888,
              "#fdca26"
             ],
             [
              1,
              "#f0f921"
             ]
            ],
            "type": "histogram2d"
           }
          ],
          "histogram2dcontour": [
           {
            "colorbar": {
             "outlinewidth": 0,
             "ticks": ""
            },
            "colorscale": [
             [
              0,
              "#0d0887"
             ],
             [
              0.1111111111111111,
              "#46039f"
             ],
             [
              0.2222222222222222,
              "#7201a8"
             ],
             [
              0.3333333333333333,
              "#9c179e"
             ],
             [
              0.4444444444444444,
              "#bd3786"
             ],
             [
              0.5555555555555556,
              "#d8576b"
             ],
             [
              0.6666666666666666,
              "#ed7953"
             ],
             [
              0.7777777777777778,
              "#fb9f3a"
             ],
             [
              0.8888888888888888,
              "#fdca26"
             ],
             [
              1,
              "#f0f921"
             ]
            ],
            "type": "histogram2dcontour"
           }
          ],
          "mesh3d": [
           {
            "colorbar": {
             "outlinewidth": 0,
             "ticks": ""
            },
            "type": "mesh3d"
           }
          ],
          "parcoords": [
           {
            "line": {
             "colorbar": {
              "outlinewidth": 0,
              "ticks": ""
             }
            },
            "type": "parcoords"
           }
          ],
          "pie": [
           {
            "automargin": true,
            "type": "pie"
           }
          ],
          "scatter": [
           {
            "marker": {
             "colorbar": {
              "outlinewidth": 0,
              "ticks": ""
             }
            },
            "type": "scatter"
           }
          ],
          "scatter3d": [
           {
            "line": {
             "colorbar": {
              "outlinewidth": 0,
              "ticks": ""
             }
            },
            "marker": {
             "colorbar": {
              "outlinewidth": 0,
              "ticks": ""
             }
            },
            "type": "scatter3d"
           }
          ],
          "scattercarpet": [
           {
            "marker": {
             "colorbar": {
              "outlinewidth": 0,
              "ticks": ""
             }
            },
            "type": "scattercarpet"
           }
          ],
          "scattergeo": [
           {
            "marker": {
             "colorbar": {
              "outlinewidth": 0,
              "ticks": ""
             }
            },
            "type": "scattergeo"
           }
          ],
          "scattergl": [
           {
            "marker": {
             "colorbar": {
              "outlinewidth": 0,
              "ticks": ""
             }
            },
            "type": "scattergl"
           }
          ],
          "scattermapbox": [
           {
            "marker": {
             "colorbar": {
              "outlinewidth": 0,
              "ticks": ""
             }
            },
            "type": "scattermapbox"
           }
          ],
          "scatterpolar": [
           {
            "marker": {
             "colorbar": {
              "outlinewidth": 0,
              "ticks": ""
             }
            },
            "type": "scatterpolar"
           }
          ],
          "scatterpolargl": [
           {
            "marker": {
             "colorbar": {
              "outlinewidth": 0,
              "ticks": ""
             }
            },
            "type": "scatterpolargl"
           }
          ],
          "scatterternary": [
           {
            "marker": {
             "colorbar": {
              "outlinewidth": 0,
              "ticks": ""
             }
            },
            "type": "scatterternary"
           }
          ],
          "surface": [
           {
            "colorbar": {
             "outlinewidth": 0,
             "ticks": ""
            },
            "colorscale": [
             [
              0,
              "#0d0887"
             ],
             [
              0.1111111111111111,
              "#46039f"
             ],
             [
              0.2222222222222222,
              "#7201a8"
             ],
             [
              0.3333333333333333,
              "#9c179e"
             ],
             [
              0.4444444444444444,
              "#bd3786"
             ],
             [
              0.5555555555555556,
              "#d8576b"
             ],
             [
              0.6666666666666666,
              "#ed7953"
             ],
             [
              0.7777777777777778,
              "#fb9f3a"
             ],
             [
              0.8888888888888888,
              "#fdca26"
             ],
             [
              1,
              "#f0f921"
             ]
            ],
            "type": "surface"
           }
          ],
          "table": [
           {
            "cells": {
             "fill": {
              "color": "#EBF0F8"
             },
             "line": {
              "color": "white"
             }
            },
            "header": {
             "fill": {
              "color": "#C8D4E3"
             },
             "line": {
              "color": "white"
             }
            },
            "type": "table"
           }
          ]
         },
         "layout": {
          "annotationdefaults": {
           "arrowcolor": "#2a3f5f",
           "arrowhead": 0,
           "arrowwidth": 1
          },
          "coloraxis": {
           "colorbar": {
            "outlinewidth": 0,
            "ticks": ""
           }
          },
          "colorscale": {
           "diverging": [
            [
             0,
             "#8e0152"
            ],
            [
             0.1,
             "#c51b7d"
            ],
            [
             0.2,
             "#de77ae"
            ],
            [
             0.3,
             "#f1b6da"
            ],
            [
             0.4,
             "#fde0ef"
            ],
            [
             0.5,
             "#f7f7f7"
            ],
            [
             0.6,
             "#e6f5d0"
            ],
            [
             0.7,
             "#b8e186"
            ],
            [
             0.8,
             "#7fbc41"
            ],
            [
             0.9,
             "#4d9221"
            ],
            [
             1,
             "#276419"
            ]
           ],
           "sequential": [
            [
             0,
             "#0d0887"
            ],
            [
             0.1111111111111111,
             "#46039f"
            ],
            [
             0.2222222222222222,
             "#7201a8"
            ],
            [
             0.3333333333333333,
             "#9c179e"
            ],
            [
             0.4444444444444444,
             "#bd3786"
            ],
            [
             0.5555555555555556,
             "#d8576b"
            ],
            [
             0.6666666666666666,
             "#ed7953"
            ],
            [
             0.7777777777777778,
             "#fb9f3a"
            ],
            [
             0.8888888888888888,
             "#fdca26"
            ],
            [
             1,
             "#f0f921"
            ]
           ],
           "sequentialminus": [
            [
             0,
             "#0d0887"
            ],
            [
             0.1111111111111111,
             "#46039f"
            ],
            [
             0.2222222222222222,
             "#7201a8"
            ],
            [
             0.3333333333333333,
             "#9c179e"
            ],
            [
             0.4444444444444444,
             "#bd3786"
            ],
            [
             0.5555555555555556,
             "#d8576b"
            ],
            [
             0.6666666666666666,
             "#ed7953"
            ],
            [
             0.7777777777777778,
             "#fb9f3a"
            ],
            [
             0.8888888888888888,
             "#fdca26"
            ],
            [
             1,
             "#f0f921"
            ]
           ]
          },
          "colorway": [
           "#636efa",
           "#EF553B",
           "#00cc96",
           "#ab63fa",
           "#FFA15A",
           "#19d3f3",
           "#FF6692",
           "#B6E880",
           "#FF97FF",
           "#FECB52"
          ],
          "font": {
           "color": "#2a3f5f"
          },
          "geo": {
           "bgcolor": "white",
           "lakecolor": "white",
           "landcolor": "#E5ECF6",
           "showlakes": true,
           "showland": true,
           "subunitcolor": "white"
          },
          "hoverlabel": {
           "align": "left"
          },
          "hovermode": "closest",
          "mapbox": {
           "style": "light"
          },
          "paper_bgcolor": "white",
          "plot_bgcolor": "#E5ECF6",
          "polar": {
           "angularaxis": {
            "gridcolor": "white",
            "linecolor": "white",
            "ticks": ""
           },
           "bgcolor": "#E5ECF6",
           "radialaxis": {
            "gridcolor": "white",
            "linecolor": "white",
            "ticks": ""
           }
          },
          "scene": {
           "xaxis": {
            "backgroundcolor": "#E5ECF6",
            "gridcolor": "white",
            "gridwidth": 2,
            "linecolor": "white",
            "showbackground": true,
            "ticks": "",
            "zerolinecolor": "white"
           },
           "yaxis": {
            "backgroundcolor": "#E5ECF6",
            "gridcolor": "white",
            "gridwidth": 2,
            "linecolor": "white",
            "showbackground": true,
            "ticks": "",
            "zerolinecolor": "white"
           },
           "zaxis": {
            "backgroundcolor": "#E5ECF6",
            "gridcolor": "white",
            "gridwidth": 2,
            "linecolor": "white",
            "showbackground": true,
            "ticks": "",
            "zerolinecolor": "white"
           }
          },
          "shapedefaults": {
           "line": {
            "color": "#2a3f5f"
           }
          },
          "ternary": {
           "aaxis": {
            "gridcolor": "white",
            "linecolor": "white",
            "ticks": ""
           },
           "baxis": {
            "gridcolor": "white",
            "linecolor": "white",
            "ticks": ""
           },
           "bgcolor": "#E5ECF6",
           "caxis": {
            "gridcolor": "white",
            "linecolor": "white",
            "ticks": ""
           }
          },
          "title": {
           "x": 0.05
          },
          "xaxis": {
           "automargin": true,
           "gridcolor": "white",
           "linecolor": "white",
           "ticks": "",
           "title": {
            "standoff": 15
           },
           "zerolinecolor": "white",
           "zerolinewidth": 2
          },
          "yaxis": {
           "automargin": true,
           "gridcolor": "white",
           "linecolor": "white",
           "ticks": "",
           "title": {
            "standoff": 15
           },
           "zerolinecolor": "white",
           "zerolinewidth": 2
          }
         }
        },
        "title": {
         "font": {
          "color": "#4D5663"
         }
        },
        "xaxis": {
         "gridcolor": "#E1E5ED",
         "showgrid": true,
         "tickfont": {
          "color": "#4D5663"
         },
         "title": {
          "font": {
           "color": "#4D5663"
          },
          "text": ""
         },
         "zerolinecolor": "#E1E5ED"
        },
        "yaxis": {
         "gridcolor": "#E1E5ED",
         "showgrid": true,
         "tickfont": {
          "color": "#4D5663"
         },
         "title": {
          "font": {
           "color": "#4D5663"
          },
          "text": ""
         },
         "zerolinecolor": "#E1E5ED"
        }
       }
      },
      "text/html": [
       "<div>\n",
       "        \n",
       "        \n",
       "            <div id=\"17c60012-143c-4989-87f1-43354e4248f4\" class=\"plotly-graph-div\" style=\"height:525px; width:100%;\"></div>\n",
       "            <script type=\"text/javascript\">\n",
       "                require([\"plotly\"], function(Plotly) {\n",
       "                    window.PLOTLYENV=window.PLOTLYENV || {};\n",
       "                    window.PLOTLYENV.BASE_URL='https://plot.ly';\n",
       "                    \n",
       "                if (document.getElementById(\"17c60012-143c-4989-87f1-43354e4248f4\")) {\n",
       "                    Plotly.newPlot(\n",
       "                        '17c60012-143c-4989-87f1-43354e4248f4',\n",
       "                        [{\"colorscale\": [[0.0, \"rgb(255, 153, 51)\"], [0.1111111111111111, \"rgb(55, 128, 191)\"], [0.2222222222222222, \"rgb(50, 171, 96)\"], [0.3333333333333333, \"rgb(128, 0, 128)\"], [0.4444444444444444, \"rgb(219, 64, 82)\"], [0.5555555555555556, \"rgb(0, 128, 128)\"], [0.6666666666666666, \"rgb(255, 255, 51)\"], [0.7777777777777778, \"rgb(128, 128, 0)\"], [0.8888888888888888, \"rgb(251, 128, 114)\"], [1.0, \"rgb(128, 177, 211)\"]], \"type\": \"surface\", \"x\": [0, 1, 2, 3, 4], \"y\": [\"x\", \"y\", \"z\"], \"z\": [[1, 2, 3, 4, 5], [10, 20, 30, 20, 10], [500, 400, 300, 200, 100]]}],\n",
       "                        {\"legend\": {\"bgcolor\": \"#F5F6F9\", \"font\": {\"color\": \"#4D5663\"}}, \"paper_bgcolor\": \"#F5F6F9\", \"plot_bgcolor\": \"#F5F6F9\", \"template\": {\"data\": {\"bar\": [{\"error_x\": {\"color\": \"#2a3f5f\"}, \"error_y\": {\"color\": \"#2a3f5f\"}, \"marker\": {\"line\": {\"color\": \"#E5ECF6\", \"width\": 0.5}}, \"type\": \"bar\"}], \"barpolar\": [{\"marker\": {\"line\": {\"color\": \"#E5ECF6\", \"width\": 0.5}}, \"type\": \"barpolar\"}], \"carpet\": [{\"aaxis\": {\"endlinecolor\": \"#2a3f5f\", \"gridcolor\": \"white\", \"linecolor\": \"white\", \"minorgridcolor\": \"white\", \"startlinecolor\": \"#2a3f5f\"}, \"baxis\": {\"endlinecolor\": \"#2a3f5f\", \"gridcolor\": \"white\", \"linecolor\": \"white\", \"minorgridcolor\": \"white\", \"startlinecolor\": \"#2a3f5f\"}, \"type\": \"carpet\"}], \"choropleth\": [{\"colorbar\": {\"outlinewidth\": 0, \"ticks\": \"\"}, \"type\": \"choropleth\"}], \"contour\": [{\"colorbar\": {\"outlinewidth\": 0, \"ticks\": \"\"}, \"colorscale\": [[0.0, \"#0d0887\"], [0.1111111111111111, \"#46039f\"], [0.2222222222222222, \"#7201a8\"], [0.3333333333333333, \"#9c179e\"], [0.4444444444444444, \"#bd3786\"], [0.5555555555555556, \"#d8576b\"], [0.6666666666666666, \"#ed7953\"], [0.7777777777777778, \"#fb9f3a\"], [0.8888888888888888, \"#fdca26\"], [1.0, \"#f0f921\"]], \"type\": \"contour\"}], \"contourcarpet\": [{\"colorbar\": {\"outlinewidth\": 0, \"ticks\": \"\"}, \"type\": \"contourcarpet\"}], \"heatmap\": [{\"colorbar\": {\"outlinewidth\": 0, \"ticks\": \"\"}, \"colorscale\": [[0.0, \"#0d0887\"], [0.1111111111111111, \"#46039f\"], [0.2222222222222222, \"#7201a8\"], [0.3333333333333333, \"#9c179e\"], [0.4444444444444444, \"#bd3786\"], [0.5555555555555556, \"#d8576b\"], [0.6666666666666666, \"#ed7953\"], [0.7777777777777778, \"#fb9f3a\"], [0.8888888888888888, \"#fdca26\"], [1.0, \"#f0f921\"]], \"type\": \"heatmap\"}], \"heatmapgl\": [{\"colorbar\": {\"outlinewidth\": 0, \"ticks\": \"\"}, \"colorscale\": [[0.0, \"#0d0887\"], [0.1111111111111111, \"#46039f\"], [0.2222222222222222, \"#7201a8\"], [0.3333333333333333, \"#9c179e\"], [0.4444444444444444, \"#bd3786\"], [0.5555555555555556, \"#d8576b\"], [0.6666666666666666, \"#ed7953\"], [0.7777777777777778, \"#fb9f3a\"], [0.8888888888888888, \"#fdca26\"], [1.0, \"#f0f921\"]], \"type\": \"heatmapgl\"}], \"histogram\": [{\"marker\": {\"colorbar\": {\"outlinewidth\": 0, \"ticks\": \"\"}}, \"type\": \"histogram\"}], \"histogram2d\": [{\"colorbar\": {\"outlinewidth\": 0, \"ticks\": \"\"}, \"colorscale\": [[0.0, \"#0d0887\"], [0.1111111111111111, \"#46039f\"], [0.2222222222222222, \"#7201a8\"], [0.3333333333333333, \"#9c179e\"], [0.4444444444444444, \"#bd3786\"], [0.5555555555555556, \"#d8576b\"], [0.6666666666666666, \"#ed7953\"], [0.7777777777777778, \"#fb9f3a\"], [0.8888888888888888, \"#fdca26\"], [1.0, \"#f0f921\"]], \"type\": \"histogram2d\"}], \"histogram2dcontour\": [{\"colorbar\": {\"outlinewidth\": 0, \"ticks\": \"\"}, \"colorscale\": [[0.0, \"#0d0887\"], [0.1111111111111111, \"#46039f\"], [0.2222222222222222, \"#7201a8\"], [0.3333333333333333, \"#9c179e\"], [0.4444444444444444, \"#bd3786\"], [0.5555555555555556, \"#d8576b\"], [0.6666666666666666, \"#ed7953\"], [0.7777777777777778, \"#fb9f3a\"], [0.8888888888888888, \"#fdca26\"], [1.0, \"#f0f921\"]], \"type\": \"histogram2dcontour\"}], \"mesh3d\": [{\"colorbar\": {\"outlinewidth\": 0, \"ticks\": \"\"}, \"type\": \"mesh3d\"}], \"parcoords\": [{\"line\": {\"colorbar\": {\"outlinewidth\": 0, \"ticks\": \"\"}}, \"type\": \"parcoords\"}], \"pie\": [{\"automargin\": true, \"type\": \"pie\"}], \"scatter\": [{\"marker\": {\"colorbar\": {\"outlinewidth\": 0, \"ticks\": \"\"}}, \"type\": \"scatter\"}], \"scatter3d\": [{\"line\": {\"colorbar\": {\"outlinewidth\": 0, \"ticks\": \"\"}}, \"marker\": {\"colorbar\": {\"outlinewidth\": 0, \"ticks\": \"\"}}, \"type\": \"scatter3d\"}], \"scattercarpet\": [{\"marker\": {\"colorbar\": {\"outlinewidth\": 0, \"ticks\": \"\"}}, \"type\": \"scattercarpet\"}], \"scattergeo\": [{\"marker\": {\"colorbar\": {\"outlinewidth\": 0, \"ticks\": \"\"}}, \"type\": \"scattergeo\"}], \"scattergl\": [{\"marker\": {\"colorbar\": {\"outlinewidth\": 0, \"ticks\": \"\"}}, \"type\": \"scattergl\"}], \"scattermapbox\": [{\"marker\": {\"colorbar\": {\"outlinewidth\": 0, \"ticks\": \"\"}}, \"type\": \"scattermapbox\"}], \"scatterpolar\": [{\"marker\": {\"colorbar\": {\"outlinewidth\": 0, \"ticks\": \"\"}}, \"type\": \"scatterpolar\"}], \"scatterpolargl\": [{\"marker\": {\"colorbar\": {\"outlinewidth\": 0, \"ticks\": \"\"}}, \"type\": \"scatterpolargl\"}], \"scatterternary\": [{\"marker\": {\"colorbar\": {\"outlinewidth\": 0, \"ticks\": \"\"}}, \"type\": \"scatterternary\"}], \"surface\": [{\"colorbar\": {\"outlinewidth\": 0, \"ticks\": \"\"}, \"colorscale\": [[0.0, \"#0d0887\"], [0.1111111111111111, \"#46039f\"], [0.2222222222222222, \"#7201a8\"], [0.3333333333333333, \"#9c179e\"], [0.4444444444444444, \"#bd3786\"], [0.5555555555555556, \"#d8576b\"], [0.6666666666666666, \"#ed7953\"], [0.7777777777777778, \"#fb9f3a\"], [0.8888888888888888, \"#fdca26\"], [1.0, \"#f0f921\"]], \"type\": \"surface\"}], \"table\": [{\"cells\": {\"fill\": {\"color\": \"#EBF0F8\"}, \"line\": {\"color\": \"white\"}}, \"header\": {\"fill\": {\"color\": \"#C8D4E3\"}, \"line\": {\"color\": \"white\"}}, \"type\": \"table\"}]}, \"layout\": {\"annotationdefaults\": {\"arrowcolor\": \"#2a3f5f\", \"arrowhead\": 0, \"arrowwidth\": 1}, \"coloraxis\": {\"colorbar\": {\"outlinewidth\": 0, \"ticks\": \"\"}}, \"colorscale\": {\"diverging\": [[0, \"#8e0152\"], [0.1, \"#c51b7d\"], [0.2, \"#de77ae\"], [0.3, \"#f1b6da\"], [0.4, \"#fde0ef\"], [0.5, \"#f7f7f7\"], [0.6, \"#e6f5d0\"], [0.7, \"#b8e186\"], [0.8, \"#7fbc41\"], [0.9, \"#4d9221\"], [1, \"#276419\"]], \"sequential\": [[0.0, \"#0d0887\"], [0.1111111111111111, \"#46039f\"], [0.2222222222222222, \"#7201a8\"], [0.3333333333333333, \"#9c179e\"], [0.4444444444444444, \"#bd3786\"], [0.5555555555555556, \"#d8576b\"], [0.6666666666666666, \"#ed7953\"], [0.7777777777777778, \"#fb9f3a\"], [0.8888888888888888, \"#fdca26\"], [1.0, \"#f0f921\"]], \"sequentialminus\": [[0.0, \"#0d0887\"], [0.1111111111111111, \"#46039f\"], [0.2222222222222222, \"#7201a8\"], [0.3333333333333333, \"#9c179e\"], [0.4444444444444444, \"#bd3786\"], [0.5555555555555556, \"#d8576b\"], [0.6666666666666666, \"#ed7953\"], [0.7777777777777778, \"#fb9f3a\"], [0.8888888888888888, \"#fdca26\"], [1.0, \"#f0f921\"]]}, \"colorway\": [\"#636efa\", \"#EF553B\", \"#00cc96\", \"#ab63fa\", \"#FFA15A\", \"#19d3f3\", \"#FF6692\", \"#B6E880\", \"#FF97FF\", \"#FECB52\"], \"font\": {\"color\": \"#2a3f5f\"}, \"geo\": {\"bgcolor\": \"white\", \"lakecolor\": \"white\", \"landcolor\": \"#E5ECF6\", \"showlakes\": true, \"showland\": true, \"subunitcolor\": \"white\"}, \"hoverlabel\": {\"align\": \"left\"}, \"hovermode\": \"closest\", \"mapbox\": {\"style\": \"light\"}, \"paper_bgcolor\": \"white\", \"plot_bgcolor\": \"#E5ECF6\", \"polar\": {\"angularaxis\": {\"gridcolor\": \"white\", \"linecolor\": \"white\", \"ticks\": \"\"}, \"bgcolor\": \"#E5ECF6\", \"radialaxis\": {\"gridcolor\": \"white\", \"linecolor\": \"white\", \"ticks\": \"\"}}, \"scene\": {\"xaxis\": {\"backgroundcolor\": \"#E5ECF6\", \"gridcolor\": \"white\", \"gridwidth\": 2, \"linecolor\": \"white\", \"showbackground\": true, \"ticks\": \"\", \"zerolinecolor\": \"white\"}, \"yaxis\": {\"backgroundcolor\": \"#E5ECF6\", \"gridcolor\": \"white\", \"gridwidth\": 2, \"linecolor\": \"white\", \"showbackground\": true, \"ticks\": \"\", \"zerolinecolor\": \"white\"}, \"zaxis\": {\"backgroundcolor\": \"#E5ECF6\", \"gridcolor\": \"white\", \"gridwidth\": 2, \"linecolor\": \"white\", \"showbackground\": true, \"ticks\": \"\", \"zerolinecolor\": \"white\"}}, \"shapedefaults\": {\"line\": {\"color\": \"#2a3f5f\"}}, \"ternary\": {\"aaxis\": {\"gridcolor\": \"white\", \"linecolor\": \"white\", \"ticks\": \"\"}, \"baxis\": {\"gridcolor\": \"white\", \"linecolor\": \"white\", \"ticks\": \"\"}, \"bgcolor\": \"#E5ECF6\", \"caxis\": {\"gridcolor\": \"white\", \"linecolor\": \"white\", \"ticks\": \"\"}}, \"title\": {\"x\": 0.05}, \"xaxis\": {\"automargin\": true, \"gridcolor\": \"white\", \"linecolor\": \"white\", \"ticks\": \"\", \"title\": {\"standoff\": 15}, \"zerolinecolor\": \"white\", \"zerolinewidth\": 2}, \"yaxis\": {\"automargin\": true, \"gridcolor\": \"white\", \"linecolor\": \"white\", \"ticks\": \"\", \"title\": {\"standoff\": 15}, \"zerolinecolor\": \"white\", \"zerolinewidth\": 2}}}, \"title\": {\"font\": {\"color\": \"#4D5663\"}}, \"xaxis\": {\"gridcolor\": \"#E1E5ED\", \"showgrid\": true, \"tickfont\": {\"color\": \"#4D5663\"}, \"title\": {\"font\": {\"color\": \"#4D5663\"}, \"text\": \"\"}, \"zerolinecolor\": \"#E1E5ED\"}, \"yaxis\": {\"gridcolor\": \"#E1E5ED\", \"showgrid\": true, \"tickfont\": {\"color\": \"#4D5663\"}, \"title\": {\"font\": {\"color\": \"#4D5663\"}, \"text\": \"\"}, \"zerolinecolor\": \"#E1E5ED\"}},\n",
       "                        {\"showLink\": true, \"linkText\": \"Export to plot.ly\", \"plotlyServerURL\": \"https://plot.ly\", \"responsive\": true}\n",
       "                    ).then(function(){\n",
       "                            \n",
       "var gd = document.getElementById('17c60012-143c-4989-87f1-43354e4248f4');\n",
       "var x = new MutationObserver(function (mutations, observer) {{\n",
       "        var display = window.getComputedStyle(gd).display;\n",
       "        if (!display || display === 'none') {{\n",
       "            console.log([gd, 'removed!']);\n",
       "            Plotly.purge(gd);\n",
       "            observer.disconnect();\n",
       "        }}\n",
       "}});\n",
       "\n",
       "// Listen for the removal of the full notebook cells\n",
       "var notebookContainer = gd.closest('#notebook-container');\n",
       "if (notebookContainer) {{\n",
       "    x.observe(notebookContainer, {childList: true});\n",
       "}}\n",
       "\n",
       "// Listen for the clearing of the current output cell\n",
       "var outputEl = gd.closest('.output');\n",
       "if (outputEl) {{\n",
       "    x.observe(outputEl, {childList: true});\n",
       "}}\n",
       "\n",
       "                        })\n",
       "                };\n",
       "                });\n",
       "            </script>\n",
       "        </div>"
      ]
     },
     "metadata": {},
     "output_type": "display_data"
    }
   ],
   "source": [
    "#creatinf a 3d surface plot\n",
    "df3.iplot(kind='surface')"
   ]
  },
  {
   "cell_type": "code",
   "execution_count": 23,
   "metadata": {},
   "outputs": [],
   "source": [
    "df4 = pd.DataFrame({'x':[1,2,3,4,5],'y':[10,20,30,20,10],'z':[5,4,3,2,1]})"
   ]
  },
  {
   "cell_type": "code",
   "execution_count": 24,
   "metadata": {},
   "outputs": [
    {
     "data": {
      "application/vnd.plotly.v1+json": {
       "config": {
        "linkText": "Export to plot.ly",
        "plotlyServerURL": "https://plot.ly",
        "showLink": true
       },
       "data": [
        {
         "colorscale": [
          [
           0,
           "rgb(165,0,38)"
          ],
          [
           0.1,
           "rgb(215,48,39)"
          ],
          [
           0.2,
           "rgb(244,109,67)"
          ],
          [
           0.3,
           "rgb(253,174,97)"
          ],
          [
           0.4,
           "rgb(254,224,144)"
          ],
          [
           0.5,
           "rgb(255,255,191)"
          ],
          [
           0.6,
           "rgb(224,243,248)"
          ],
          [
           0.7,
           "rgb(171,217,233)"
          ],
          [
           0.8,
           "rgb(116,173,209)"
          ],
          [
           0.9,
           "rgb(69,117,180)"
          ],
          [
           1,
           "rgb(49,54,149)"
          ]
         ],
         "type": "surface",
         "x": [
          0,
          1,
          2,
          3,
          4
         ],
         "y": [
          "x",
          "y",
          "z"
         ],
         "z": [
          [
           1,
           2,
           3,
           4,
           5
          ],
          [
           10,
           20,
           30,
           20,
           10
          ],
          [
           5,
           4,
           3,
           2,
           1
          ]
         ]
        }
       ],
       "layout": {
        "legend": {
         "bgcolor": "#F5F6F9",
         "font": {
          "color": "#4D5663"
         }
        },
        "paper_bgcolor": "#F5F6F9",
        "plot_bgcolor": "#F5F6F9",
        "template": {
         "data": {
          "bar": [
           {
            "error_x": {
             "color": "#2a3f5f"
            },
            "error_y": {
             "color": "#2a3f5f"
            },
            "marker": {
             "line": {
              "color": "#E5ECF6",
              "width": 0.5
             }
            },
            "type": "bar"
           }
          ],
          "barpolar": [
           {
            "marker": {
             "line": {
              "color": "#E5ECF6",
              "width": 0.5
             }
            },
            "type": "barpolar"
           }
          ],
          "carpet": [
           {
            "aaxis": {
             "endlinecolor": "#2a3f5f",
             "gridcolor": "white",
             "linecolor": "white",
             "minorgridcolor": "white",
             "startlinecolor": "#2a3f5f"
            },
            "baxis": {
             "endlinecolor": "#2a3f5f",
             "gridcolor": "white",
             "linecolor": "white",
             "minorgridcolor": "white",
             "startlinecolor": "#2a3f5f"
            },
            "type": "carpet"
           }
          ],
          "choropleth": [
           {
            "colorbar": {
             "outlinewidth": 0,
             "ticks": ""
            },
            "type": "choropleth"
           }
          ],
          "contour": [
           {
            "colorbar": {
             "outlinewidth": 0,
             "ticks": ""
            },
            "colorscale": [
             [
              0,
              "#0d0887"
             ],
             [
              0.1111111111111111,
              "#46039f"
             ],
             [
              0.2222222222222222,
              "#7201a8"
             ],
             [
              0.3333333333333333,
              "#9c179e"
             ],
             [
              0.4444444444444444,
              "#bd3786"
             ],
             [
              0.5555555555555556,
              "#d8576b"
             ],
             [
              0.6666666666666666,
              "#ed7953"
             ],
             [
              0.7777777777777778,
              "#fb9f3a"
             ],
             [
              0.8888888888888888,
              "#fdca26"
             ],
             [
              1,
              "#f0f921"
             ]
            ],
            "type": "contour"
           }
          ],
          "contourcarpet": [
           {
            "colorbar": {
             "outlinewidth": 0,
             "ticks": ""
            },
            "type": "contourcarpet"
           }
          ],
          "heatmap": [
           {
            "colorbar": {
             "outlinewidth": 0,
             "ticks": ""
            },
            "colorscale": [
             [
              0,
              "#0d0887"
             ],
             [
              0.1111111111111111,
              "#46039f"
             ],
             [
              0.2222222222222222,
              "#7201a8"
             ],
             [
              0.3333333333333333,
              "#9c179e"
             ],
             [
              0.4444444444444444,
              "#bd3786"
             ],
             [
              0.5555555555555556,
              "#d8576b"
             ],
             [
              0.6666666666666666,
              "#ed7953"
             ],
             [
              0.7777777777777778,
              "#fb9f3a"
             ],
             [
              0.8888888888888888,
              "#fdca26"
             ],
             [
              1,
              "#f0f921"
             ]
            ],
            "type": "heatmap"
           }
          ],
          "heatmapgl": [
           {
            "colorbar": {
             "outlinewidth": 0,
             "ticks": ""
            },
            "colorscale": [
             [
              0,
              "#0d0887"
             ],
             [
              0.1111111111111111,
              "#46039f"
             ],
             [
              0.2222222222222222,
              "#7201a8"
             ],
             [
              0.3333333333333333,
              "#9c179e"
             ],
             [
              0.4444444444444444,
              "#bd3786"
             ],
             [
              0.5555555555555556,
              "#d8576b"
             ],
             [
              0.6666666666666666,
              "#ed7953"
             ],
             [
              0.7777777777777778,
              "#fb9f3a"
             ],
             [
              0.8888888888888888,
              "#fdca26"
             ],
             [
              1,
              "#f0f921"
             ]
            ],
            "type": "heatmapgl"
           }
          ],
          "histogram": [
           {
            "marker": {
             "colorbar": {
              "outlinewidth": 0,
              "ticks": ""
             }
            },
            "type": "histogram"
           }
          ],
          "histogram2d": [
           {
            "colorbar": {
             "outlinewidth": 0,
             "ticks": ""
            },
            "colorscale": [
             [
              0,
              "#0d0887"
             ],
             [
              0.1111111111111111,
              "#46039f"
             ],
             [
              0.2222222222222222,
              "#7201a8"
             ],
             [
              0.3333333333333333,
              "#9c179e"
             ],
             [
              0.4444444444444444,
              "#bd3786"
             ],
             [
              0.5555555555555556,
              "#d8576b"
             ],
             [
              0.6666666666666666,
              "#ed7953"
             ],
             [
              0.7777777777777778,
              "#fb9f3a"
             ],
             [
              0.8888888888888888,
              "#fdca26"
             ],
             [
              1,
              "#f0f921"
             ]
            ],
            "type": "histogram2d"
           }
          ],
          "histogram2dcontour": [
           {
            "colorbar": {
             "outlinewidth": 0,
             "ticks": ""
            },
            "colorscale": [
             [
              0,
              "#0d0887"
             ],
             [
              0.1111111111111111,
              "#46039f"
             ],
             [
              0.2222222222222222,
              "#7201a8"
             ],
             [
              0.3333333333333333,
              "#9c179e"
             ],
             [
              0.4444444444444444,
              "#bd3786"
             ],
             [
              0.5555555555555556,
              "#d8576b"
             ],
             [
              0.6666666666666666,
              "#ed7953"
             ],
             [
              0.7777777777777778,
              "#fb9f3a"
             ],
             [
              0.8888888888888888,
              "#fdca26"
             ],
             [
              1,
              "#f0f921"
             ]
            ],
            "type": "histogram2dcontour"
           }
          ],
          "mesh3d": [
           {
            "colorbar": {
             "outlinewidth": 0,
             "ticks": ""
            },
            "type": "mesh3d"
           }
          ],
          "parcoords": [
           {
            "line": {
             "colorbar": {
              "outlinewidth": 0,
              "ticks": ""
             }
            },
            "type": "parcoords"
           }
          ],
          "pie": [
           {
            "automargin": true,
            "type": "pie"
           }
          ],
          "scatter": [
           {
            "marker": {
             "colorbar": {
              "outlinewidth": 0,
              "ticks": ""
             }
            },
            "type": "scatter"
           }
          ],
          "scatter3d": [
           {
            "line": {
             "colorbar": {
              "outlinewidth": 0,
              "ticks": ""
             }
            },
            "marker": {
             "colorbar": {
              "outlinewidth": 0,
              "ticks": ""
             }
            },
            "type": "scatter3d"
           }
          ],
          "scattercarpet": [
           {
            "marker": {
             "colorbar": {
              "outlinewidth": 0,
              "ticks": ""
             }
            },
            "type": "scattercarpet"
           }
          ],
          "scattergeo": [
           {
            "marker": {
             "colorbar": {
              "outlinewidth": 0,
              "ticks": ""
             }
            },
            "type": "scattergeo"
           }
          ],
          "scattergl": [
           {
            "marker": {
             "colorbar": {
              "outlinewidth": 0,
              "ticks": ""
             }
            },
            "type": "scattergl"
           }
          ],
          "scattermapbox": [
           {
            "marker": {
             "colorbar": {
              "outlinewidth": 0,
              "ticks": ""
             }
            },
            "type": "scattermapbox"
           }
          ],
          "scatterpolar": [
           {
            "marker": {
             "colorbar": {
              "outlinewidth": 0,
              "ticks": ""
             }
            },
            "type": "scatterpolar"
           }
          ],
          "scatterpolargl": [
           {
            "marker": {
             "colorbar": {
              "outlinewidth": 0,
              "ticks": ""
             }
            },
            "type": "scatterpolargl"
           }
          ],
          "scatterternary": [
           {
            "marker": {
             "colorbar": {
              "outlinewidth": 0,
              "ticks": ""
             }
            },
            "type": "scatterternary"
           }
          ],
          "surface": [
           {
            "colorbar": {
             "outlinewidth": 0,
             "ticks": ""
            },
            "colorscale": [
             [
              0,
              "#0d0887"
             ],
             [
              0.1111111111111111,
              "#46039f"
             ],
             [
              0.2222222222222222,
              "#7201a8"
             ],
             [
              0.3333333333333333,
              "#9c179e"
             ],
             [
              0.4444444444444444,
              "#bd3786"
             ],
             [
              0.5555555555555556,
              "#d8576b"
             ],
             [
              0.6666666666666666,
              "#ed7953"
             ],
             [
              0.7777777777777778,
              "#fb9f3a"
             ],
             [
              0.8888888888888888,
              "#fdca26"
             ],
             [
              1,
              "#f0f921"
             ]
            ],
            "type": "surface"
           }
          ],
          "table": [
           {
            "cells": {
             "fill": {
              "color": "#EBF0F8"
             },
             "line": {
              "color": "white"
             }
            },
            "header": {
             "fill": {
              "color": "#C8D4E3"
             },
             "line": {
              "color": "white"
             }
            },
            "type": "table"
           }
          ]
         },
         "layout": {
          "annotationdefaults": {
           "arrowcolor": "#2a3f5f",
           "arrowhead": 0,
           "arrowwidth": 1
          },
          "coloraxis": {
           "colorbar": {
            "outlinewidth": 0,
            "ticks": ""
           }
          },
          "colorscale": {
           "diverging": [
            [
             0,
             "#8e0152"
            ],
            [
             0.1,
             "#c51b7d"
            ],
            [
             0.2,
             "#de77ae"
            ],
            [
             0.3,
             "#f1b6da"
            ],
            [
             0.4,
             "#fde0ef"
            ],
            [
             0.5,
             "#f7f7f7"
            ],
            [
             0.6,
             "#e6f5d0"
            ],
            [
             0.7,
             "#b8e186"
            ],
            [
             0.8,
             "#7fbc41"
            ],
            [
             0.9,
             "#4d9221"
            ],
            [
             1,
             "#276419"
            ]
           ],
           "sequential": [
            [
             0,
             "#0d0887"
            ],
            [
             0.1111111111111111,
             "#46039f"
            ],
            [
             0.2222222222222222,
             "#7201a8"
            ],
            [
             0.3333333333333333,
             "#9c179e"
            ],
            [
             0.4444444444444444,
             "#bd3786"
            ],
            [
             0.5555555555555556,
             "#d8576b"
            ],
            [
             0.6666666666666666,
             "#ed7953"
            ],
            [
             0.7777777777777778,
             "#fb9f3a"
            ],
            [
             0.8888888888888888,
             "#fdca26"
            ],
            [
             1,
             "#f0f921"
            ]
           ],
           "sequentialminus": [
            [
             0,
             "#0d0887"
            ],
            [
             0.1111111111111111,
             "#46039f"
            ],
            [
             0.2222222222222222,
             "#7201a8"
            ],
            [
             0.3333333333333333,
             "#9c179e"
            ],
            [
             0.4444444444444444,
             "#bd3786"
            ],
            [
             0.5555555555555556,
             "#d8576b"
            ],
            [
             0.6666666666666666,
             "#ed7953"
            ],
            [
             0.7777777777777778,
             "#fb9f3a"
            ],
            [
             0.8888888888888888,
             "#fdca26"
            ],
            [
             1,
             "#f0f921"
            ]
           ]
          },
          "colorway": [
           "#636efa",
           "#EF553B",
           "#00cc96",
           "#ab63fa",
           "#FFA15A",
           "#19d3f3",
           "#FF6692",
           "#B6E880",
           "#FF97FF",
           "#FECB52"
          ],
          "font": {
           "color": "#2a3f5f"
          },
          "geo": {
           "bgcolor": "white",
           "lakecolor": "white",
           "landcolor": "#E5ECF6",
           "showlakes": true,
           "showland": true,
           "subunitcolor": "white"
          },
          "hoverlabel": {
           "align": "left"
          },
          "hovermode": "closest",
          "mapbox": {
           "style": "light"
          },
          "paper_bgcolor": "white",
          "plot_bgcolor": "#E5ECF6",
          "polar": {
           "angularaxis": {
            "gridcolor": "white",
            "linecolor": "white",
            "ticks": ""
           },
           "bgcolor": "#E5ECF6",
           "radialaxis": {
            "gridcolor": "white",
            "linecolor": "white",
            "ticks": ""
           }
          },
          "scene": {
           "xaxis": {
            "backgroundcolor": "#E5ECF6",
            "gridcolor": "white",
            "gridwidth": 2,
            "linecolor": "white",
            "showbackground": true,
            "ticks": "",
            "zerolinecolor": "white"
           },
           "yaxis": {
            "backgroundcolor": "#E5ECF6",
            "gridcolor": "white",
            "gridwidth": 2,
            "linecolor": "white",
            "showbackground": true,
            "ticks": "",
            "zerolinecolor": "white"
           },
           "zaxis": {
            "backgroundcolor": "#E5ECF6",
            "gridcolor": "white",
            "gridwidth": 2,
            "linecolor": "white",
            "showbackground": true,
            "ticks": "",
            "zerolinecolor": "white"
           }
          },
          "shapedefaults": {
           "line": {
            "color": "#2a3f5f"
           }
          },
          "ternary": {
           "aaxis": {
            "gridcolor": "white",
            "linecolor": "white",
            "ticks": ""
           },
           "baxis": {
            "gridcolor": "white",
            "linecolor": "white",
            "ticks": ""
           },
           "bgcolor": "#E5ECF6",
           "caxis": {
            "gridcolor": "white",
            "linecolor": "white",
            "ticks": ""
           }
          },
          "title": {
           "x": 0.05
          },
          "xaxis": {
           "automargin": true,
           "gridcolor": "white",
           "linecolor": "white",
           "ticks": "",
           "title": {
            "standoff": 15
           },
           "zerolinecolor": "white",
           "zerolinewidth": 2
          },
          "yaxis": {
           "automargin": true,
           "gridcolor": "white",
           "linecolor": "white",
           "ticks": "",
           "title": {
            "standoff": 15
           },
           "zerolinecolor": "white",
           "zerolinewidth": 2
          }
         }
        },
        "title": {
         "font": {
          "color": "#4D5663"
         }
        },
        "xaxis": {
         "gridcolor": "#E1E5ED",
         "showgrid": true,
         "tickfont": {
          "color": "#4D5663"
         },
         "title": {
          "font": {
           "color": "#4D5663"
          },
          "text": ""
         },
         "zerolinecolor": "#E1E5ED"
        },
        "yaxis": {
         "gridcolor": "#E1E5ED",
         "showgrid": true,
         "tickfont": {
          "color": "#4D5663"
         },
         "title": {
          "font": {
           "color": "#4D5663"
          },
          "text": ""
         },
         "zerolinecolor": "#E1E5ED"
        }
       }
      },
      "text/html": [
       "<div>\n",
       "        \n",
       "        \n",
       "            <div id=\"362e6c2b-a94f-4c19-a33d-40f187d06201\" class=\"plotly-graph-div\" style=\"height:525px; width:100%;\"></div>\n",
       "            <script type=\"text/javascript\">\n",
       "                require([\"plotly\"], function(Plotly) {\n",
       "                    window.PLOTLYENV=window.PLOTLYENV || {};\n",
       "                    window.PLOTLYENV.BASE_URL='https://plot.ly';\n",
       "                    \n",
       "                if (document.getElementById(\"362e6c2b-a94f-4c19-a33d-40f187d06201\")) {\n",
       "                    Plotly.newPlot(\n",
       "                        '362e6c2b-a94f-4c19-a33d-40f187d06201',\n",
       "                        [{\"colorscale\": [[0.0, \"rgb(165,0,38)\"], [0.1, \"rgb(215,48,39)\"], [0.2, \"rgb(244,109,67)\"], [0.3, \"rgb(253,174,97)\"], [0.4, \"rgb(254,224,144)\"], [0.5, \"rgb(255,255,191)\"], [0.6, \"rgb(224,243,248)\"], [0.7, \"rgb(171,217,233)\"], [0.8, \"rgb(116,173,209)\"], [0.9, \"rgb(69,117,180)\"], [1.0, \"rgb(49,54,149)\"]], \"type\": \"surface\", \"x\": [0, 1, 2, 3, 4], \"y\": [\"x\", \"y\", \"z\"], \"z\": [[1, 2, 3, 4, 5], [10, 20, 30, 20, 10], [5, 4, 3, 2, 1]]}],\n",
       "                        {\"legend\": {\"bgcolor\": \"#F5F6F9\", \"font\": {\"color\": \"#4D5663\"}}, \"paper_bgcolor\": \"#F5F6F9\", \"plot_bgcolor\": \"#F5F6F9\", \"template\": {\"data\": {\"bar\": [{\"error_x\": {\"color\": \"#2a3f5f\"}, \"error_y\": {\"color\": \"#2a3f5f\"}, \"marker\": {\"line\": {\"color\": \"#E5ECF6\", \"width\": 0.5}}, \"type\": \"bar\"}], \"barpolar\": [{\"marker\": {\"line\": {\"color\": \"#E5ECF6\", \"width\": 0.5}}, \"type\": \"barpolar\"}], \"carpet\": [{\"aaxis\": {\"endlinecolor\": \"#2a3f5f\", \"gridcolor\": \"white\", \"linecolor\": \"white\", \"minorgridcolor\": \"white\", \"startlinecolor\": \"#2a3f5f\"}, \"baxis\": {\"endlinecolor\": \"#2a3f5f\", \"gridcolor\": \"white\", \"linecolor\": \"white\", \"minorgridcolor\": \"white\", \"startlinecolor\": \"#2a3f5f\"}, \"type\": \"carpet\"}], \"choropleth\": [{\"colorbar\": {\"outlinewidth\": 0, \"ticks\": \"\"}, \"type\": \"choropleth\"}], \"contour\": [{\"colorbar\": {\"outlinewidth\": 0, \"ticks\": \"\"}, \"colorscale\": [[0.0, \"#0d0887\"], [0.1111111111111111, \"#46039f\"], [0.2222222222222222, \"#7201a8\"], [0.3333333333333333, \"#9c179e\"], [0.4444444444444444, \"#bd3786\"], [0.5555555555555556, \"#d8576b\"], [0.6666666666666666, \"#ed7953\"], [0.7777777777777778, \"#fb9f3a\"], [0.8888888888888888, \"#fdca26\"], [1.0, \"#f0f921\"]], \"type\": \"contour\"}], \"contourcarpet\": [{\"colorbar\": {\"outlinewidth\": 0, \"ticks\": \"\"}, \"type\": \"contourcarpet\"}], \"heatmap\": [{\"colorbar\": {\"outlinewidth\": 0, \"ticks\": \"\"}, \"colorscale\": [[0.0, \"#0d0887\"], [0.1111111111111111, \"#46039f\"], [0.2222222222222222, \"#7201a8\"], [0.3333333333333333, \"#9c179e\"], [0.4444444444444444, \"#bd3786\"], [0.5555555555555556, \"#d8576b\"], [0.6666666666666666, \"#ed7953\"], [0.7777777777777778, \"#fb9f3a\"], [0.8888888888888888, \"#fdca26\"], [1.0, \"#f0f921\"]], \"type\": \"heatmap\"}], \"heatmapgl\": [{\"colorbar\": {\"outlinewidth\": 0, \"ticks\": \"\"}, \"colorscale\": [[0.0, \"#0d0887\"], [0.1111111111111111, \"#46039f\"], [0.2222222222222222, \"#7201a8\"], [0.3333333333333333, \"#9c179e\"], [0.4444444444444444, \"#bd3786\"], [0.5555555555555556, \"#d8576b\"], [0.6666666666666666, \"#ed7953\"], [0.7777777777777778, \"#fb9f3a\"], [0.8888888888888888, \"#fdca26\"], [1.0, \"#f0f921\"]], \"type\": \"heatmapgl\"}], \"histogram\": [{\"marker\": {\"colorbar\": {\"outlinewidth\": 0, \"ticks\": \"\"}}, \"type\": \"histogram\"}], \"histogram2d\": [{\"colorbar\": {\"outlinewidth\": 0, \"ticks\": \"\"}, \"colorscale\": [[0.0, \"#0d0887\"], [0.1111111111111111, \"#46039f\"], [0.2222222222222222, \"#7201a8\"], [0.3333333333333333, \"#9c179e\"], [0.4444444444444444, \"#bd3786\"], [0.5555555555555556, \"#d8576b\"], [0.6666666666666666, \"#ed7953\"], [0.7777777777777778, \"#fb9f3a\"], [0.8888888888888888, \"#fdca26\"], [1.0, \"#f0f921\"]], \"type\": \"histogram2d\"}], \"histogram2dcontour\": [{\"colorbar\": {\"outlinewidth\": 0, \"ticks\": \"\"}, \"colorscale\": [[0.0, \"#0d0887\"], [0.1111111111111111, \"#46039f\"], [0.2222222222222222, \"#7201a8\"], [0.3333333333333333, \"#9c179e\"], [0.4444444444444444, \"#bd3786\"], [0.5555555555555556, \"#d8576b\"], [0.6666666666666666, \"#ed7953\"], [0.7777777777777778, \"#fb9f3a\"], [0.8888888888888888, \"#fdca26\"], [1.0, \"#f0f921\"]], \"type\": \"histogram2dcontour\"}], \"mesh3d\": [{\"colorbar\": {\"outlinewidth\": 0, \"ticks\": \"\"}, \"type\": \"mesh3d\"}], \"parcoords\": [{\"line\": {\"colorbar\": {\"outlinewidth\": 0, \"ticks\": \"\"}}, \"type\": \"parcoords\"}], \"pie\": [{\"automargin\": true, \"type\": \"pie\"}], \"scatter\": [{\"marker\": {\"colorbar\": {\"outlinewidth\": 0, \"ticks\": \"\"}}, \"type\": \"scatter\"}], \"scatter3d\": [{\"line\": {\"colorbar\": {\"outlinewidth\": 0, \"ticks\": \"\"}}, \"marker\": {\"colorbar\": {\"outlinewidth\": 0, \"ticks\": \"\"}}, \"type\": \"scatter3d\"}], \"scattercarpet\": [{\"marker\": {\"colorbar\": {\"outlinewidth\": 0, \"ticks\": \"\"}}, \"type\": \"scattercarpet\"}], \"scattergeo\": [{\"marker\": {\"colorbar\": {\"outlinewidth\": 0, \"ticks\": \"\"}}, \"type\": \"scattergeo\"}], \"scattergl\": [{\"marker\": {\"colorbar\": {\"outlinewidth\": 0, \"ticks\": \"\"}}, \"type\": \"scattergl\"}], \"scattermapbox\": [{\"marker\": {\"colorbar\": {\"outlinewidth\": 0, \"ticks\": \"\"}}, \"type\": \"scattermapbox\"}], \"scatterpolar\": [{\"marker\": {\"colorbar\": {\"outlinewidth\": 0, \"ticks\": \"\"}}, \"type\": \"scatterpolar\"}], \"scatterpolargl\": [{\"marker\": {\"colorbar\": {\"outlinewidth\": 0, \"ticks\": \"\"}}, \"type\": \"scatterpolargl\"}], \"scatterternary\": [{\"marker\": {\"colorbar\": {\"outlinewidth\": 0, \"ticks\": \"\"}}, \"type\": \"scatterternary\"}], \"surface\": [{\"colorbar\": {\"outlinewidth\": 0, \"ticks\": \"\"}, \"colorscale\": [[0.0, \"#0d0887\"], [0.1111111111111111, \"#46039f\"], [0.2222222222222222, \"#7201a8\"], [0.3333333333333333, \"#9c179e\"], [0.4444444444444444, \"#bd3786\"], [0.5555555555555556, \"#d8576b\"], [0.6666666666666666, \"#ed7953\"], [0.7777777777777778, \"#fb9f3a\"], [0.8888888888888888, \"#fdca26\"], [1.0, \"#f0f921\"]], \"type\": \"surface\"}], \"table\": [{\"cells\": {\"fill\": {\"color\": \"#EBF0F8\"}, \"line\": {\"color\": \"white\"}}, \"header\": {\"fill\": {\"color\": \"#C8D4E3\"}, \"line\": {\"color\": \"white\"}}, \"type\": \"table\"}]}, \"layout\": {\"annotationdefaults\": {\"arrowcolor\": \"#2a3f5f\", \"arrowhead\": 0, \"arrowwidth\": 1}, \"coloraxis\": {\"colorbar\": {\"outlinewidth\": 0, \"ticks\": \"\"}}, \"colorscale\": {\"diverging\": [[0, \"#8e0152\"], [0.1, \"#c51b7d\"], [0.2, \"#de77ae\"], [0.3, \"#f1b6da\"], [0.4, \"#fde0ef\"], [0.5, \"#f7f7f7\"], [0.6, \"#e6f5d0\"], [0.7, \"#b8e186\"], [0.8, \"#7fbc41\"], [0.9, \"#4d9221\"], [1, \"#276419\"]], \"sequential\": [[0.0, \"#0d0887\"], [0.1111111111111111, \"#46039f\"], [0.2222222222222222, \"#7201a8\"], [0.3333333333333333, \"#9c179e\"], [0.4444444444444444, \"#bd3786\"], [0.5555555555555556, \"#d8576b\"], [0.6666666666666666, \"#ed7953\"], [0.7777777777777778, \"#fb9f3a\"], [0.8888888888888888, \"#fdca26\"], [1.0, \"#f0f921\"]], \"sequentialminus\": [[0.0, \"#0d0887\"], [0.1111111111111111, \"#46039f\"], [0.2222222222222222, \"#7201a8\"], [0.3333333333333333, \"#9c179e\"], [0.4444444444444444, \"#bd3786\"], [0.5555555555555556, \"#d8576b\"], [0.6666666666666666, \"#ed7953\"], [0.7777777777777778, \"#fb9f3a\"], [0.8888888888888888, \"#fdca26\"], [1.0, \"#f0f921\"]]}, \"colorway\": [\"#636efa\", \"#EF553B\", \"#00cc96\", \"#ab63fa\", \"#FFA15A\", \"#19d3f3\", \"#FF6692\", \"#B6E880\", \"#FF97FF\", \"#FECB52\"], \"font\": {\"color\": \"#2a3f5f\"}, \"geo\": {\"bgcolor\": \"white\", \"lakecolor\": \"white\", \"landcolor\": \"#E5ECF6\", \"showlakes\": true, \"showland\": true, \"subunitcolor\": \"white\"}, \"hoverlabel\": {\"align\": \"left\"}, \"hovermode\": \"closest\", \"mapbox\": {\"style\": \"light\"}, \"paper_bgcolor\": \"white\", \"plot_bgcolor\": \"#E5ECF6\", \"polar\": {\"angularaxis\": {\"gridcolor\": \"white\", \"linecolor\": \"white\", \"ticks\": \"\"}, \"bgcolor\": \"#E5ECF6\", \"radialaxis\": {\"gridcolor\": \"white\", \"linecolor\": \"white\", \"ticks\": \"\"}}, \"scene\": {\"xaxis\": {\"backgroundcolor\": \"#E5ECF6\", \"gridcolor\": \"white\", \"gridwidth\": 2, \"linecolor\": \"white\", \"showbackground\": true, \"ticks\": \"\", \"zerolinecolor\": \"white\"}, \"yaxis\": {\"backgroundcolor\": \"#E5ECF6\", \"gridcolor\": \"white\", \"gridwidth\": 2, \"linecolor\": \"white\", \"showbackground\": true, \"ticks\": \"\", \"zerolinecolor\": \"white\"}, \"zaxis\": {\"backgroundcolor\": \"#E5ECF6\", \"gridcolor\": \"white\", \"gridwidth\": 2, \"linecolor\": \"white\", \"showbackground\": true, \"ticks\": \"\", \"zerolinecolor\": \"white\"}}, \"shapedefaults\": {\"line\": {\"color\": \"#2a3f5f\"}}, \"ternary\": {\"aaxis\": {\"gridcolor\": \"white\", \"linecolor\": \"white\", \"ticks\": \"\"}, \"baxis\": {\"gridcolor\": \"white\", \"linecolor\": \"white\", \"ticks\": \"\"}, \"bgcolor\": \"#E5ECF6\", \"caxis\": {\"gridcolor\": \"white\", \"linecolor\": \"white\", \"ticks\": \"\"}}, \"title\": {\"x\": 0.05}, \"xaxis\": {\"automargin\": true, \"gridcolor\": \"white\", \"linecolor\": \"white\", \"ticks\": \"\", \"title\": {\"standoff\": 15}, \"zerolinecolor\": \"white\", \"zerolinewidth\": 2}, \"yaxis\": {\"automargin\": true, \"gridcolor\": \"white\", \"linecolor\": \"white\", \"ticks\": \"\", \"title\": {\"standoff\": 15}, \"zerolinecolor\": \"white\", \"zerolinewidth\": 2}}}, \"title\": {\"font\": {\"color\": \"#4D5663\"}}, \"xaxis\": {\"gridcolor\": \"#E1E5ED\", \"showgrid\": true, \"tickfont\": {\"color\": \"#4D5663\"}, \"title\": {\"font\": {\"color\": \"#4D5663\"}, \"text\": \"\"}, \"zerolinecolor\": \"#E1E5ED\"}, \"yaxis\": {\"gridcolor\": \"#E1E5ED\", \"showgrid\": true, \"tickfont\": {\"color\": \"#4D5663\"}, \"title\": {\"font\": {\"color\": \"#4D5663\"}, \"text\": \"\"}, \"zerolinecolor\": \"#E1E5ED\"}},\n",
       "                        {\"showLink\": true, \"linkText\": \"Export to plot.ly\", \"plotlyServerURL\": \"https://plot.ly\", \"responsive\": true}\n",
       "                    ).then(function(){\n",
       "                            \n",
       "var gd = document.getElementById('362e6c2b-a94f-4c19-a33d-40f187d06201');\n",
       "var x = new MutationObserver(function (mutations, observer) {{\n",
       "        var display = window.getComputedStyle(gd).display;\n",
       "        if (!display || display === 'none') {{\n",
       "            console.log([gd, 'removed!']);\n",
       "            Plotly.purge(gd);\n",
       "            observer.disconnect();\n",
       "        }}\n",
       "}});\n",
       "\n",
       "// Listen for the removal of the full notebook cells\n",
       "var notebookContainer = gd.closest('#notebook-container');\n",
       "if (notebookContainer) {{\n",
       "    x.observe(notebookContainer, {childList: true});\n",
       "}}\n",
       "\n",
       "// Listen for the clearing of the current output cell\n",
       "var outputEl = gd.closest('.output');\n",
       "if (outputEl) {{\n",
       "    x.observe(outputEl, {childList: true});\n",
       "}}\n",
       "\n",
       "                        })\n",
       "                };\n",
       "                });\n",
       "            </script>\n",
       "        </div>"
      ]
     },
     "metadata": {},
     "output_type": "display_data"
    }
   ],
   "source": [
    "df4.iplot(kind='surface',colorscale='rdylbu')"
   ]
  },
  {
   "cell_type": "markdown",
   "metadata": {},
   "source": [
    "## Histogram"
   ]
  },
  {
   "cell_type": "code",
   "execution_count": 25,
   "metadata": {},
   "outputs": [
    {
     "data": {
      "application/vnd.plotly.v1+json": {
       "config": {
        "linkText": "Export to plot.ly",
        "plotlyServerURL": "https://plot.ly",
        "showLink": true
       },
       "data": [
        {
         "histfunc": "count",
         "histnorm": "",
         "marker": {
          "color": "rgba(255, 153, 51, 1.0)",
          "line": {
           "color": "#4D5663",
           "width": 1.3
          }
         },
         "name": "A",
         "nbinsx": 30,
         "opacity": 0.8,
         "orientation": "v",
         "type": "histogram",
         "x": [
          -0.6680661855631249,
          0.1949766871965313,
          0.03297058007779891,
          -0.6990703851144047,
          -1.1904809035565296,
          -0.9978851799370811,
          -1.8582319261511087,
          -0.5267661337775508,
          -1.5686461478635814,
          -1.0627343935664582,
          0.9661118140498371,
          0.565313506626537,
          -1.4206021024681288,
          0.6560188287072177,
          0.5342773017547415,
          0.4439743344940591,
          0.6052930388775157,
          0.7164107464286641,
          0.9375280230990192,
          -0.8939516328602036,
          0.4924348203413822,
          -2.1780131590071496,
          -0.5438072379862946,
          -0.9334923463833898,
          0.6713486104662258,
          -0.7065440484824034,
          -1.3874324539214875,
          -0.8896410077863353,
          -0.07984657932136635,
          -0.12572505592806968,
          0.8137383767766075,
          -1.858491455192245,
          -0.3724586312111986,
          2.402354817353567,
          1.0410195382811984,
          -1.5139559628272126,
          0.8076529167916344,
          -0.3035271559810558,
          2.4116330281807286,
          2.1223346600953814,
          0.16436122619428503,
          -0.46652198272400175,
          0.24256961333364677,
          0.2863986325603095,
          -3.099977310251452,
          0.3417341517045552,
          -1.229051663697874,
          -0.0825055265741576,
          0.5643689745296832,
          0.2643607398377007,
          0.8404584998456432,
          -0.9599932628266316,
          0.9620952929558358,
          2.1487719813839155,
          0.8702399277132442,
          -0.6786256915599027,
          -0.551562117174487,
          -0.7569418009249309,
          -0.7578840771473123,
          -0.7979818046465237,
          1.7875060506298361,
          -1.1376330255000242,
          -1.7296967915248824,
          1.0120261071074859,
          0.07626292262330708,
          -0.5161229432965986,
          -1.9828965516645491,
          1.2236247293138747,
          -1.4987687258773836,
          0.728921907199498,
          -1.0224292690506944,
          0.7636030501956129,
          -1.4035448034462434,
          0.8741822629080838,
          -1.575143589119851,
          0.5783812385108045,
          -0.9559912307275771,
          -0.06416912485000843,
          1.5340650493135644,
          1.0625590148885438,
          0.8926470152500349,
          -0.10936690562114973,
          -0.24245197468062515,
          1.5191649065321466,
          0.736591302550211,
          0.3806355692794749,
          -0.19094272495077746,
          -0.4809111086547659,
          -1.3393209311998107,
          0.3444845242142359,
          -0.308530466508197,
          0.5971519605520483,
          -0.2961393984777049,
          2.0527924932523907,
          -0.42898583486115943,
          0.7361587789620776,
          -0.6655264065881279,
          0.4869596491478256,
          -0.42392394888161156,
          0.0960209955254644
         ]
        }
       ],
       "layout": {
        "barmode": "overlay",
        "legend": {
         "bgcolor": "#F5F6F9",
         "font": {
          "color": "#4D5663"
         }
        },
        "paper_bgcolor": "#F5F6F9",
        "plot_bgcolor": "#F5F6F9",
        "template": {
         "data": {
          "bar": [
           {
            "error_x": {
             "color": "#2a3f5f"
            },
            "error_y": {
             "color": "#2a3f5f"
            },
            "marker": {
             "line": {
              "color": "#E5ECF6",
              "width": 0.5
             }
            },
            "type": "bar"
           }
          ],
          "barpolar": [
           {
            "marker": {
             "line": {
              "color": "#E5ECF6",
              "width": 0.5
             }
            },
            "type": "barpolar"
           }
          ],
          "carpet": [
           {
            "aaxis": {
             "endlinecolor": "#2a3f5f",
             "gridcolor": "white",
             "linecolor": "white",
             "minorgridcolor": "white",
             "startlinecolor": "#2a3f5f"
            },
            "baxis": {
             "endlinecolor": "#2a3f5f",
             "gridcolor": "white",
             "linecolor": "white",
             "minorgridcolor": "white",
             "startlinecolor": "#2a3f5f"
            },
            "type": "carpet"
           }
          ],
          "choropleth": [
           {
            "colorbar": {
             "outlinewidth": 0,
             "ticks": ""
            },
            "type": "choropleth"
           }
          ],
          "contour": [
           {
            "colorbar": {
             "outlinewidth": 0,
             "ticks": ""
            },
            "colorscale": [
             [
              0,
              "#0d0887"
             ],
             [
              0.1111111111111111,
              "#46039f"
             ],
             [
              0.2222222222222222,
              "#7201a8"
             ],
             [
              0.3333333333333333,
              "#9c179e"
             ],
             [
              0.4444444444444444,
              "#bd3786"
             ],
             [
              0.5555555555555556,
              "#d8576b"
             ],
             [
              0.6666666666666666,
              "#ed7953"
             ],
             [
              0.7777777777777778,
              "#fb9f3a"
             ],
             [
              0.8888888888888888,
              "#fdca26"
             ],
             [
              1,
              "#f0f921"
             ]
            ],
            "type": "contour"
           }
          ],
          "contourcarpet": [
           {
            "colorbar": {
             "outlinewidth": 0,
             "ticks": ""
            },
            "type": "contourcarpet"
           }
          ],
          "heatmap": [
           {
            "colorbar": {
             "outlinewidth": 0,
             "ticks": ""
            },
            "colorscale": [
             [
              0,
              "#0d0887"
             ],
             [
              0.1111111111111111,
              "#46039f"
             ],
             [
              0.2222222222222222,
              "#7201a8"
             ],
             [
              0.3333333333333333,
              "#9c179e"
             ],
             [
              0.4444444444444444,
              "#bd3786"
             ],
             [
              0.5555555555555556,
              "#d8576b"
             ],
             [
              0.6666666666666666,
              "#ed7953"
             ],
             [
              0.7777777777777778,
              "#fb9f3a"
             ],
             [
              0.8888888888888888,
              "#fdca26"
             ],
             [
              1,
              "#f0f921"
             ]
            ],
            "type": "heatmap"
           }
          ],
          "heatmapgl": [
           {
            "colorbar": {
             "outlinewidth": 0,
             "ticks": ""
            },
            "colorscale": [
             [
              0,
              "#0d0887"
             ],
             [
              0.1111111111111111,
              "#46039f"
             ],
             [
              0.2222222222222222,
              "#7201a8"
             ],
             [
              0.3333333333333333,
              "#9c179e"
             ],
             [
              0.4444444444444444,
              "#bd3786"
             ],
             [
              0.5555555555555556,
              "#d8576b"
             ],
             [
              0.6666666666666666,
              "#ed7953"
             ],
             [
              0.7777777777777778,
              "#fb9f3a"
             ],
             [
              0.8888888888888888,
              "#fdca26"
             ],
             [
              1,
              "#f0f921"
             ]
            ],
            "type": "heatmapgl"
           }
          ],
          "histogram": [
           {
            "marker": {
             "colorbar": {
              "outlinewidth": 0,
              "ticks": ""
             }
            },
            "type": "histogram"
           }
          ],
          "histogram2d": [
           {
            "colorbar": {
             "outlinewidth": 0,
             "ticks": ""
            },
            "colorscale": [
             [
              0,
              "#0d0887"
             ],
             [
              0.1111111111111111,
              "#46039f"
             ],
             [
              0.2222222222222222,
              "#7201a8"
             ],
             [
              0.3333333333333333,
              "#9c179e"
             ],
             [
              0.4444444444444444,
              "#bd3786"
             ],
             [
              0.5555555555555556,
              "#d8576b"
             ],
             [
              0.6666666666666666,
              "#ed7953"
             ],
             [
              0.7777777777777778,
              "#fb9f3a"
             ],
             [
              0.8888888888888888,
              "#fdca26"
             ],
             [
              1,
              "#f0f921"
             ]
            ],
            "type": "histogram2d"
           }
          ],
          "histogram2dcontour": [
           {
            "colorbar": {
             "outlinewidth": 0,
             "ticks": ""
            },
            "colorscale": [
             [
              0,
              "#0d0887"
             ],
             [
              0.1111111111111111,
              "#46039f"
             ],
             [
              0.2222222222222222,
              "#7201a8"
             ],
             [
              0.3333333333333333,
              "#9c179e"
             ],
             [
              0.4444444444444444,
              "#bd3786"
             ],
             [
              0.5555555555555556,
              "#d8576b"
             ],
             [
              0.6666666666666666,
              "#ed7953"
             ],
             [
              0.7777777777777778,
              "#fb9f3a"
             ],
             [
              0.8888888888888888,
              "#fdca26"
             ],
             [
              1,
              "#f0f921"
             ]
            ],
            "type": "histogram2dcontour"
           }
          ],
          "mesh3d": [
           {
            "colorbar": {
             "outlinewidth": 0,
             "ticks": ""
            },
            "type": "mesh3d"
           }
          ],
          "parcoords": [
           {
            "line": {
             "colorbar": {
              "outlinewidth": 0,
              "ticks": ""
             }
            },
            "type": "parcoords"
           }
          ],
          "pie": [
           {
            "automargin": true,
            "type": "pie"
           }
          ],
          "scatter": [
           {
            "marker": {
             "colorbar": {
              "outlinewidth": 0,
              "ticks": ""
             }
            },
            "type": "scatter"
           }
          ],
          "scatter3d": [
           {
            "line": {
             "colorbar": {
              "outlinewidth": 0,
              "ticks": ""
             }
            },
            "marker": {
             "colorbar": {
              "outlinewidth": 0,
              "ticks": ""
             }
            },
            "type": "scatter3d"
           }
          ],
          "scattercarpet": [
           {
            "marker": {
             "colorbar": {
              "outlinewidth": 0,
              "ticks": ""
             }
            },
            "type": "scattercarpet"
           }
          ],
          "scattergeo": [
           {
            "marker": {
             "colorbar": {
              "outlinewidth": 0,
              "ticks": ""
             }
            },
            "type": "scattergeo"
           }
          ],
          "scattergl": [
           {
            "marker": {
             "colorbar": {
              "outlinewidth": 0,
              "ticks": ""
             }
            },
            "type": "scattergl"
           }
          ],
          "scattermapbox": [
           {
            "marker": {
             "colorbar": {
              "outlinewidth": 0,
              "ticks": ""
             }
            },
            "type": "scattermapbox"
           }
          ],
          "scatterpolar": [
           {
            "marker": {
             "colorbar": {
              "outlinewidth": 0,
              "ticks": ""
             }
            },
            "type": "scatterpolar"
           }
          ],
          "scatterpolargl": [
           {
            "marker": {
             "colorbar": {
              "outlinewidth": 0,
              "ticks": ""
             }
            },
            "type": "scatterpolargl"
           }
          ],
          "scatterternary": [
           {
            "marker": {
             "colorbar": {
              "outlinewidth": 0,
              "ticks": ""
             }
            },
            "type": "scatterternary"
           }
          ],
          "surface": [
           {
            "colorbar": {
             "outlinewidth": 0,
             "ticks": ""
            },
            "colorscale": [
             [
              0,
              "#0d0887"
             ],
             [
              0.1111111111111111,
              "#46039f"
             ],
             [
              0.2222222222222222,
              "#7201a8"
             ],
             [
              0.3333333333333333,
              "#9c179e"
             ],
             [
              0.4444444444444444,
              "#bd3786"
             ],
             [
              0.5555555555555556,
              "#d8576b"
             ],
             [
              0.6666666666666666,
              "#ed7953"
             ],
             [
              0.7777777777777778,
              "#fb9f3a"
             ],
             [
              0.8888888888888888,
              "#fdca26"
             ],
             [
              1,
              "#f0f921"
             ]
            ],
            "type": "surface"
           }
          ],
          "table": [
           {
            "cells": {
             "fill": {
              "color": "#EBF0F8"
             },
             "line": {
              "color": "white"
             }
            },
            "header": {
             "fill": {
              "color": "#C8D4E3"
             },
             "line": {
              "color": "white"
             }
            },
            "type": "table"
           }
          ]
         },
         "layout": {
          "annotationdefaults": {
           "arrowcolor": "#2a3f5f",
           "arrowhead": 0,
           "arrowwidth": 1
          },
          "coloraxis": {
           "colorbar": {
            "outlinewidth": 0,
            "ticks": ""
           }
          },
          "colorscale": {
           "diverging": [
            [
             0,
             "#8e0152"
            ],
            [
             0.1,
             "#c51b7d"
            ],
            [
             0.2,
             "#de77ae"
            ],
            [
             0.3,
             "#f1b6da"
            ],
            [
             0.4,
             "#fde0ef"
            ],
            [
             0.5,
             "#f7f7f7"
            ],
            [
             0.6,
             "#e6f5d0"
            ],
            [
             0.7,
             "#b8e186"
            ],
            [
             0.8,
             "#7fbc41"
            ],
            [
             0.9,
             "#4d9221"
            ],
            [
             1,
             "#276419"
            ]
           ],
           "sequential": [
            [
             0,
             "#0d0887"
            ],
            [
             0.1111111111111111,
             "#46039f"
            ],
            [
             0.2222222222222222,
             "#7201a8"
            ],
            [
             0.3333333333333333,
             "#9c179e"
            ],
            [
             0.4444444444444444,
             "#bd3786"
            ],
            [
             0.5555555555555556,
             "#d8576b"
            ],
            [
             0.6666666666666666,
             "#ed7953"
            ],
            [
             0.7777777777777778,
             "#fb9f3a"
            ],
            [
             0.8888888888888888,
             "#fdca26"
            ],
            [
             1,
             "#f0f921"
            ]
           ],
           "sequentialminus": [
            [
             0,
             "#0d0887"
            ],
            [
             0.1111111111111111,
             "#46039f"
            ],
            [
             0.2222222222222222,
             "#7201a8"
            ],
            [
             0.3333333333333333,
             "#9c179e"
            ],
            [
             0.4444444444444444,
             "#bd3786"
            ],
            [
             0.5555555555555556,
             "#d8576b"
            ],
            [
             0.6666666666666666,
             "#ed7953"
            ],
            [
             0.7777777777777778,
             "#fb9f3a"
            ],
            [
             0.8888888888888888,
             "#fdca26"
            ],
            [
             1,
             "#f0f921"
            ]
           ]
          },
          "colorway": [
           "#636efa",
           "#EF553B",
           "#00cc96",
           "#ab63fa",
           "#FFA15A",
           "#19d3f3",
           "#FF6692",
           "#B6E880",
           "#FF97FF",
           "#FECB52"
          ],
          "font": {
           "color": "#2a3f5f"
          },
          "geo": {
           "bgcolor": "white",
           "lakecolor": "white",
           "landcolor": "#E5ECF6",
           "showlakes": true,
           "showland": true,
           "subunitcolor": "white"
          },
          "hoverlabel": {
           "align": "left"
          },
          "hovermode": "closest",
          "mapbox": {
           "style": "light"
          },
          "paper_bgcolor": "white",
          "plot_bgcolor": "#E5ECF6",
          "polar": {
           "angularaxis": {
            "gridcolor": "white",
            "linecolor": "white",
            "ticks": ""
           },
           "bgcolor": "#E5ECF6",
           "radialaxis": {
            "gridcolor": "white",
            "linecolor": "white",
            "ticks": ""
           }
          },
          "scene": {
           "xaxis": {
            "backgroundcolor": "#E5ECF6",
            "gridcolor": "white",
            "gridwidth": 2,
            "linecolor": "white",
            "showbackground": true,
            "ticks": "",
            "zerolinecolor": "white"
           },
           "yaxis": {
            "backgroundcolor": "#E5ECF6",
            "gridcolor": "white",
            "gridwidth": 2,
            "linecolor": "white",
            "showbackground": true,
            "ticks": "",
            "zerolinecolor": "white"
           },
           "zaxis": {
            "backgroundcolor": "#E5ECF6",
            "gridcolor": "white",
            "gridwidth": 2,
            "linecolor": "white",
            "showbackground": true,
            "ticks": "",
            "zerolinecolor": "white"
           }
          },
          "shapedefaults": {
           "line": {
            "color": "#2a3f5f"
           }
          },
          "ternary": {
           "aaxis": {
            "gridcolor": "white",
            "linecolor": "white",
            "ticks": ""
           },
           "baxis": {
            "gridcolor": "white",
            "linecolor": "white",
            "ticks": ""
           },
           "bgcolor": "#E5ECF6",
           "caxis": {
            "gridcolor": "white",
            "linecolor": "white",
            "ticks": ""
           }
          },
          "title": {
           "x": 0.05
          },
          "xaxis": {
           "automargin": true,
           "gridcolor": "white",
           "linecolor": "white",
           "ticks": "",
           "title": {
            "standoff": 15
           },
           "zerolinecolor": "white",
           "zerolinewidth": 2
          },
          "yaxis": {
           "automargin": true,
           "gridcolor": "white",
           "linecolor": "white",
           "ticks": "",
           "title": {
            "standoff": 15
           },
           "zerolinecolor": "white",
           "zerolinewidth": 2
          }
         }
        },
        "title": {
         "font": {
          "color": "#4D5663"
         }
        },
        "xaxis": {
         "gridcolor": "#E1E5ED",
         "showgrid": true,
         "tickfont": {
          "color": "#4D5663"
         },
         "title": {
          "font": {
           "color": "#4D5663"
          },
          "text": ""
         },
         "zerolinecolor": "#E1E5ED"
        },
        "yaxis": {
         "gridcolor": "#E1E5ED",
         "showgrid": true,
         "tickfont": {
          "color": "#4D5663"
         },
         "title": {
          "font": {
           "color": "#4D5663"
          },
          "text": ""
         },
         "zerolinecolor": "#E1E5ED"
        }
       }
      },
      "text/html": [
       "<div>\n",
       "        \n",
       "        \n",
       "            <div id=\"bc2f57a7-d4db-433d-a7ee-40eb3ba403c3\" class=\"plotly-graph-div\" style=\"height:525px; width:100%;\"></div>\n",
       "            <script type=\"text/javascript\">\n",
       "                require([\"plotly\"], function(Plotly) {\n",
       "                    window.PLOTLYENV=window.PLOTLYENV || {};\n",
       "                    window.PLOTLYENV.BASE_URL='https://plot.ly';\n",
       "                    \n",
       "                if (document.getElementById(\"bc2f57a7-d4db-433d-a7ee-40eb3ba403c3\")) {\n",
       "                    Plotly.newPlot(\n",
       "                        'bc2f57a7-d4db-433d-a7ee-40eb3ba403c3',\n",
       "                        [{\"histfunc\": \"count\", \"histnorm\": \"\", \"marker\": {\"color\": \"rgba(255, 153, 51, 1.0)\", \"line\": {\"color\": \"#4D5663\", \"width\": 1.3}}, \"name\": \"A\", \"nbinsx\": 30, \"opacity\": 0.8, \"orientation\": \"v\", \"type\": \"histogram\", \"x\": [-0.6680661855631249, 0.1949766871965313, 0.03297058007779891, -0.6990703851144047, -1.1904809035565296, -0.9978851799370811, -1.8582319261511087, -0.5267661337775508, -1.5686461478635814, -1.0627343935664582, 0.9661118140498371, 0.565313506626537, -1.4206021024681288, 0.6560188287072177, 0.5342773017547415, 0.4439743344940591, 0.6052930388775157, 0.7164107464286641, 0.9375280230990192, -0.8939516328602036, 0.4924348203413822, -2.1780131590071496, -0.5438072379862946, -0.9334923463833898, 0.6713486104662258, -0.7065440484824034, -1.3874324539214875, -0.8896410077863353, -0.07984657932136635, -0.12572505592806968, 0.8137383767766075, -1.858491455192245, -0.3724586312111986, 2.402354817353567, 1.0410195382811984, -1.5139559628272126, 0.8076529167916344, -0.3035271559810558, 2.4116330281807286, 2.1223346600953814, 0.16436122619428503, -0.46652198272400175, 0.24256961333364677, 0.2863986325603095, -3.099977310251452, 0.3417341517045552, -1.229051663697874, -0.0825055265741576, 0.5643689745296832, 0.2643607398377007, 0.8404584998456432, -0.9599932628266316, 0.9620952929558358, 2.1487719813839155, 0.8702399277132442, -0.6786256915599027, -0.551562117174487, -0.7569418009249309, -0.7578840771473123, -0.7979818046465237, 1.7875060506298361, -1.1376330255000242, -1.7296967915248824, 1.0120261071074859, 0.07626292262330708, -0.5161229432965986, -1.9828965516645491, 1.2236247293138747, -1.4987687258773836, 0.728921907199498, -1.0224292690506944, 0.7636030501956129, -1.4035448034462434, 0.8741822629080838, -1.575143589119851, 0.5783812385108045, -0.9559912307275771, -0.06416912485000843, 1.5340650493135644, 1.0625590148885438, 0.8926470152500349, -0.10936690562114973, -0.24245197468062515, 1.5191649065321466, 0.736591302550211, 0.3806355692794749, -0.19094272495077746, -0.4809111086547659, -1.3393209311998107, 0.3444845242142359, -0.308530466508197, 0.5971519605520483, -0.2961393984777049, 2.0527924932523907, -0.42898583486115943, 0.7361587789620776, -0.6655264065881279, 0.4869596491478256, -0.42392394888161156, 0.0960209955254644]}],\n",
       "                        {\"barmode\": \"overlay\", \"legend\": {\"bgcolor\": \"#F5F6F9\", \"font\": {\"color\": \"#4D5663\"}}, \"paper_bgcolor\": \"#F5F6F9\", \"plot_bgcolor\": \"#F5F6F9\", \"template\": {\"data\": {\"bar\": [{\"error_x\": {\"color\": \"#2a3f5f\"}, \"error_y\": {\"color\": \"#2a3f5f\"}, \"marker\": {\"line\": {\"color\": \"#E5ECF6\", \"width\": 0.5}}, \"type\": \"bar\"}], \"barpolar\": [{\"marker\": {\"line\": {\"color\": \"#E5ECF6\", \"width\": 0.5}}, \"type\": \"barpolar\"}], \"carpet\": [{\"aaxis\": {\"endlinecolor\": \"#2a3f5f\", \"gridcolor\": \"white\", \"linecolor\": \"white\", \"minorgridcolor\": \"white\", \"startlinecolor\": \"#2a3f5f\"}, \"baxis\": {\"endlinecolor\": \"#2a3f5f\", \"gridcolor\": \"white\", \"linecolor\": \"white\", \"minorgridcolor\": \"white\", \"startlinecolor\": \"#2a3f5f\"}, \"type\": \"carpet\"}], \"choropleth\": [{\"colorbar\": {\"outlinewidth\": 0, \"ticks\": \"\"}, \"type\": \"choropleth\"}], \"contour\": [{\"colorbar\": {\"outlinewidth\": 0, \"ticks\": \"\"}, \"colorscale\": [[0.0, \"#0d0887\"], [0.1111111111111111, \"#46039f\"], [0.2222222222222222, \"#7201a8\"], [0.3333333333333333, \"#9c179e\"], [0.4444444444444444, \"#bd3786\"], [0.5555555555555556, \"#d8576b\"], [0.6666666666666666, \"#ed7953\"], [0.7777777777777778, \"#fb9f3a\"], [0.8888888888888888, \"#fdca26\"], [1.0, \"#f0f921\"]], \"type\": \"contour\"}], \"contourcarpet\": [{\"colorbar\": {\"outlinewidth\": 0, \"ticks\": \"\"}, \"type\": \"contourcarpet\"}], \"heatmap\": [{\"colorbar\": {\"outlinewidth\": 0, \"ticks\": \"\"}, \"colorscale\": [[0.0, \"#0d0887\"], [0.1111111111111111, \"#46039f\"], [0.2222222222222222, \"#7201a8\"], [0.3333333333333333, \"#9c179e\"], [0.4444444444444444, \"#bd3786\"], [0.5555555555555556, \"#d8576b\"], [0.6666666666666666, \"#ed7953\"], [0.7777777777777778, \"#fb9f3a\"], [0.8888888888888888, \"#fdca26\"], [1.0, \"#f0f921\"]], \"type\": \"heatmap\"}], \"heatmapgl\": [{\"colorbar\": {\"outlinewidth\": 0, \"ticks\": \"\"}, \"colorscale\": [[0.0, \"#0d0887\"], [0.1111111111111111, \"#46039f\"], [0.2222222222222222, \"#7201a8\"], [0.3333333333333333, \"#9c179e\"], [0.4444444444444444, \"#bd3786\"], [0.5555555555555556, \"#d8576b\"], [0.6666666666666666, \"#ed7953\"], [0.7777777777777778, \"#fb9f3a\"], [0.8888888888888888, \"#fdca26\"], [1.0, \"#f0f921\"]], \"type\": \"heatmapgl\"}], \"histogram\": [{\"marker\": {\"colorbar\": {\"outlinewidth\": 0, \"ticks\": \"\"}}, \"type\": \"histogram\"}], \"histogram2d\": [{\"colorbar\": {\"outlinewidth\": 0, \"ticks\": \"\"}, \"colorscale\": [[0.0, \"#0d0887\"], [0.1111111111111111, \"#46039f\"], [0.2222222222222222, \"#7201a8\"], [0.3333333333333333, \"#9c179e\"], [0.4444444444444444, \"#bd3786\"], [0.5555555555555556, \"#d8576b\"], [0.6666666666666666, \"#ed7953\"], [0.7777777777777778, \"#fb9f3a\"], [0.8888888888888888, \"#fdca26\"], [1.0, \"#f0f921\"]], \"type\": \"histogram2d\"}], \"histogram2dcontour\": [{\"colorbar\": {\"outlinewidth\": 0, \"ticks\": \"\"}, \"colorscale\": [[0.0, \"#0d0887\"], [0.1111111111111111, \"#46039f\"], [0.2222222222222222, \"#7201a8\"], [0.3333333333333333, \"#9c179e\"], [0.4444444444444444, \"#bd3786\"], [0.5555555555555556, \"#d8576b\"], [0.6666666666666666, \"#ed7953\"], [0.7777777777777778, \"#fb9f3a\"], [0.8888888888888888, \"#fdca26\"], [1.0, \"#f0f921\"]], \"type\": \"histogram2dcontour\"}], \"mesh3d\": [{\"colorbar\": {\"outlinewidth\": 0, \"ticks\": \"\"}, \"type\": \"mesh3d\"}], \"parcoords\": [{\"line\": {\"colorbar\": {\"outlinewidth\": 0, \"ticks\": \"\"}}, \"type\": \"parcoords\"}], \"pie\": [{\"automargin\": true, \"type\": \"pie\"}], \"scatter\": [{\"marker\": {\"colorbar\": {\"outlinewidth\": 0, \"ticks\": \"\"}}, \"type\": \"scatter\"}], \"scatter3d\": [{\"line\": {\"colorbar\": {\"outlinewidth\": 0, \"ticks\": \"\"}}, \"marker\": {\"colorbar\": {\"outlinewidth\": 0, \"ticks\": \"\"}}, \"type\": \"scatter3d\"}], \"scattercarpet\": [{\"marker\": {\"colorbar\": {\"outlinewidth\": 0, \"ticks\": \"\"}}, \"type\": \"scattercarpet\"}], \"scattergeo\": [{\"marker\": {\"colorbar\": {\"outlinewidth\": 0, \"ticks\": \"\"}}, \"type\": \"scattergeo\"}], \"scattergl\": [{\"marker\": {\"colorbar\": {\"outlinewidth\": 0, \"ticks\": \"\"}}, \"type\": \"scattergl\"}], \"scattermapbox\": [{\"marker\": {\"colorbar\": {\"outlinewidth\": 0, \"ticks\": \"\"}}, \"type\": \"scattermapbox\"}], \"scatterpolar\": [{\"marker\": {\"colorbar\": {\"outlinewidth\": 0, \"ticks\": \"\"}}, \"type\": \"scatterpolar\"}], \"scatterpolargl\": [{\"marker\": {\"colorbar\": {\"outlinewidth\": 0, \"ticks\": \"\"}}, \"type\": \"scatterpolargl\"}], \"scatterternary\": [{\"marker\": {\"colorbar\": {\"outlinewidth\": 0, \"ticks\": \"\"}}, \"type\": \"scatterternary\"}], \"surface\": [{\"colorbar\": {\"outlinewidth\": 0, \"ticks\": \"\"}, \"colorscale\": [[0.0, \"#0d0887\"], [0.1111111111111111, \"#46039f\"], [0.2222222222222222, \"#7201a8\"], [0.3333333333333333, \"#9c179e\"], [0.4444444444444444, \"#bd3786\"], [0.5555555555555556, \"#d8576b\"], [0.6666666666666666, \"#ed7953\"], [0.7777777777777778, \"#fb9f3a\"], [0.8888888888888888, \"#fdca26\"], [1.0, \"#f0f921\"]], \"type\": \"surface\"}], \"table\": [{\"cells\": {\"fill\": {\"color\": \"#EBF0F8\"}, \"line\": {\"color\": \"white\"}}, \"header\": {\"fill\": {\"color\": \"#C8D4E3\"}, \"line\": {\"color\": \"white\"}}, \"type\": \"table\"}]}, \"layout\": {\"annotationdefaults\": {\"arrowcolor\": \"#2a3f5f\", \"arrowhead\": 0, \"arrowwidth\": 1}, \"coloraxis\": {\"colorbar\": {\"outlinewidth\": 0, \"ticks\": \"\"}}, \"colorscale\": {\"diverging\": [[0, \"#8e0152\"], [0.1, \"#c51b7d\"], [0.2, \"#de77ae\"], [0.3, \"#f1b6da\"], [0.4, \"#fde0ef\"], [0.5, \"#f7f7f7\"], [0.6, \"#e6f5d0\"], [0.7, \"#b8e186\"], [0.8, \"#7fbc41\"], [0.9, \"#4d9221\"], [1, \"#276419\"]], \"sequential\": [[0.0, \"#0d0887\"], [0.1111111111111111, \"#46039f\"], [0.2222222222222222, \"#7201a8\"], [0.3333333333333333, \"#9c179e\"], [0.4444444444444444, \"#bd3786\"], [0.5555555555555556, \"#d8576b\"], [0.6666666666666666, \"#ed7953\"], [0.7777777777777778, \"#fb9f3a\"], [0.8888888888888888, \"#fdca26\"], [1.0, \"#f0f921\"]], \"sequentialminus\": [[0.0, \"#0d0887\"], [0.1111111111111111, \"#46039f\"], [0.2222222222222222, \"#7201a8\"], [0.3333333333333333, \"#9c179e\"], [0.4444444444444444, \"#bd3786\"], [0.5555555555555556, \"#d8576b\"], [0.6666666666666666, \"#ed7953\"], [0.7777777777777778, \"#fb9f3a\"], [0.8888888888888888, \"#fdca26\"], [1.0, \"#f0f921\"]]}, \"colorway\": [\"#636efa\", \"#EF553B\", \"#00cc96\", \"#ab63fa\", \"#FFA15A\", \"#19d3f3\", \"#FF6692\", \"#B6E880\", \"#FF97FF\", \"#FECB52\"], \"font\": {\"color\": \"#2a3f5f\"}, \"geo\": {\"bgcolor\": \"white\", \"lakecolor\": \"white\", \"landcolor\": \"#E5ECF6\", \"showlakes\": true, \"showland\": true, \"subunitcolor\": \"white\"}, \"hoverlabel\": {\"align\": \"left\"}, \"hovermode\": \"closest\", \"mapbox\": {\"style\": \"light\"}, \"paper_bgcolor\": \"white\", \"plot_bgcolor\": \"#E5ECF6\", \"polar\": {\"angularaxis\": {\"gridcolor\": \"white\", \"linecolor\": \"white\", \"ticks\": \"\"}, \"bgcolor\": \"#E5ECF6\", \"radialaxis\": {\"gridcolor\": \"white\", \"linecolor\": \"white\", \"ticks\": \"\"}}, \"scene\": {\"xaxis\": {\"backgroundcolor\": \"#E5ECF6\", \"gridcolor\": \"white\", \"gridwidth\": 2, \"linecolor\": \"white\", \"showbackground\": true, \"ticks\": \"\", \"zerolinecolor\": \"white\"}, \"yaxis\": {\"backgroundcolor\": \"#E5ECF6\", \"gridcolor\": \"white\", \"gridwidth\": 2, \"linecolor\": \"white\", \"showbackground\": true, \"ticks\": \"\", \"zerolinecolor\": \"white\"}, \"zaxis\": {\"backgroundcolor\": \"#E5ECF6\", \"gridcolor\": \"white\", \"gridwidth\": 2, \"linecolor\": \"white\", \"showbackground\": true, \"ticks\": \"\", \"zerolinecolor\": \"white\"}}, \"shapedefaults\": {\"line\": {\"color\": \"#2a3f5f\"}}, \"ternary\": {\"aaxis\": {\"gridcolor\": \"white\", \"linecolor\": \"white\", \"ticks\": \"\"}, \"baxis\": {\"gridcolor\": \"white\", \"linecolor\": \"white\", \"ticks\": \"\"}, \"bgcolor\": \"#E5ECF6\", \"caxis\": {\"gridcolor\": \"white\", \"linecolor\": \"white\", \"ticks\": \"\"}}, \"title\": {\"x\": 0.05}, \"xaxis\": {\"automargin\": true, \"gridcolor\": \"white\", \"linecolor\": \"white\", \"ticks\": \"\", \"title\": {\"standoff\": 15}, \"zerolinecolor\": \"white\", \"zerolinewidth\": 2}, \"yaxis\": {\"automargin\": true, \"gridcolor\": \"white\", \"linecolor\": \"white\", \"ticks\": \"\", \"title\": {\"standoff\": 15}, \"zerolinecolor\": \"white\", \"zerolinewidth\": 2}}}, \"title\": {\"font\": {\"color\": \"#4D5663\"}}, \"xaxis\": {\"gridcolor\": \"#E1E5ED\", \"showgrid\": true, \"tickfont\": {\"color\": \"#4D5663\"}, \"title\": {\"font\": {\"color\": \"#4D5663\"}, \"text\": \"\"}, \"zerolinecolor\": \"#E1E5ED\"}, \"yaxis\": {\"gridcolor\": \"#E1E5ED\", \"showgrid\": true, \"tickfont\": {\"color\": \"#4D5663\"}, \"title\": {\"font\": {\"color\": \"#4D5663\"}, \"text\": \"\"}, \"zerolinecolor\": \"#E1E5ED\"}},\n",
       "                        {\"showLink\": true, \"linkText\": \"Export to plot.ly\", \"plotlyServerURL\": \"https://plot.ly\", \"responsive\": true}\n",
       "                    ).then(function(){\n",
       "                            \n",
       "var gd = document.getElementById('bc2f57a7-d4db-433d-a7ee-40eb3ba403c3');\n",
       "var x = new MutationObserver(function (mutations, observer) {{\n",
       "        var display = window.getComputedStyle(gd).display;\n",
       "        if (!display || display === 'none') {{\n",
       "            console.log([gd, 'removed!']);\n",
       "            Plotly.purge(gd);\n",
       "            observer.disconnect();\n",
       "        }}\n",
       "}});\n",
       "\n",
       "// Listen for the removal of the full notebook cells\n",
       "var notebookContainer = gd.closest('#notebook-container');\n",
       "if (notebookContainer) {{\n",
       "    x.observe(notebookContainer, {childList: true});\n",
       "}}\n",
       "\n",
       "// Listen for the clearing of the current output cell\n",
       "var outputEl = gd.closest('.output');\n",
       "if (outputEl) {{\n",
       "    x.observe(outputEl, {childList: true});\n",
       "}}\n",
       "\n",
       "                        })\n",
       "                };\n",
       "                });\n",
       "            </script>\n",
       "        </div>"
      ]
     },
     "metadata": {},
     "output_type": "display_data"
    }
   ],
   "source": [
    "df['A'].iplot(kind='hist',bins=30)"
   ]
  },
  {
   "cell_type": "code",
   "execution_count": 26,
   "metadata": {},
   "outputs": [
    {
     "data": {
      "application/vnd.plotly.v1+json": {
       "config": {
        "linkText": "Export to plot.ly",
        "plotlyServerURL": "https://plot.ly",
        "showLink": true
       },
       "data": [
        {
         "histfunc": "count",
         "histnorm": "",
         "marker": {
          "color": "rgba(255, 153, 51, 1.0)",
          "line": {
           "color": "#4D5663",
           "width": 1.3
          }
         },
         "name": "A",
         "opacity": 0.8,
         "orientation": "v",
         "type": "histogram",
         "x": [
          -0.6680661855631249,
          0.1949766871965313,
          0.03297058007779891,
          -0.6990703851144047,
          -1.1904809035565296,
          -0.9978851799370811,
          -1.8582319261511087,
          -0.5267661337775508,
          -1.5686461478635814,
          -1.0627343935664582,
          0.9661118140498371,
          0.565313506626537,
          -1.4206021024681288,
          0.6560188287072177,
          0.5342773017547415,
          0.4439743344940591,
          0.6052930388775157,
          0.7164107464286641,
          0.9375280230990192,
          -0.8939516328602036,
          0.4924348203413822,
          -2.1780131590071496,
          -0.5438072379862946,
          -0.9334923463833898,
          0.6713486104662258,
          -0.7065440484824034,
          -1.3874324539214875,
          -0.8896410077863353,
          -0.07984657932136635,
          -0.12572505592806968,
          0.8137383767766075,
          -1.858491455192245,
          -0.3724586312111986,
          2.402354817353567,
          1.0410195382811984,
          -1.5139559628272126,
          0.8076529167916344,
          -0.3035271559810558,
          2.4116330281807286,
          2.1223346600953814,
          0.16436122619428503,
          -0.46652198272400175,
          0.24256961333364677,
          0.2863986325603095,
          -3.099977310251452,
          0.3417341517045552,
          -1.229051663697874,
          -0.0825055265741576,
          0.5643689745296832,
          0.2643607398377007,
          0.8404584998456432,
          -0.9599932628266316,
          0.9620952929558358,
          2.1487719813839155,
          0.8702399277132442,
          -0.6786256915599027,
          -0.551562117174487,
          -0.7569418009249309,
          -0.7578840771473123,
          -0.7979818046465237,
          1.7875060506298361,
          -1.1376330255000242,
          -1.7296967915248824,
          1.0120261071074859,
          0.07626292262330708,
          -0.5161229432965986,
          -1.9828965516645491,
          1.2236247293138747,
          -1.4987687258773836,
          0.728921907199498,
          -1.0224292690506944,
          0.7636030501956129,
          -1.4035448034462434,
          0.8741822629080838,
          -1.575143589119851,
          0.5783812385108045,
          -0.9559912307275771,
          -0.06416912485000843,
          1.5340650493135644,
          1.0625590148885438,
          0.8926470152500349,
          -0.10936690562114973,
          -0.24245197468062515,
          1.5191649065321466,
          0.736591302550211,
          0.3806355692794749,
          -0.19094272495077746,
          -0.4809111086547659,
          -1.3393209311998107,
          0.3444845242142359,
          -0.308530466508197,
          0.5971519605520483,
          -0.2961393984777049,
          2.0527924932523907,
          -0.42898583486115943,
          0.7361587789620776,
          -0.6655264065881279,
          0.4869596491478256,
          -0.42392394888161156,
          0.0960209955254644
         ]
        },
        {
         "histfunc": "count",
         "histnorm": "",
         "marker": {
          "color": "rgba(55, 128, 191, 1.0)",
          "line": {
           "color": "#4D5663",
           "width": 1.3
          }
         },
         "name": "B",
         "opacity": 0.8,
         "orientation": "v",
         "type": "histogram",
         "x": [
          -0.6810784119889212,
          -0.12672851621571565,
          -2.0807241915160843,
          2.1123832635269437,
          -0.037441185918270566,
          -0.8419160328363937,
          -0.965051019475013,
          0.8311693286344598,
          -0.12892638840714116,
          -0.3223623657442055,
          -0.2651621978066173,
          0.5751051482978644,
          -1.5954080823970926,
          0.35868808673820946,
          2.472151302817571,
          0.262160516152913,
          -0.34492136425427206,
          2.642740897818084,
          0.41347183169097945,
          1.4222362844595409,
          1.0478656163489362,
          -1.4989625631723997,
          -1.1573817060636589,
          -0.1902543592584037,
          -1.5924763685255088,
          -0.04356499912556374,
          -0.32646573064441586,
          1.4195081126291589,
          1.3506300184179498,
          -1.8861410729263206,
          0.6078372185494824,
          0.5896587847914512,
          -1.8647497848327925,
          0.16162438429861858,
          0.6426130692999505,
          1.7639945077246302,
          0.7761834037906911,
          0.421145954098237,
          0.1854040095139653,
          0.9429598683866964,
          -0.7099509267598096,
          -1.7564388380669502,
          1.3881239407102857,
          -1.3120206969144075,
          -1.2360995942787971,
          -0.10177615060000193,
          1.207999550088633,
          0.11356010121118484,
          -0.13811616381196112,
          1.3505494572062853,
          1.0177776805673846,
          -1.4837634818277279,
          -0.6319011207391553,
          0.20812478489292638,
          -0.08134859369177261,
          -0.7277076405660484,
          0.840470334848689,
          -1.7870213204890557,
          0.03588632950819402,
          -0.3733539244362292,
          0.43292408303107593,
          -0.5686082275326253,
          -0.6758945175654862,
          -0.6070459436824658,
          1.1050416756450765,
          -0.059510924986301804,
          0.8447858158747069,
          0.499972993569185,
          -0.13434501044250866,
          -1.8070564697994906,
          -1.714991039757765,
          -0.3751013035128291,
          1.0953223101313094,
          -1.4369805212753772,
          0.39107212877171116,
          -0.2516191386082863,
          0.22228696010046495,
          0.1725199646415227,
          -1.050096031944785,
          0.5061413187280068,
          -0.12351473087442927,
          -0.7146092641508545,
          0.4954838312980374,
          1.3551362084378633,
          0.9634550093677506,
          1.0479339303158377,
          1.059923568234994,
          -0.7117493946644667,
          -1.0699478167895864,
          -0.2362919262806339,
          1.403646945157495,
          0.28071705389078044,
          -0.15182662408610997,
          0.17489614347413823,
          -0.9742686872933056,
          0.1786922050680465,
          -0.6273672164757751,
          -0.4488967123079796,
          -1.4551355833120438,
          -1.0757746516273758
         ]
        },
        {
         "histfunc": "count",
         "histnorm": "",
         "marker": {
          "color": "rgba(50, 171, 96, 1.0)",
          "line": {
           "color": "#4D5663",
           "width": 1.3
          }
         },
         "name": "C",
         "opacity": 0.8,
         "orientation": "v",
         "type": "histogram",
         "x": [
          -2.3073638620301433,
          -0.9962041490678315,
          1.3208116314786846,
          -0.025390771166009407,
          -0.9648363933317966,
          0.24326610193825265,
          0.7833001534921529,
          -0.8663752013312572,
          0.28426532861252757,
          1.8525904754774485,
          0.5164054496741013,
          1.2303099931032626,
          0.5360513363234279,
          0.7314049395469593,
          -0.05158527579854278,
          -0.5217391984873557,
          0.6011760081316192,
          0.09789419963031891,
          -0.4874882753947355,
          -0.2989607053704855,
          0.9383987116683369,
          -0.29624269819989724,
          -3.0132871456839267,
          -0.2600934938003665,
          -0.5169579690827044,
          -0.8119315582610903,
          -0.34731928941074086,
          -1.820136372657824,
          1.2256674920965915,
          -1.5566391864661864,
          -0.06809802410845756,
          -0.2871133753382355,
          0.9244116752222192,
          -0.6759585741687546,
          -0.6744735212611921,
          -1.6040426177574216,
          1.2850611144199247,
          0.8279989883462856,
          -0.2878489752861659,
          -0.23566306928665398,
          1.3076158299163698,
          -1.6401124481321587,
          0.546773763745836,
          0.2763863222089421,
          0.1382460666083625,
          0.34761977999188315,
          0.18678832068275122,
          -0.7826894546849915,
          -0.22804525413889637,
          -0.27774414758352944,
          -0.679220647452501,
          -0.5321792137613572,
          -1.1818314843254512,
          -0.24222642777041425,
          0.2594990627819901,
          1.6806485495058059,
          1.2494555826282385,
          1.7561180265516112,
          -0.18337912849127272,
          0.1986178157101335,
          1.1144016939165797,
          -1.1232355481853946,
          0.3312435482633644,
          -0.5356280710427399,
          -0.3475497394030127,
          1.3188617574462058,
          -0.03536711573532913,
          0.8809219197152772,
          0.0944716655023659,
          0.4550279458603338,
          1.8136067916398246,
          -0.18360533019846725,
          -0.23021685288304736,
          0.3406496620591469,
          1.4145557922085121,
          0.5315204905167306,
          -1.640263959883622,
          -1.0955524713900873,
          -1.4774176081870156,
          -0.33843055481629236,
          0.07218683504377033,
          -1.3554867431755546,
          -0.24673020354673178,
          -1.826836764908707,
          -0.5894495017125044,
          -1.5883001645521029,
          1.9347900221285799,
          0.9264335949306093,
          -0.19619855277123432,
          1.311730305133455,
          -0.005833191408164211,
          -0.15789828864743358,
          0.1270696407524092,
          1.6577163232652115,
          -0.05443421620407633,
          1.2837041675848508,
          0.5593938838023739,
          -1.5122145518614358,
          -1.3051058219297798,
          -0.09372562766382454
         ]
        },
        {
         "histfunc": "count",
         "histnorm": "",
         "marker": {
          "color": "rgba(128, 0, 128, 1.0)",
          "line": {
           "color": "#4D5663",
           "width": 1.3
          }
         },
         "name": "D",
         "opacity": 0.8,
         "orientation": "v",
         "type": "histogram",
         "x": [
          0.49209094387433777,
          0.9062738969829228,
          0.17329610259510156,
          -0.10736420792233334,
          0.6105223392819806,
          -1.691053205670486,
          1.728568659259317,
          -1.2008015945078236,
          -1.9179174593378803,
          -0.3579727607746801,
          1.1705371096116617,
          0.47667608570186953,
          0.4776399709111016,
          -0.9461143733421219,
          -0.4131117792381057,
          -1.1115425891296822,
          1.2860346537356238,
          0.3271027808073432,
          0.5159953352965916,
          0.27729083117100445,
          0.7752711293926082,
          0.7312747438193341,
          1.2198693462173729,
          0.6601897806334215,
          -1.1484082051607591,
          -0.3601506624529033,
          0.21892965155005714,
          -0.7446991443981005,
          -1.6010064110796367,
          1.3027877160597294,
          2.637352783614263,
          -1.164496585131879,
          -0.7988405568663156,
          0.11240713416388613,
          1.048160908681509,
          0.5619149248158571,
          0.06147046441390483,
          -0.5124104027274924,
          1.0115304797672606,
          -1.0608392192028855,
          -0.1749354641614772,
          0.6544231807132385,
          -0.2380150085031945,
          -1.0382675925006104,
          -0.9786969318035704,
          0.9353387685518132,
          0.6186048691727825,
          -1.051367316882182,
          0.5481837683884434,
          1.0869489723875991,
          -0.8276597485186798,
          -1.1423774236881996,
          -0.5987684068731174,
          2.262905971559901,
          0.8269721442349901,
          -1.3517187768902508,
          0.3046845694376493,
          -1.5691671988994118,
          -1.6147450747653498,
          0.9385118541776004,
          1.3772116111856814,
          -0.3887872739543808,
          -0.04981835019742325,
          0.49369312086794365,
          1.6798331571822096,
          1.0567192540587917,
          0.47869354866514785,
          -1.24362767645016,
          0.3188194983492261,
          0.6847930611588089,
          0.357196047620388,
          -1.0419965151392447,
          0.2547774715058307,
          -0.29597959868541857,
          -0.6981530674093167,
          -0.07526311848588445,
          -0.18163384482479397,
          0.31075032419206056,
          -0.19408849419085747,
          1.5738822461027282,
          -0.08032086069342659,
          1.059622216455474,
          -1.320266007365862,
          1.8918701425077586,
          0.28571864790101287,
          1.8446892555185024,
          -1.045913687048723,
          -0.39532679311263735,
          -0.7580947693260994,
          -0.247466127162814,
          1.210722428462035,
          -1.4024327566377963,
          0.5632509162805431,
          -0.13694559351436295,
          -0.08578184302281991,
          0.7981344850479162,
          -1.7176037255632028,
          1.9520742819822292,
          -0.3330151467131199,
          0.027219819562331278
         ]
        }
       ],
       "layout": {
        "barmode": "overlay",
        "legend": {
         "bgcolor": "#F5F6F9",
         "font": {
          "color": "#4D5663"
         }
        },
        "paper_bgcolor": "#F5F6F9",
        "plot_bgcolor": "#F5F6F9",
        "template": {
         "data": {
          "bar": [
           {
            "error_x": {
             "color": "#2a3f5f"
            },
            "error_y": {
             "color": "#2a3f5f"
            },
            "marker": {
             "line": {
              "color": "#E5ECF6",
              "width": 0.5
             }
            },
            "type": "bar"
           }
          ],
          "barpolar": [
           {
            "marker": {
             "line": {
              "color": "#E5ECF6",
              "width": 0.5
             }
            },
            "type": "barpolar"
           }
          ],
          "carpet": [
           {
            "aaxis": {
             "endlinecolor": "#2a3f5f",
             "gridcolor": "white",
             "linecolor": "white",
             "minorgridcolor": "white",
             "startlinecolor": "#2a3f5f"
            },
            "baxis": {
             "endlinecolor": "#2a3f5f",
             "gridcolor": "white",
             "linecolor": "white",
             "minorgridcolor": "white",
             "startlinecolor": "#2a3f5f"
            },
            "type": "carpet"
           }
          ],
          "choropleth": [
           {
            "colorbar": {
             "outlinewidth": 0,
             "ticks": ""
            },
            "type": "choropleth"
           }
          ],
          "contour": [
           {
            "colorbar": {
             "outlinewidth": 0,
             "ticks": ""
            },
            "colorscale": [
             [
              0,
              "#0d0887"
             ],
             [
              0.1111111111111111,
              "#46039f"
             ],
             [
              0.2222222222222222,
              "#7201a8"
             ],
             [
              0.3333333333333333,
              "#9c179e"
             ],
             [
              0.4444444444444444,
              "#bd3786"
             ],
             [
              0.5555555555555556,
              "#d8576b"
             ],
             [
              0.6666666666666666,
              "#ed7953"
             ],
             [
              0.7777777777777778,
              "#fb9f3a"
             ],
             [
              0.8888888888888888,
              "#fdca26"
             ],
             [
              1,
              "#f0f921"
             ]
            ],
            "type": "contour"
           }
          ],
          "contourcarpet": [
           {
            "colorbar": {
             "outlinewidth": 0,
             "ticks": ""
            },
            "type": "contourcarpet"
           }
          ],
          "heatmap": [
           {
            "colorbar": {
             "outlinewidth": 0,
             "ticks": ""
            },
            "colorscale": [
             [
              0,
              "#0d0887"
             ],
             [
              0.1111111111111111,
              "#46039f"
             ],
             [
              0.2222222222222222,
              "#7201a8"
             ],
             [
              0.3333333333333333,
              "#9c179e"
             ],
             [
              0.4444444444444444,
              "#bd3786"
             ],
             [
              0.5555555555555556,
              "#d8576b"
             ],
             [
              0.6666666666666666,
              "#ed7953"
             ],
             [
              0.7777777777777778,
              "#fb9f3a"
             ],
             [
              0.8888888888888888,
              "#fdca26"
             ],
             [
              1,
              "#f0f921"
             ]
            ],
            "type": "heatmap"
           }
          ],
          "heatmapgl": [
           {
            "colorbar": {
             "outlinewidth": 0,
             "ticks": ""
            },
            "colorscale": [
             [
              0,
              "#0d0887"
             ],
             [
              0.1111111111111111,
              "#46039f"
             ],
             [
              0.2222222222222222,
              "#7201a8"
             ],
             [
              0.3333333333333333,
              "#9c179e"
             ],
             [
              0.4444444444444444,
              "#bd3786"
             ],
             [
              0.5555555555555556,
              "#d8576b"
             ],
             [
              0.6666666666666666,
              "#ed7953"
             ],
             [
              0.7777777777777778,
              "#fb9f3a"
             ],
             [
              0.8888888888888888,
              "#fdca26"
             ],
             [
              1,
              "#f0f921"
             ]
            ],
            "type": "heatmapgl"
           }
          ],
          "histogram": [
           {
            "marker": {
             "colorbar": {
              "outlinewidth": 0,
              "ticks": ""
             }
            },
            "type": "histogram"
           }
          ],
          "histogram2d": [
           {
            "colorbar": {
             "outlinewidth": 0,
             "ticks": ""
            },
            "colorscale": [
             [
              0,
              "#0d0887"
             ],
             [
              0.1111111111111111,
              "#46039f"
             ],
             [
              0.2222222222222222,
              "#7201a8"
             ],
             [
              0.3333333333333333,
              "#9c179e"
             ],
             [
              0.4444444444444444,
              "#bd3786"
             ],
             [
              0.5555555555555556,
              "#d8576b"
             ],
             [
              0.6666666666666666,
              "#ed7953"
             ],
             [
              0.7777777777777778,
              "#fb9f3a"
             ],
             [
              0.8888888888888888,
              "#fdca26"
             ],
             [
              1,
              "#f0f921"
             ]
            ],
            "type": "histogram2d"
           }
          ],
          "histogram2dcontour": [
           {
            "colorbar": {
             "outlinewidth": 0,
             "ticks": ""
            },
            "colorscale": [
             [
              0,
              "#0d0887"
             ],
             [
              0.1111111111111111,
              "#46039f"
             ],
             [
              0.2222222222222222,
              "#7201a8"
             ],
             [
              0.3333333333333333,
              "#9c179e"
             ],
             [
              0.4444444444444444,
              "#bd3786"
             ],
             [
              0.5555555555555556,
              "#d8576b"
             ],
             [
              0.6666666666666666,
              "#ed7953"
             ],
             [
              0.7777777777777778,
              "#fb9f3a"
             ],
             [
              0.8888888888888888,
              "#fdca26"
             ],
             [
              1,
              "#f0f921"
             ]
            ],
            "type": "histogram2dcontour"
           }
          ],
          "mesh3d": [
           {
            "colorbar": {
             "outlinewidth": 0,
             "ticks": ""
            },
            "type": "mesh3d"
           }
          ],
          "parcoords": [
           {
            "line": {
             "colorbar": {
              "outlinewidth": 0,
              "ticks": ""
             }
            },
            "type": "parcoords"
           }
          ],
          "pie": [
           {
            "automargin": true,
            "type": "pie"
           }
          ],
          "scatter": [
           {
            "marker": {
             "colorbar": {
              "outlinewidth": 0,
              "ticks": ""
             }
            },
            "type": "scatter"
           }
          ],
          "scatter3d": [
           {
            "line": {
             "colorbar": {
              "outlinewidth": 0,
              "ticks": ""
             }
            },
            "marker": {
             "colorbar": {
              "outlinewidth": 0,
              "ticks": ""
             }
            },
            "type": "scatter3d"
           }
          ],
          "scattercarpet": [
           {
            "marker": {
             "colorbar": {
              "outlinewidth": 0,
              "ticks": ""
             }
            },
            "type": "scattercarpet"
           }
          ],
          "scattergeo": [
           {
            "marker": {
             "colorbar": {
              "outlinewidth": 0,
              "ticks": ""
             }
            },
            "type": "scattergeo"
           }
          ],
          "scattergl": [
           {
            "marker": {
             "colorbar": {
              "outlinewidth": 0,
              "ticks": ""
             }
            },
            "type": "scattergl"
           }
          ],
          "scattermapbox": [
           {
            "marker": {
             "colorbar": {
              "outlinewidth": 0,
              "ticks": ""
             }
            },
            "type": "scattermapbox"
           }
          ],
          "scatterpolar": [
           {
            "marker": {
             "colorbar": {
              "outlinewidth": 0,
              "ticks": ""
             }
            },
            "type": "scatterpolar"
           }
          ],
          "scatterpolargl": [
           {
            "marker": {
             "colorbar": {
              "outlinewidth": 0,
              "ticks": ""
             }
            },
            "type": "scatterpolargl"
           }
          ],
          "scatterternary": [
           {
            "marker": {
             "colorbar": {
              "outlinewidth": 0,
              "ticks": ""
             }
            },
            "type": "scatterternary"
           }
          ],
          "surface": [
           {
            "colorbar": {
             "outlinewidth": 0,
             "ticks": ""
            },
            "colorscale": [
             [
              0,
              "#0d0887"
             ],
             [
              0.1111111111111111,
              "#46039f"
             ],
             [
              0.2222222222222222,
              "#7201a8"
             ],
             [
              0.3333333333333333,
              "#9c179e"
             ],
             [
              0.4444444444444444,
              "#bd3786"
             ],
             [
              0.5555555555555556,
              "#d8576b"
             ],
             [
              0.6666666666666666,
              "#ed7953"
             ],
             [
              0.7777777777777778,
              "#fb9f3a"
             ],
             [
              0.8888888888888888,
              "#fdca26"
             ],
             [
              1,
              "#f0f921"
             ]
            ],
            "type": "surface"
           }
          ],
          "table": [
           {
            "cells": {
             "fill": {
              "color": "#EBF0F8"
             },
             "line": {
              "color": "white"
             }
            },
            "header": {
             "fill": {
              "color": "#C8D4E3"
             },
             "line": {
              "color": "white"
             }
            },
            "type": "table"
           }
          ]
         },
         "layout": {
          "annotationdefaults": {
           "arrowcolor": "#2a3f5f",
           "arrowhead": 0,
           "arrowwidth": 1
          },
          "coloraxis": {
           "colorbar": {
            "outlinewidth": 0,
            "ticks": ""
           }
          },
          "colorscale": {
           "diverging": [
            [
             0,
             "#8e0152"
            ],
            [
             0.1,
             "#c51b7d"
            ],
            [
             0.2,
             "#de77ae"
            ],
            [
             0.3,
             "#f1b6da"
            ],
            [
             0.4,
             "#fde0ef"
            ],
            [
             0.5,
             "#f7f7f7"
            ],
            [
             0.6,
             "#e6f5d0"
            ],
            [
             0.7,
             "#b8e186"
            ],
            [
             0.8,
             "#7fbc41"
            ],
            [
             0.9,
             "#4d9221"
            ],
            [
             1,
             "#276419"
            ]
           ],
           "sequential": [
            [
             0,
             "#0d0887"
            ],
            [
             0.1111111111111111,
             "#46039f"
            ],
            [
             0.2222222222222222,
             "#7201a8"
            ],
            [
             0.3333333333333333,
             "#9c179e"
            ],
            [
             0.4444444444444444,
             "#bd3786"
            ],
            [
             0.5555555555555556,
             "#d8576b"
            ],
            [
             0.6666666666666666,
             "#ed7953"
            ],
            [
             0.7777777777777778,
             "#fb9f3a"
            ],
            [
             0.8888888888888888,
             "#fdca26"
            ],
            [
             1,
             "#f0f921"
            ]
           ],
           "sequentialminus": [
            [
             0,
             "#0d0887"
            ],
            [
             0.1111111111111111,
             "#46039f"
            ],
            [
             0.2222222222222222,
             "#7201a8"
            ],
            [
             0.3333333333333333,
             "#9c179e"
            ],
            [
             0.4444444444444444,
             "#bd3786"
            ],
            [
             0.5555555555555556,
             "#d8576b"
            ],
            [
             0.6666666666666666,
             "#ed7953"
            ],
            [
             0.7777777777777778,
             "#fb9f3a"
            ],
            [
             0.8888888888888888,
             "#fdca26"
            ],
            [
             1,
             "#f0f921"
            ]
           ]
          },
          "colorway": [
           "#636efa",
           "#EF553B",
           "#00cc96",
           "#ab63fa",
           "#FFA15A",
           "#19d3f3",
           "#FF6692",
           "#B6E880",
           "#FF97FF",
           "#FECB52"
          ],
          "font": {
           "color": "#2a3f5f"
          },
          "geo": {
           "bgcolor": "white",
           "lakecolor": "white",
           "landcolor": "#E5ECF6",
           "showlakes": true,
           "showland": true,
           "subunitcolor": "white"
          },
          "hoverlabel": {
           "align": "left"
          },
          "hovermode": "closest",
          "mapbox": {
           "style": "light"
          },
          "paper_bgcolor": "white",
          "plot_bgcolor": "#E5ECF6",
          "polar": {
           "angularaxis": {
            "gridcolor": "white",
            "linecolor": "white",
            "ticks": ""
           },
           "bgcolor": "#E5ECF6",
           "radialaxis": {
            "gridcolor": "white",
            "linecolor": "white",
            "ticks": ""
           }
          },
          "scene": {
           "xaxis": {
            "backgroundcolor": "#E5ECF6",
            "gridcolor": "white",
            "gridwidth": 2,
            "linecolor": "white",
            "showbackground": true,
            "ticks": "",
            "zerolinecolor": "white"
           },
           "yaxis": {
            "backgroundcolor": "#E5ECF6",
            "gridcolor": "white",
            "gridwidth": 2,
            "linecolor": "white",
            "showbackground": true,
            "ticks": "",
            "zerolinecolor": "white"
           },
           "zaxis": {
            "backgroundcolor": "#E5ECF6",
            "gridcolor": "white",
            "gridwidth": 2,
            "linecolor": "white",
            "showbackground": true,
            "ticks": "",
            "zerolinecolor": "white"
           }
          },
          "shapedefaults": {
           "line": {
            "color": "#2a3f5f"
           }
          },
          "ternary": {
           "aaxis": {
            "gridcolor": "white",
            "linecolor": "white",
            "ticks": ""
           },
           "baxis": {
            "gridcolor": "white",
            "linecolor": "white",
            "ticks": ""
           },
           "bgcolor": "#E5ECF6",
           "caxis": {
            "gridcolor": "white",
            "linecolor": "white",
            "ticks": ""
           }
          },
          "title": {
           "x": 0.05
          },
          "xaxis": {
           "automargin": true,
           "gridcolor": "white",
           "linecolor": "white",
           "ticks": "",
           "title": {
            "standoff": 15
           },
           "zerolinecolor": "white",
           "zerolinewidth": 2
          },
          "yaxis": {
           "automargin": true,
           "gridcolor": "white",
           "linecolor": "white",
           "ticks": "",
           "title": {
            "standoff": 15
           },
           "zerolinecolor": "white",
           "zerolinewidth": 2
          }
         }
        },
        "title": {
         "font": {
          "color": "#4D5663"
         }
        },
        "xaxis": {
         "gridcolor": "#E1E5ED",
         "showgrid": true,
         "tickfont": {
          "color": "#4D5663"
         },
         "title": {
          "font": {
           "color": "#4D5663"
          },
          "text": ""
         },
         "zerolinecolor": "#E1E5ED"
        },
        "yaxis": {
         "gridcolor": "#E1E5ED",
         "showgrid": true,
         "tickfont": {
          "color": "#4D5663"
         },
         "title": {
          "font": {
           "color": "#4D5663"
          },
          "text": ""
         },
         "zerolinecolor": "#E1E5ED"
        }
       }
      },
      "text/html": [
       "<div>\n",
       "        \n",
       "        \n",
       "            <div id=\"fd94a99e-25a1-4795-8492-d8e820b39488\" class=\"plotly-graph-div\" style=\"height:525px; width:100%;\"></div>\n",
       "            <script type=\"text/javascript\">\n",
       "                require([\"plotly\"], function(Plotly) {\n",
       "                    window.PLOTLYENV=window.PLOTLYENV || {};\n",
       "                    window.PLOTLYENV.BASE_URL='https://plot.ly';\n",
       "                    \n",
       "                if (document.getElementById(\"fd94a99e-25a1-4795-8492-d8e820b39488\")) {\n",
       "                    Plotly.newPlot(\n",
       "                        'fd94a99e-25a1-4795-8492-d8e820b39488',\n",
       "                        [{\"histfunc\": \"count\", \"histnorm\": \"\", \"marker\": {\"color\": \"rgba(255, 153, 51, 1.0)\", \"line\": {\"color\": \"#4D5663\", \"width\": 1.3}}, \"name\": \"A\", \"opacity\": 0.8, \"orientation\": \"v\", \"type\": \"histogram\", \"x\": [-0.6680661855631249, 0.1949766871965313, 0.03297058007779891, -0.6990703851144047, -1.1904809035565296, -0.9978851799370811, -1.8582319261511087, -0.5267661337775508, -1.5686461478635814, -1.0627343935664582, 0.9661118140498371, 0.565313506626537, -1.4206021024681288, 0.6560188287072177, 0.5342773017547415, 0.4439743344940591, 0.6052930388775157, 0.7164107464286641, 0.9375280230990192, -0.8939516328602036, 0.4924348203413822, -2.1780131590071496, -0.5438072379862946, -0.9334923463833898, 0.6713486104662258, -0.7065440484824034, -1.3874324539214875, -0.8896410077863353, -0.07984657932136635, -0.12572505592806968, 0.8137383767766075, -1.858491455192245, -0.3724586312111986, 2.402354817353567, 1.0410195382811984, -1.5139559628272126, 0.8076529167916344, -0.3035271559810558, 2.4116330281807286, 2.1223346600953814, 0.16436122619428503, -0.46652198272400175, 0.24256961333364677, 0.2863986325603095, -3.099977310251452, 0.3417341517045552, -1.229051663697874, -0.0825055265741576, 0.5643689745296832, 0.2643607398377007, 0.8404584998456432, -0.9599932628266316, 0.9620952929558358, 2.1487719813839155, 0.8702399277132442, -0.6786256915599027, -0.551562117174487, -0.7569418009249309, -0.7578840771473123, -0.7979818046465237, 1.7875060506298361, -1.1376330255000242, -1.7296967915248824, 1.0120261071074859, 0.07626292262330708, -0.5161229432965986, -1.9828965516645491, 1.2236247293138747, -1.4987687258773836, 0.728921907199498, -1.0224292690506944, 0.7636030501956129, -1.4035448034462434, 0.8741822629080838, -1.575143589119851, 0.5783812385108045, -0.9559912307275771, -0.06416912485000843, 1.5340650493135644, 1.0625590148885438, 0.8926470152500349, -0.10936690562114973, -0.24245197468062515, 1.5191649065321466, 0.736591302550211, 0.3806355692794749, -0.19094272495077746, -0.4809111086547659, -1.3393209311998107, 0.3444845242142359, -0.308530466508197, 0.5971519605520483, -0.2961393984777049, 2.0527924932523907, -0.42898583486115943, 0.7361587789620776, -0.6655264065881279, 0.4869596491478256, -0.42392394888161156, 0.0960209955254644]}, {\"histfunc\": \"count\", \"histnorm\": \"\", \"marker\": {\"color\": \"rgba(55, 128, 191, 1.0)\", \"line\": {\"color\": \"#4D5663\", \"width\": 1.3}}, \"name\": \"B\", \"opacity\": 0.8, \"orientation\": \"v\", \"type\": \"histogram\", \"x\": [-0.6810784119889212, -0.12672851621571565, -2.0807241915160843, 2.1123832635269437, -0.037441185918270566, -0.8419160328363937, -0.965051019475013, 0.8311693286344598, -0.12892638840714116, -0.3223623657442055, -0.2651621978066173, 0.5751051482978644, -1.5954080823970926, 0.35868808673820946, 2.472151302817571, 0.262160516152913, -0.34492136425427206, 2.642740897818084, 0.41347183169097945, 1.4222362844595409, 1.0478656163489362, -1.4989625631723997, -1.1573817060636589, -0.1902543592584037, -1.5924763685255088, -0.04356499912556374, -0.32646573064441586, 1.4195081126291589, 1.3506300184179498, -1.8861410729263206, 0.6078372185494824, 0.5896587847914512, -1.8647497848327925, 0.16162438429861858, 0.6426130692999505, 1.7639945077246302, 0.7761834037906911, 0.421145954098237, 0.1854040095139653, 0.9429598683866964, -0.7099509267598096, -1.7564388380669502, 1.3881239407102857, -1.3120206969144075, -1.2360995942787971, -0.10177615060000193, 1.207999550088633, 0.11356010121118484, -0.13811616381196112, 1.3505494572062853, 1.0177776805673846, -1.4837634818277279, -0.6319011207391553, 0.20812478489292638, -0.08134859369177261, -0.7277076405660484, 0.840470334848689, -1.7870213204890557, 0.03588632950819402, -0.3733539244362292, 0.43292408303107593, -0.5686082275326253, -0.6758945175654862, -0.6070459436824658, 1.1050416756450765, -0.059510924986301804, 0.8447858158747069, 0.499972993569185, -0.13434501044250866, -1.8070564697994906, -1.714991039757765, -0.3751013035128291, 1.0953223101313094, -1.4369805212753772, 0.39107212877171116, -0.2516191386082863, 0.22228696010046495, 0.1725199646415227, -1.050096031944785, 0.5061413187280068, -0.12351473087442927, -0.7146092641508545, 0.4954838312980374, 1.3551362084378633, 0.9634550093677506, 1.0479339303158377, 1.059923568234994, -0.7117493946644667, -1.0699478167895864, -0.2362919262806339, 1.403646945157495, 0.28071705389078044, -0.15182662408610997, 0.17489614347413823, -0.9742686872933056, 0.1786922050680465, -0.6273672164757751, -0.4488967123079796, -1.4551355833120438, -1.0757746516273758]}, {\"histfunc\": \"count\", \"histnorm\": \"\", \"marker\": {\"color\": \"rgba(50, 171, 96, 1.0)\", \"line\": {\"color\": \"#4D5663\", \"width\": 1.3}}, \"name\": \"C\", \"opacity\": 0.8, \"orientation\": \"v\", \"type\": \"histogram\", \"x\": [-2.3073638620301433, -0.9962041490678315, 1.3208116314786846, -0.025390771166009407, -0.9648363933317966, 0.24326610193825265, 0.7833001534921529, -0.8663752013312572, 0.28426532861252757, 1.8525904754774485, 0.5164054496741013, 1.2303099931032626, 0.5360513363234279, 0.7314049395469593, -0.05158527579854278, -0.5217391984873557, 0.6011760081316192, 0.09789419963031891, -0.4874882753947355, -0.2989607053704855, 0.9383987116683369, -0.29624269819989724, -3.0132871456839267, -0.2600934938003665, -0.5169579690827044, -0.8119315582610903, -0.34731928941074086, -1.820136372657824, 1.2256674920965915, -1.5566391864661864, -0.06809802410845756, -0.2871133753382355, 0.9244116752222192, -0.6759585741687546, -0.6744735212611921, -1.6040426177574216, 1.2850611144199247, 0.8279989883462856, -0.2878489752861659, -0.23566306928665398, 1.3076158299163698, -1.6401124481321587, 0.546773763745836, 0.2763863222089421, 0.1382460666083625, 0.34761977999188315, 0.18678832068275122, -0.7826894546849915, -0.22804525413889637, -0.27774414758352944, -0.679220647452501, -0.5321792137613572, -1.1818314843254512, -0.24222642777041425, 0.2594990627819901, 1.6806485495058059, 1.2494555826282385, 1.7561180265516112, -0.18337912849127272, 0.1986178157101335, 1.1144016939165797, -1.1232355481853946, 0.3312435482633644, -0.5356280710427399, -0.3475497394030127, 1.3188617574462058, -0.03536711573532913, 0.8809219197152772, 0.0944716655023659, 0.4550279458603338, 1.8136067916398246, -0.18360533019846725, -0.23021685288304736, 0.3406496620591469, 1.4145557922085121, 0.5315204905167306, -1.640263959883622, -1.0955524713900873, -1.4774176081870156, -0.33843055481629236, 0.07218683504377033, -1.3554867431755546, -0.24673020354673178, -1.826836764908707, -0.5894495017125044, -1.5883001645521029, 1.9347900221285799, 0.9264335949306093, -0.19619855277123432, 1.311730305133455, -0.005833191408164211, -0.15789828864743358, 0.1270696407524092, 1.6577163232652115, -0.05443421620407633, 1.2837041675848508, 0.5593938838023739, -1.5122145518614358, -1.3051058219297798, -0.09372562766382454]}, {\"histfunc\": \"count\", \"histnorm\": \"\", \"marker\": {\"color\": \"rgba(128, 0, 128, 1.0)\", \"line\": {\"color\": \"#4D5663\", \"width\": 1.3}}, \"name\": \"D\", \"opacity\": 0.8, \"orientation\": \"v\", \"type\": \"histogram\", \"x\": [0.49209094387433777, 0.9062738969829228, 0.17329610259510156, -0.10736420792233334, 0.6105223392819806, -1.691053205670486, 1.728568659259317, -1.2008015945078236, -1.9179174593378803, -0.3579727607746801, 1.1705371096116617, 0.47667608570186953, 0.4776399709111016, -0.9461143733421219, -0.4131117792381057, -1.1115425891296822, 1.2860346537356238, 0.3271027808073432, 0.5159953352965916, 0.27729083117100445, 0.7752711293926082, 0.7312747438193341, 1.2198693462173729, 0.6601897806334215, -1.1484082051607591, -0.3601506624529033, 0.21892965155005714, -0.7446991443981005, -1.6010064110796367, 1.3027877160597294, 2.637352783614263, -1.164496585131879, -0.7988405568663156, 0.11240713416388613, 1.048160908681509, 0.5619149248158571, 0.06147046441390483, -0.5124104027274924, 1.0115304797672606, -1.0608392192028855, -0.1749354641614772, 0.6544231807132385, -0.2380150085031945, -1.0382675925006104, -0.9786969318035704, 0.9353387685518132, 0.6186048691727825, -1.051367316882182, 0.5481837683884434, 1.0869489723875991, -0.8276597485186798, -1.1423774236881996, -0.5987684068731174, 2.262905971559901, 0.8269721442349901, -1.3517187768902508, 0.3046845694376493, -1.5691671988994118, -1.6147450747653498, 0.9385118541776004, 1.3772116111856814, -0.3887872739543808, -0.04981835019742325, 0.49369312086794365, 1.6798331571822096, 1.0567192540587917, 0.47869354866514785, -1.24362767645016, 0.3188194983492261, 0.6847930611588089, 0.357196047620388, -1.0419965151392447, 0.2547774715058307, -0.29597959868541857, -0.6981530674093167, -0.07526311848588445, -0.18163384482479397, 0.31075032419206056, -0.19408849419085747, 1.5738822461027282, -0.08032086069342659, 1.059622216455474, -1.320266007365862, 1.8918701425077586, 0.28571864790101287, 1.8446892555185024, -1.045913687048723, -0.39532679311263735, -0.7580947693260994, -0.247466127162814, 1.210722428462035, -1.4024327566377963, 0.5632509162805431, -0.13694559351436295, -0.08578184302281991, 0.7981344850479162, -1.7176037255632028, 1.9520742819822292, -0.3330151467131199, 0.027219819562331278]}],\n",
       "                        {\"barmode\": \"overlay\", \"legend\": {\"bgcolor\": \"#F5F6F9\", \"font\": {\"color\": \"#4D5663\"}}, \"paper_bgcolor\": \"#F5F6F9\", \"plot_bgcolor\": \"#F5F6F9\", \"template\": {\"data\": {\"bar\": [{\"error_x\": {\"color\": \"#2a3f5f\"}, \"error_y\": {\"color\": \"#2a3f5f\"}, \"marker\": {\"line\": {\"color\": \"#E5ECF6\", \"width\": 0.5}}, \"type\": \"bar\"}], \"barpolar\": [{\"marker\": {\"line\": {\"color\": \"#E5ECF6\", \"width\": 0.5}}, \"type\": \"barpolar\"}], \"carpet\": [{\"aaxis\": {\"endlinecolor\": \"#2a3f5f\", \"gridcolor\": \"white\", \"linecolor\": \"white\", \"minorgridcolor\": \"white\", \"startlinecolor\": \"#2a3f5f\"}, \"baxis\": {\"endlinecolor\": \"#2a3f5f\", \"gridcolor\": \"white\", \"linecolor\": \"white\", \"minorgridcolor\": \"white\", \"startlinecolor\": \"#2a3f5f\"}, \"type\": \"carpet\"}], \"choropleth\": [{\"colorbar\": {\"outlinewidth\": 0, \"ticks\": \"\"}, \"type\": \"choropleth\"}], \"contour\": [{\"colorbar\": {\"outlinewidth\": 0, \"ticks\": \"\"}, \"colorscale\": [[0.0, \"#0d0887\"], [0.1111111111111111, \"#46039f\"], [0.2222222222222222, \"#7201a8\"], [0.3333333333333333, \"#9c179e\"], [0.4444444444444444, \"#bd3786\"], [0.5555555555555556, \"#d8576b\"], [0.6666666666666666, \"#ed7953\"], [0.7777777777777778, \"#fb9f3a\"], [0.8888888888888888, \"#fdca26\"], [1.0, \"#f0f921\"]], \"type\": \"contour\"}], \"contourcarpet\": [{\"colorbar\": {\"outlinewidth\": 0, \"ticks\": \"\"}, \"type\": \"contourcarpet\"}], \"heatmap\": [{\"colorbar\": {\"outlinewidth\": 0, \"ticks\": \"\"}, \"colorscale\": [[0.0, \"#0d0887\"], [0.1111111111111111, \"#46039f\"], [0.2222222222222222, \"#7201a8\"], [0.3333333333333333, \"#9c179e\"], [0.4444444444444444, \"#bd3786\"], [0.5555555555555556, \"#d8576b\"], [0.6666666666666666, \"#ed7953\"], [0.7777777777777778, \"#fb9f3a\"], [0.8888888888888888, \"#fdca26\"], [1.0, \"#f0f921\"]], \"type\": \"heatmap\"}], \"heatmapgl\": [{\"colorbar\": {\"outlinewidth\": 0, \"ticks\": \"\"}, \"colorscale\": [[0.0, \"#0d0887\"], [0.1111111111111111, \"#46039f\"], [0.2222222222222222, \"#7201a8\"], [0.3333333333333333, \"#9c179e\"], [0.4444444444444444, \"#bd3786\"], [0.5555555555555556, \"#d8576b\"], [0.6666666666666666, \"#ed7953\"], [0.7777777777777778, \"#fb9f3a\"], [0.8888888888888888, \"#fdca26\"], [1.0, \"#f0f921\"]], \"type\": \"heatmapgl\"}], \"histogram\": [{\"marker\": {\"colorbar\": {\"outlinewidth\": 0, \"ticks\": \"\"}}, \"type\": \"histogram\"}], \"histogram2d\": [{\"colorbar\": {\"outlinewidth\": 0, \"ticks\": \"\"}, \"colorscale\": [[0.0, \"#0d0887\"], [0.1111111111111111, \"#46039f\"], [0.2222222222222222, \"#7201a8\"], [0.3333333333333333, \"#9c179e\"], [0.4444444444444444, \"#bd3786\"], [0.5555555555555556, \"#d8576b\"], [0.6666666666666666, \"#ed7953\"], [0.7777777777777778, \"#fb9f3a\"], [0.8888888888888888, \"#fdca26\"], [1.0, \"#f0f921\"]], \"type\": \"histogram2d\"}], \"histogram2dcontour\": [{\"colorbar\": {\"outlinewidth\": 0, \"ticks\": \"\"}, \"colorscale\": [[0.0, \"#0d0887\"], [0.1111111111111111, \"#46039f\"], [0.2222222222222222, \"#7201a8\"], [0.3333333333333333, \"#9c179e\"], [0.4444444444444444, \"#bd3786\"], [0.5555555555555556, \"#d8576b\"], [0.6666666666666666, \"#ed7953\"], [0.7777777777777778, \"#fb9f3a\"], [0.8888888888888888, \"#fdca26\"], [1.0, \"#f0f921\"]], \"type\": \"histogram2dcontour\"}], \"mesh3d\": [{\"colorbar\": {\"outlinewidth\": 0, \"ticks\": \"\"}, \"type\": \"mesh3d\"}], \"parcoords\": [{\"line\": {\"colorbar\": {\"outlinewidth\": 0, \"ticks\": \"\"}}, \"type\": \"parcoords\"}], \"pie\": [{\"automargin\": true, \"type\": \"pie\"}], \"scatter\": [{\"marker\": {\"colorbar\": {\"outlinewidth\": 0, \"ticks\": \"\"}}, \"type\": \"scatter\"}], \"scatter3d\": [{\"line\": {\"colorbar\": {\"outlinewidth\": 0, \"ticks\": \"\"}}, \"marker\": {\"colorbar\": {\"outlinewidth\": 0, \"ticks\": \"\"}}, \"type\": \"scatter3d\"}], \"scattercarpet\": [{\"marker\": {\"colorbar\": {\"outlinewidth\": 0, \"ticks\": \"\"}}, \"type\": \"scattercarpet\"}], \"scattergeo\": [{\"marker\": {\"colorbar\": {\"outlinewidth\": 0, \"ticks\": \"\"}}, \"type\": \"scattergeo\"}], \"scattergl\": [{\"marker\": {\"colorbar\": {\"outlinewidth\": 0, \"ticks\": \"\"}}, \"type\": \"scattergl\"}], \"scattermapbox\": [{\"marker\": {\"colorbar\": {\"outlinewidth\": 0, \"ticks\": \"\"}}, \"type\": \"scattermapbox\"}], \"scatterpolar\": [{\"marker\": {\"colorbar\": {\"outlinewidth\": 0, \"ticks\": \"\"}}, \"type\": \"scatterpolar\"}], \"scatterpolargl\": [{\"marker\": {\"colorbar\": {\"outlinewidth\": 0, \"ticks\": \"\"}}, \"type\": \"scatterpolargl\"}], \"scatterternary\": [{\"marker\": {\"colorbar\": {\"outlinewidth\": 0, \"ticks\": \"\"}}, \"type\": \"scatterternary\"}], \"surface\": [{\"colorbar\": {\"outlinewidth\": 0, \"ticks\": \"\"}, \"colorscale\": [[0.0, \"#0d0887\"], [0.1111111111111111, \"#46039f\"], [0.2222222222222222, \"#7201a8\"], [0.3333333333333333, \"#9c179e\"], [0.4444444444444444, \"#bd3786\"], [0.5555555555555556, \"#d8576b\"], [0.6666666666666666, \"#ed7953\"], [0.7777777777777778, \"#fb9f3a\"], [0.8888888888888888, \"#fdca26\"], [1.0, \"#f0f921\"]], \"type\": \"surface\"}], \"table\": [{\"cells\": {\"fill\": {\"color\": \"#EBF0F8\"}, \"line\": {\"color\": \"white\"}}, \"header\": {\"fill\": {\"color\": \"#C8D4E3\"}, \"line\": {\"color\": \"white\"}}, \"type\": \"table\"}]}, \"layout\": {\"annotationdefaults\": {\"arrowcolor\": \"#2a3f5f\", \"arrowhead\": 0, \"arrowwidth\": 1}, \"coloraxis\": {\"colorbar\": {\"outlinewidth\": 0, \"ticks\": \"\"}}, \"colorscale\": {\"diverging\": [[0, \"#8e0152\"], [0.1, \"#c51b7d\"], [0.2, \"#de77ae\"], [0.3, \"#f1b6da\"], [0.4, \"#fde0ef\"], [0.5, \"#f7f7f7\"], [0.6, \"#e6f5d0\"], [0.7, \"#b8e186\"], [0.8, \"#7fbc41\"], [0.9, \"#4d9221\"], [1, \"#276419\"]], \"sequential\": [[0.0, \"#0d0887\"], [0.1111111111111111, \"#46039f\"], [0.2222222222222222, \"#7201a8\"], [0.3333333333333333, \"#9c179e\"], [0.4444444444444444, \"#bd3786\"], [0.5555555555555556, \"#d8576b\"], [0.6666666666666666, \"#ed7953\"], [0.7777777777777778, \"#fb9f3a\"], [0.8888888888888888, \"#fdca26\"], [1.0, \"#f0f921\"]], \"sequentialminus\": [[0.0, \"#0d0887\"], [0.1111111111111111, \"#46039f\"], [0.2222222222222222, \"#7201a8\"], [0.3333333333333333, \"#9c179e\"], [0.4444444444444444, \"#bd3786\"], [0.5555555555555556, \"#d8576b\"], [0.6666666666666666, \"#ed7953\"], [0.7777777777777778, \"#fb9f3a\"], [0.8888888888888888, \"#fdca26\"], [1.0, \"#f0f921\"]]}, \"colorway\": [\"#636efa\", \"#EF553B\", \"#00cc96\", \"#ab63fa\", \"#FFA15A\", \"#19d3f3\", \"#FF6692\", \"#B6E880\", \"#FF97FF\", \"#FECB52\"], \"font\": {\"color\": \"#2a3f5f\"}, \"geo\": {\"bgcolor\": \"white\", \"lakecolor\": \"white\", \"landcolor\": \"#E5ECF6\", \"showlakes\": true, \"showland\": true, \"subunitcolor\": \"white\"}, \"hoverlabel\": {\"align\": \"left\"}, \"hovermode\": \"closest\", \"mapbox\": {\"style\": \"light\"}, \"paper_bgcolor\": \"white\", \"plot_bgcolor\": \"#E5ECF6\", \"polar\": {\"angularaxis\": {\"gridcolor\": \"white\", \"linecolor\": \"white\", \"ticks\": \"\"}, \"bgcolor\": \"#E5ECF6\", \"radialaxis\": {\"gridcolor\": \"white\", \"linecolor\": \"white\", \"ticks\": \"\"}}, \"scene\": {\"xaxis\": {\"backgroundcolor\": \"#E5ECF6\", \"gridcolor\": \"white\", \"gridwidth\": 2, \"linecolor\": \"white\", \"showbackground\": true, \"ticks\": \"\", \"zerolinecolor\": \"white\"}, \"yaxis\": {\"backgroundcolor\": \"#E5ECF6\", \"gridcolor\": \"white\", \"gridwidth\": 2, \"linecolor\": \"white\", \"showbackground\": true, \"ticks\": \"\", \"zerolinecolor\": \"white\"}, \"zaxis\": {\"backgroundcolor\": \"#E5ECF6\", \"gridcolor\": \"white\", \"gridwidth\": 2, \"linecolor\": \"white\", \"showbackground\": true, \"ticks\": \"\", \"zerolinecolor\": \"white\"}}, \"shapedefaults\": {\"line\": {\"color\": \"#2a3f5f\"}}, \"ternary\": {\"aaxis\": {\"gridcolor\": \"white\", \"linecolor\": \"white\", \"ticks\": \"\"}, \"baxis\": {\"gridcolor\": \"white\", \"linecolor\": \"white\", \"ticks\": \"\"}, \"bgcolor\": \"#E5ECF6\", \"caxis\": {\"gridcolor\": \"white\", \"linecolor\": \"white\", \"ticks\": \"\"}}, \"title\": {\"x\": 0.05}, \"xaxis\": {\"automargin\": true, \"gridcolor\": \"white\", \"linecolor\": \"white\", \"ticks\": \"\", \"title\": {\"standoff\": 15}, \"zerolinecolor\": \"white\", \"zerolinewidth\": 2}, \"yaxis\": {\"automargin\": true, \"gridcolor\": \"white\", \"linecolor\": \"white\", \"ticks\": \"\", \"title\": {\"standoff\": 15}, \"zerolinecolor\": \"white\", \"zerolinewidth\": 2}}}, \"title\": {\"font\": {\"color\": \"#4D5663\"}}, \"xaxis\": {\"gridcolor\": \"#E1E5ED\", \"showgrid\": true, \"tickfont\": {\"color\": \"#4D5663\"}, \"title\": {\"font\": {\"color\": \"#4D5663\"}, \"text\": \"\"}, \"zerolinecolor\": \"#E1E5ED\"}, \"yaxis\": {\"gridcolor\": \"#E1E5ED\", \"showgrid\": true, \"tickfont\": {\"color\": \"#4D5663\"}, \"title\": {\"font\": {\"color\": \"#4D5663\"}, \"text\": \"\"}, \"zerolinecolor\": \"#E1E5ED\"}},\n",
       "                        {\"showLink\": true, \"linkText\": \"Export to plot.ly\", \"plotlyServerURL\": \"https://plot.ly\", \"responsive\": true}\n",
       "                    ).then(function(){\n",
       "                            \n",
       "var gd = document.getElementById('fd94a99e-25a1-4795-8492-d8e820b39488');\n",
       "var x = new MutationObserver(function (mutations, observer) {{\n",
       "        var display = window.getComputedStyle(gd).display;\n",
       "        if (!display || display === 'none') {{\n",
       "            console.log([gd, 'removed!']);\n",
       "            Plotly.purge(gd);\n",
       "            observer.disconnect();\n",
       "        }}\n",
       "}});\n",
       "\n",
       "// Listen for the removal of the full notebook cells\n",
       "var notebookContainer = gd.closest('#notebook-container');\n",
       "if (notebookContainer) {{\n",
       "    x.observe(notebookContainer, {childList: true});\n",
       "}}\n",
       "\n",
       "// Listen for the clearing of the current output cell\n",
       "var outputEl = gd.closest('.output');\n",
       "if (outputEl) {{\n",
       "    x.observe(outputEl, {childList: true});\n",
       "}}\n",
       "\n",
       "                        })\n",
       "                };\n",
       "                });\n",
       "            </script>\n",
       "        </div>"
      ]
     },
     "metadata": {},
     "output_type": "display_data"
    }
   ],
   "source": [
    "df.iplot(kind='hist') #can turn them off and on to overlap the histograms"
   ]
  },
  {
   "cell_type": "markdown",
   "metadata": {},
   "source": [
    "## Spread type"
   ]
  },
  {
   "cell_type": "code",
   "execution_count": 27,
   "metadata": {},
   "outputs": [
    {
     "data": {
      "application/vnd.plotly.v1+json": {
       "config": {
        "linkText": "Export to plot.ly",
        "plotlyServerURL": "https://plot.ly",
        "showLink": true
       },
       "data": [
        {
         "line": {
          "color": "rgba(255, 153, 51, 1.0)",
          "dash": "solid",
          "shape": "linear",
          "width": 1.3
         },
         "mode": "lines",
         "name": "A",
         "text": "",
         "type": "scatter",
         "x": [
          0,
          1,
          2,
          3,
          4,
          5,
          6,
          7,
          8,
          9,
          10,
          11,
          12,
          13,
          14,
          15,
          16,
          17,
          18,
          19,
          20,
          21,
          22,
          23,
          24,
          25,
          26,
          27,
          28,
          29,
          30,
          31,
          32,
          33,
          34,
          35,
          36,
          37,
          38,
          39,
          40,
          41,
          42,
          43,
          44,
          45,
          46,
          47,
          48,
          49,
          50,
          51,
          52,
          53,
          54,
          55,
          56,
          57,
          58,
          59,
          60,
          61,
          62,
          63,
          64,
          65,
          66,
          67,
          68,
          69,
          70,
          71,
          72,
          73,
          74,
          75,
          76,
          77,
          78,
          79,
          80,
          81,
          82,
          83,
          84,
          85,
          86,
          87,
          88,
          89,
          90,
          91,
          92,
          93,
          94,
          95,
          96,
          97,
          98,
          99
         ],
         "y": [
          -0.6680661855631249,
          0.1949766871965313,
          0.03297058007779891,
          -0.6990703851144047,
          -1.1904809035565296,
          -0.9978851799370811,
          -1.8582319261511087,
          -0.5267661337775508,
          -1.5686461478635814,
          -1.0627343935664582,
          0.9661118140498371,
          0.565313506626537,
          -1.4206021024681288,
          0.6560188287072177,
          0.5342773017547415,
          0.4439743344940591,
          0.6052930388775157,
          0.7164107464286641,
          0.9375280230990192,
          -0.8939516328602036,
          0.4924348203413822,
          -2.1780131590071496,
          -0.5438072379862946,
          -0.9334923463833898,
          0.6713486104662258,
          -0.7065440484824034,
          -1.3874324539214875,
          -0.8896410077863353,
          -0.07984657932136635,
          -0.12572505592806968,
          0.8137383767766075,
          -1.858491455192245,
          -0.3724586312111986,
          2.402354817353567,
          1.0410195382811984,
          -1.5139559628272126,
          0.8076529167916344,
          -0.3035271559810558,
          2.4116330281807286,
          2.1223346600953814,
          0.16436122619428503,
          -0.46652198272400175,
          0.24256961333364677,
          0.2863986325603095,
          -3.099977310251452,
          0.3417341517045552,
          -1.229051663697874,
          -0.0825055265741576,
          0.5643689745296832,
          0.2643607398377007,
          0.8404584998456432,
          -0.9599932628266316,
          0.9620952929558358,
          2.1487719813839155,
          0.8702399277132442,
          -0.6786256915599027,
          -0.551562117174487,
          -0.7569418009249309,
          -0.7578840771473123,
          -0.7979818046465237,
          1.7875060506298361,
          -1.1376330255000242,
          -1.7296967915248824,
          1.0120261071074859,
          0.07626292262330708,
          -0.5161229432965986,
          -1.9828965516645491,
          1.2236247293138747,
          -1.4987687258773836,
          0.728921907199498,
          -1.0224292690506944,
          0.7636030501956129,
          -1.4035448034462434,
          0.8741822629080838,
          -1.575143589119851,
          0.5783812385108045,
          -0.9559912307275771,
          -0.06416912485000843,
          1.5340650493135644,
          1.0625590148885438,
          0.8926470152500349,
          -0.10936690562114973,
          -0.24245197468062515,
          1.5191649065321466,
          0.736591302550211,
          0.3806355692794749,
          -0.19094272495077746,
          -0.4809111086547659,
          -1.3393209311998107,
          0.3444845242142359,
          -0.308530466508197,
          0.5971519605520483,
          -0.2961393984777049,
          2.0527924932523907,
          -0.42898583486115943,
          0.7361587789620776,
          -0.6655264065881279,
          0.4869596491478256,
          -0.42392394888161156,
          0.0960209955254644
         ]
        },
        {
         "line": {
          "color": "rgba(55, 128, 191, 1.0)",
          "dash": "solid",
          "shape": "linear",
          "width": 1.3
         },
         "mode": "lines",
         "name": "B",
         "text": "",
         "type": "scatter",
         "x": [
          0,
          1,
          2,
          3,
          4,
          5,
          6,
          7,
          8,
          9,
          10,
          11,
          12,
          13,
          14,
          15,
          16,
          17,
          18,
          19,
          20,
          21,
          22,
          23,
          24,
          25,
          26,
          27,
          28,
          29,
          30,
          31,
          32,
          33,
          34,
          35,
          36,
          37,
          38,
          39,
          40,
          41,
          42,
          43,
          44,
          45,
          46,
          47,
          48,
          49,
          50,
          51,
          52,
          53,
          54,
          55,
          56,
          57,
          58,
          59,
          60,
          61,
          62,
          63,
          64,
          65,
          66,
          67,
          68,
          69,
          70,
          71,
          72,
          73,
          74,
          75,
          76,
          77,
          78,
          79,
          80,
          81,
          82,
          83,
          84,
          85,
          86,
          87,
          88,
          89,
          90,
          91,
          92,
          93,
          94,
          95,
          96,
          97,
          98,
          99
         ],
         "y": [
          -0.6810784119889212,
          -0.12672851621571565,
          -2.0807241915160843,
          2.1123832635269437,
          -0.037441185918270566,
          -0.8419160328363937,
          -0.965051019475013,
          0.8311693286344598,
          -0.12892638840714116,
          -0.3223623657442055,
          -0.2651621978066173,
          0.5751051482978644,
          -1.5954080823970926,
          0.35868808673820946,
          2.472151302817571,
          0.262160516152913,
          -0.34492136425427206,
          2.642740897818084,
          0.41347183169097945,
          1.4222362844595409,
          1.0478656163489362,
          -1.4989625631723997,
          -1.1573817060636589,
          -0.1902543592584037,
          -1.5924763685255088,
          -0.04356499912556374,
          -0.32646573064441586,
          1.4195081126291589,
          1.3506300184179498,
          -1.8861410729263206,
          0.6078372185494824,
          0.5896587847914512,
          -1.8647497848327925,
          0.16162438429861858,
          0.6426130692999505,
          1.7639945077246302,
          0.7761834037906911,
          0.421145954098237,
          0.1854040095139653,
          0.9429598683866964,
          -0.7099509267598096,
          -1.7564388380669502,
          1.3881239407102857,
          -1.3120206969144075,
          -1.2360995942787971,
          -0.10177615060000193,
          1.207999550088633,
          0.11356010121118484,
          -0.13811616381196112,
          1.3505494572062853,
          1.0177776805673846,
          -1.4837634818277279,
          -0.6319011207391553,
          0.20812478489292638,
          -0.08134859369177261,
          -0.7277076405660484,
          0.840470334848689,
          -1.7870213204890557,
          0.03588632950819402,
          -0.3733539244362292,
          0.43292408303107593,
          -0.5686082275326253,
          -0.6758945175654862,
          -0.6070459436824658,
          1.1050416756450765,
          -0.059510924986301804,
          0.8447858158747069,
          0.499972993569185,
          -0.13434501044250866,
          -1.8070564697994906,
          -1.714991039757765,
          -0.3751013035128291,
          1.0953223101313094,
          -1.4369805212753772,
          0.39107212877171116,
          -0.2516191386082863,
          0.22228696010046495,
          0.1725199646415227,
          -1.050096031944785,
          0.5061413187280068,
          -0.12351473087442927,
          -0.7146092641508545,
          0.4954838312980374,
          1.3551362084378633,
          0.9634550093677506,
          1.0479339303158377,
          1.059923568234994,
          -0.7117493946644667,
          -1.0699478167895864,
          -0.2362919262806339,
          1.403646945157495,
          0.28071705389078044,
          -0.15182662408610997,
          0.17489614347413823,
          -0.9742686872933056,
          0.1786922050680465,
          -0.6273672164757751,
          -0.4488967123079796,
          -1.4551355833120438,
          -1.0757746516273758
         ]
        },
        {
         "connectgaps": false,
         "fill": "tozeroy",
         "line": {
          "color": "green",
          "dash": "solid",
          "shape": "linear",
          "width": 0.5
         },
         "mode": "lines",
         "name": "Spread",
         "showlegend": false,
         "type": "scatter",
         "x": [
          0,
          1,
          2,
          3,
          4,
          5,
          6,
          7,
          8,
          9,
          10,
          11,
          12,
          13,
          14,
          15,
          16,
          17,
          18,
          19,
          20,
          21,
          22,
          23,
          24,
          25,
          26,
          27,
          28,
          29,
          30,
          31,
          32,
          33,
          34,
          35,
          36,
          37,
          38,
          39,
          40,
          41,
          42,
          43,
          44,
          45,
          46,
          47,
          48,
          49,
          50,
          51,
          52,
          53,
          54,
          55,
          56,
          57,
          58,
          59,
          60,
          61,
          62,
          63,
          64,
          65,
          66,
          67,
          68,
          69,
          70,
          71,
          72,
          73,
          74,
          75,
          76,
          77,
          78,
          79,
          80,
          81,
          82,
          83,
          84,
          85,
          86,
          87,
          88,
          89,
          90,
          91,
          92,
          93,
          94,
          95,
          96,
          97,
          98,
          99
         ],
         "xaxis": "x2",
         "y": [
          0.013012226425796247,
          0.32170520341224695,
          2.113694771593883,
          "",
          "",
          "",
          "",
          "",
          "",
          "",
          1.2312740118564545,
          "",
          0.17480597992896385,
          0.29733074196900827,
          "",
          0.18181381834114607,
          0.9502144031317878,
          "",
          0.5240561914080397,
          "",
          "",
          "",
          0.6135744680773643,
          "",
          2.2638249789917344,
          "",
          "",
          "",
          "",
          1.760416016998251,
          0.20590115822712518,
          "",
          1.492291153621594,
          2.2407304330549485,
          0.3984064689812479,
          "",
          0.03146951300094336,
          "",
          2.2262290186667633,
          1.179374791708685,
          0.8743121529540947,
          1.2899168553429485,
          "",
          1.598419329474717,
          "",
          0.4435103023045571,
          "",
          "",
          0.7024851383416443,
          "",
          "",
          0.5237702190010963,
          1.5939964136949911,
          1.940647196490989,
          0.9515885214050168,
          0.04908194900614571,
          "",
          1.0300795195641248,
          "",
          "",
          1.3545819675987603,
          "",
          "",
          1.6190720507899516,
          "",
          "",
          "",
          0.7236517357446897,
          "",
          2.5359783769989885,
          0.6925617707070706,
          1.138704353708442,
          "",
          2.3111627841834608,
          "",
          0.8300003771190907,
          "",
          "",
          2.5841610812583493,
          0.5564176961605369,
          1.016161746124464,
          0.6052423585297048,
          "",
          0.16402869809428333,
          "",
          "",
          "",
          0.23083828600970085,
          "",
          0.5807764504948698,
          "",
          0.3164349066612679,
          "",
          1.8778963497782524,
          0.5452828524321462,
          0.5574665738940311,
          "",
          0.9358563614558052,
          1.0312116344304323,
          1.1717956471528403
         ],
         "yaxis": "y2"
        },
        {
         "connectgaps": false,
         "fill": "tozeroy",
         "line": {
          "color": "red",
          "dash": "solid",
          "shape": "linear",
          "width": 0.5
         },
         "mode": "lines",
         "name": "Spread",
         "showlegend": false,
         "type": "scatter",
         "x": [
          0,
          1,
          2,
          3,
          4,
          5,
          6,
          7,
          8,
          9,
          10,
          11,
          12,
          13,
          14,
          15,
          16,
          17,
          18,
          19,
          20,
          21,
          22,
          23,
          24,
          25,
          26,
          27,
          28,
          29,
          30,
          31,
          32,
          33,
          34,
          35,
          36,
          37,
          38,
          39,
          40,
          41,
          42,
          43,
          44,
          45,
          46,
          47,
          48,
          49,
          50,
          51,
          52,
          53,
          54,
          55,
          56,
          57,
          58,
          59,
          60,
          61,
          62,
          63,
          64,
          65,
          66,
          67,
          68,
          69,
          70,
          71,
          72,
          73,
          74,
          75,
          76,
          77,
          78,
          79,
          80,
          81,
          82,
          83,
          84,
          85,
          86,
          87,
          88,
          89,
          90,
          91,
          92,
          93,
          94,
          95,
          96,
          97,
          98,
          99
         ],
         "xaxis": "x2",
         "y": [
          "",
          "",
          "",
          -2.8114536486413484,
          -1.153039717638259,
          -0.15596914710068743,
          -0.8931809066760956,
          -1.3579354624120106,
          -1.4397197594564402,
          -0.7403720278222526,
          "",
          -0.0097916416713274,
          "",
          "",
          -1.9378740010628293,
          "",
          "",
          -1.9263301513894202,
          "",
          -2.3161879173197444,
          -0.555430796007554,
          -0.6790505958347499,
          "",
          -0.7432379871249861,
          "",
          -0.6629790493568396,
          -1.0609667232770716,
          -2.309149120415494,
          -1.4304765977393161,
          "",
          "",
          -2.448150239983696,
          "",
          "",
          "",
          -3.2779504705518425,
          "",
          -0.7246731100792928,
          "",
          "",
          "",
          "",
          -1.1455543273766389,
          "",
          -1.863877715972655,
          "",
          -2.437051213786507,
          -0.19606562778534245,
          "",
          -1.0861887173685845,
          -0.17731918072174135,
          "",
          "",
          "",
          "",
          "",
          -1.3920324520231762,
          "",
          -0.7937704066555064,
          -0.42462788021029446,
          "",
          -0.5690247979673989,
          -1.0538022739593962,
          "",
          -1.0287787530217694,
          -0.4566120183102968,
          -2.827682367539256,
          "",
          -1.364423715434875,
          "",
          "",
          "",
          -2.498867113577553,
          "",
          -1.9662157178915622,
          "",
          -1.178278190828042,
          -0.2366890894915311,
          "",
          "",
          "",
          "",
          -0.7379358059786626,
          "",
          -0.22686370681753965,
          -0.6672983610363628,
          -1.2508662931857715,
          "",
          -0.26937311441022427,
          "",
          -1.712177411665692,
          "",
          -0.1443127743915949,
          "",
          "",
          "",
          -0.0381591901123528,
          "",
          "",
          ""
         ],
         "yaxis": "y2"
        }
       ],
       "layout": {
        "hovermode": "x",
        "legend": {
         "bgcolor": "#F5F6F9",
         "font": {
          "color": "#4D5663"
         }
        },
        "paper_bgcolor": "#F5F6F9",
        "plot_bgcolor": "#F5F6F9",
        "template": {
         "data": {
          "bar": [
           {
            "error_x": {
             "color": "#2a3f5f"
            },
            "error_y": {
             "color": "#2a3f5f"
            },
            "marker": {
             "line": {
              "color": "#E5ECF6",
              "width": 0.5
             }
            },
            "type": "bar"
           }
          ],
          "barpolar": [
           {
            "marker": {
             "line": {
              "color": "#E5ECF6",
              "width": 0.5
             }
            },
            "type": "barpolar"
           }
          ],
          "carpet": [
           {
            "aaxis": {
             "endlinecolor": "#2a3f5f",
             "gridcolor": "white",
             "linecolor": "white",
             "minorgridcolor": "white",
             "startlinecolor": "#2a3f5f"
            },
            "baxis": {
             "endlinecolor": "#2a3f5f",
             "gridcolor": "white",
             "linecolor": "white",
             "minorgridcolor": "white",
             "startlinecolor": "#2a3f5f"
            },
            "type": "carpet"
           }
          ],
          "choropleth": [
           {
            "colorbar": {
             "outlinewidth": 0,
             "ticks": ""
            },
            "type": "choropleth"
           }
          ],
          "contour": [
           {
            "colorbar": {
             "outlinewidth": 0,
             "ticks": ""
            },
            "colorscale": [
             [
              0,
              "#0d0887"
             ],
             [
              0.1111111111111111,
              "#46039f"
             ],
             [
              0.2222222222222222,
              "#7201a8"
             ],
             [
              0.3333333333333333,
              "#9c179e"
             ],
             [
              0.4444444444444444,
              "#bd3786"
             ],
             [
              0.5555555555555556,
              "#d8576b"
             ],
             [
              0.6666666666666666,
              "#ed7953"
             ],
             [
              0.7777777777777778,
              "#fb9f3a"
             ],
             [
              0.8888888888888888,
              "#fdca26"
             ],
             [
              1,
              "#f0f921"
             ]
            ],
            "type": "contour"
           }
          ],
          "contourcarpet": [
           {
            "colorbar": {
             "outlinewidth": 0,
             "ticks": ""
            },
            "type": "contourcarpet"
           }
          ],
          "heatmap": [
           {
            "colorbar": {
             "outlinewidth": 0,
             "ticks": ""
            },
            "colorscale": [
             [
              0,
              "#0d0887"
             ],
             [
              0.1111111111111111,
              "#46039f"
             ],
             [
              0.2222222222222222,
              "#7201a8"
             ],
             [
              0.3333333333333333,
              "#9c179e"
             ],
             [
              0.4444444444444444,
              "#bd3786"
             ],
             [
              0.5555555555555556,
              "#d8576b"
             ],
             [
              0.6666666666666666,
              "#ed7953"
             ],
             [
              0.7777777777777778,
              "#fb9f3a"
             ],
             [
              0.8888888888888888,
              "#fdca26"
             ],
             [
              1,
              "#f0f921"
             ]
            ],
            "type": "heatmap"
           }
          ],
          "heatmapgl": [
           {
            "colorbar": {
             "outlinewidth": 0,
             "ticks": ""
            },
            "colorscale": [
             [
              0,
              "#0d0887"
             ],
             [
              0.1111111111111111,
              "#46039f"
             ],
             [
              0.2222222222222222,
              "#7201a8"
             ],
             [
              0.3333333333333333,
              "#9c179e"
             ],
             [
              0.4444444444444444,
              "#bd3786"
             ],
             [
              0.5555555555555556,
              "#d8576b"
             ],
             [
              0.6666666666666666,
              "#ed7953"
             ],
             [
              0.7777777777777778,
              "#fb9f3a"
             ],
             [
              0.8888888888888888,
              "#fdca26"
             ],
             [
              1,
              "#f0f921"
             ]
            ],
            "type": "heatmapgl"
           }
          ],
          "histogram": [
           {
            "marker": {
             "colorbar": {
              "outlinewidth": 0,
              "ticks": ""
             }
            },
            "type": "histogram"
           }
          ],
          "histogram2d": [
           {
            "colorbar": {
             "outlinewidth": 0,
             "ticks": ""
            },
            "colorscale": [
             [
              0,
              "#0d0887"
             ],
             [
              0.1111111111111111,
              "#46039f"
             ],
             [
              0.2222222222222222,
              "#7201a8"
             ],
             [
              0.3333333333333333,
              "#9c179e"
             ],
             [
              0.4444444444444444,
              "#bd3786"
             ],
             [
              0.5555555555555556,
              "#d8576b"
             ],
             [
              0.6666666666666666,
              "#ed7953"
             ],
             [
              0.7777777777777778,
              "#fb9f3a"
             ],
             [
              0.8888888888888888,
              "#fdca26"
             ],
             [
              1,
              "#f0f921"
             ]
            ],
            "type": "histogram2d"
           }
          ],
          "histogram2dcontour": [
           {
            "colorbar": {
             "outlinewidth": 0,
             "ticks": ""
            },
            "colorscale": [
             [
              0,
              "#0d0887"
             ],
             [
              0.1111111111111111,
              "#46039f"
             ],
             [
              0.2222222222222222,
              "#7201a8"
             ],
             [
              0.3333333333333333,
              "#9c179e"
             ],
             [
              0.4444444444444444,
              "#bd3786"
             ],
             [
              0.5555555555555556,
              "#d8576b"
             ],
             [
              0.6666666666666666,
              "#ed7953"
             ],
             [
              0.7777777777777778,
              "#fb9f3a"
             ],
             [
              0.8888888888888888,
              "#fdca26"
             ],
             [
              1,
              "#f0f921"
             ]
            ],
            "type": "histogram2dcontour"
           }
          ],
          "mesh3d": [
           {
            "colorbar": {
             "outlinewidth": 0,
             "ticks": ""
            },
            "type": "mesh3d"
           }
          ],
          "parcoords": [
           {
            "line": {
             "colorbar": {
              "outlinewidth": 0,
              "ticks": ""
             }
            },
            "type": "parcoords"
           }
          ],
          "pie": [
           {
            "automargin": true,
            "type": "pie"
           }
          ],
          "scatter": [
           {
            "marker": {
             "colorbar": {
              "outlinewidth": 0,
              "ticks": ""
             }
            },
            "type": "scatter"
           }
          ],
          "scatter3d": [
           {
            "line": {
             "colorbar": {
              "outlinewidth": 0,
              "ticks": ""
             }
            },
            "marker": {
             "colorbar": {
              "outlinewidth": 0,
              "ticks": ""
             }
            },
            "type": "scatter3d"
           }
          ],
          "scattercarpet": [
           {
            "marker": {
             "colorbar": {
              "outlinewidth": 0,
              "ticks": ""
             }
            },
            "type": "scattercarpet"
           }
          ],
          "scattergeo": [
           {
            "marker": {
             "colorbar": {
              "outlinewidth": 0,
              "ticks": ""
             }
            },
            "type": "scattergeo"
           }
          ],
          "scattergl": [
           {
            "marker": {
             "colorbar": {
              "outlinewidth": 0,
              "ticks": ""
             }
            },
            "type": "scattergl"
           }
          ],
          "scattermapbox": [
           {
            "marker": {
             "colorbar": {
              "outlinewidth": 0,
              "ticks": ""
             }
            },
            "type": "scattermapbox"
           }
          ],
          "scatterpolar": [
           {
            "marker": {
             "colorbar": {
              "outlinewidth": 0,
              "ticks": ""
             }
            },
            "type": "scatterpolar"
           }
          ],
          "scatterpolargl": [
           {
            "marker": {
             "colorbar": {
              "outlinewidth": 0,
              "ticks": ""
             }
            },
            "type": "scatterpolargl"
           }
          ],
          "scatterternary": [
           {
            "marker": {
             "colorbar": {
              "outlinewidth": 0,
              "ticks": ""
             }
            },
            "type": "scatterternary"
           }
          ],
          "surface": [
           {
            "colorbar": {
             "outlinewidth": 0,
             "ticks": ""
            },
            "colorscale": [
             [
              0,
              "#0d0887"
             ],
             [
              0.1111111111111111,
              "#46039f"
             ],
             [
              0.2222222222222222,
              "#7201a8"
             ],
             [
              0.3333333333333333,
              "#9c179e"
             ],
             [
              0.4444444444444444,
              "#bd3786"
             ],
             [
              0.5555555555555556,
              "#d8576b"
             ],
             [
              0.6666666666666666,
              "#ed7953"
             ],
             [
              0.7777777777777778,
              "#fb9f3a"
             ],
             [
              0.8888888888888888,
              "#fdca26"
             ],
             [
              1,
              "#f0f921"
             ]
            ],
            "type": "surface"
           }
          ],
          "table": [
           {
            "cells": {
             "fill": {
              "color": "#EBF0F8"
             },
             "line": {
              "color": "white"
             }
            },
            "header": {
             "fill": {
              "color": "#C8D4E3"
             },
             "line": {
              "color": "white"
             }
            },
            "type": "table"
           }
          ]
         },
         "layout": {
          "annotationdefaults": {
           "arrowcolor": "#2a3f5f",
           "arrowhead": 0,
           "arrowwidth": 1
          },
          "coloraxis": {
           "colorbar": {
            "outlinewidth": 0,
            "ticks": ""
           }
          },
          "colorscale": {
           "diverging": [
            [
             0,
             "#8e0152"
            ],
            [
             0.1,
             "#c51b7d"
            ],
            [
             0.2,
             "#de77ae"
            ],
            [
             0.3,
             "#f1b6da"
            ],
            [
             0.4,
             "#fde0ef"
            ],
            [
             0.5,
             "#f7f7f7"
            ],
            [
             0.6,
             "#e6f5d0"
            ],
            [
             0.7,
             "#b8e186"
            ],
            [
             0.8,
             "#7fbc41"
            ],
            [
             0.9,
             "#4d9221"
            ],
            [
             1,
             "#276419"
            ]
           ],
           "sequential": [
            [
             0,
             "#0d0887"
            ],
            [
             0.1111111111111111,
             "#46039f"
            ],
            [
             0.2222222222222222,
             "#7201a8"
            ],
            [
             0.3333333333333333,
             "#9c179e"
            ],
            [
             0.4444444444444444,
             "#bd3786"
            ],
            [
             0.5555555555555556,
             "#d8576b"
            ],
            [
             0.6666666666666666,
             "#ed7953"
            ],
            [
             0.7777777777777778,
             "#fb9f3a"
            ],
            [
             0.8888888888888888,
             "#fdca26"
            ],
            [
             1,
             "#f0f921"
            ]
           ],
           "sequentialminus": [
            [
             0,
             "#0d0887"
            ],
            [
             0.1111111111111111,
             "#46039f"
            ],
            [
             0.2222222222222222,
             "#7201a8"
            ],
            [
             0.3333333333333333,
             "#9c179e"
            ],
            [
             0.4444444444444444,
             "#bd3786"
            ],
            [
             0.5555555555555556,
             "#d8576b"
            ],
            [
             0.6666666666666666,
             "#ed7953"
            ],
            [
             0.7777777777777778,
             "#fb9f3a"
            ],
            [
             0.8888888888888888,
             "#fdca26"
            ],
            [
             1,
             "#f0f921"
            ]
           ]
          },
          "colorway": [
           "#636efa",
           "#EF553B",
           "#00cc96",
           "#ab63fa",
           "#FFA15A",
           "#19d3f3",
           "#FF6692",
           "#B6E880",
           "#FF97FF",
           "#FECB52"
          ],
          "font": {
           "color": "#2a3f5f"
          },
          "geo": {
           "bgcolor": "white",
           "lakecolor": "white",
           "landcolor": "#E5ECF6",
           "showlakes": true,
           "showland": true,
           "subunitcolor": "white"
          },
          "hoverlabel": {
           "align": "left"
          },
          "hovermode": "closest",
          "mapbox": {
           "style": "light"
          },
          "paper_bgcolor": "white",
          "plot_bgcolor": "#E5ECF6",
          "polar": {
           "angularaxis": {
            "gridcolor": "white",
            "linecolor": "white",
            "ticks": ""
           },
           "bgcolor": "#E5ECF6",
           "radialaxis": {
            "gridcolor": "white",
            "linecolor": "white",
            "ticks": ""
           }
          },
          "scene": {
           "xaxis": {
            "backgroundcolor": "#E5ECF6",
            "gridcolor": "white",
            "gridwidth": 2,
            "linecolor": "white",
            "showbackground": true,
            "ticks": "",
            "zerolinecolor": "white"
           },
           "yaxis": {
            "backgroundcolor": "#E5ECF6",
            "gridcolor": "white",
            "gridwidth": 2,
            "linecolor": "white",
            "showbackground": true,
            "ticks": "",
            "zerolinecolor": "white"
           },
           "zaxis": {
            "backgroundcolor": "#E5ECF6",
            "gridcolor": "white",
            "gridwidth": 2,
            "linecolor": "white",
            "showbackground": true,
            "ticks": "",
            "zerolinecolor": "white"
           }
          },
          "shapedefaults": {
           "line": {
            "color": "#2a3f5f"
           }
          },
          "ternary": {
           "aaxis": {
            "gridcolor": "white",
            "linecolor": "white",
            "ticks": ""
           },
           "baxis": {
            "gridcolor": "white",
            "linecolor": "white",
            "ticks": ""
           },
           "bgcolor": "#E5ECF6",
           "caxis": {
            "gridcolor": "white",
            "linecolor": "white",
            "ticks": ""
           }
          },
          "title": {
           "x": 0.05
          },
          "xaxis": {
           "automargin": true,
           "gridcolor": "white",
           "linecolor": "white",
           "ticks": "",
           "title": {
            "standoff": 15
           },
           "zerolinecolor": "white",
           "zerolinewidth": 2
          },
          "yaxis": {
           "automargin": true,
           "gridcolor": "white",
           "linecolor": "white",
           "ticks": "",
           "title": {
            "standoff": 15
           },
           "zerolinecolor": "white",
           "zerolinewidth": 2
          }
         }
        },
        "title": {
         "font": {
          "color": "#4D5663"
         }
        },
        "xaxis": {
         "gridcolor": "#E1E5ED",
         "showgrid": true,
         "tickfont": {
          "color": "#4D5663"
         },
         "title": {
          "font": {
           "color": "#4D5663"
          },
          "text": ""
         },
         "zerolinecolor": "#E1E5ED"
        },
        "xaxis2": {
         "anchor": "y2",
         "gridcolor": "#E1E5ED",
         "showgrid": true,
         "showticklabels": false,
         "tickfont": {
          "color": "#4D5663"
         },
         "title": {
          "font": {
           "color": "#4D5663"
          },
          "text": ""
         },
         "zerolinecolor": "#E1E5ED"
        },
        "yaxis": {
         "domain": [
          0.3,
          1
         ],
         "gridcolor": "#E1E5ED",
         "showgrid": true,
         "tickfont": {
          "color": "#4D5663"
         },
         "title": {
          "font": {
           "color": "#4D5663"
          },
          "text": ""
         },
         "zerolinecolor": "#E1E5ED"
        },
        "yaxis2": {
         "domain": [
          0,
          0.25
         ],
         "gridcolor": "#E1E5ED",
         "showgrid": true,
         "tickfont": {
          "color": "#4D5663"
         },
         "title": {
          "font": {
           "color": "#4D5663"
          },
          "text": "Spread"
         },
         "zerolinecolor": "#E1E5ED"
        }
       }
      },
      "text/html": [
       "<div>\n",
       "        \n",
       "        \n",
       "            <div id=\"165d9758-8268-4074-ab74-877af44ab43e\" class=\"plotly-graph-div\" style=\"height:525px; width:100%;\"></div>\n",
       "            <script type=\"text/javascript\">\n",
       "                require([\"plotly\"], function(Plotly) {\n",
       "                    window.PLOTLYENV=window.PLOTLYENV || {};\n",
       "                    window.PLOTLYENV.BASE_URL='https://plot.ly';\n",
       "                    \n",
       "                if (document.getElementById(\"165d9758-8268-4074-ab74-877af44ab43e\")) {\n",
       "                    Plotly.newPlot(\n",
       "                        '165d9758-8268-4074-ab74-877af44ab43e',\n",
       "                        [{\"line\": {\"color\": \"rgba(255, 153, 51, 1.0)\", \"dash\": \"solid\", \"shape\": \"linear\", \"width\": 1.3}, \"mode\": \"lines\", \"name\": \"A\", \"text\": \"\", \"type\": \"scatter\", \"x\": [0, 1, 2, 3, 4, 5, 6, 7, 8, 9, 10, 11, 12, 13, 14, 15, 16, 17, 18, 19, 20, 21, 22, 23, 24, 25, 26, 27, 28, 29, 30, 31, 32, 33, 34, 35, 36, 37, 38, 39, 40, 41, 42, 43, 44, 45, 46, 47, 48, 49, 50, 51, 52, 53, 54, 55, 56, 57, 58, 59, 60, 61, 62, 63, 64, 65, 66, 67, 68, 69, 70, 71, 72, 73, 74, 75, 76, 77, 78, 79, 80, 81, 82, 83, 84, 85, 86, 87, 88, 89, 90, 91, 92, 93, 94, 95, 96, 97, 98, 99], \"y\": [-0.6680661855631249, 0.1949766871965313, 0.03297058007779891, -0.6990703851144047, -1.1904809035565296, -0.9978851799370811, -1.8582319261511087, -0.5267661337775508, -1.5686461478635814, -1.0627343935664582, 0.9661118140498371, 0.565313506626537, -1.4206021024681288, 0.6560188287072177, 0.5342773017547415, 0.4439743344940591, 0.6052930388775157, 0.7164107464286641, 0.9375280230990192, -0.8939516328602036, 0.4924348203413822, -2.1780131590071496, -0.5438072379862946, -0.9334923463833898, 0.6713486104662258, -0.7065440484824034, -1.3874324539214875, -0.8896410077863353, -0.07984657932136635, -0.12572505592806968, 0.8137383767766075, -1.858491455192245, -0.3724586312111986, 2.402354817353567, 1.0410195382811984, -1.5139559628272126, 0.8076529167916344, -0.3035271559810558, 2.4116330281807286, 2.1223346600953814, 0.16436122619428503, -0.46652198272400175, 0.24256961333364677, 0.2863986325603095, -3.099977310251452, 0.3417341517045552, -1.229051663697874, -0.0825055265741576, 0.5643689745296832, 0.2643607398377007, 0.8404584998456432, -0.9599932628266316, 0.9620952929558358, 2.1487719813839155, 0.8702399277132442, -0.6786256915599027, -0.551562117174487, -0.7569418009249309, -0.7578840771473123, -0.7979818046465237, 1.7875060506298361, -1.1376330255000242, -1.7296967915248824, 1.0120261071074859, 0.07626292262330708, -0.5161229432965986, -1.9828965516645491, 1.2236247293138747, -1.4987687258773836, 0.728921907199498, -1.0224292690506944, 0.7636030501956129, -1.4035448034462434, 0.8741822629080838, -1.575143589119851, 0.5783812385108045, -0.9559912307275771, -0.06416912485000843, 1.5340650493135644, 1.0625590148885438, 0.8926470152500349, -0.10936690562114973, -0.24245197468062515, 1.5191649065321466, 0.736591302550211, 0.3806355692794749, -0.19094272495077746, -0.4809111086547659, -1.3393209311998107, 0.3444845242142359, -0.308530466508197, 0.5971519605520483, -0.2961393984777049, 2.0527924932523907, -0.42898583486115943, 0.7361587789620776, -0.6655264065881279, 0.4869596491478256, -0.42392394888161156, 0.0960209955254644]}, {\"line\": {\"color\": \"rgba(55, 128, 191, 1.0)\", \"dash\": \"solid\", \"shape\": \"linear\", \"width\": 1.3}, \"mode\": \"lines\", \"name\": \"B\", \"text\": \"\", \"type\": \"scatter\", \"x\": [0, 1, 2, 3, 4, 5, 6, 7, 8, 9, 10, 11, 12, 13, 14, 15, 16, 17, 18, 19, 20, 21, 22, 23, 24, 25, 26, 27, 28, 29, 30, 31, 32, 33, 34, 35, 36, 37, 38, 39, 40, 41, 42, 43, 44, 45, 46, 47, 48, 49, 50, 51, 52, 53, 54, 55, 56, 57, 58, 59, 60, 61, 62, 63, 64, 65, 66, 67, 68, 69, 70, 71, 72, 73, 74, 75, 76, 77, 78, 79, 80, 81, 82, 83, 84, 85, 86, 87, 88, 89, 90, 91, 92, 93, 94, 95, 96, 97, 98, 99], \"y\": [-0.6810784119889212, -0.12672851621571565, -2.0807241915160843, 2.1123832635269437, -0.037441185918270566, -0.8419160328363937, -0.965051019475013, 0.8311693286344598, -0.12892638840714116, -0.3223623657442055, -0.2651621978066173, 0.5751051482978644, -1.5954080823970926, 0.35868808673820946, 2.472151302817571, 0.262160516152913, -0.34492136425427206, 2.642740897818084, 0.41347183169097945, 1.4222362844595409, 1.0478656163489362, -1.4989625631723997, -1.1573817060636589, -0.1902543592584037, -1.5924763685255088, -0.04356499912556374, -0.32646573064441586, 1.4195081126291589, 1.3506300184179498, -1.8861410729263206, 0.6078372185494824, 0.5896587847914512, -1.8647497848327925, 0.16162438429861858, 0.6426130692999505, 1.7639945077246302, 0.7761834037906911, 0.421145954098237, 0.1854040095139653, 0.9429598683866964, -0.7099509267598096, -1.7564388380669502, 1.3881239407102857, -1.3120206969144075, -1.2360995942787971, -0.10177615060000193, 1.207999550088633, 0.11356010121118484, -0.13811616381196112, 1.3505494572062853, 1.0177776805673846, -1.4837634818277279, -0.6319011207391553, 0.20812478489292638, -0.08134859369177261, -0.7277076405660484, 0.840470334848689, -1.7870213204890557, 0.03588632950819402, -0.3733539244362292, 0.43292408303107593, -0.5686082275326253, -0.6758945175654862, -0.6070459436824658, 1.1050416756450765, -0.059510924986301804, 0.8447858158747069, 0.499972993569185, -0.13434501044250866, -1.8070564697994906, -1.714991039757765, -0.3751013035128291, 1.0953223101313094, -1.4369805212753772, 0.39107212877171116, -0.2516191386082863, 0.22228696010046495, 0.1725199646415227, -1.050096031944785, 0.5061413187280068, -0.12351473087442927, -0.7146092641508545, 0.4954838312980374, 1.3551362084378633, 0.9634550093677506, 1.0479339303158377, 1.059923568234994, -0.7117493946644667, -1.0699478167895864, -0.2362919262806339, 1.403646945157495, 0.28071705389078044, -0.15182662408610997, 0.17489614347413823, -0.9742686872933056, 0.1786922050680465, -0.6273672164757751, -0.4488967123079796, -1.4551355833120438, -1.0757746516273758]}, {\"connectgaps\": false, \"fill\": \"tozeroy\", \"line\": {\"color\": \"green\", \"dash\": \"solid\", \"shape\": \"linear\", \"width\": 0.5}, \"mode\": \"lines\", \"name\": \"Spread\", \"showlegend\": false, \"type\": \"scatter\", \"x\": [0, 1, 2, 3, 4, 5, 6, 7, 8, 9, 10, 11, 12, 13, 14, 15, 16, 17, 18, 19, 20, 21, 22, 23, 24, 25, 26, 27, 28, 29, 30, 31, 32, 33, 34, 35, 36, 37, 38, 39, 40, 41, 42, 43, 44, 45, 46, 47, 48, 49, 50, 51, 52, 53, 54, 55, 56, 57, 58, 59, 60, 61, 62, 63, 64, 65, 66, 67, 68, 69, 70, 71, 72, 73, 74, 75, 76, 77, 78, 79, 80, 81, 82, 83, 84, 85, 86, 87, 88, 89, 90, 91, 92, 93, 94, 95, 96, 97, 98, 99], \"xaxis\": \"x2\", \"y\": [0.013012226425796247, 0.32170520341224695, 2.113694771593883, \"\", \"\", \"\", \"\", \"\", \"\", \"\", 1.2312740118564545, \"\", 0.17480597992896385, 0.29733074196900827, \"\", 0.18181381834114607, 0.9502144031317878, \"\", 0.5240561914080397, \"\", \"\", \"\", 0.6135744680773643, \"\", 2.2638249789917344, \"\", \"\", \"\", \"\", 1.760416016998251, 0.20590115822712518, \"\", 1.492291153621594, 2.2407304330549485, 0.3984064689812479, \"\", 0.03146951300094336, \"\", 2.2262290186667633, 1.179374791708685, 0.8743121529540947, 1.2899168553429485, \"\", 1.598419329474717, \"\", 0.4435103023045571, \"\", \"\", 0.7024851383416443, \"\", \"\", 0.5237702190010963, 1.5939964136949911, 1.940647196490989, 0.9515885214050168, 0.04908194900614571, \"\", 1.0300795195641248, \"\", \"\", 1.3545819675987603, \"\", \"\", 1.6190720507899516, \"\", \"\", \"\", 0.7236517357446897, \"\", 2.5359783769989885, 0.6925617707070706, 1.138704353708442, \"\", 2.3111627841834608, \"\", 0.8300003771190907, \"\", \"\", 2.5841610812583493, 0.5564176961605369, 1.016161746124464, 0.6052423585297048, \"\", 0.16402869809428333, \"\", \"\", \"\", 0.23083828600970085, \"\", 0.5807764504948698, \"\", 0.3164349066612679, \"\", 1.8778963497782524, 0.5452828524321462, 0.5574665738940311, \"\", 0.9358563614558052, 1.0312116344304323, 1.1717956471528403], \"yaxis\": \"y2\"}, {\"connectgaps\": false, \"fill\": \"tozeroy\", \"line\": {\"color\": \"red\", \"dash\": \"solid\", \"shape\": \"linear\", \"width\": 0.5}, \"mode\": \"lines\", \"name\": \"Spread\", \"showlegend\": false, \"type\": \"scatter\", \"x\": [0, 1, 2, 3, 4, 5, 6, 7, 8, 9, 10, 11, 12, 13, 14, 15, 16, 17, 18, 19, 20, 21, 22, 23, 24, 25, 26, 27, 28, 29, 30, 31, 32, 33, 34, 35, 36, 37, 38, 39, 40, 41, 42, 43, 44, 45, 46, 47, 48, 49, 50, 51, 52, 53, 54, 55, 56, 57, 58, 59, 60, 61, 62, 63, 64, 65, 66, 67, 68, 69, 70, 71, 72, 73, 74, 75, 76, 77, 78, 79, 80, 81, 82, 83, 84, 85, 86, 87, 88, 89, 90, 91, 92, 93, 94, 95, 96, 97, 98, 99], \"xaxis\": \"x2\", \"y\": [\"\", \"\", \"\", -2.8114536486413484, -1.153039717638259, -0.15596914710068743, -0.8931809066760956, -1.3579354624120106, -1.4397197594564402, -0.7403720278222526, \"\", -0.0097916416713274, \"\", \"\", -1.9378740010628293, \"\", \"\", -1.9263301513894202, \"\", -2.3161879173197444, -0.555430796007554, -0.6790505958347499, \"\", -0.7432379871249861, \"\", -0.6629790493568396, -1.0609667232770716, -2.309149120415494, -1.4304765977393161, \"\", \"\", -2.448150239983696, \"\", \"\", \"\", -3.2779504705518425, \"\", -0.7246731100792928, \"\", \"\", \"\", \"\", -1.1455543273766389, \"\", -1.863877715972655, \"\", -2.437051213786507, -0.19606562778534245, \"\", -1.0861887173685845, -0.17731918072174135, \"\", \"\", \"\", \"\", \"\", -1.3920324520231762, \"\", -0.7937704066555064, -0.42462788021029446, \"\", -0.5690247979673989, -1.0538022739593962, \"\", -1.0287787530217694, -0.4566120183102968, -2.827682367539256, \"\", -1.364423715434875, \"\", \"\", \"\", -2.498867113577553, \"\", -1.9662157178915622, \"\", -1.178278190828042, -0.2366890894915311, \"\", \"\", \"\", \"\", -0.7379358059786626, \"\", -0.22686370681753965, -0.6672983610363628, -1.2508662931857715, \"\", -0.26937311441022427, \"\", -1.712177411665692, \"\", -0.1443127743915949, \"\", \"\", \"\", -0.0381591901123528, \"\", \"\", \"\"], \"yaxis\": \"y2\"}],\n",
       "                        {\"hovermode\": \"x\", \"legend\": {\"bgcolor\": \"#F5F6F9\", \"font\": {\"color\": \"#4D5663\"}}, \"paper_bgcolor\": \"#F5F6F9\", \"plot_bgcolor\": \"#F5F6F9\", \"template\": {\"data\": {\"bar\": [{\"error_x\": {\"color\": \"#2a3f5f\"}, \"error_y\": {\"color\": \"#2a3f5f\"}, \"marker\": {\"line\": {\"color\": \"#E5ECF6\", \"width\": 0.5}}, \"type\": \"bar\"}], \"barpolar\": [{\"marker\": {\"line\": {\"color\": \"#E5ECF6\", \"width\": 0.5}}, \"type\": \"barpolar\"}], \"carpet\": [{\"aaxis\": {\"endlinecolor\": \"#2a3f5f\", \"gridcolor\": \"white\", \"linecolor\": \"white\", \"minorgridcolor\": \"white\", \"startlinecolor\": \"#2a3f5f\"}, \"baxis\": {\"endlinecolor\": \"#2a3f5f\", \"gridcolor\": \"white\", \"linecolor\": \"white\", \"minorgridcolor\": \"white\", \"startlinecolor\": \"#2a3f5f\"}, \"type\": \"carpet\"}], \"choropleth\": [{\"colorbar\": {\"outlinewidth\": 0, \"ticks\": \"\"}, \"type\": \"choropleth\"}], \"contour\": [{\"colorbar\": {\"outlinewidth\": 0, \"ticks\": \"\"}, \"colorscale\": [[0.0, \"#0d0887\"], [0.1111111111111111, \"#46039f\"], [0.2222222222222222, \"#7201a8\"], [0.3333333333333333, \"#9c179e\"], [0.4444444444444444, \"#bd3786\"], [0.5555555555555556, \"#d8576b\"], [0.6666666666666666, \"#ed7953\"], [0.7777777777777778, \"#fb9f3a\"], [0.8888888888888888, \"#fdca26\"], [1.0, \"#f0f921\"]], \"type\": \"contour\"}], \"contourcarpet\": [{\"colorbar\": {\"outlinewidth\": 0, \"ticks\": \"\"}, \"type\": \"contourcarpet\"}], \"heatmap\": [{\"colorbar\": {\"outlinewidth\": 0, \"ticks\": \"\"}, \"colorscale\": [[0.0, \"#0d0887\"], [0.1111111111111111, \"#46039f\"], [0.2222222222222222, \"#7201a8\"], [0.3333333333333333, \"#9c179e\"], [0.4444444444444444, \"#bd3786\"], [0.5555555555555556, \"#d8576b\"], [0.6666666666666666, \"#ed7953\"], [0.7777777777777778, \"#fb9f3a\"], [0.8888888888888888, \"#fdca26\"], [1.0, \"#f0f921\"]], \"type\": \"heatmap\"}], \"heatmapgl\": [{\"colorbar\": {\"outlinewidth\": 0, \"ticks\": \"\"}, \"colorscale\": [[0.0, \"#0d0887\"], [0.1111111111111111, \"#46039f\"], [0.2222222222222222, \"#7201a8\"], [0.3333333333333333, \"#9c179e\"], [0.4444444444444444, \"#bd3786\"], [0.5555555555555556, \"#d8576b\"], [0.6666666666666666, \"#ed7953\"], [0.7777777777777778, \"#fb9f3a\"], [0.8888888888888888, \"#fdca26\"], [1.0, \"#f0f921\"]], \"type\": \"heatmapgl\"}], \"histogram\": [{\"marker\": {\"colorbar\": {\"outlinewidth\": 0, \"ticks\": \"\"}}, \"type\": \"histogram\"}], \"histogram2d\": [{\"colorbar\": {\"outlinewidth\": 0, \"ticks\": \"\"}, \"colorscale\": [[0.0, \"#0d0887\"], [0.1111111111111111, \"#46039f\"], [0.2222222222222222, \"#7201a8\"], [0.3333333333333333, \"#9c179e\"], [0.4444444444444444, \"#bd3786\"], [0.5555555555555556, \"#d8576b\"], [0.6666666666666666, \"#ed7953\"], [0.7777777777777778, \"#fb9f3a\"], [0.8888888888888888, \"#fdca26\"], [1.0, \"#f0f921\"]], \"type\": \"histogram2d\"}], \"histogram2dcontour\": [{\"colorbar\": {\"outlinewidth\": 0, \"ticks\": \"\"}, \"colorscale\": [[0.0, \"#0d0887\"], [0.1111111111111111, \"#46039f\"], [0.2222222222222222, \"#7201a8\"], [0.3333333333333333, \"#9c179e\"], [0.4444444444444444, \"#bd3786\"], [0.5555555555555556, \"#d8576b\"], [0.6666666666666666, \"#ed7953\"], [0.7777777777777778, \"#fb9f3a\"], [0.8888888888888888, \"#fdca26\"], [1.0, \"#f0f921\"]], \"type\": \"histogram2dcontour\"}], \"mesh3d\": [{\"colorbar\": {\"outlinewidth\": 0, \"ticks\": \"\"}, \"type\": \"mesh3d\"}], \"parcoords\": [{\"line\": {\"colorbar\": {\"outlinewidth\": 0, \"ticks\": \"\"}}, \"type\": \"parcoords\"}], \"pie\": [{\"automargin\": true, \"type\": \"pie\"}], \"scatter\": [{\"marker\": {\"colorbar\": {\"outlinewidth\": 0, \"ticks\": \"\"}}, \"type\": \"scatter\"}], \"scatter3d\": [{\"line\": {\"colorbar\": {\"outlinewidth\": 0, \"ticks\": \"\"}}, \"marker\": {\"colorbar\": {\"outlinewidth\": 0, \"ticks\": \"\"}}, \"type\": \"scatter3d\"}], \"scattercarpet\": [{\"marker\": {\"colorbar\": {\"outlinewidth\": 0, \"ticks\": \"\"}}, \"type\": \"scattercarpet\"}], \"scattergeo\": [{\"marker\": {\"colorbar\": {\"outlinewidth\": 0, \"ticks\": \"\"}}, \"type\": \"scattergeo\"}], \"scattergl\": [{\"marker\": {\"colorbar\": {\"outlinewidth\": 0, \"ticks\": \"\"}}, \"type\": \"scattergl\"}], \"scattermapbox\": [{\"marker\": {\"colorbar\": {\"outlinewidth\": 0, \"ticks\": \"\"}}, \"type\": \"scattermapbox\"}], \"scatterpolar\": [{\"marker\": {\"colorbar\": {\"outlinewidth\": 0, \"ticks\": \"\"}}, \"type\": \"scatterpolar\"}], \"scatterpolargl\": [{\"marker\": {\"colorbar\": {\"outlinewidth\": 0, \"ticks\": \"\"}}, \"type\": \"scatterpolargl\"}], \"scatterternary\": [{\"marker\": {\"colorbar\": {\"outlinewidth\": 0, \"ticks\": \"\"}}, \"type\": \"scatterternary\"}], \"surface\": [{\"colorbar\": {\"outlinewidth\": 0, \"ticks\": \"\"}, \"colorscale\": [[0.0, \"#0d0887\"], [0.1111111111111111, \"#46039f\"], [0.2222222222222222, \"#7201a8\"], [0.3333333333333333, \"#9c179e\"], [0.4444444444444444, \"#bd3786\"], [0.5555555555555556, \"#d8576b\"], [0.6666666666666666, \"#ed7953\"], [0.7777777777777778, \"#fb9f3a\"], [0.8888888888888888, \"#fdca26\"], [1.0, \"#f0f921\"]], \"type\": \"surface\"}], \"table\": [{\"cells\": {\"fill\": {\"color\": \"#EBF0F8\"}, \"line\": {\"color\": \"white\"}}, \"header\": {\"fill\": {\"color\": \"#C8D4E3\"}, \"line\": {\"color\": \"white\"}}, \"type\": \"table\"}]}, \"layout\": {\"annotationdefaults\": {\"arrowcolor\": \"#2a3f5f\", \"arrowhead\": 0, \"arrowwidth\": 1}, \"coloraxis\": {\"colorbar\": {\"outlinewidth\": 0, \"ticks\": \"\"}}, \"colorscale\": {\"diverging\": [[0, \"#8e0152\"], [0.1, \"#c51b7d\"], [0.2, \"#de77ae\"], [0.3, \"#f1b6da\"], [0.4, \"#fde0ef\"], [0.5, \"#f7f7f7\"], [0.6, \"#e6f5d0\"], [0.7, \"#b8e186\"], [0.8, \"#7fbc41\"], [0.9, \"#4d9221\"], [1, \"#276419\"]], \"sequential\": [[0.0, \"#0d0887\"], [0.1111111111111111, \"#46039f\"], [0.2222222222222222, \"#7201a8\"], [0.3333333333333333, \"#9c179e\"], [0.4444444444444444, \"#bd3786\"], [0.5555555555555556, \"#d8576b\"], [0.6666666666666666, \"#ed7953\"], [0.7777777777777778, \"#fb9f3a\"], [0.8888888888888888, \"#fdca26\"], [1.0, \"#f0f921\"]], \"sequentialminus\": [[0.0, \"#0d0887\"], [0.1111111111111111, \"#46039f\"], [0.2222222222222222, \"#7201a8\"], [0.3333333333333333, \"#9c179e\"], [0.4444444444444444, \"#bd3786\"], [0.5555555555555556, \"#d8576b\"], [0.6666666666666666, \"#ed7953\"], [0.7777777777777778, \"#fb9f3a\"], [0.8888888888888888, \"#fdca26\"], [1.0, \"#f0f921\"]]}, \"colorway\": [\"#636efa\", \"#EF553B\", \"#00cc96\", \"#ab63fa\", \"#FFA15A\", \"#19d3f3\", \"#FF6692\", \"#B6E880\", \"#FF97FF\", \"#FECB52\"], \"font\": {\"color\": \"#2a3f5f\"}, \"geo\": {\"bgcolor\": \"white\", \"lakecolor\": \"white\", \"landcolor\": \"#E5ECF6\", \"showlakes\": true, \"showland\": true, \"subunitcolor\": \"white\"}, \"hoverlabel\": {\"align\": \"left\"}, \"hovermode\": \"closest\", \"mapbox\": {\"style\": \"light\"}, \"paper_bgcolor\": \"white\", \"plot_bgcolor\": \"#E5ECF6\", \"polar\": {\"angularaxis\": {\"gridcolor\": \"white\", \"linecolor\": \"white\", \"ticks\": \"\"}, \"bgcolor\": \"#E5ECF6\", \"radialaxis\": {\"gridcolor\": \"white\", \"linecolor\": \"white\", \"ticks\": \"\"}}, \"scene\": {\"xaxis\": {\"backgroundcolor\": \"#E5ECF6\", \"gridcolor\": \"white\", \"gridwidth\": 2, \"linecolor\": \"white\", \"showbackground\": true, \"ticks\": \"\", \"zerolinecolor\": \"white\"}, \"yaxis\": {\"backgroundcolor\": \"#E5ECF6\", \"gridcolor\": \"white\", \"gridwidth\": 2, \"linecolor\": \"white\", \"showbackground\": true, \"ticks\": \"\", \"zerolinecolor\": \"white\"}, \"zaxis\": {\"backgroundcolor\": \"#E5ECF6\", \"gridcolor\": \"white\", \"gridwidth\": 2, \"linecolor\": \"white\", \"showbackground\": true, \"ticks\": \"\", \"zerolinecolor\": \"white\"}}, \"shapedefaults\": {\"line\": {\"color\": \"#2a3f5f\"}}, \"ternary\": {\"aaxis\": {\"gridcolor\": \"white\", \"linecolor\": \"white\", \"ticks\": \"\"}, \"baxis\": {\"gridcolor\": \"white\", \"linecolor\": \"white\", \"ticks\": \"\"}, \"bgcolor\": \"#E5ECF6\", \"caxis\": {\"gridcolor\": \"white\", \"linecolor\": \"white\", \"ticks\": \"\"}}, \"title\": {\"x\": 0.05}, \"xaxis\": {\"automargin\": true, \"gridcolor\": \"white\", \"linecolor\": \"white\", \"ticks\": \"\", \"title\": {\"standoff\": 15}, \"zerolinecolor\": \"white\", \"zerolinewidth\": 2}, \"yaxis\": {\"automargin\": true, \"gridcolor\": \"white\", \"linecolor\": \"white\", \"ticks\": \"\", \"title\": {\"standoff\": 15}, \"zerolinecolor\": \"white\", \"zerolinewidth\": 2}}}, \"title\": {\"font\": {\"color\": \"#4D5663\"}}, \"xaxis\": {\"gridcolor\": \"#E1E5ED\", \"showgrid\": true, \"tickfont\": {\"color\": \"#4D5663\"}, \"title\": {\"font\": {\"color\": \"#4D5663\"}, \"text\": \"\"}, \"zerolinecolor\": \"#E1E5ED\"}, \"xaxis2\": {\"anchor\": \"y2\", \"gridcolor\": \"#E1E5ED\", \"showgrid\": true, \"showticklabels\": false, \"tickfont\": {\"color\": \"#4D5663\"}, \"title\": {\"font\": {\"color\": \"#4D5663\"}, \"text\": \"\"}, \"zerolinecolor\": \"#E1E5ED\"}, \"yaxis\": {\"domain\": [0.3, 1], \"gridcolor\": \"#E1E5ED\", \"showgrid\": true, \"tickfont\": {\"color\": \"#4D5663\"}, \"title\": {\"font\": {\"color\": \"#4D5663\"}, \"text\": \"\"}, \"zerolinecolor\": \"#E1E5ED\"}, \"yaxis2\": {\"domain\": [0, 0.25], \"gridcolor\": \"#E1E5ED\", \"showgrid\": true, \"tickfont\": {\"color\": \"#4D5663\"}, \"title\": {\"font\": {\"color\": \"#4D5663\"}, \"text\": \"Spread\"}, \"zerolinecolor\": \"#E1E5ED\"}},\n",
       "                        {\"showLink\": true, \"linkText\": \"Export to plot.ly\", \"plotlyServerURL\": \"https://plot.ly\", \"responsive\": true}\n",
       "                    ).then(function(){\n",
       "                            \n",
       "var gd = document.getElementById('165d9758-8268-4074-ab74-877af44ab43e');\n",
       "var x = new MutationObserver(function (mutations, observer) {{\n",
       "        var display = window.getComputedStyle(gd).display;\n",
       "        if (!display || display === 'none') {{\n",
       "            console.log([gd, 'removed!']);\n",
       "            Plotly.purge(gd);\n",
       "            observer.disconnect();\n",
       "        }}\n",
       "}});\n",
       "\n",
       "// Listen for the removal of the full notebook cells\n",
       "var notebookContainer = gd.closest('#notebook-container');\n",
       "if (notebookContainer) {{\n",
       "    x.observe(notebookContainer, {childList: true});\n",
       "}}\n",
       "\n",
       "// Listen for the clearing of the current output cell\n",
       "var outputEl = gd.closest('.output');\n",
       "if (outputEl) {{\n",
       "    x.observe(outputEl, {childList: true});\n",
       "}}\n",
       "\n",
       "                        })\n",
       "                };\n",
       "                });\n",
       "            </script>\n",
       "        </div>"
      ]
     },
     "metadata": {},
     "output_type": "display_data"
    }
   ],
   "source": [
    "df[['A','B']].iplot(kind='spread')\n",
    "#shows a line plot against each other\n",
    "#shows the spread against each other \n",
    "#essentially useful for stock data"
   ]
  },
  {
   "cell_type": "markdown",
   "metadata": {},
   "source": [
    "## BUbble plot"
   ]
  },
  {
   "cell_type": "code",
   "execution_count": 28,
   "metadata": {},
   "outputs": [
    {
     "data": {
      "application/vnd.plotly.v1+json": {
       "config": {
        "linkText": "Export to plot.ly",
        "plotlyServerURL": "https://plot.ly",
        "showLink": true
       },
       "data": [
        {
         "marker": {
          "color": [
           "rgb(255, 153, 51)",
           "rgb(55, 128, 191)",
           "rgb(50, 171, 96)",
           "rgb(128, 0, 128)",
           "rgb(219, 64, 82)",
           "rgb(0, 128, 128)",
           "rgb(255, 255, 51)",
           "rgb(128, 128, 0)",
           "rgb(251, 128, 114)",
           "rgb(128, 177, 211)"
          ],
          "line": {
           "width": 1.3
          },
          "size": [
           26,
           52,
           99,
           72,
           53,
           77,
           88,
           55,
           78,
           110,
           83,
           97,
           83,
           87,
           71,
           62,
           85,
           74,
           63,
           66,
           91,
           66,
           12,
           67,
           62,
           56,
           65,
           36,
           97,
           41,
           71,
           67,
           91,
           59,
           59,
           40,
           98,
           89,
           67,
           68,
           99,
           39,
           83,
           78,
           75,
           79,
           76,
           57,
           68,
           67,
           59,
           62,
           49,
           68,
           78,
           106,
           98,
           108,
           69,
           76,
           95,
           50,
           79,
           62,
           65,
           99,
           72,
           90,
           74,
           82,
           109,
           69,
           68,
           79,
           101,
           83,
           39,
           50,
           43,
           66,
           74,
           45,
           67,
           35,
           60,
           40,
           112,
           91,
           68,
           99,
           72,
           69,
           75,
           106,
           71,
           98,
           84,
           42,
           46,
           71
          ],
          "symbol": "circle"
         },
         "mode": "markers",
         "text": "",
         "type": "scatter",
         "x": [
          -0.6680661855631249,
          0.1949766871965313,
          0.03297058007779891,
          -0.6990703851144047,
          -1.1904809035565296,
          -0.9978851799370811,
          -1.8582319261511087,
          -0.5267661337775508,
          -1.5686461478635814,
          -1.0627343935664582,
          0.9661118140498371,
          0.565313506626537,
          -1.4206021024681288,
          0.6560188287072177,
          0.5342773017547415,
          0.4439743344940591,
          0.6052930388775157,
          0.7164107464286641,
          0.9375280230990192,
          -0.8939516328602036,
          0.4924348203413822,
          -2.1780131590071496,
          -0.5438072379862946,
          -0.9334923463833898,
          0.6713486104662258,
          -0.7065440484824034,
          -1.3874324539214875,
          -0.8896410077863353,
          -0.07984657932136635,
          -0.12572505592806968,
          0.8137383767766075,
          -1.858491455192245,
          -0.3724586312111986,
          2.402354817353567,
          1.0410195382811984,
          -1.5139559628272126,
          0.8076529167916344,
          -0.3035271559810558,
          2.4116330281807286,
          2.1223346600953814,
          0.16436122619428503,
          -0.46652198272400175,
          0.24256961333364677,
          0.2863986325603095,
          -3.099977310251452,
          0.3417341517045552,
          -1.229051663697874,
          -0.0825055265741576,
          0.5643689745296832,
          0.2643607398377007,
          0.8404584998456432,
          -0.9599932628266316,
          0.9620952929558358,
          2.1487719813839155,
          0.8702399277132442,
          -0.6786256915599027,
          -0.551562117174487,
          -0.7569418009249309,
          -0.7578840771473123,
          -0.7979818046465237,
          1.7875060506298361,
          -1.1376330255000242,
          -1.7296967915248824,
          1.0120261071074859,
          0.07626292262330708,
          -0.5161229432965986,
          -1.9828965516645491,
          1.2236247293138747,
          -1.4987687258773836,
          0.728921907199498,
          -1.0224292690506944,
          0.7636030501956129,
          -1.4035448034462434,
          0.8741822629080838,
          -1.575143589119851,
          0.5783812385108045,
          -0.9559912307275771,
          -0.06416912485000843,
          1.5340650493135644,
          1.0625590148885438,
          0.8926470152500349,
          -0.10936690562114973,
          -0.24245197468062515,
          1.5191649065321466,
          0.736591302550211,
          0.3806355692794749,
          -0.19094272495077746,
          -0.4809111086547659,
          -1.3393209311998107,
          0.3444845242142359,
          -0.308530466508197,
          0.5971519605520483,
          -0.2961393984777049,
          2.0527924932523907,
          -0.42898583486115943,
          0.7361587789620776,
          -0.6655264065881279,
          0.4869596491478256,
          -0.42392394888161156,
          0.0960209955254644
         ],
         "y": [
          -0.6810784119889212,
          -0.12672851621571565,
          -2.0807241915160843,
          2.1123832635269437,
          -0.037441185918270566,
          -0.8419160328363937,
          -0.965051019475013,
          0.8311693286344598,
          -0.12892638840714116,
          -0.3223623657442055,
          -0.2651621978066173,
          0.5751051482978644,
          -1.5954080823970926,
          0.35868808673820946,
          2.472151302817571,
          0.262160516152913,
          -0.34492136425427206,
          2.642740897818084,
          0.41347183169097945,
          1.4222362844595409,
          1.0478656163489362,
          -1.4989625631723997,
          -1.1573817060636589,
          -0.1902543592584037,
          -1.5924763685255088,
          -0.04356499912556374,
          -0.32646573064441586,
          1.4195081126291589,
          1.3506300184179498,
          -1.8861410729263206,
          0.6078372185494824,
          0.5896587847914512,
          -1.8647497848327925,
          0.16162438429861858,
          0.6426130692999505,
          1.7639945077246302,
          0.7761834037906911,
          0.421145954098237,
          0.1854040095139653,
          0.9429598683866964,
          -0.7099509267598096,
          -1.7564388380669502,
          1.3881239407102857,
          -1.3120206969144075,
          -1.2360995942787971,
          -0.10177615060000193,
          1.207999550088633,
          0.11356010121118484,
          -0.13811616381196112,
          1.3505494572062853,
          1.0177776805673846,
          -1.4837634818277279,
          -0.6319011207391553,
          0.20812478489292638,
          -0.08134859369177261,
          -0.7277076405660484,
          0.840470334848689,
          -1.7870213204890557,
          0.03588632950819402,
          -0.3733539244362292,
          0.43292408303107593,
          -0.5686082275326253,
          -0.6758945175654862,
          -0.6070459436824658,
          1.1050416756450765,
          -0.059510924986301804,
          0.8447858158747069,
          0.499972993569185,
          -0.13434501044250866,
          -1.8070564697994906,
          -1.714991039757765,
          -0.3751013035128291,
          1.0953223101313094,
          -1.4369805212753772,
          0.39107212877171116,
          -0.2516191386082863,
          0.22228696010046495,
          0.1725199646415227,
          -1.050096031944785,
          0.5061413187280068,
          -0.12351473087442927,
          -0.7146092641508545,
          0.4954838312980374,
          1.3551362084378633,
          0.9634550093677506,
          1.0479339303158377,
          1.059923568234994,
          -0.7117493946644667,
          -1.0699478167895864,
          -0.2362919262806339,
          1.403646945157495,
          0.28071705389078044,
          -0.15182662408610997,
          0.17489614347413823,
          -0.9742686872933056,
          0.1786922050680465,
          -0.6273672164757751,
          -0.4488967123079796,
          -1.4551355833120438,
          -1.0757746516273758
         ]
        }
       ],
       "layout": {
        "legend": {
         "bgcolor": "#F5F6F9",
         "font": {
          "color": "#4D5663"
         }
        },
        "paper_bgcolor": "#F5F6F9",
        "plot_bgcolor": "#F5F6F9",
        "template": {
         "data": {
          "bar": [
           {
            "error_x": {
             "color": "#2a3f5f"
            },
            "error_y": {
             "color": "#2a3f5f"
            },
            "marker": {
             "line": {
              "color": "#E5ECF6",
              "width": 0.5
             }
            },
            "type": "bar"
           }
          ],
          "barpolar": [
           {
            "marker": {
             "line": {
              "color": "#E5ECF6",
              "width": 0.5
             }
            },
            "type": "barpolar"
           }
          ],
          "carpet": [
           {
            "aaxis": {
             "endlinecolor": "#2a3f5f",
             "gridcolor": "white",
             "linecolor": "white",
             "minorgridcolor": "white",
             "startlinecolor": "#2a3f5f"
            },
            "baxis": {
             "endlinecolor": "#2a3f5f",
             "gridcolor": "white",
             "linecolor": "white",
             "minorgridcolor": "white",
             "startlinecolor": "#2a3f5f"
            },
            "type": "carpet"
           }
          ],
          "choropleth": [
           {
            "colorbar": {
             "outlinewidth": 0,
             "ticks": ""
            },
            "type": "choropleth"
           }
          ],
          "contour": [
           {
            "colorbar": {
             "outlinewidth": 0,
             "ticks": ""
            },
            "colorscale": [
             [
              0,
              "#0d0887"
             ],
             [
              0.1111111111111111,
              "#46039f"
             ],
             [
              0.2222222222222222,
              "#7201a8"
             ],
             [
              0.3333333333333333,
              "#9c179e"
             ],
             [
              0.4444444444444444,
              "#bd3786"
             ],
             [
              0.5555555555555556,
              "#d8576b"
             ],
             [
              0.6666666666666666,
              "#ed7953"
             ],
             [
              0.7777777777777778,
              "#fb9f3a"
             ],
             [
              0.8888888888888888,
              "#fdca26"
             ],
             [
              1,
              "#f0f921"
             ]
            ],
            "type": "contour"
           }
          ],
          "contourcarpet": [
           {
            "colorbar": {
             "outlinewidth": 0,
             "ticks": ""
            },
            "type": "contourcarpet"
           }
          ],
          "heatmap": [
           {
            "colorbar": {
             "outlinewidth": 0,
             "ticks": ""
            },
            "colorscale": [
             [
              0,
              "#0d0887"
             ],
             [
              0.1111111111111111,
              "#46039f"
             ],
             [
              0.2222222222222222,
              "#7201a8"
             ],
             [
              0.3333333333333333,
              "#9c179e"
             ],
             [
              0.4444444444444444,
              "#bd3786"
             ],
             [
              0.5555555555555556,
              "#d8576b"
             ],
             [
              0.6666666666666666,
              "#ed7953"
             ],
             [
              0.7777777777777778,
              "#fb9f3a"
             ],
             [
              0.8888888888888888,
              "#fdca26"
             ],
             [
              1,
              "#f0f921"
             ]
            ],
            "type": "heatmap"
           }
          ],
          "heatmapgl": [
           {
            "colorbar": {
             "outlinewidth": 0,
             "ticks": ""
            },
            "colorscale": [
             [
              0,
              "#0d0887"
             ],
             [
              0.1111111111111111,
              "#46039f"
             ],
             [
              0.2222222222222222,
              "#7201a8"
             ],
             [
              0.3333333333333333,
              "#9c179e"
             ],
             [
              0.4444444444444444,
              "#bd3786"
             ],
             [
              0.5555555555555556,
              "#d8576b"
             ],
             [
              0.6666666666666666,
              "#ed7953"
             ],
             [
              0.7777777777777778,
              "#fb9f3a"
             ],
             [
              0.8888888888888888,
              "#fdca26"
             ],
             [
              1,
              "#f0f921"
             ]
            ],
            "type": "heatmapgl"
           }
          ],
          "histogram": [
           {
            "marker": {
             "colorbar": {
              "outlinewidth": 0,
              "ticks": ""
             }
            },
            "type": "histogram"
           }
          ],
          "histogram2d": [
           {
            "colorbar": {
             "outlinewidth": 0,
             "ticks": ""
            },
            "colorscale": [
             [
              0,
              "#0d0887"
             ],
             [
              0.1111111111111111,
              "#46039f"
             ],
             [
              0.2222222222222222,
              "#7201a8"
             ],
             [
              0.3333333333333333,
              "#9c179e"
             ],
             [
              0.4444444444444444,
              "#bd3786"
             ],
             [
              0.5555555555555556,
              "#d8576b"
             ],
             [
              0.6666666666666666,
              "#ed7953"
             ],
             [
              0.7777777777777778,
              "#fb9f3a"
             ],
             [
              0.8888888888888888,
              "#fdca26"
             ],
             [
              1,
              "#f0f921"
             ]
            ],
            "type": "histogram2d"
           }
          ],
          "histogram2dcontour": [
           {
            "colorbar": {
             "outlinewidth": 0,
             "ticks": ""
            },
            "colorscale": [
             [
              0,
              "#0d0887"
             ],
             [
              0.1111111111111111,
              "#46039f"
             ],
             [
              0.2222222222222222,
              "#7201a8"
             ],
             [
              0.3333333333333333,
              "#9c179e"
             ],
             [
              0.4444444444444444,
              "#bd3786"
             ],
             [
              0.5555555555555556,
              "#d8576b"
             ],
             [
              0.6666666666666666,
              "#ed7953"
             ],
             [
              0.7777777777777778,
              "#fb9f3a"
             ],
             [
              0.8888888888888888,
              "#fdca26"
             ],
             [
              1,
              "#f0f921"
             ]
            ],
            "type": "histogram2dcontour"
           }
          ],
          "mesh3d": [
           {
            "colorbar": {
             "outlinewidth": 0,
             "ticks": ""
            },
            "type": "mesh3d"
           }
          ],
          "parcoords": [
           {
            "line": {
             "colorbar": {
              "outlinewidth": 0,
              "ticks": ""
             }
            },
            "type": "parcoords"
           }
          ],
          "pie": [
           {
            "automargin": true,
            "type": "pie"
           }
          ],
          "scatter": [
           {
            "marker": {
             "colorbar": {
              "outlinewidth": 0,
              "ticks": ""
             }
            },
            "type": "scatter"
           }
          ],
          "scatter3d": [
           {
            "line": {
             "colorbar": {
              "outlinewidth": 0,
              "ticks": ""
             }
            },
            "marker": {
             "colorbar": {
              "outlinewidth": 0,
              "ticks": ""
             }
            },
            "type": "scatter3d"
           }
          ],
          "scattercarpet": [
           {
            "marker": {
             "colorbar": {
              "outlinewidth": 0,
              "ticks": ""
             }
            },
            "type": "scattercarpet"
           }
          ],
          "scattergeo": [
           {
            "marker": {
             "colorbar": {
              "outlinewidth": 0,
              "ticks": ""
             }
            },
            "type": "scattergeo"
           }
          ],
          "scattergl": [
           {
            "marker": {
             "colorbar": {
              "outlinewidth": 0,
              "ticks": ""
             }
            },
            "type": "scattergl"
           }
          ],
          "scattermapbox": [
           {
            "marker": {
             "colorbar": {
              "outlinewidth": 0,
              "ticks": ""
             }
            },
            "type": "scattermapbox"
           }
          ],
          "scatterpolar": [
           {
            "marker": {
             "colorbar": {
              "outlinewidth": 0,
              "ticks": ""
             }
            },
            "type": "scatterpolar"
           }
          ],
          "scatterpolargl": [
           {
            "marker": {
             "colorbar": {
              "outlinewidth": 0,
              "ticks": ""
             }
            },
            "type": "scatterpolargl"
           }
          ],
          "scatterternary": [
           {
            "marker": {
             "colorbar": {
              "outlinewidth": 0,
              "ticks": ""
             }
            },
            "type": "scatterternary"
           }
          ],
          "surface": [
           {
            "colorbar": {
             "outlinewidth": 0,
             "ticks": ""
            },
            "colorscale": [
             [
              0,
              "#0d0887"
             ],
             [
              0.1111111111111111,
              "#46039f"
             ],
             [
              0.2222222222222222,
              "#7201a8"
             ],
             [
              0.3333333333333333,
              "#9c179e"
             ],
             [
              0.4444444444444444,
              "#bd3786"
             ],
             [
              0.5555555555555556,
              "#d8576b"
             ],
             [
              0.6666666666666666,
              "#ed7953"
             ],
             [
              0.7777777777777778,
              "#fb9f3a"
             ],
             [
              0.8888888888888888,
              "#fdca26"
             ],
             [
              1,
              "#f0f921"
             ]
            ],
            "type": "surface"
           }
          ],
          "table": [
           {
            "cells": {
             "fill": {
              "color": "#EBF0F8"
             },
             "line": {
              "color": "white"
             }
            },
            "header": {
             "fill": {
              "color": "#C8D4E3"
             },
             "line": {
              "color": "white"
             }
            },
            "type": "table"
           }
          ]
         },
         "layout": {
          "annotationdefaults": {
           "arrowcolor": "#2a3f5f",
           "arrowhead": 0,
           "arrowwidth": 1
          },
          "coloraxis": {
           "colorbar": {
            "outlinewidth": 0,
            "ticks": ""
           }
          },
          "colorscale": {
           "diverging": [
            [
             0,
             "#8e0152"
            ],
            [
             0.1,
             "#c51b7d"
            ],
            [
             0.2,
             "#de77ae"
            ],
            [
             0.3,
             "#f1b6da"
            ],
            [
             0.4,
             "#fde0ef"
            ],
            [
             0.5,
             "#f7f7f7"
            ],
            [
             0.6,
             "#e6f5d0"
            ],
            [
             0.7,
             "#b8e186"
            ],
            [
             0.8,
             "#7fbc41"
            ],
            [
             0.9,
             "#4d9221"
            ],
            [
             1,
             "#276419"
            ]
           ],
           "sequential": [
            [
             0,
             "#0d0887"
            ],
            [
             0.1111111111111111,
             "#46039f"
            ],
            [
             0.2222222222222222,
             "#7201a8"
            ],
            [
             0.3333333333333333,
             "#9c179e"
            ],
            [
             0.4444444444444444,
             "#bd3786"
            ],
            [
             0.5555555555555556,
             "#d8576b"
            ],
            [
             0.6666666666666666,
             "#ed7953"
            ],
            [
             0.7777777777777778,
             "#fb9f3a"
            ],
            [
             0.8888888888888888,
             "#fdca26"
            ],
            [
             1,
             "#f0f921"
            ]
           ],
           "sequentialminus": [
            [
             0,
             "#0d0887"
            ],
            [
             0.1111111111111111,
             "#46039f"
            ],
            [
             0.2222222222222222,
             "#7201a8"
            ],
            [
             0.3333333333333333,
             "#9c179e"
            ],
            [
             0.4444444444444444,
             "#bd3786"
            ],
            [
             0.5555555555555556,
             "#d8576b"
            ],
            [
             0.6666666666666666,
             "#ed7953"
            ],
            [
             0.7777777777777778,
             "#fb9f3a"
            ],
            [
             0.8888888888888888,
             "#fdca26"
            ],
            [
             1,
             "#f0f921"
            ]
           ]
          },
          "colorway": [
           "#636efa",
           "#EF553B",
           "#00cc96",
           "#ab63fa",
           "#FFA15A",
           "#19d3f3",
           "#FF6692",
           "#B6E880",
           "#FF97FF",
           "#FECB52"
          ],
          "font": {
           "color": "#2a3f5f"
          },
          "geo": {
           "bgcolor": "white",
           "lakecolor": "white",
           "landcolor": "#E5ECF6",
           "showlakes": true,
           "showland": true,
           "subunitcolor": "white"
          },
          "hoverlabel": {
           "align": "left"
          },
          "hovermode": "closest",
          "mapbox": {
           "style": "light"
          },
          "paper_bgcolor": "white",
          "plot_bgcolor": "#E5ECF6",
          "polar": {
           "angularaxis": {
            "gridcolor": "white",
            "linecolor": "white",
            "ticks": ""
           },
           "bgcolor": "#E5ECF6",
           "radialaxis": {
            "gridcolor": "white",
            "linecolor": "white",
            "ticks": ""
           }
          },
          "scene": {
           "xaxis": {
            "backgroundcolor": "#E5ECF6",
            "gridcolor": "white",
            "gridwidth": 2,
            "linecolor": "white",
            "showbackground": true,
            "ticks": "",
            "zerolinecolor": "white"
           },
           "yaxis": {
            "backgroundcolor": "#E5ECF6",
            "gridcolor": "white",
            "gridwidth": 2,
            "linecolor": "white",
            "showbackground": true,
            "ticks": "",
            "zerolinecolor": "white"
           },
           "zaxis": {
            "backgroundcolor": "#E5ECF6",
            "gridcolor": "white",
            "gridwidth": 2,
            "linecolor": "white",
            "showbackground": true,
            "ticks": "",
            "zerolinecolor": "white"
           }
          },
          "shapedefaults": {
           "line": {
            "color": "#2a3f5f"
           }
          },
          "ternary": {
           "aaxis": {
            "gridcolor": "white",
            "linecolor": "white",
            "ticks": ""
           },
           "baxis": {
            "gridcolor": "white",
            "linecolor": "white",
            "ticks": ""
           },
           "bgcolor": "#E5ECF6",
           "caxis": {
            "gridcolor": "white",
            "linecolor": "white",
            "ticks": ""
           }
          },
          "title": {
           "x": 0.05
          },
          "xaxis": {
           "automargin": true,
           "gridcolor": "white",
           "linecolor": "white",
           "ticks": "",
           "title": {
            "standoff": 15
           },
           "zerolinecolor": "white",
           "zerolinewidth": 2
          },
          "yaxis": {
           "automargin": true,
           "gridcolor": "white",
           "linecolor": "white",
           "ticks": "",
           "title": {
            "standoff": 15
           },
           "zerolinecolor": "white",
           "zerolinewidth": 2
          }
         }
        },
        "title": {
         "font": {
          "color": "#4D5663"
         }
        },
        "xaxis": {
         "gridcolor": "#E1E5ED",
         "showgrid": true,
         "tickfont": {
          "color": "#4D5663"
         },
         "title": {
          "font": {
           "color": "#4D5663"
          },
          "text": ""
         },
         "zerolinecolor": "#E1E5ED"
        },
        "yaxis": {
         "gridcolor": "#E1E5ED",
         "showgrid": true,
         "tickfont": {
          "color": "#4D5663"
         },
         "title": {
          "font": {
           "color": "#4D5663"
          },
          "text": ""
         },
         "zerolinecolor": "#E1E5ED"
        }
       }
      },
      "text/html": [
       "<div>\n",
       "        \n",
       "        \n",
       "            <div id=\"97995b73-e7e2-415c-94b9-0e5c8cf873f1\" class=\"plotly-graph-div\" style=\"height:525px; width:100%;\"></div>\n",
       "            <script type=\"text/javascript\">\n",
       "                require([\"plotly\"], function(Plotly) {\n",
       "                    window.PLOTLYENV=window.PLOTLYENV || {};\n",
       "                    window.PLOTLYENV.BASE_URL='https://plot.ly';\n",
       "                    \n",
       "                if (document.getElementById(\"97995b73-e7e2-415c-94b9-0e5c8cf873f1\")) {\n",
       "                    Plotly.newPlot(\n",
       "                        '97995b73-e7e2-415c-94b9-0e5c8cf873f1',\n",
       "                        [{\"marker\": {\"color\": [\"rgb(255, 153, 51)\", \"rgb(55, 128, 191)\", \"rgb(50, 171, 96)\", \"rgb(128, 0, 128)\", \"rgb(219, 64, 82)\", \"rgb(0, 128, 128)\", \"rgb(255, 255, 51)\", \"rgb(128, 128, 0)\", \"rgb(251, 128, 114)\", \"rgb(128, 177, 211)\"], \"line\": {\"width\": 1.3}, \"size\": [26, 52, 99, 72, 53, 77, 88, 55, 78, 110, 83, 97, 83, 87, 71, 62, 85, 74, 63, 66, 91, 66, 12, 67, 62, 56, 65, 36, 97, 41, 71, 67, 91, 59, 59, 40, 98, 89, 67, 68, 99, 39, 83, 78, 75, 79, 76, 57, 68, 67, 59, 62, 49, 68, 78, 106, 98, 108, 69, 76, 95, 50, 79, 62, 65, 99, 72, 90, 74, 82, 109, 69, 68, 79, 101, 83, 39, 50, 43, 66, 74, 45, 67, 35, 60, 40, 112, 91, 68, 99, 72, 69, 75, 106, 71, 98, 84, 42, 46, 71], \"symbol\": \"circle\"}, \"mode\": \"markers\", \"text\": \"\", \"type\": \"scatter\", \"x\": [-0.6680661855631249, 0.1949766871965313, 0.03297058007779891, -0.6990703851144047, -1.1904809035565296, -0.9978851799370811, -1.8582319261511087, -0.5267661337775508, -1.5686461478635814, -1.0627343935664582, 0.9661118140498371, 0.565313506626537, -1.4206021024681288, 0.6560188287072177, 0.5342773017547415, 0.4439743344940591, 0.6052930388775157, 0.7164107464286641, 0.9375280230990192, -0.8939516328602036, 0.4924348203413822, -2.1780131590071496, -0.5438072379862946, -0.9334923463833898, 0.6713486104662258, -0.7065440484824034, -1.3874324539214875, -0.8896410077863353, -0.07984657932136635, -0.12572505592806968, 0.8137383767766075, -1.858491455192245, -0.3724586312111986, 2.402354817353567, 1.0410195382811984, -1.5139559628272126, 0.8076529167916344, -0.3035271559810558, 2.4116330281807286, 2.1223346600953814, 0.16436122619428503, -0.46652198272400175, 0.24256961333364677, 0.2863986325603095, -3.099977310251452, 0.3417341517045552, -1.229051663697874, -0.0825055265741576, 0.5643689745296832, 0.2643607398377007, 0.8404584998456432, -0.9599932628266316, 0.9620952929558358, 2.1487719813839155, 0.8702399277132442, -0.6786256915599027, -0.551562117174487, -0.7569418009249309, -0.7578840771473123, -0.7979818046465237, 1.7875060506298361, -1.1376330255000242, -1.7296967915248824, 1.0120261071074859, 0.07626292262330708, -0.5161229432965986, -1.9828965516645491, 1.2236247293138747, -1.4987687258773836, 0.728921907199498, -1.0224292690506944, 0.7636030501956129, -1.4035448034462434, 0.8741822629080838, -1.575143589119851, 0.5783812385108045, -0.9559912307275771, -0.06416912485000843, 1.5340650493135644, 1.0625590148885438, 0.8926470152500349, -0.10936690562114973, -0.24245197468062515, 1.5191649065321466, 0.736591302550211, 0.3806355692794749, -0.19094272495077746, -0.4809111086547659, -1.3393209311998107, 0.3444845242142359, -0.308530466508197, 0.5971519605520483, -0.2961393984777049, 2.0527924932523907, -0.42898583486115943, 0.7361587789620776, -0.6655264065881279, 0.4869596491478256, -0.42392394888161156, 0.0960209955254644], \"y\": [-0.6810784119889212, -0.12672851621571565, -2.0807241915160843, 2.1123832635269437, -0.037441185918270566, -0.8419160328363937, -0.965051019475013, 0.8311693286344598, -0.12892638840714116, -0.3223623657442055, -0.2651621978066173, 0.5751051482978644, -1.5954080823970926, 0.35868808673820946, 2.472151302817571, 0.262160516152913, -0.34492136425427206, 2.642740897818084, 0.41347183169097945, 1.4222362844595409, 1.0478656163489362, -1.4989625631723997, -1.1573817060636589, -0.1902543592584037, -1.5924763685255088, -0.04356499912556374, -0.32646573064441586, 1.4195081126291589, 1.3506300184179498, -1.8861410729263206, 0.6078372185494824, 0.5896587847914512, -1.8647497848327925, 0.16162438429861858, 0.6426130692999505, 1.7639945077246302, 0.7761834037906911, 0.421145954098237, 0.1854040095139653, 0.9429598683866964, -0.7099509267598096, -1.7564388380669502, 1.3881239407102857, -1.3120206969144075, -1.2360995942787971, -0.10177615060000193, 1.207999550088633, 0.11356010121118484, -0.13811616381196112, 1.3505494572062853, 1.0177776805673846, -1.4837634818277279, -0.6319011207391553, 0.20812478489292638, -0.08134859369177261, -0.7277076405660484, 0.840470334848689, -1.7870213204890557, 0.03588632950819402, -0.3733539244362292, 0.43292408303107593, -0.5686082275326253, -0.6758945175654862, -0.6070459436824658, 1.1050416756450765, -0.059510924986301804, 0.8447858158747069, 0.499972993569185, -0.13434501044250866, -1.8070564697994906, -1.714991039757765, -0.3751013035128291, 1.0953223101313094, -1.4369805212753772, 0.39107212877171116, -0.2516191386082863, 0.22228696010046495, 0.1725199646415227, -1.050096031944785, 0.5061413187280068, -0.12351473087442927, -0.7146092641508545, 0.4954838312980374, 1.3551362084378633, 0.9634550093677506, 1.0479339303158377, 1.059923568234994, -0.7117493946644667, -1.0699478167895864, -0.2362919262806339, 1.403646945157495, 0.28071705389078044, -0.15182662408610997, 0.17489614347413823, -0.9742686872933056, 0.1786922050680465, -0.6273672164757751, -0.4488967123079796, -1.4551355833120438, -1.0757746516273758]}],\n",
       "                        {\"legend\": {\"bgcolor\": \"#F5F6F9\", \"font\": {\"color\": \"#4D5663\"}}, \"paper_bgcolor\": \"#F5F6F9\", \"plot_bgcolor\": \"#F5F6F9\", \"template\": {\"data\": {\"bar\": [{\"error_x\": {\"color\": \"#2a3f5f\"}, \"error_y\": {\"color\": \"#2a3f5f\"}, \"marker\": {\"line\": {\"color\": \"#E5ECF6\", \"width\": 0.5}}, \"type\": \"bar\"}], \"barpolar\": [{\"marker\": {\"line\": {\"color\": \"#E5ECF6\", \"width\": 0.5}}, \"type\": \"barpolar\"}], \"carpet\": [{\"aaxis\": {\"endlinecolor\": \"#2a3f5f\", \"gridcolor\": \"white\", \"linecolor\": \"white\", \"minorgridcolor\": \"white\", \"startlinecolor\": \"#2a3f5f\"}, \"baxis\": {\"endlinecolor\": \"#2a3f5f\", \"gridcolor\": \"white\", \"linecolor\": \"white\", \"minorgridcolor\": \"white\", \"startlinecolor\": \"#2a3f5f\"}, \"type\": \"carpet\"}], \"choropleth\": [{\"colorbar\": {\"outlinewidth\": 0, \"ticks\": \"\"}, \"type\": \"choropleth\"}], \"contour\": [{\"colorbar\": {\"outlinewidth\": 0, \"ticks\": \"\"}, \"colorscale\": [[0.0, \"#0d0887\"], [0.1111111111111111, \"#46039f\"], [0.2222222222222222, \"#7201a8\"], [0.3333333333333333, \"#9c179e\"], [0.4444444444444444, \"#bd3786\"], [0.5555555555555556, \"#d8576b\"], [0.6666666666666666, \"#ed7953\"], [0.7777777777777778, \"#fb9f3a\"], [0.8888888888888888, \"#fdca26\"], [1.0, \"#f0f921\"]], \"type\": \"contour\"}], \"contourcarpet\": [{\"colorbar\": {\"outlinewidth\": 0, \"ticks\": \"\"}, \"type\": \"contourcarpet\"}], \"heatmap\": [{\"colorbar\": {\"outlinewidth\": 0, \"ticks\": \"\"}, \"colorscale\": [[0.0, \"#0d0887\"], [0.1111111111111111, \"#46039f\"], [0.2222222222222222, \"#7201a8\"], [0.3333333333333333, \"#9c179e\"], [0.4444444444444444, \"#bd3786\"], [0.5555555555555556, \"#d8576b\"], [0.6666666666666666, \"#ed7953\"], [0.7777777777777778, \"#fb9f3a\"], [0.8888888888888888, \"#fdca26\"], [1.0, \"#f0f921\"]], \"type\": \"heatmap\"}], \"heatmapgl\": [{\"colorbar\": {\"outlinewidth\": 0, \"ticks\": \"\"}, \"colorscale\": [[0.0, \"#0d0887\"], [0.1111111111111111, \"#46039f\"], [0.2222222222222222, \"#7201a8\"], [0.3333333333333333, \"#9c179e\"], [0.4444444444444444, \"#bd3786\"], [0.5555555555555556, \"#d8576b\"], [0.6666666666666666, \"#ed7953\"], [0.7777777777777778, \"#fb9f3a\"], [0.8888888888888888, \"#fdca26\"], [1.0, \"#f0f921\"]], \"type\": \"heatmapgl\"}], \"histogram\": [{\"marker\": {\"colorbar\": {\"outlinewidth\": 0, \"ticks\": \"\"}}, \"type\": \"histogram\"}], \"histogram2d\": [{\"colorbar\": {\"outlinewidth\": 0, \"ticks\": \"\"}, \"colorscale\": [[0.0, \"#0d0887\"], [0.1111111111111111, \"#46039f\"], [0.2222222222222222, \"#7201a8\"], [0.3333333333333333, \"#9c179e\"], [0.4444444444444444, \"#bd3786\"], [0.5555555555555556, \"#d8576b\"], [0.6666666666666666, \"#ed7953\"], [0.7777777777777778, \"#fb9f3a\"], [0.8888888888888888, \"#fdca26\"], [1.0, \"#f0f921\"]], \"type\": \"histogram2d\"}], \"histogram2dcontour\": [{\"colorbar\": {\"outlinewidth\": 0, \"ticks\": \"\"}, \"colorscale\": [[0.0, \"#0d0887\"], [0.1111111111111111, \"#46039f\"], [0.2222222222222222, \"#7201a8\"], [0.3333333333333333, \"#9c179e\"], [0.4444444444444444, \"#bd3786\"], [0.5555555555555556, \"#d8576b\"], [0.6666666666666666, \"#ed7953\"], [0.7777777777777778, \"#fb9f3a\"], [0.8888888888888888, \"#fdca26\"], [1.0, \"#f0f921\"]], \"type\": \"histogram2dcontour\"}], \"mesh3d\": [{\"colorbar\": {\"outlinewidth\": 0, \"ticks\": \"\"}, \"type\": \"mesh3d\"}], \"parcoords\": [{\"line\": {\"colorbar\": {\"outlinewidth\": 0, \"ticks\": \"\"}}, \"type\": \"parcoords\"}], \"pie\": [{\"automargin\": true, \"type\": \"pie\"}], \"scatter\": [{\"marker\": {\"colorbar\": {\"outlinewidth\": 0, \"ticks\": \"\"}}, \"type\": \"scatter\"}], \"scatter3d\": [{\"line\": {\"colorbar\": {\"outlinewidth\": 0, \"ticks\": \"\"}}, \"marker\": {\"colorbar\": {\"outlinewidth\": 0, \"ticks\": \"\"}}, \"type\": \"scatter3d\"}], \"scattercarpet\": [{\"marker\": {\"colorbar\": {\"outlinewidth\": 0, \"ticks\": \"\"}}, \"type\": \"scattercarpet\"}], \"scattergeo\": [{\"marker\": {\"colorbar\": {\"outlinewidth\": 0, \"ticks\": \"\"}}, \"type\": \"scattergeo\"}], \"scattergl\": [{\"marker\": {\"colorbar\": {\"outlinewidth\": 0, \"ticks\": \"\"}}, \"type\": \"scattergl\"}], \"scattermapbox\": [{\"marker\": {\"colorbar\": {\"outlinewidth\": 0, \"ticks\": \"\"}}, \"type\": \"scattermapbox\"}], \"scatterpolar\": [{\"marker\": {\"colorbar\": {\"outlinewidth\": 0, \"ticks\": \"\"}}, \"type\": \"scatterpolar\"}], \"scatterpolargl\": [{\"marker\": {\"colorbar\": {\"outlinewidth\": 0, \"ticks\": \"\"}}, \"type\": \"scatterpolargl\"}], \"scatterternary\": [{\"marker\": {\"colorbar\": {\"outlinewidth\": 0, \"ticks\": \"\"}}, \"type\": \"scatterternary\"}], \"surface\": [{\"colorbar\": {\"outlinewidth\": 0, \"ticks\": \"\"}, \"colorscale\": [[0.0, \"#0d0887\"], [0.1111111111111111, \"#46039f\"], [0.2222222222222222, \"#7201a8\"], [0.3333333333333333, \"#9c179e\"], [0.4444444444444444, \"#bd3786\"], [0.5555555555555556, \"#d8576b\"], [0.6666666666666666, \"#ed7953\"], [0.7777777777777778, \"#fb9f3a\"], [0.8888888888888888, \"#fdca26\"], [1.0, \"#f0f921\"]], \"type\": \"surface\"}], \"table\": [{\"cells\": {\"fill\": {\"color\": \"#EBF0F8\"}, \"line\": {\"color\": \"white\"}}, \"header\": {\"fill\": {\"color\": \"#C8D4E3\"}, \"line\": {\"color\": \"white\"}}, \"type\": \"table\"}]}, \"layout\": {\"annotationdefaults\": {\"arrowcolor\": \"#2a3f5f\", \"arrowhead\": 0, \"arrowwidth\": 1}, \"coloraxis\": {\"colorbar\": {\"outlinewidth\": 0, \"ticks\": \"\"}}, \"colorscale\": {\"diverging\": [[0, \"#8e0152\"], [0.1, \"#c51b7d\"], [0.2, \"#de77ae\"], [0.3, \"#f1b6da\"], [0.4, \"#fde0ef\"], [0.5, \"#f7f7f7\"], [0.6, \"#e6f5d0\"], [0.7, \"#b8e186\"], [0.8, \"#7fbc41\"], [0.9, \"#4d9221\"], [1, \"#276419\"]], \"sequential\": [[0.0, \"#0d0887\"], [0.1111111111111111, \"#46039f\"], [0.2222222222222222, \"#7201a8\"], [0.3333333333333333, \"#9c179e\"], [0.4444444444444444, \"#bd3786\"], [0.5555555555555556, \"#d8576b\"], [0.6666666666666666, \"#ed7953\"], [0.7777777777777778, \"#fb9f3a\"], [0.8888888888888888, \"#fdca26\"], [1.0, \"#f0f921\"]], \"sequentialminus\": [[0.0, \"#0d0887\"], [0.1111111111111111, \"#46039f\"], [0.2222222222222222, \"#7201a8\"], [0.3333333333333333, \"#9c179e\"], [0.4444444444444444, \"#bd3786\"], [0.5555555555555556, \"#d8576b\"], [0.6666666666666666, \"#ed7953\"], [0.7777777777777778, \"#fb9f3a\"], [0.8888888888888888, \"#fdca26\"], [1.0, \"#f0f921\"]]}, \"colorway\": [\"#636efa\", \"#EF553B\", \"#00cc96\", \"#ab63fa\", \"#FFA15A\", \"#19d3f3\", \"#FF6692\", \"#B6E880\", \"#FF97FF\", \"#FECB52\"], \"font\": {\"color\": \"#2a3f5f\"}, \"geo\": {\"bgcolor\": \"white\", \"lakecolor\": \"white\", \"landcolor\": \"#E5ECF6\", \"showlakes\": true, \"showland\": true, \"subunitcolor\": \"white\"}, \"hoverlabel\": {\"align\": \"left\"}, \"hovermode\": \"closest\", \"mapbox\": {\"style\": \"light\"}, \"paper_bgcolor\": \"white\", \"plot_bgcolor\": \"#E5ECF6\", \"polar\": {\"angularaxis\": {\"gridcolor\": \"white\", \"linecolor\": \"white\", \"ticks\": \"\"}, \"bgcolor\": \"#E5ECF6\", \"radialaxis\": {\"gridcolor\": \"white\", \"linecolor\": \"white\", \"ticks\": \"\"}}, \"scene\": {\"xaxis\": {\"backgroundcolor\": \"#E5ECF6\", \"gridcolor\": \"white\", \"gridwidth\": 2, \"linecolor\": \"white\", \"showbackground\": true, \"ticks\": \"\", \"zerolinecolor\": \"white\"}, \"yaxis\": {\"backgroundcolor\": \"#E5ECF6\", \"gridcolor\": \"white\", \"gridwidth\": 2, \"linecolor\": \"white\", \"showbackground\": true, \"ticks\": \"\", \"zerolinecolor\": \"white\"}, \"zaxis\": {\"backgroundcolor\": \"#E5ECF6\", \"gridcolor\": \"white\", \"gridwidth\": 2, \"linecolor\": \"white\", \"showbackground\": true, \"ticks\": \"\", \"zerolinecolor\": \"white\"}}, \"shapedefaults\": {\"line\": {\"color\": \"#2a3f5f\"}}, \"ternary\": {\"aaxis\": {\"gridcolor\": \"white\", \"linecolor\": \"white\", \"ticks\": \"\"}, \"baxis\": {\"gridcolor\": \"white\", \"linecolor\": \"white\", \"ticks\": \"\"}, \"bgcolor\": \"#E5ECF6\", \"caxis\": {\"gridcolor\": \"white\", \"linecolor\": \"white\", \"ticks\": \"\"}}, \"title\": {\"x\": 0.05}, \"xaxis\": {\"automargin\": true, \"gridcolor\": \"white\", \"linecolor\": \"white\", \"ticks\": \"\", \"title\": {\"standoff\": 15}, \"zerolinecolor\": \"white\", \"zerolinewidth\": 2}, \"yaxis\": {\"automargin\": true, \"gridcolor\": \"white\", \"linecolor\": \"white\", \"ticks\": \"\", \"title\": {\"standoff\": 15}, \"zerolinecolor\": \"white\", \"zerolinewidth\": 2}}}, \"title\": {\"font\": {\"color\": \"#4D5663\"}}, \"xaxis\": {\"gridcolor\": \"#E1E5ED\", \"showgrid\": true, \"tickfont\": {\"color\": \"#4D5663\"}, \"title\": {\"font\": {\"color\": \"#4D5663\"}, \"text\": \"\"}, \"zerolinecolor\": \"#E1E5ED\"}, \"yaxis\": {\"gridcolor\": \"#E1E5ED\", \"showgrid\": true, \"tickfont\": {\"color\": \"#4D5663\"}, \"title\": {\"font\": {\"color\": \"#4D5663\"}, \"text\": \"\"}, \"zerolinecolor\": \"#E1E5ED\"}},\n",
       "                        {\"showLink\": true, \"linkText\": \"Export to plot.ly\", \"plotlyServerURL\": \"https://plot.ly\", \"responsive\": true}\n",
       "                    ).then(function(){\n",
       "                            \n",
       "var gd = document.getElementById('97995b73-e7e2-415c-94b9-0e5c8cf873f1');\n",
       "var x = new MutationObserver(function (mutations, observer) {{\n",
       "        var display = window.getComputedStyle(gd).display;\n",
       "        if (!display || display === 'none') {{\n",
       "            console.log([gd, 'removed!']);\n",
       "            Plotly.purge(gd);\n",
       "            observer.disconnect();\n",
       "        }}\n",
       "}});\n",
       "\n",
       "// Listen for the removal of the full notebook cells\n",
       "var notebookContainer = gd.closest('#notebook-container');\n",
       "if (notebookContainer) {{\n",
       "    x.observe(notebookContainer, {childList: true});\n",
       "}}\n",
       "\n",
       "// Listen for the clearing of the current output cell\n",
       "var outputEl = gd.closest('.output');\n",
       "if (outputEl) {{\n",
       "    x.observe(outputEl, {childList: true});\n",
       "}}\n",
       "\n",
       "                        })\n",
       "                };\n",
       "                });\n",
       "            </script>\n",
       "        </div>"
      ]
     },
     "metadata": {},
     "output_type": "display_data"
    }
   ],
   "source": [
    "#similar to scatter but it can change size base dof another column value\n",
    "df.iplot(kind='bubble',x='A',y='B',size='C')"
   ]
  },
  {
   "cell_type": "markdown",
   "metadata": {},
   "source": [
    "## SCatter matrix plot"
   ]
  },
  {
   "cell_type": "code",
   "execution_count": 29,
   "metadata": {},
   "outputs": [
    {
     "data": {
      "application/vnd.plotly.v1+json": {
       "config": {
        "linkText": "Export to plot.ly",
        "plotlyServerURL": "https://plot.ly",
        "showLink": true
       },
       "data": [
        {
         "histfunc": "count",
         "histnorm": "",
         "marker": {
          "color": "rgba(255, 153, 51, 1.0)",
          "line": {
           "color": "#4D5663",
           "width": 1.3
          }
         },
         "name": "A",
         "nbinsx": 10,
         "opacity": 0.8,
         "orientation": "v",
         "type": "histogram",
         "x": [
          -0.6680661855631249,
          0.1949766871965313,
          0.03297058007779891,
          -0.6990703851144047,
          -1.1904809035565296,
          -0.9978851799370811,
          -1.8582319261511087,
          -0.5267661337775508,
          -1.5686461478635814,
          -1.0627343935664582,
          0.9661118140498371,
          0.565313506626537,
          -1.4206021024681288,
          0.6560188287072177,
          0.5342773017547415,
          0.4439743344940591,
          0.6052930388775157,
          0.7164107464286641,
          0.9375280230990192,
          -0.8939516328602036,
          0.4924348203413822,
          -2.1780131590071496,
          -0.5438072379862946,
          -0.9334923463833898,
          0.6713486104662258,
          -0.7065440484824034,
          -1.3874324539214875,
          -0.8896410077863353,
          -0.07984657932136635,
          -0.12572505592806968,
          0.8137383767766075,
          -1.858491455192245,
          -0.3724586312111986,
          2.402354817353567,
          1.0410195382811984,
          -1.5139559628272126,
          0.8076529167916344,
          -0.3035271559810558,
          2.4116330281807286,
          2.1223346600953814,
          0.16436122619428503,
          -0.46652198272400175,
          0.24256961333364677,
          0.2863986325603095,
          -3.099977310251452,
          0.3417341517045552,
          -1.229051663697874,
          -0.0825055265741576,
          0.5643689745296832,
          0.2643607398377007,
          0.8404584998456432,
          -0.9599932628266316,
          0.9620952929558358,
          2.1487719813839155,
          0.8702399277132442,
          -0.6786256915599027,
          -0.551562117174487,
          -0.7569418009249309,
          -0.7578840771473123,
          -0.7979818046465237,
          1.7875060506298361,
          -1.1376330255000242,
          -1.7296967915248824,
          1.0120261071074859,
          0.07626292262330708,
          -0.5161229432965986,
          -1.9828965516645491,
          1.2236247293138747,
          -1.4987687258773836,
          0.728921907199498,
          -1.0224292690506944,
          0.7636030501956129,
          -1.4035448034462434,
          0.8741822629080838,
          -1.575143589119851,
          0.5783812385108045,
          -0.9559912307275771,
          -0.06416912485000843,
          1.5340650493135644,
          1.0625590148885438,
          0.8926470152500349,
          -0.10936690562114973,
          -0.24245197468062515,
          1.5191649065321466,
          0.736591302550211,
          0.3806355692794749,
          -0.19094272495077746,
          -0.4809111086547659,
          -1.3393209311998107,
          0.3444845242142359,
          -0.308530466508197,
          0.5971519605520483,
          -0.2961393984777049,
          2.0527924932523907,
          -0.42898583486115943,
          0.7361587789620776,
          -0.6655264065881279,
          0.4869596491478256,
          -0.42392394888161156,
          0.0960209955254644
         ],
         "xaxis": "x",
         "yaxis": "y"
        },
        {
         "line": {
          "color": "rgba(128, 128, 128, 1.0)",
          "dash": "solid",
          "shape": "linear",
          "width": 1.3
         },
         "marker": {
          "size": 2,
          "symbol": "circle"
         },
         "mode": "markers",
         "name": "A",
         "text": "",
         "type": "scatter",
         "x": [
          -0.6810784119889212,
          -0.12672851621571565,
          -2.0807241915160843,
          2.1123832635269437,
          -0.037441185918270566,
          -0.8419160328363937,
          -0.965051019475013,
          0.8311693286344598,
          -0.12892638840714116,
          -0.3223623657442055,
          -0.2651621978066173,
          0.5751051482978644,
          -1.5954080823970926,
          0.35868808673820946,
          2.472151302817571,
          0.262160516152913,
          -0.34492136425427206,
          2.642740897818084,
          0.41347183169097945,
          1.4222362844595409,
          1.0478656163489362,
          -1.4989625631723997,
          -1.1573817060636589,
          -0.1902543592584037,
          -1.5924763685255088,
          -0.04356499912556374,
          -0.32646573064441586,
          1.4195081126291589,
          1.3506300184179498,
          -1.8861410729263206,
          0.6078372185494824,
          0.5896587847914512,
          -1.8647497848327925,
          0.16162438429861858,
          0.6426130692999505,
          1.7639945077246302,
          0.7761834037906911,
          0.421145954098237,
          0.1854040095139653,
          0.9429598683866964,
          -0.7099509267598096,
          -1.7564388380669502,
          1.3881239407102857,
          -1.3120206969144075,
          -1.2360995942787971,
          -0.10177615060000193,
          1.207999550088633,
          0.11356010121118484,
          -0.13811616381196112,
          1.3505494572062853,
          1.0177776805673846,
          -1.4837634818277279,
          -0.6319011207391553,
          0.20812478489292638,
          -0.08134859369177261,
          -0.7277076405660484,
          0.840470334848689,
          -1.7870213204890557,
          0.03588632950819402,
          -0.3733539244362292,
          0.43292408303107593,
          -0.5686082275326253,
          -0.6758945175654862,
          -0.6070459436824658,
          1.1050416756450765,
          -0.059510924986301804,
          0.8447858158747069,
          0.499972993569185,
          -0.13434501044250866,
          -1.8070564697994906,
          -1.714991039757765,
          -0.3751013035128291,
          1.0953223101313094,
          -1.4369805212753772,
          0.39107212877171116,
          -0.2516191386082863,
          0.22228696010046495,
          0.1725199646415227,
          -1.050096031944785,
          0.5061413187280068,
          -0.12351473087442927,
          -0.7146092641508545,
          0.4954838312980374,
          1.3551362084378633,
          0.9634550093677506,
          1.0479339303158377,
          1.059923568234994,
          -0.7117493946644667,
          -1.0699478167895864,
          -0.2362919262806339,
          1.403646945157495,
          0.28071705389078044,
          -0.15182662408610997,
          0.17489614347413823,
          -0.9742686872933056,
          0.1786922050680465,
          -0.6273672164757751,
          -0.4488967123079796,
          -1.4551355833120438,
          -1.0757746516273758
         ],
         "xaxis": "x2",
         "y": [
          -0.6680661855631249,
          0.1949766871965313,
          0.03297058007779891,
          -0.6990703851144047,
          -1.1904809035565296,
          -0.9978851799370811,
          -1.8582319261511087,
          -0.5267661337775508,
          -1.5686461478635814,
          -1.0627343935664582,
          0.9661118140498371,
          0.565313506626537,
          -1.4206021024681288,
          0.6560188287072177,
          0.5342773017547415,
          0.4439743344940591,
          0.6052930388775157,
          0.7164107464286641,
          0.9375280230990192,
          -0.8939516328602036,
          0.4924348203413822,
          -2.1780131590071496,
          -0.5438072379862946,
          -0.9334923463833898,
          0.6713486104662258,
          -0.7065440484824034,
          -1.3874324539214875,
          -0.8896410077863353,
          -0.07984657932136635,
          -0.12572505592806968,
          0.8137383767766075,
          -1.858491455192245,
          -0.3724586312111986,
          2.402354817353567,
          1.0410195382811984,
          -1.5139559628272126,
          0.8076529167916344,
          -0.3035271559810558,
          2.4116330281807286,
          2.1223346600953814,
          0.16436122619428503,
          -0.46652198272400175,
          0.24256961333364677,
          0.2863986325603095,
          -3.099977310251452,
          0.3417341517045552,
          -1.229051663697874,
          -0.0825055265741576,
          0.5643689745296832,
          0.2643607398377007,
          0.8404584998456432,
          -0.9599932628266316,
          0.9620952929558358,
          2.1487719813839155,
          0.8702399277132442,
          -0.6786256915599027,
          -0.551562117174487,
          -0.7569418009249309,
          -0.7578840771473123,
          -0.7979818046465237,
          1.7875060506298361,
          -1.1376330255000242,
          -1.7296967915248824,
          1.0120261071074859,
          0.07626292262330708,
          -0.5161229432965986,
          -1.9828965516645491,
          1.2236247293138747,
          -1.4987687258773836,
          0.728921907199498,
          -1.0224292690506944,
          0.7636030501956129,
          -1.4035448034462434,
          0.8741822629080838,
          -1.575143589119851,
          0.5783812385108045,
          -0.9559912307275771,
          -0.06416912485000843,
          1.5340650493135644,
          1.0625590148885438,
          0.8926470152500349,
          -0.10936690562114973,
          -0.24245197468062515,
          1.5191649065321466,
          0.736591302550211,
          0.3806355692794749,
          -0.19094272495077746,
          -0.4809111086547659,
          -1.3393209311998107,
          0.3444845242142359,
          -0.308530466508197,
          0.5971519605520483,
          -0.2961393984777049,
          2.0527924932523907,
          -0.42898583486115943,
          0.7361587789620776,
          -0.6655264065881279,
          0.4869596491478256,
          -0.42392394888161156,
          0.0960209955254644
         ],
         "yaxis": "y2"
        },
        {
         "line": {
          "color": "rgba(128, 128, 128, 1.0)",
          "dash": "solid",
          "shape": "linear",
          "width": 1.3
         },
         "marker": {
          "size": 2,
          "symbol": "circle"
         },
         "mode": "markers",
         "name": "A",
         "text": "",
         "type": "scatter",
         "x": [
          -2.3073638620301433,
          -0.9962041490678315,
          1.3208116314786846,
          -0.025390771166009407,
          -0.9648363933317966,
          0.24326610193825265,
          0.7833001534921529,
          -0.8663752013312572,
          0.28426532861252757,
          1.8525904754774485,
          0.5164054496741013,
          1.2303099931032626,
          0.5360513363234279,
          0.7314049395469593,
          -0.05158527579854278,
          -0.5217391984873557,
          0.6011760081316192,
          0.09789419963031891,
          -0.4874882753947355,
          -0.2989607053704855,
          0.9383987116683369,
          -0.29624269819989724,
          -3.0132871456839267,
          -0.2600934938003665,
          -0.5169579690827044,
          -0.8119315582610903,
          -0.34731928941074086,
          -1.820136372657824,
          1.2256674920965915,
          -1.5566391864661864,
          -0.06809802410845756,
          -0.2871133753382355,
          0.9244116752222192,
          -0.6759585741687546,
          -0.6744735212611921,
          -1.6040426177574216,
          1.2850611144199247,
          0.8279989883462856,
          -0.2878489752861659,
          -0.23566306928665398,
          1.3076158299163698,
          -1.6401124481321587,
          0.546773763745836,
          0.2763863222089421,
          0.1382460666083625,
          0.34761977999188315,
          0.18678832068275122,
          -0.7826894546849915,
          -0.22804525413889637,
          -0.27774414758352944,
          -0.679220647452501,
          -0.5321792137613572,
          -1.1818314843254512,
          -0.24222642777041425,
          0.2594990627819901,
          1.6806485495058059,
          1.2494555826282385,
          1.7561180265516112,
          -0.18337912849127272,
          0.1986178157101335,
          1.1144016939165797,
          -1.1232355481853946,
          0.3312435482633644,
          -0.5356280710427399,
          -0.3475497394030127,
          1.3188617574462058,
          -0.03536711573532913,
          0.8809219197152772,
          0.0944716655023659,
          0.4550279458603338,
          1.8136067916398246,
          -0.18360533019846725,
          -0.23021685288304736,
          0.3406496620591469,
          1.4145557922085121,
          0.5315204905167306,
          -1.640263959883622,
          -1.0955524713900873,
          -1.4774176081870156,
          -0.33843055481629236,
          0.07218683504377033,
          -1.3554867431755546,
          -0.24673020354673178,
          -1.826836764908707,
          -0.5894495017125044,
          -1.5883001645521029,
          1.9347900221285799,
          0.9264335949306093,
          -0.19619855277123432,
          1.311730305133455,
          -0.005833191408164211,
          -0.15789828864743358,
          0.1270696407524092,
          1.6577163232652115,
          -0.05443421620407633,
          1.2837041675848508,
          0.5593938838023739,
          -1.5122145518614358,
          -1.3051058219297798,
          -0.09372562766382454
         ],
         "xaxis": "x3",
         "y": [
          -0.6680661855631249,
          0.1949766871965313,
          0.03297058007779891,
          -0.6990703851144047,
          -1.1904809035565296,
          -0.9978851799370811,
          -1.8582319261511087,
          -0.5267661337775508,
          -1.5686461478635814,
          -1.0627343935664582,
          0.9661118140498371,
          0.565313506626537,
          -1.4206021024681288,
          0.6560188287072177,
          0.5342773017547415,
          0.4439743344940591,
          0.6052930388775157,
          0.7164107464286641,
          0.9375280230990192,
          -0.8939516328602036,
          0.4924348203413822,
          -2.1780131590071496,
          -0.5438072379862946,
          -0.9334923463833898,
          0.6713486104662258,
          -0.7065440484824034,
          -1.3874324539214875,
          -0.8896410077863353,
          -0.07984657932136635,
          -0.12572505592806968,
          0.8137383767766075,
          -1.858491455192245,
          -0.3724586312111986,
          2.402354817353567,
          1.0410195382811984,
          -1.5139559628272126,
          0.8076529167916344,
          -0.3035271559810558,
          2.4116330281807286,
          2.1223346600953814,
          0.16436122619428503,
          -0.46652198272400175,
          0.24256961333364677,
          0.2863986325603095,
          -3.099977310251452,
          0.3417341517045552,
          -1.229051663697874,
          -0.0825055265741576,
          0.5643689745296832,
          0.2643607398377007,
          0.8404584998456432,
          -0.9599932628266316,
          0.9620952929558358,
          2.1487719813839155,
          0.8702399277132442,
          -0.6786256915599027,
          -0.551562117174487,
          -0.7569418009249309,
          -0.7578840771473123,
          -0.7979818046465237,
          1.7875060506298361,
          -1.1376330255000242,
          -1.7296967915248824,
          1.0120261071074859,
          0.07626292262330708,
          -0.5161229432965986,
          -1.9828965516645491,
          1.2236247293138747,
          -1.4987687258773836,
          0.728921907199498,
          -1.0224292690506944,
          0.7636030501956129,
          -1.4035448034462434,
          0.8741822629080838,
          -1.575143589119851,
          0.5783812385108045,
          -0.9559912307275771,
          -0.06416912485000843,
          1.5340650493135644,
          1.0625590148885438,
          0.8926470152500349,
          -0.10936690562114973,
          -0.24245197468062515,
          1.5191649065321466,
          0.736591302550211,
          0.3806355692794749,
          -0.19094272495077746,
          -0.4809111086547659,
          -1.3393209311998107,
          0.3444845242142359,
          -0.308530466508197,
          0.5971519605520483,
          -0.2961393984777049,
          2.0527924932523907,
          -0.42898583486115943,
          0.7361587789620776,
          -0.6655264065881279,
          0.4869596491478256,
          -0.42392394888161156,
          0.0960209955254644
         ],
         "yaxis": "y3"
        },
        {
         "line": {
          "color": "rgba(128, 128, 128, 1.0)",
          "dash": "solid",
          "shape": "linear",
          "width": 1.3
         },
         "marker": {
          "size": 2,
          "symbol": "circle"
         },
         "mode": "markers",
         "name": "A",
         "text": "",
         "type": "scatter",
         "x": [
          0.49209094387433777,
          0.9062738969829228,
          0.17329610259510156,
          -0.10736420792233334,
          0.6105223392819806,
          -1.691053205670486,
          1.728568659259317,
          -1.2008015945078236,
          -1.9179174593378803,
          -0.3579727607746801,
          1.1705371096116617,
          0.47667608570186953,
          0.4776399709111016,
          -0.9461143733421219,
          -0.4131117792381057,
          -1.1115425891296822,
          1.2860346537356238,
          0.3271027808073432,
          0.5159953352965916,
          0.27729083117100445,
          0.7752711293926082,
          0.7312747438193341,
          1.2198693462173729,
          0.6601897806334215,
          -1.1484082051607591,
          -0.3601506624529033,
          0.21892965155005714,
          -0.7446991443981005,
          -1.6010064110796367,
          1.3027877160597294,
          2.637352783614263,
          -1.164496585131879,
          -0.7988405568663156,
          0.11240713416388613,
          1.048160908681509,
          0.5619149248158571,
          0.06147046441390483,
          -0.5124104027274924,
          1.0115304797672606,
          -1.0608392192028855,
          -0.1749354641614772,
          0.6544231807132385,
          -0.2380150085031945,
          -1.0382675925006104,
          -0.9786969318035704,
          0.9353387685518132,
          0.6186048691727825,
          -1.051367316882182,
          0.5481837683884434,
          1.0869489723875991,
          -0.8276597485186798,
          -1.1423774236881996,
          -0.5987684068731174,
          2.262905971559901,
          0.8269721442349901,
          -1.3517187768902508,
          0.3046845694376493,
          -1.5691671988994118,
          -1.6147450747653498,
          0.9385118541776004,
          1.3772116111856814,
          -0.3887872739543808,
          -0.04981835019742325,
          0.49369312086794365,
          1.6798331571822096,
          1.0567192540587917,
          0.47869354866514785,
          -1.24362767645016,
          0.3188194983492261,
          0.6847930611588089,
          0.357196047620388,
          -1.0419965151392447,
          0.2547774715058307,
          -0.29597959868541857,
          -0.6981530674093167,
          -0.07526311848588445,
          -0.18163384482479397,
          0.31075032419206056,
          -0.19408849419085747,
          1.5738822461027282,
          -0.08032086069342659,
          1.059622216455474,
          -1.320266007365862,
          1.8918701425077586,
          0.28571864790101287,
          1.8446892555185024,
          -1.045913687048723,
          -0.39532679311263735,
          -0.7580947693260994,
          -0.247466127162814,
          1.210722428462035,
          -1.4024327566377963,
          0.5632509162805431,
          -0.13694559351436295,
          -0.08578184302281991,
          0.7981344850479162,
          -1.7176037255632028,
          1.9520742819822292,
          -0.3330151467131199,
          0.027219819562331278
         ],
         "xaxis": "x4",
         "y": [
          -0.6680661855631249,
          0.1949766871965313,
          0.03297058007779891,
          -0.6990703851144047,
          -1.1904809035565296,
          -0.9978851799370811,
          -1.8582319261511087,
          -0.5267661337775508,
          -1.5686461478635814,
          -1.0627343935664582,
          0.9661118140498371,
          0.565313506626537,
          -1.4206021024681288,
          0.6560188287072177,
          0.5342773017547415,
          0.4439743344940591,
          0.6052930388775157,
          0.7164107464286641,
          0.9375280230990192,
          -0.8939516328602036,
          0.4924348203413822,
          -2.1780131590071496,
          -0.5438072379862946,
          -0.9334923463833898,
          0.6713486104662258,
          -0.7065440484824034,
          -1.3874324539214875,
          -0.8896410077863353,
          -0.07984657932136635,
          -0.12572505592806968,
          0.8137383767766075,
          -1.858491455192245,
          -0.3724586312111986,
          2.402354817353567,
          1.0410195382811984,
          -1.5139559628272126,
          0.8076529167916344,
          -0.3035271559810558,
          2.4116330281807286,
          2.1223346600953814,
          0.16436122619428503,
          -0.46652198272400175,
          0.24256961333364677,
          0.2863986325603095,
          -3.099977310251452,
          0.3417341517045552,
          -1.229051663697874,
          -0.0825055265741576,
          0.5643689745296832,
          0.2643607398377007,
          0.8404584998456432,
          -0.9599932628266316,
          0.9620952929558358,
          2.1487719813839155,
          0.8702399277132442,
          -0.6786256915599027,
          -0.551562117174487,
          -0.7569418009249309,
          -0.7578840771473123,
          -0.7979818046465237,
          1.7875060506298361,
          -1.1376330255000242,
          -1.7296967915248824,
          1.0120261071074859,
          0.07626292262330708,
          -0.5161229432965986,
          -1.9828965516645491,
          1.2236247293138747,
          -1.4987687258773836,
          0.728921907199498,
          -1.0224292690506944,
          0.7636030501956129,
          -1.4035448034462434,
          0.8741822629080838,
          -1.575143589119851,
          0.5783812385108045,
          -0.9559912307275771,
          -0.06416912485000843,
          1.5340650493135644,
          1.0625590148885438,
          0.8926470152500349,
          -0.10936690562114973,
          -0.24245197468062515,
          1.5191649065321466,
          0.736591302550211,
          0.3806355692794749,
          -0.19094272495077746,
          -0.4809111086547659,
          -1.3393209311998107,
          0.3444845242142359,
          -0.308530466508197,
          0.5971519605520483,
          -0.2961393984777049,
          2.0527924932523907,
          -0.42898583486115943,
          0.7361587789620776,
          -0.6655264065881279,
          0.4869596491478256,
          -0.42392394888161156,
          0.0960209955254644
         ],
         "yaxis": "y4"
        },
        {
         "line": {
          "color": "rgba(128, 128, 128, 1.0)",
          "dash": "solid",
          "shape": "linear",
          "width": 1.3
         },
         "marker": {
          "size": 2,
          "symbol": "circle"
         },
         "mode": "markers",
         "name": "B",
         "text": "",
         "type": "scatter",
         "x": [
          -0.6680661855631249,
          0.1949766871965313,
          0.03297058007779891,
          -0.6990703851144047,
          -1.1904809035565296,
          -0.9978851799370811,
          -1.8582319261511087,
          -0.5267661337775508,
          -1.5686461478635814,
          -1.0627343935664582,
          0.9661118140498371,
          0.565313506626537,
          -1.4206021024681288,
          0.6560188287072177,
          0.5342773017547415,
          0.4439743344940591,
          0.6052930388775157,
          0.7164107464286641,
          0.9375280230990192,
          -0.8939516328602036,
          0.4924348203413822,
          -2.1780131590071496,
          -0.5438072379862946,
          -0.9334923463833898,
          0.6713486104662258,
          -0.7065440484824034,
          -1.3874324539214875,
          -0.8896410077863353,
          -0.07984657932136635,
          -0.12572505592806968,
          0.8137383767766075,
          -1.858491455192245,
          -0.3724586312111986,
          2.402354817353567,
          1.0410195382811984,
          -1.5139559628272126,
          0.8076529167916344,
          -0.3035271559810558,
          2.4116330281807286,
          2.1223346600953814,
          0.16436122619428503,
          -0.46652198272400175,
          0.24256961333364677,
          0.2863986325603095,
          -3.099977310251452,
          0.3417341517045552,
          -1.229051663697874,
          -0.0825055265741576,
          0.5643689745296832,
          0.2643607398377007,
          0.8404584998456432,
          -0.9599932628266316,
          0.9620952929558358,
          2.1487719813839155,
          0.8702399277132442,
          -0.6786256915599027,
          -0.551562117174487,
          -0.7569418009249309,
          -0.7578840771473123,
          -0.7979818046465237,
          1.7875060506298361,
          -1.1376330255000242,
          -1.7296967915248824,
          1.0120261071074859,
          0.07626292262330708,
          -0.5161229432965986,
          -1.9828965516645491,
          1.2236247293138747,
          -1.4987687258773836,
          0.728921907199498,
          -1.0224292690506944,
          0.7636030501956129,
          -1.4035448034462434,
          0.8741822629080838,
          -1.575143589119851,
          0.5783812385108045,
          -0.9559912307275771,
          -0.06416912485000843,
          1.5340650493135644,
          1.0625590148885438,
          0.8926470152500349,
          -0.10936690562114973,
          -0.24245197468062515,
          1.5191649065321466,
          0.736591302550211,
          0.3806355692794749,
          -0.19094272495077746,
          -0.4809111086547659,
          -1.3393209311998107,
          0.3444845242142359,
          -0.308530466508197,
          0.5971519605520483,
          -0.2961393984777049,
          2.0527924932523907,
          -0.42898583486115943,
          0.7361587789620776,
          -0.6655264065881279,
          0.4869596491478256,
          -0.42392394888161156,
          0.0960209955254644
         ],
         "xaxis": "x5",
         "y": [
          -0.6810784119889212,
          -0.12672851621571565,
          -2.0807241915160843,
          2.1123832635269437,
          -0.037441185918270566,
          -0.8419160328363937,
          -0.965051019475013,
          0.8311693286344598,
          -0.12892638840714116,
          -0.3223623657442055,
          -0.2651621978066173,
          0.5751051482978644,
          -1.5954080823970926,
          0.35868808673820946,
          2.472151302817571,
          0.262160516152913,
          -0.34492136425427206,
          2.642740897818084,
          0.41347183169097945,
          1.4222362844595409,
          1.0478656163489362,
          -1.4989625631723997,
          -1.1573817060636589,
          -0.1902543592584037,
          -1.5924763685255088,
          -0.04356499912556374,
          -0.32646573064441586,
          1.4195081126291589,
          1.3506300184179498,
          -1.8861410729263206,
          0.6078372185494824,
          0.5896587847914512,
          -1.8647497848327925,
          0.16162438429861858,
          0.6426130692999505,
          1.7639945077246302,
          0.7761834037906911,
          0.421145954098237,
          0.1854040095139653,
          0.9429598683866964,
          -0.7099509267598096,
          -1.7564388380669502,
          1.3881239407102857,
          -1.3120206969144075,
          -1.2360995942787971,
          -0.10177615060000193,
          1.207999550088633,
          0.11356010121118484,
          -0.13811616381196112,
          1.3505494572062853,
          1.0177776805673846,
          -1.4837634818277279,
          -0.6319011207391553,
          0.20812478489292638,
          -0.08134859369177261,
          -0.7277076405660484,
          0.840470334848689,
          -1.7870213204890557,
          0.03588632950819402,
          -0.3733539244362292,
          0.43292408303107593,
          -0.5686082275326253,
          -0.6758945175654862,
          -0.6070459436824658,
          1.1050416756450765,
          -0.059510924986301804,
          0.8447858158747069,
          0.499972993569185,
          -0.13434501044250866,
          -1.8070564697994906,
          -1.714991039757765,
          -0.3751013035128291,
          1.0953223101313094,
          -1.4369805212753772,
          0.39107212877171116,
          -0.2516191386082863,
          0.22228696010046495,
          0.1725199646415227,
          -1.050096031944785,
          0.5061413187280068,
          -0.12351473087442927,
          -0.7146092641508545,
          0.4954838312980374,
          1.3551362084378633,
          0.9634550093677506,
          1.0479339303158377,
          1.059923568234994,
          -0.7117493946644667,
          -1.0699478167895864,
          -0.2362919262806339,
          1.403646945157495,
          0.28071705389078044,
          -0.15182662408610997,
          0.17489614347413823,
          -0.9742686872933056,
          0.1786922050680465,
          -0.6273672164757751,
          -0.4488967123079796,
          -1.4551355833120438,
          -1.0757746516273758
         ],
         "yaxis": "y5"
        },
        {
         "histfunc": "count",
         "histnorm": "",
         "marker": {
          "color": "rgba(55, 128, 191, 1.0)",
          "line": {
           "color": "#4D5663",
           "width": 1.3
          }
         },
         "name": "B",
         "nbinsx": 10,
         "opacity": 0.8,
         "orientation": "v",
         "type": "histogram",
         "x": [
          -0.6810784119889212,
          -0.12672851621571565,
          -2.0807241915160843,
          2.1123832635269437,
          -0.037441185918270566,
          -0.8419160328363937,
          -0.965051019475013,
          0.8311693286344598,
          -0.12892638840714116,
          -0.3223623657442055,
          -0.2651621978066173,
          0.5751051482978644,
          -1.5954080823970926,
          0.35868808673820946,
          2.472151302817571,
          0.262160516152913,
          -0.34492136425427206,
          2.642740897818084,
          0.41347183169097945,
          1.4222362844595409,
          1.0478656163489362,
          -1.4989625631723997,
          -1.1573817060636589,
          -0.1902543592584037,
          -1.5924763685255088,
          -0.04356499912556374,
          -0.32646573064441586,
          1.4195081126291589,
          1.3506300184179498,
          -1.8861410729263206,
          0.6078372185494824,
          0.5896587847914512,
          -1.8647497848327925,
          0.16162438429861858,
          0.6426130692999505,
          1.7639945077246302,
          0.7761834037906911,
          0.421145954098237,
          0.1854040095139653,
          0.9429598683866964,
          -0.7099509267598096,
          -1.7564388380669502,
          1.3881239407102857,
          -1.3120206969144075,
          -1.2360995942787971,
          -0.10177615060000193,
          1.207999550088633,
          0.11356010121118484,
          -0.13811616381196112,
          1.3505494572062853,
          1.0177776805673846,
          -1.4837634818277279,
          -0.6319011207391553,
          0.20812478489292638,
          -0.08134859369177261,
          -0.7277076405660484,
          0.840470334848689,
          -1.7870213204890557,
          0.03588632950819402,
          -0.3733539244362292,
          0.43292408303107593,
          -0.5686082275326253,
          -0.6758945175654862,
          -0.6070459436824658,
          1.1050416756450765,
          -0.059510924986301804,
          0.8447858158747069,
          0.499972993569185,
          -0.13434501044250866,
          -1.8070564697994906,
          -1.714991039757765,
          -0.3751013035128291,
          1.0953223101313094,
          -1.4369805212753772,
          0.39107212877171116,
          -0.2516191386082863,
          0.22228696010046495,
          0.1725199646415227,
          -1.050096031944785,
          0.5061413187280068,
          -0.12351473087442927,
          -0.7146092641508545,
          0.4954838312980374,
          1.3551362084378633,
          0.9634550093677506,
          1.0479339303158377,
          1.059923568234994,
          -0.7117493946644667,
          -1.0699478167895864,
          -0.2362919262806339,
          1.403646945157495,
          0.28071705389078044,
          -0.15182662408610997,
          0.17489614347413823,
          -0.9742686872933056,
          0.1786922050680465,
          -0.6273672164757751,
          -0.4488967123079796,
          -1.4551355833120438,
          -1.0757746516273758
         ],
         "xaxis": "x6",
         "yaxis": "y6"
        },
        {
         "line": {
          "color": "rgba(128, 128, 128, 1.0)",
          "dash": "solid",
          "shape": "linear",
          "width": 1.3
         },
         "marker": {
          "size": 2,
          "symbol": "circle"
         },
         "mode": "markers",
         "name": "B",
         "text": "",
         "type": "scatter",
         "x": [
          -2.3073638620301433,
          -0.9962041490678315,
          1.3208116314786846,
          -0.025390771166009407,
          -0.9648363933317966,
          0.24326610193825265,
          0.7833001534921529,
          -0.8663752013312572,
          0.28426532861252757,
          1.8525904754774485,
          0.5164054496741013,
          1.2303099931032626,
          0.5360513363234279,
          0.7314049395469593,
          -0.05158527579854278,
          -0.5217391984873557,
          0.6011760081316192,
          0.09789419963031891,
          -0.4874882753947355,
          -0.2989607053704855,
          0.9383987116683369,
          -0.29624269819989724,
          -3.0132871456839267,
          -0.2600934938003665,
          -0.5169579690827044,
          -0.8119315582610903,
          -0.34731928941074086,
          -1.820136372657824,
          1.2256674920965915,
          -1.5566391864661864,
          -0.06809802410845756,
          -0.2871133753382355,
          0.9244116752222192,
          -0.6759585741687546,
          -0.6744735212611921,
          -1.6040426177574216,
          1.2850611144199247,
          0.8279989883462856,
          -0.2878489752861659,
          -0.23566306928665398,
          1.3076158299163698,
          -1.6401124481321587,
          0.546773763745836,
          0.2763863222089421,
          0.1382460666083625,
          0.34761977999188315,
          0.18678832068275122,
          -0.7826894546849915,
          -0.22804525413889637,
          -0.27774414758352944,
          -0.679220647452501,
          -0.5321792137613572,
          -1.1818314843254512,
          -0.24222642777041425,
          0.2594990627819901,
          1.6806485495058059,
          1.2494555826282385,
          1.7561180265516112,
          -0.18337912849127272,
          0.1986178157101335,
          1.1144016939165797,
          -1.1232355481853946,
          0.3312435482633644,
          -0.5356280710427399,
          -0.3475497394030127,
          1.3188617574462058,
          -0.03536711573532913,
          0.8809219197152772,
          0.0944716655023659,
          0.4550279458603338,
          1.8136067916398246,
          -0.18360533019846725,
          -0.23021685288304736,
          0.3406496620591469,
          1.4145557922085121,
          0.5315204905167306,
          -1.640263959883622,
          -1.0955524713900873,
          -1.4774176081870156,
          -0.33843055481629236,
          0.07218683504377033,
          -1.3554867431755546,
          -0.24673020354673178,
          -1.826836764908707,
          -0.5894495017125044,
          -1.5883001645521029,
          1.9347900221285799,
          0.9264335949306093,
          -0.19619855277123432,
          1.311730305133455,
          -0.005833191408164211,
          -0.15789828864743358,
          0.1270696407524092,
          1.6577163232652115,
          -0.05443421620407633,
          1.2837041675848508,
          0.5593938838023739,
          -1.5122145518614358,
          -1.3051058219297798,
          -0.09372562766382454
         ],
         "xaxis": "x7",
         "y": [
          -0.6810784119889212,
          -0.12672851621571565,
          -2.0807241915160843,
          2.1123832635269437,
          -0.037441185918270566,
          -0.8419160328363937,
          -0.965051019475013,
          0.8311693286344598,
          -0.12892638840714116,
          -0.3223623657442055,
          -0.2651621978066173,
          0.5751051482978644,
          -1.5954080823970926,
          0.35868808673820946,
          2.472151302817571,
          0.262160516152913,
          -0.34492136425427206,
          2.642740897818084,
          0.41347183169097945,
          1.4222362844595409,
          1.0478656163489362,
          -1.4989625631723997,
          -1.1573817060636589,
          -0.1902543592584037,
          -1.5924763685255088,
          -0.04356499912556374,
          -0.32646573064441586,
          1.4195081126291589,
          1.3506300184179498,
          -1.8861410729263206,
          0.6078372185494824,
          0.5896587847914512,
          -1.8647497848327925,
          0.16162438429861858,
          0.6426130692999505,
          1.7639945077246302,
          0.7761834037906911,
          0.421145954098237,
          0.1854040095139653,
          0.9429598683866964,
          -0.7099509267598096,
          -1.7564388380669502,
          1.3881239407102857,
          -1.3120206969144075,
          -1.2360995942787971,
          -0.10177615060000193,
          1.207999550088633,
          0.11356010121118484,
          -0.13811616381196112,
          1.3505494572062853,
          1.0177776805673846,
          -1.4837634818277279,
          -0.6319011207391553,
          0.20812478489292638,
          -0.08134859369177261,
          -0.7277076405660484,
          0.840470334848689,
          -1.7870213204890557,
          0.03588632950819402,
          -0.3733539244362292,
          0.43292408303107593,
          -0.5686082275326253,
          -0.6758945175654862,
          -0.6070459436824658,
          1.1050416756450765,
          -0.059510924986301804,
          0.8447858158747069,
          0.499972993569185,
          -0.13434501044250866,
          -1.8070564697994906,
          -1.714991039757765,
          -0.3751013035128291,
          1.0953223101313094,
          -1.4369805212753772,
          0.39107212877171116,
          -0.2516191386082863,
          0.22228696010046495,
          0.1725199646415227,
          -1.050096031944785,
          0.5061413187280068,
          -0.12351473087442927,
          -0.7146092641508545,
          0.4954838312980374,
          1.3551362084378633,
          0.9634550093677506,
          1.0479339303158377,
          1.059923568234994,
          -0.7117493946644667,
          -1.0699478167895864,
          -0.2362919262806339,
          1.403646945157495,
          0.28071705389078044,
          -0.15182662408610997,
          0.17489614347413823,
          -0.9742686872933056,
          0.1786922050680465,
          -0.6273672164757751,
          -0.4488967123079796,
          -1.4551355833120438,
          -1.0757746516273758
         ],
         "yaxis": "y7"
        },
        {
         "line": {
          "color": "rgba(128, 128, 128, 1.0)",
          "dash": "solid",
          "shape": "linear",
          "width": 1.3
         },
         "marker": {
          "size": 2,
          "symbol": "circle"
         },
         "mode": "markers",
         "name": "B",
         "text": "",
         "type": "scatter",
         "x": [
          0.49209094387433777,
          0.9062738969829228,
          0.17329610259510156,
          -0.10736420792233334,
          0.6105223392819806,
          -1.691053205670486,
          1.728568659259317,
          -1.2008015945078236,
          -1.9179174593378803,
          -0.3579727607746801,
          1.1705371096116617,
          0.47667608570186953,
          0.4776399709111016,
          -0.9461143733421219,
          -0.4131117792381057,
          -1.1115425891296822,
          1.2860346537356238,
          0.3271027808073432,
          0.5159953352965916,
          0.27729083117100445,
          0.7752711293926082,
          0.7312747438193341,
          1.2198693462173729,
          0.6601897806334215,
          -1.1484082051607591,
          -0.3601506624529033,
          0.21892965155005714,
          -0.7446991443981005,
          -1.6010064110796367,
          1.3027877160597294,
          2.637352783614263,
          -1.164496585131879,
          -0.7988405568663156,
          0.11240713416388613,
          1.048160908681509,
          0.5619149248158571,
          0.06147046441390483,
          -0.5124104027274924,
          1.0115304797672606,
          -1.0608392192028855,
          -0.1749354641614772,
          0.6544231807132385,
          -0.2380150085031945,
          -1.0382675925006104,
          -0.9786969318035704,
          0.9353387685518132,
          0.6186048691727825,
          -1.051367316882182,
          0.5481837683884434,
          1.0869489723875991,
          -0.8276597485186798,
          -1.1423774236881996,
          -0.5987684068731174,
          2.262905971559901,
          0.8269721442349901,
          -1.3517187768902508,
          0.3046845694376493,
          -1.5691671988994118,
          -1.6147450747653498,
          0.9385118541776004,
          1.3772116111856814,
          -0.3887872739543808,
          -0.04981835019742325,
          0.49369312086794365,
          1.6798331571822096,
          1.0567192540587917,
          0.47869354866514785,
          -1.24362767645016,
          0.3188194983492261,
          0.6847930611588089,
          0.357196047620388,
          -1.0419965151392447,
          0.2547774715058307,
          -0.29597959868541857,
          -0.6981530674093167,
          -0.07526311848588445,
          -0.18163384482479397,
          0.31075032419206056,
          -0.19408849419085747,
          1.5738822461027282,
          -0.08032086069342659,
          1.059622216455474,
          -1.320266007365862,
          1.8918701425077586,
          0.28571864790101287,
          1.8446892555185024,
          -1.045913687048723,
          -0.39532679311263735,
          -0.7580947693260994,
          -0.247466127162814,
          1.210722428462035,
          -1.4024327566377963,
          0.5632509162805431,
          -0.13694559351436295,
          -0.08578184302281991,
          0.7981344850479162,
          -1.7176037255632028,
          1.9520742819822292,
          -0.3330151467131199,
          0.027219819562331278
         ],
         "xaxis": "x8",
         "y": [
          -0.6810784119889212,
          -0.12672851621571565,
          -2.0807241915160843,
          2.1123832635269437,
          -0.037441185918270566,
          -0.8419160328363937,
          -0.965051019475013,
          0.8311693286344598,
          -0.12892638840714116,
          -0.3223623657442055,
          -0.2651621978066173,
          0.5751051482978644,
          -1.5954080823970926,
          0.35868808673820946,
          2.472151302817571,
          0.262160516152913,
          -0.34492136425427206,
          2.642740897818084,
          0.41347183169097945,
          1.4222362844595409,
          1.0478656163489362,
          -1.4989625631723997,
          -1.1573817060636589,
          -0.1902543592584037,
          -1.5924763685255088,
          -0.04356499912556374,
          -0.32646573064441586,
          1.4195081126291589,
          1.3506300184179498,
          -1.8861410729263206,
          0.6078372185494824,
          0.5896587847914512,
          -1.8647497848327925,
          0.16162438429861858,
          0.6426130692999505,
          1.7639945077246302,
          0.7761834037906911,
          0.421145954098237,
          0.1854040095139653,
          0.9429598683866964,
          -0.7099509267598096,
          -1.7564388380669502,
          1.3881239407102857,
          -1.3120206969144075,
          -1.2360995942787971,
          -0.10177615060000193,
          1.207999550088633,
          0.11356010121118484,
          -0.13811616381196112,
          1.3505494572062853,
          1.0177776805673846,
          -1.4837634818277279,
          -0.6319011207391553,
          0.20812478489292638,
          -0.08134859369177261,
          -0.7277076405660484,
          0.840470334848689,
          -1.7870213204890557,
          0.03588632950819402,
          -0.3733539244362292,
          0.43292408303107593,
          -0.5686082275326253,
          -0.6758945175654862,
          -0.6070459436824658,
          1.1050416756450765,
          -0.059510924986301804,
          0.8447858158747069,
          0.499972993569185,
          -0.13434501044250866,
          -1.8070564697994906,
          -1.714991039757765,
          -0.3751013035128291,
          1.0953223101313094,
          -1.4369805212753772,
          0.39107212877171116,
          -0.2516191386082863,
          0.22228696010046495,
          0.1725199646415227,
          -1.050096031944785,
          0.5061413187280068,
          -0.12351473087442927,
          -0.7146092641508545,
          0.4954838312980374,
          1.3551362084378633,
          0.9634550093677506,
          1.0479339303158377,
          1.059923568234994,
          -0.7117493946644667,
          -1.0699478167895864,
          -0.2362919262806339,
          1.403646945157495,
          0.28071705389078044,
          -0.15182662408610997,
          0.17489614347413823,
          -0.9742686872933056,
          0.1786922050680465,
          -0.6273672164757751,
          -0.4488967123079796,
          -1.4551355833120438,
          -1.0757746516273758
         ],
         "yaxis": "y8"
        },
        {
         "line": {
          "color": "rgba(128, 128, 128, 1.0)",
          "dash": "solid",
          "shape": "linear",
          "width": 1.3
         },
         "marker": {
          "size": 2,
          "symbol": "circle"
         },
         "mode": "markers",
         "name": "C",
         "text": "",
         "type": "scatter",
         "x": [
          -0.6680661855631249,
          0.1949766871965313,
          0.03297058007779891,
          -0.6990703851144047,
          -1.1904809035565296,
          -0.9978851799370811,
          -1.8582319261511087,
          -0.5267661337775508,
          -1.5686461478635814,
          -1.0627343935664582,
          0.9661118140498371,
          0.565313506626537,
          -1.4206021024681288,
          0.6560188287072177,
          0.5342773017547415,
          0.4439743344940591,
          0.6052930388775157,
          0.7164107464286641,
          0.9375280230990192,
          -0.8939516328602036,
          0.4924348203413822,
          -2.1780131590071496,
          -0.5438072379862946,
          -0.9334923463833898,
          0.6713486104662258,
          -0.7065440484824034,
          -1.3874324539214875,
          -0.8896410077863353,
          -0.07984657932136635,
          -0.12572505592806968,
          0.8137383767766075,
          -1.858491455192245,
          -0.3724586312111986,
          2.402354817353567,
          1.0410195382811984,
          -1.5139559628272126,
          0.8076529167916344,
          -0.3035271559810558,
          2.4116330281807286,
          2.1223346600953814,
          0.16436122619428503,
          -0.46652198272400175,
          0.24256961333364677,
          0.2863986325603095,
          -3.099977310251452,
          0.3417341517045552,
          -1.229051663697874,
          -0.0825055265741576,
          0.5643689745296832,
          0.2643607398377007,
          0.8404584998456432,
          -0.9599932628266316,
          0.9620952929558358,
          2.1487719813839155,
          0.8702399277132442,
          -0.6786256915599027,
          -0.551562117174487,
          -0.7569418009249309,
          -0.7578840771473123,
          -0.7979818046465237,
          1.7875060506298361,
          -1.1376330255000242,
          -1.7296967915248824,
          1.0120261071074859,
          0.07626292262330708,
          -0.5161229432965986,
          -1.9828965516645491,
          1.2236247293138747,
          -1.4987687258773836,
          0.728921907199498,
          -1.0224292690506944,
          0.7636030501956129,
          -1.4035448034462434,
          0.8741822629080838,
          -1.575143589119851,
          0.5783812385108045,
          -0.9559912307275771,
          -0.06416912485000843,
          1.5340650493135644,
          1.0625590148885438,
          0.8926470152500349,
          -0.10936690562114973,
          -0.24245197468062515,
          1.5191649065321466,
          0.736591302550211,
          0.3806355692794749,
          -0.19094272495077746,
          -0.4809111086547659,
          -1.3393209311998107,
          0.3444845242142359,
          -0.308530466508197,
          0.5971519605520483,
          -0.2961393984777049,
          2.0527924932523907,
          -0.42898583486115943,
          0.7361587789620776,
          -0.6655264065881279,
          0.4869596491478256,
          -0.42392394888161156,
          0.0960209955254644
         ],
         "xaxis": "x9",
         "y": [
          -2.3073638620301433,
          -0.9962041490678315,
          1.3208116314786846,
          -0.025390771166009407,
          -0.9648363933317966,
          0.24326610193825265,
          0.7833001534921529,
          -0.8663752013312572,
          0.28426532861252757,
          1.8525904754774485,
          0.5164054496741013,
          1.2303099931032626,
          0.5360513363234279,
          0.7314049395469593,
          -0.05158527579854278,
          -0.5217391984873557,
          0.6011760081316192,
          0.09789419963031891,
          -0.4874882753947355,
          -0.2989607053704855,
          0.9383987116683369,
          -0.29624269819989724,
          -3.0132871456839267,
          -0.2600934938003665,
          -0.5169579690827044,
          -0.8119315582610903,
          -0.34731928941074086,
          -1.820136372657824,
          1.2256674920965915,
          -1.5566391864661864,
          -0.06809802410845756,
          -0.2871133753382355,
          0.9244116752222192,
          -0.6759585741687546,
          -0.6744735212611921,
          -1.6040426177574216,
          1.2850611144199247,
          0.8279989883462856,
          -0.2878489752861659,
          -0.23566306928665398,
          1.3076158299163698,
          -1.6401124481321587,
          0.546773763745836,
          0.2763863222089421,
          0.1382460666083625,
          0.34761977999188315,
          0.18678832068275122,
          -0.7826894546849915,
          -0.22804525413889637,
          -0.27774414758352944,
          -0.679220647452501,
          -0.5321792137613572,
          -1.1818314843254512,
          -0.24222642777041425,
          0.2594990627819901,
          1.6806485495058059,
          1.2494555826282385,
          1.7561180265516112,
          -0.18337912849127272,
          0.1986178157101335,
          1.1144016939165797,
          -1.1232355481853946,
          0.3312435482633644,
          -0.5356280710427399,
          -0.3475497394030127,
          1.3188617574462058,
          -0.03536711573532913,
          0.8809219197152772,
          0.0944716655023659,
          0.4550279458603338,
          1.8136067916398246,
          -0.18360533019846725,
          -0.23021685288304736,
          0.3406496620591469,
          1.4145557922085121,
          0.5315204905167306,
          -1.640263959883622,
          -1.0955524713900873,
          -1.4774176081870156,
          -0.33843055481629236,
          0.07218683504377033,
          -1.3554867431755546,
          -0.24673020354673178,
          -1.826836764908707,
          -0.5894495017125044,
          -1.5883001645521029,
          1.9347900221285799,
          0.9264335949306093,
          -0.19619855277123432,
          1.311730305133455,
          -0.005833191408164211,
          -0.15789828864743358,
          0.1270696407524092,
          1.6577163232652115,
          -0.05443421620407633,
          1.2837041675848508,
          0.5593938838023739,
          -1.5122145518614358,
          -1.3051058219297798,
          -0.09372562766382454
         ],
         "yaxis": "y9"
        },
        {
         "line": {
          "color": "rgba(128, 128, 128, 1.0)",
          "dash": "solid",
          "shape": "linear",
          "width": 1.3
         },
         "marker": {
          "size": 2,
          "symbol": "circle"
         },
         "mode": "markers",
         "name": "C",
         "text": "",
         "type": "scatter",
         "x": [
          -0.6810784119889212,
          -0.12672851621571565,
          -2.0807241915160843,
          2.1123832635269437,
          -0.037441185918270566,
          -0.8419160328363937,
          -0.965051019475013,
          0.8311693286344598,
          -0.12892638840714116,
          -0.3223623657442055,
          -0.2651621978066173,
          0.5751051482978644,
          -1.5954080823970926,
          0.35868808673820946,
          2.472151302817571,
          0.262160516152913,
          -0.34492136425427206,
          2.642740897818084,
          0.41347183169097945,
          1.4222362844595409,
          1.0478656163489362,
          -1.4989625631723997,
          -1.1573817060636589,
          -0.1902543592584037,
          -1.5924763685255088,
          -0.04356499912556374,
          -0.32646573064441586,
          1.4195081126291589,
          1.3506300184179498,
          -1.8861410729263206,
          0.6078372185494824,
          0.5896587847914512,
          -1.8647497848327925,
          0.16162438429861858,
          0.6426130692999505,
          1.7639945077246302,
          0.7761834037906911,
          0.421145954098237,
          0.1854040095139653,
          0.9429598683866964,
          -0.7099509267598096,
          -1.7564388380669502,
          1.3881239407102857,
          -1.3120206969144075,
          -1.2360995942787971,
          -0.10177615060000193,
          1.207999550088633,
          0.11356010121118484,
          -0.13811616381196112,
          1.3505494572062853,
          1.0177776805673846,
          -1.4837634818277279,
          -0.6319011207391553,
          0.20812478489292638,
          -0.08134859369177261,
          -0.7277076405660484,
          0.840470334848689,
          -1.7870213204890557,
          0.03588632950819402,
          -0.3733539244362292,
          0.43292408303107593,
          -0.5686082275326253,
          -0.6758945175654862,
          -0.6070459436824658,
          1.1050416756450765,
          -0.059510924986301804,
          0.8447858158747069,
          0.499972993569185,
          -0.13434501044250866,
          -1.8070564697994906,
          -1.714991039757765,
          -0.3751013035128291,
          1.0953223101313094,
          -1.4369805212753772,
          0.39107212877171116,
          -0.2516191386082863,
          0.22228696010046495,
          0.1725199646415227,
          -1.050096031944785,
          0.5061413187280068,
          -0.12351473087442927,
          -0.7146092641508545,
          0.4954838312980374,
          1.3551362084378633,
          0.9634550093677506,
          1.0479339303158377,
          1.059923568234994,
          -0.7117493946644667,
          -1.0699478167895864,
          -0.2362919262806339,
          1.403646945157495,
          0.28071705389078044,
          -0.15182662408610997,
          0.17489614347413823,
          -0.9742686872933056,
          0.1786922050680465,
          -0.6273672164757751,
          -0.4488967123079796,
          -1.4551355833120438,
          -1.0757746516273758
         ],
         "xaxis": "x10",
         "y": [
          -2.3073638620301433,
          -0.9962041490678315,
          1.3208116314786846,
          -0.025390771166009407,
          -0.9648363933317966,
          0.24326610193825265,
          0.7833001534921529,
          -0.8663752013312572,
          0.28426532861252757,
          1.8525904754774485,
          0.5164054496741013,
          1.2303099931032626,
          0.5360513363234279,
          0.7314049395469593,
          -0.05158527579854278,
          -0.5217391984873557,
          0.6011760081316192,
          0.09789419963031891,
          -0.4874882753947355,
          -0.2989607053704855,
          0.9383987116683369,
          -0.29624269819989724,
          -3.0132871456839267,
          -0.2600934938003665,
          -0.5169579690827044,
          -0.8119315582610903,
          -0.34731928941074086,
          -1.820136372657824,
          1.2256674920965915,
          -1.5566391864661864,
          -0.06809802410845756,
          -0.2871133753382355,
          0.9244116752222192,
          -0.6759585741687546,
          -0.6744735212611921,
          -1.6040426177574216,
          1.2850611144199247,
          0.8279989883462856,
          -0.2878489752861659,
          -0.23566306928665398,
          1.3076158299163698,
          -1.6401124481321587,
          0.546773763745836,
          0.2763863222089421,
          0.1382460666083625,
          0.34761977999188315,
          0.18678832068275122,
          -0.7826894546849915,
          -0.22804525413889637,
          -0.27774414758352944,
          -0.679220647452501,
          -0.5321792137613572,
          -1.1818314843254512,
          -0.24222642777041425,
          0.2594990627819901,
          1.6806485495058059,
          1.2494555826282385,
          1.7561180265516112,
          -0.18337912849127272,
          0.1986178157101335,
          1.1144016939165797,
          -1.1232355481853946,
          0.3312435482633644,
          -0.5356280710427399,
          -0.3475497394030127,
          1.3188617574462058,
          -0.03536711573532913,
          0.8809219197152772,
          0.0944716655023659,
          0.4550279458603338,
          1.8136067916398246,
          -0.18360533019846725,
          -0.23021685288304736,
          0.3406496620591469,
          1.4145557922085121,
          0.5315204905167306,
          -1.640263959883622,
          -1.0955524713900873,
          -1.4774176081870156,
          -0.33843055481629236,
          0.07218683504377033,
          -1.3554867431755546,
          -0.24673020354673178,
          -1.826836764908707,
          -0.5894495017125044,
          -1.5883001645521029,
          1.9347900221285799,
          0.9264335949306093,
          -0.19619855277123432,
          1.311730305133455,
          -0.005833191408164211,
          -0.15789828864743358,
          0.1270696407524092,
          1.6577163232652115,
          -0.05443421620407633,
          1.2837041675848508,
          0.5593938838023739,
          -1.5122145518614358,
          -1.3051058219297798,
          -0.09372562766382454
         ],
         "yaxis": "y10"
        },
        {
         "histfunc": "count",
         "histnorm": "",
         "marker": {
          "color": "rgba(50, 171, 96, 1.0)",
          "line": {
           "color": "#4D5663",
           "width": 1.3
          }
         },
         "name": "C",
         "nbinsx": 10,
         "opacity": 0.8,
         "orientation": "v",
         "type": "histogram",
         "x": [
          -2.3073638620301433,
          -0.9962041490678315,
          1.3208116314786846,
          -0.025390771166009407,
          -0.9648363933317966,
          0.24326610193825265,
          0.7833001534921529,
          -0.8663752013312572,
          0.28426532861252757,
          1.8525904754774485,
          0.5164054496741013,
          1.2303099931032626,
          0.5360513363234279,
          0.7314049395469593,
          -0.05158527579854278,
          -0.5217391984873557,
          0.6011760081316192,
          0.09789419963031891,
          -0.4874882753947355,
          -0.2989607053704855,
          0.9383987116683369,
          -0.29624269819989724,
          -3.0132871456839267,
          -0.2600934938003665,
          -0.5169579690827044,
          -0.8119315582610903,
          -0.34731928941074086,
          -1.820136372657824,
          1.2256674920965915,
          -1.5566391864661864,
          -0.06809802410845756,
          -0.2871133753382355,
          0.9244116752222192,
          -0.6759585741687546,
          -0.6744735212611921,
          -1.6040426177574216,
          1.2850611144199247,
          0.8279989883462856,
          -0.2878489752861659,
          -0.23566306928665398,
          1.3076158299163698,
          -1.6401124481321587,
          0.546773763745836,
          0.2763863222089421,
          0.1382460666083625,
          0.34761977999188315,
          0.18678832068275122,
          -0.7826894546849915,
          -0.22804525413889637,
          -0.27774414758352944,
          -0.679220647452501,
          -0.5321792137613572,
          -1.1818314843254512,
          -0.24222642777041425,
          0.2594990627819901,
          1.6806485495058059,
          1.2494555826282385,
          1.7561180265516112,
          -0.18337912849127272,
          0.1986178157101335,
          1.1144016939165797,
          -1.1232355481853946,
          0.3312435482633644,
          -0.5356280710427399,
          -0.3475497394030127,
          1.3188617574462058,
          -0.03536711573532913,
          0.8809219197152772,
          0.0944716655023659,
          0.4550279458603338,
          1.8136067916398246,
          -0.18360533019846725,
          -0.23021685288304736,
          0.3406496620591469,
          1.4145557922085121,
          0.5315204905167306,
          -1.640263959883622,
          -1.0955524713900873,
          -1.4774176081870156,
          -0.33843055481629236,
          0.07218683504377033,
          -1.3554867431755546,
          -0.24673020354673178,
          -1.826836764908707,
          -0.5894495017125044,
          -1.5883001645521029,
          1.9347900221285799,
          0.9264335949306093,
          -0.19619855277123432,
          1.311730305133455,
          -0.005833191408164211,
          -0.15789828864743358,
          0.1270696407524092,
          1.6577163232652115,
          -0.05443421620407633,
          1.2837041675848508,
          0.5593938838023739,
          -1.5122145518614358,
          -1.3051058219297798,
          -0.09372562766382454
         ],
         "xaxis": "x11",
         "yaxis": "y11"
        },
        {
         "line": {
          "color": "rgba(128, 128, 128, 1.0)",
          "dash": "solid",
          "shape": "linear",
          "width": 1.3
         },
         "marker": {
          "size": 2,
          "symbol": "circle"
         },
         "mode": "markers",
         "name": "C",
         "text": "",
         "type": "scatter",
         "x": [
          0.49209094387433777,
          0.9062738969829228,
          0.17329610259510156,
          -0.10736420792233334,
          0.6105223392819806,
          -1.691053205670486,
          1.728568659259317,
          -1.2008015945078236,
          -1.9179174593378803,
          -0.3579727607746801,
          1.1705371096116617,
          0.47667608570186953,
          0.4776399709111016,
          -0.9461143733421219,
          -0.4131117792381057,
          -1.1115425891296822,
          1.2860346537356238,
          0.3271027808073432,
          0.5159953352965916,
          0.27729083117100445,
          0.7752711293926082,
          0.7312747438193341,
          1.2198693462173729,
          0.6601897806334215,
          -1.1484082051607591,
          -0.3601506624529033,
          0.21892965155005714,
          -0.7446991443981005,
          -1.6010064110796367,
          1.3027877160597294,
          2.637352783614263,
          -1.164496585131879,
          -0.7988405568663156,
          0.11240713416388613,
          1.048160908681509,
          0.5619149248158571,
          0.06147046441390483,
          -0.5124104027274924,
          1.0115304797672606,
          -1.0608392192028855,
          -0.1749354641614772,
          0.6544231807132385,
          -0.2380150085031945,
          -1.0382675925006104,
          -0.9786969318035704,
          0.9353387685518132,
          0.6186048691727825,
          -1.051367316882182,
          0.5481837683884434,
          1.0869489723875991,
          -0.8276597485186798,
          -1.1423774236881996,
          -0.5987684068731174,
          2.262905971559901,
          0.8269721442349901,
          -1.3517187768902508,
          0.3046845694376493,
          -1.5691671988994118,
          -1.6147450747653498,
          0.9385118541776004,
          1.3772116111856814,
          -0.3887872739543808,
          -0.04981835019742325,
          0.49369312086794365,
          1.6798331571822096,
          1.0567192540587917,
          0.47869354866514785,
          -1.24362767645016,
          0.3188194983492261,
          0.6847930611588089,
          0.357196047620388,
          -1.0419965151392447,
          0.2547774715058307,
          -0.29597959868541857,
          -0.6981530674093167,
          -0.07526311848588445,
          -0.18163384482479397,
          0.31075032419206056,
          -0.19408849419085747,
          1.5738822461027282,
          -0.08032086069342659,
          1.059622216455474,
          -1.320266007365862,
          1.8918701425077586,
          0.28571864790101287,
          1.8446892555185024,
          -1.045913687048723,
          -0.39532679311263735,
          -0.7580947693260994,
          -0.247466127162814,
          1.210722428462035,
          -1.4024327566377963,
          0.5632509162805431,
          -0.13694559351436295,
          -0.08578184302281991,
          0.7981344850479162,
          -1.7176037255632028,
          1.9520742819822292,
          -0.3330151467131199,
          0.027219819562331278
         ],
         "xaxis": "x12",
         "y": [
          -2.3073638620301433,
          -0.9962041490678315,
          1.3208116314786846,
          -0.025390771166009407,
          -0.9648363933317966,
          0.24326610193825265,
          0.7833001534921529,
          -0.8663752013312572,
          0.28426532861252757,
          1.8525904754774485,
          0.5164054496741013,
          1.2303099931032626,
          0.5360513363234279,
          0.7314049395469593,
          -0.05158527579854278,
          -0.5217391984873557,
          0.6011760081316192,
          0.09789419963031891,
          -0.4874882753947355,
          -0.2989607053704855,
          0.9383987116683369,
          -0.29624269819989724,
          -3.0132871456839267,
          -0.2600934938003665,
          -0.5169579690827044,
          -0.8119315582610903,
          -0.34731928941074086,
          -1.820136372657824,
          1.2256674920965915,
          -1.5566391864661864,
          -0.06809802410845756,
          -0.2871133753382355,
          0.9244116752222192,
          -0.6759585741687546,
          -0.6744735212611921,
          -1.6040426177574216,
          1.2850611144199247,
          0.8279989883462856,
          -0.2878489752861659,
          -0.23566306928665398,
          1.3076158299163698,
          -1.6401124481321587,
          0.546773763745836,
          0.2763863222089421,
          0.1382460666083625,
          0.34761977999188315,
          0.18678832068275122,
          -0.7826894546849915,
          -0.22804525413889637,
          -0.27774414758352944,
          -0.679220647452501,
          -0.5321792137613572,
          -1.1818314843254512,
          -0.24222642777041425,
          0.2594990627819901,
          1.6806485495058059,
          1.2494555826282385,
          1.7561180265516112,
          -0.18337912849127272,
          0.1986178157101335,
          1.1144016939165797,
          -1.1232355481853946,
          0.3312435482633644,
          -0.5356280710427399,
          -0.3475497394030127,
          1.3188617574462058,
          -0.03536711573532913,
          0.8809219197152772,
          0.0944716655023659,
          0.4550279458603338,
          1.8136067916398246,
          -0.18360533019846725,
          -0.23021685288304736,
          0.3406496620591469,
          1.4145557922085121,
          0.5315204905167306,
          -1.640263959883622,
          -1.0955524713900873,
          -1.4774176081870156,
          -0.33843055481629236,
          0.07218683504377033,
          -1.3554867431755546,
          -0.24673020354673178,
          -1.826836764908707,
          -0.5894495017125044,
          -1.5883001645521029,
          1.9347900221285799,
          0.9264335949306093,
          -0.19619855277123432,
          1.311730305133455,
          -0.005833191408164211,
          -0.15789828864743358,
          0.1270696407524092,
          1.6577163232652115,
          -0.05443421620407633,
          1.2837041675848508,
          0.5593938838023739,
          -1.5122145518614358,
          -1.3051058219297798,
          -0.09372562766382454
         ],
         "yaxis": "y12"
        },
        {
         "line": {
          "color": "rgba(128, 128, 128, 1.0)",
          "dash": "solid",
          "shape": "linear",
          "width": 1.3
         },
         "marker": {
          "size": 2,
          "symbol": "circle"
         },
         "mode": "markers",
         "name": "D",
         "text": "",
         "type": "scatter",
         "x": [
          -0.6680661855631249,
          0.1949766871965313,
          0.03297058007779891,
          -0.6990703851144047,
          -1.1904809035565296,
          -0.9978851799370811,
          -1.8582319261511087,
          -0.5267661337775508,
          -1.5686461478635814,
          -1.0627343935664582,
          0.9661118140498371,
          0.565313506626537,
          -1.4206021024681288,
          0.6560188287072177,
          0.5342773017547415,
          0.4439743344940591,
          0.6052930388775157,
          0.7164107464286641,
          0.9375280230990192,
          -0.8939516328602036,
          0.4924348203413822,
          -2.1780131590071496,
          -0.5438072379862946,
          -0.9334923463833898,
          0.6713486104662258,
          -0.7065440484824034,
          -1.3874324539214875,
          -0.8896410077863353,
          -0.07984657932136635,
          -0.12572505592806968,
          0.8137383767766075,
          -1.858491455192245,
          -0.3724586312111986,
          2.402354817353567,
          1.0410195382811984,
          -1.5139559628272126,
          0.8076529167916344,
          -0.3035271559810558,
          2.4116330281807286,
          2.1223346600953814,
          0.16436122619428503,
          -0.46652198272400175,
          0.24256961333364677,
          0.2863986325603095,
          -3.099977310251452,
          0.3417341517045552,
          -1.229051663697874,
          -0.0825055265741576,
          0.5643689745296832,
          0.2643607398377007,
          0.8404584998456432,
          -0.9599932628266316,
          0.9620952929558358,
          2.1487719813839155,
          0.8702399277132442,
          -0.6786256915599027,
          -0.551562117174487,
          -0.7569418009249309,
          -0.7578840771473123,
          -0.7979818046465237,
          1.7875060506298361,
          -1.1376330255000242,
          -1.7296967915248824,
          1.0120261071074859,
          0.07626292262330708,
          -0.5161229432965986,
          -1.9828965516645491,
          1.2236247293138747,
          -1.4987687258773836,
          0.728921907199498,
          -1.0224292690506944,
          0.7636030501956129,
          -1.4035448034462434,
          0.8741822629080838,
          -1.575143589119851,
          0.5783812385108045,
          -0.9559912307275771,
          -0.06416912485000843,
          1.5340650493135644,
          1.0625590148885438,
          0.8926470152500349,
          -0.10936690562114973,
          -0.24245197468062515,
          1.5191649065321466,
          0.736591302550211,
          0.3806355692794749,
          -0.19094272495077746,
          -0.4809111086547659,
          -1.3393209311998107,
          0.3444845242142359,
          -0.308530466508197,
          0.5971519605520483,
          -0.2961393984777049,
          2.0527924932523907,
          -0.42898583486115943,
          0.7361587789620776,
          -0.6655264065881279,
          0.4869596491478256,
          -0.42392394888161156,
          0.0960209955254644
         ],
         "xaxis": "x13",
         "y": [
          0.49209094387433777,
          0.9062738969829228,
          0.17329610259510156,
          -0.10736420792233334,
          0.6105223392819806,
          -1.691053205670486,
          1.728568659259317,
          -1.2008015945078236,
          -1.9179174593378803,
          -0.3579727607746801,
          1.1705371096116617,
          0.47667608570186953,
          0.4776399709111016,
          -0.9461143733421219,
          -0.4131117792381057,
          -1.1115425891296822,
          1.2860346537356238,
          0.3271027808073432,
          0.5159953352965916,
          0.27729083117100445,
          0.7752711293926082,
          0.7312747438193341,
          1.2198693462173729,
          0.6601897806334215,
          -1.1484082051607591,
          -0.3601506624529033,
          0.21892965155005714,
          -0.7446991443981005,
          -1.6010064110796367,
          1.3027877160597294,
          2.637352783614263,
          -1.164496585131879,
          -0.7988405568663156,
          0.11240713416388613,
          1.048160908681509,
          0.5619149248158571,
          0.06147046441390483,
          -0.5124104027274924,
          1.0115304797672606,
          -1.0608392192028855,
          -0.1749354641614772,
          0.6544231807132385,
          -0.2380150085031945,
          -1.0382675925006104,
          -0.9786969318035704,
          0.9353387685518132,
          0.6186048691727825,
          -1.051367316882182,
          0.5481837683884434,
          1.0869489723875991,
          -0.8276597485186798,
          -1.1423774236881996,
          -0.5987684068731174,
          2.262905971559901,
          0.8269721442349901,
          -1.3517187768902508,
          0.3046845694376493,
          -1.5691671988994118,
          -1.6147450747653498,
          0.9385118541776004,
          1.3772116111856814,
          -0.3887872739543808,
          -0.04981835019742325,
          0.49369312086794365,
          1.6798331571822096,
          1.0567192540587917,
          0.47869354866514785,
          -1.24362767645016,
          0.3188194983492261,
          0.6847930611588089,
          0.357196047620388,
          -1.0419965151392447,
          0.2547774715058307,
          -0.29597959868541857,
          -0.6981530674093167,
          -0.07526311848588445,
          -0.18163384482479397,
          0.31075032419206056,
          -0.19408849419085747,
          1.5738822461027282,
          -0.08032086069342659,
          1.059622216455474,
          -1.320266007365862,
          1.8918701425077586,
          0.28571864790101287,
          1.8446892555185024,
          -1.045913687048723,
          -0.39532679311263735,
          -0.7580947693260994,
          -0.247466127162814,
          1.210722428462035,
          -1.4024327566377963,
          0.5632509162805431,
          -0.13694559351436295,
          -0.08578184302281991,
          0.7981344850479162,
          -1.7176037255632028,
          1.9520742819822292,
          -0.3330151467131199,
          0.027219819562331278
         ],
         "yaxis": "y13"
        },
        {
         "line": {
          "color": "rgba(128, 128, 128, 1.0)",
          "dash": "solid",
          "shape": "linear",
          "width": 1.3
         },
         "marker": {
          "size": 2,
          "symbol": "circle"
         },
         "mode": "markers",
         "name": "D",
         "text": "",
         "type": "scatter",
         "x": [
          -0.6810784119889212,
          -0.12672851621571565,
          -2.0807241915160843,
          2.1123832635269437,
          -0.037441185918270566,
          -0.8419160328363937,
          -0.965051019475013,
          0.8311693286344598,
          -0.12892638840714116,
          -0.3223623657442055,
          -0.2651621978066173,
          0.5751051482978644,
          -1.5954080823970926,
          0.35868808673820946,
          2.472151302817571,
          0.262160516152913,
          -0.34492136425427206,
          2.642740897818084,
          0.41347183169097945,
          1.4222362844595409,
          1.0478656163489362,
          -1.4989625631723997,
          -1.1573817060636589,
          -0.1902543592584037,
          -1.5924763685255088,
          -0.04356499912556374,
          -0.32646573064441586,
          1.4195081126291589,
          1.3506300184179498,
          -1.8861410729263206,
          0.6078372185494824,
          0.5896587847914512,
          -1.8647497848327925,
          0.16162438429861858,
          0.6426130692999505,
          1.7639945077246302,
          0.7761834037906911,
          0.421145954098237,
          0.1854040095139653,
          0.9429598683866964,
          -0.7099509267598096,
          -1.7564388380669502,
          1.3881239407102857,
          -1.3120206969144075,
          -1.2360995942787971,
          -0.10177615060000193,
          1.207999550088633,
          0.11356010121118484,
          -0.13811616381196112,
          1.3505494572062853,
          1.0177776805673846,
          -1.4837634818277279,
          -0.6319011207391553,
          0.20812478489292638,
          -0.08134859369177261,
          -0.7277076405660484,
          0.840470334848689,
          -1.7870213204890557,
          0.03588632950819402,
          -0.3733539244362292,
          0.43292408303107593,
          -0.5686082275326253,
          -0.6758945175654862,
          -0.6070459436824658,
          1.1050416756450765,
          -0.059510924986301804,
          0.8447858158747069,
          0.499972993569185,
          -0.13434501044250866,
          -1.8070564697994906,
          -1.714991039757765,
          -0.3751013035128291,
          1.0953223101313094,
          -1.4369805212753772,
          0.39107212877171116,
          -0.2516191386082863,
          0.22228696010046495,
          0.1725199646415227,
          -1.050096031944785,
          0.5061413187280068,
          -0.12351473087442927,
          -0.7146092641508545,
          0.4954838312980374,
          1.3551362084378633,
          0.9634550093677506,
          1.0479339303158377,
          1.059923568234994,
          -0.7117493946644667,
          -1.0699478167895864,
          -0.2362919262806339,
          1.403646945157495,
          0.28071705389078044,
          -0.15182662408610997,
          0.17489614347413823,
          -0.9742686872933056,
          0.1786922050680465,
          -0.6273672164757751,
          -0.4488967123079796,
          -1.4551355833120438,
          -1.0757746516273758
         ],
         "xaxis": "x14",
         "y": [
          0.49209094387433777,
          0.9062738969829228,
          0.17329610259510156,
          -0.10736420792233334,
          0.6105223392819806,
          -1.691053205670486,
          1.728568659259317,
          -1.2008015945078236,
          -1.9179174593378803,
          -0.3579727607746801,
          1.1705371096116617,
          0.47667608570186953,
          0.4776399709111016,
          -0.9461143733421219,
          -0.4131117792381057,
          -1.1115425891296822,
          1.2860346537356238,
          0.3271027808073432,
          0.5159953352965916,
          0.27729083117100445,
          0.7752711293926082,
          0.7312747438193341,
          1.2198693462173729,
          0.6601897806334215,
          -1.1484082051607591,
          -0.3601506624529033,
          0.21892965155005714,
          -0.7446991443981005,
          -1.6010064110796367,
          1.3027877160597294,
          2.637352783614263,
          -1.164496585131879,
          -0.7988405568663156,
          0.11240713416388613,
          1.048160908681509,
          0.5619149248158571,
          0.06147046441390483,
          -0.5124104027274924,
          1.0115304797672606,
          -1.0608392192028855,
          -0.1749354641614772,
          0.6544231807132385,
          -0.2380150085031945,
          -1.0382675925006104,
          -0.9786969318035704,
          0.9353387685518132,
          0.6186048691727825,
          -1.051367316882182,
          0.5481837683884434,
          1.0869489723875991,
          -0.8276597485186798,
          -1.1423774236881996,
          -0.5987684068731174,
          2.262905971559901,
          0.8269721442349901,
          -1.3517187768902508,
          0.3046845694376493,
          -1.5691671988994118,
          -1.6147450747653498,
          0.9385118541776004,
          1.3772116111856814,
          -0.3887872739543808,
          -0.04981835019742325,
          0.49369312086794365,
          1.6798331571822096,
          1.0567192540587917,
          0.47869354866514785,
          -1.24362767645016,
          0.3188194983492261,
          0.6847930611588089,
          0.357196047620388,
          -1.0419965151392447,
          0.2547774715058307,
          -0.29597959868541857,
          -0.6981530674093167,
          -0.07526311848588445,
          -0.18163384482479397,
          0.31075032419206056,
          -0.19408849419085747,
          1.5738822461027282,
          -0.08032086069342659,
          1.059622216455474,
          -1.320266007365862,
          1.8918701425077586,
          0.28571864790101287,
          1.8446892555185024,
          -1.045913687048723,
          -0.39532679311263735,
          -0.7580947693260994,
          -0.247466127162814,
          1.210722428462035,
          -1.4024327566377963,
          0.5632509162805431,
          -0.13694559351436295,
          -0.08578184302281991,
          0.7981344850479162,
          -1.7176037255632028,
          1.9520742819822292,
          -0.3330151467131199,
          0.027219819562331278
         ],
         "yaxis": "y14"
        },
        {
         "line": {
          "color": "rgba(128, 128, 128, 1.0)",
          "dash": "solid",
          "shape": "linear",
          "width": 1.3
         },
         "marker": {
          "size": 2,
          "symbol": "circle"
         },
         "mode": "markers",
         "name": "D",
         "text": "",
         "type": "scatter",
         "x": [
          -2.3073638620301433,
          -0.9962041490678315,
          1.3208116314786846,
          -0.025390771166009407,
          -0.9648363933317966,
          0.24326610193825265,
          0.7833001534921529,
          -0.8663752013312572,
          0.28426532861252757,
          1.8525904754774485,
          0.5164054496741013,
          1.2303099931032626,
          0.5360513363234279,
          0.7314049395469593,
          -0.05158527579854278,
          -0.5217391984873557,
          0.6011760081316192,
          0.09789419963031891,
          -0.4874882753947355,
          -0.2989607053704855,
          0.9383987116683369,
          -0.29624269819989724,
          -3.0132871456839267,
          -0.2600934938003665,
          -0.5169579690827044,
          -0.8119315582610903,
          -0.34731928941074086,
          -1.820136372657824,
          1.2256674920965915,
          -1.5566391864661864,
          -0.06809802410845756,
          -0.2871133753382355,
          0.9244116752222192,
          -0.6759585741687546,
          -0.6744735212611921,
          -1.6040426177574216,
          1.2850611144199247,
          0.8279989883462856,
          -0.2878489752861659,
          -0.23566306928665398,
          1.3076158299163698,
          -1.6401124481321587,
          0.546773763745836,
          0.2763863222089421,
          0.1382460666083625,
          0.34761977999188315,
          0.18678832068275122,
          -0.7826894546849915,
          -0.22804525413889637,
          -0.27774414758352944,
          -0.679220647452501,
          -0.5321792137613572,
          -1.1818314843254512,
          -0.24222642777041425,
          0.2594990627819901,
          1.6806485495058059,
          1.2494555826282385,
          1.7561180265516112,
          -0.18337912849127272,
          0.1986178157101335,
          1.1144016939165797,
          -1.1232355481853946,
          0.3312435482633644,
          -0.5356280710427399,
          -0.3475497394030127,
          1.3188617574462058,
          -0.03536711573532913,
          0.8809219197152772,
          0.0944716655023659,
          0.4550279458603338,
          1.8136067916398246,
          -0.18360533019846725,
          -0.23021685288304736,
          0.3406496620591469,
          1.4145557922085121,
          0.5315204905167306,
          -1.640263959883622,
          -1.0955524713900873,
          -1.4774176081870156,
          -0.33843055481629236,
          0.07218683504377033,
          -1.3554867431755546,
          -0.24673020354673178,
          -1.826836764908707,
          -0.5894495017125044,
          -1.5883001645521029,
          1.9347900221285799,
          0.9264335949306093,
          -0.19619855277123432,
          1.311730305133455,
          -0.005833191408164211,
          -0.15789828864743358,
          0.1270696407524092,
          1.6577163232652115,
          -0.05443421620407633,
          1.2837041675848508,
          0.5593938838023739,
          -1.5122145518614358,
          -1.3051058219297798,
          -0.09372562766382454
         ],
         "xaxis": "x15",
         "y": [
          0.49209094387433777,
          0.9062738969829228,
          0.17329610259510156,
          -0.10736420792233334,
          0.6105223392819806,
          -1.691053205670486,
          1.728568659259317,
          -1.2008015945078236,
          -1.9179174593378803,
          -0.3579727607746801,
          1.1705371096116617,
          0.47667608570186953,
          0.4776399709111016,
          -0.9461143733421219,
          -0.4131117792381057,
          -1.1115425891296822,
          1.2860346537356238,
          0.3271027808073432,
          0.5159953352965916,
          0.27729083117100445,
          0.7752711293926082,
          0.7312747438193341,
          1.2198693462173729,
          0.6601897806334215,
          -1.1484082051607591,
          -0.3601506624529033,
          0.21892965155005714,
          -0.7446991443981005,
          -1.6010064110796367,
          1.3027877160597294,
          2.637352783614263,
          -1.164496585131879,
          -0.7988405568663156,
          0.11240713416388613,
          1.048160908681509,
          0.5619149248158571,
          0.06147046441390483,
          -0.5124104027274924,
          1.0115304797672606,
          -1.0608392192028855,
          -0.1749354641614772,
          0.6544231807132385,
          -0.2380150085031945,
          -1.0382675925006104,
          -0.9786969318035704,
          0.9353387685518132,
          0.6186048691727825,
          -1.051367316882182,
          0.5481837683884434,
          1.0869489723875991,
          -0.8276597485186798,
          -1.1423774236881996,
          -0.5987684068731174,
          2.262905971559901,
          0.8269721442349901,
          -1.3517187768902508,
          0.3046845694376493,
          -1.5691671988994118,
          -1.6147450747653498,
          0.9385118541776004,
          1.3772116111856814,
          -0.3887872739543808,
          -0.04981835019742325,
          0.49369312086794365,
          1.6798331571822096,
          1.0567192540587917,
          0.47869354866514785,
          -1.24362767645016,
          0.3188194983492261,
          0.6847930611588089,
          0.357196047620388,
          -1.0419965151392447,
          0.2547774715058307,
          -0.29597959868541857,
          -0.6981530674093167,
          -0.07526311848588445,
          -0.18163384482479397,
          0.31075032419206056,
          -0.19408849419085747,
          1.5738822461027282,
          -0.08032086069342659,
          1.059622216455474,
          -1.320266007365862,
          1.8918701425077586,
          0.28571864790101287,
          1.8446892555185024,
          -1.045913687048723,
          -0.39532679311263735,
          -0.7580947693260994,
          -0.247466127162814,
          1.210722428462035,
          -1.4024327566377963,
          0.5632509162805431,
          -0.13694559351436295,
          -0.08578184302281991,
          0.7981344850479162,
          -1.7176037255632028,
          1.9520742819822292,
          -0.3330151467131199,
          0.027219819562331278
         ],
         "yaxis": "y15"
        },
        {
         "histfunc": "count",
         "histnorm": "",
         "marker": {
          "color": "rgba(128, 0, 128, 1.0)",
          "line": {
           "color": "#4D5663",
           "width": 1.3
          }
         },
         "name": "D",
         "nbinsx": 10,
         "opacity": 0.8,
         "orientation": "v",
         "type": "histogram",
         "x": [
          0.49209094387433777,
          0.9062738969829228,
          0.17329610259510156,
          -0.10736420792233334,
          0.6105223392819806,
          -1.691053205670486,
          1.728568659259317,
          -1.2008015945078236,
          -1.9179174593378803,
          -0.3579727607746801,
          1.1705371096116617,
          0.47667608570186953,
          0.4776399709111016,
          -0.9461143733421219,
          -0.4131117792381057,
          -1.1115425891296822,
          1.2860346537356238,
          0.3271027808073432,
          0.5159953352965916,
          0.27729083117100445,
          0.7752711293926082,
          0.7312747438193341,
          1.2198693462173729,
          0.6601897806334215,
          -1.1484082051607591,
          -0.3601506624529033,
          0.21892965155005714,
          -0.7446991443981005,
          -1.6010064110796367,
          1.3027877160597294,
          2.637352783614263,
          -1.164496585131879,
          -0.7988405568663156,
          0.11240713416388613,
          1.048160908681509,
          0.5619149248158571,
          0.06147046441390483,
          -0.5124104027274924,
          1.0115304797672606,
          -1.0608392192028855,
          -0.1749354641614772,
          0.6544231807132385,
          -0.2380150085031945,
          -1.0382675925006104,
          -0.9786969318035704,
          0.9353387685518132,
          0.6186048691727825,
          -1.051367316882182,
          0.5481837683884434,
          1.0869489723875991,
          -0.8276597485186798,
          -1.1423774236881996,
          -0.5987684068731174,
          2.262905971559901,
          0.8269721442349901,
          -1.3517187768902508,
          0.3046845694376493,
          -1.5691671988994118,
          -1.6147450747653498,
          0.9385118541776004,
          1.3772116111856814,
          -0.3887872739543808,
          -0.04981835019742325,
          0.49369312086794365,
          1.6798331571822096,
          1.0567192540587917,
          0.47869354866514785,
          -1.24362767645016,
          0.3188194983492261,
          0.6847930611588089,
          0.357196047620388,
          -1.0419965151392447,
          0.2547774715058307,
          -0.29597959868541857,
          -0.6981530674093167,
          -0.07526311848588445,
          -0.18163384482479397,
          0.31075032419206056,
          -0.19408849419085747,
          1.5738822461027282,
          -0.08032086069342659,
          1.059622216455474,
          -1.320266007365862,
          1.8918701425077586,
          0.28571864790101287,
          1.8446892555185024,
          -1.045913687048723,
          -0.39532679311263735,
          -0.7580947693260994,
          -0.247466127162814,
          1.210722428462035,
          -1.4024327566377963,
          0.5632509162805431,
          -0.13694559351436295,
          -0.08578184302281991,
          0.7981344850479162,
          -1.7176037255632028,
          1.9520742819822292,
          -0.3330151467131199,
          0.027219819562331278
         ],
         "xaxis": "x16",
         "yaxis": "y16"
        }
       ],
       "layout": {
        "bargap": 0.02,
        "legend": {
         "bgcolor": "#F5F6F9",
         "font": {
          "color": "#4D5663"
         }
        },
        "paper_bgcolor": "#F5F6F9",
        "plot_bgcolor": "#F5F6F9",
        "showlegend": false,
        "template": {
         "data": {
          "bar": [
           {
            "error_x": {
             "color": "#2a3f5f"
            },
            "error_y": {
             "color": "#2a3f5f"
            },
            "marker": {
             "line": {
              "color": "#E5ECF6",
              "width": 0.5
             }
            },
            "type": "bar"
           }
          ],
          "barpolar": [
           {
            "marker": {
             "line": {
              "color": "#E5ECF6",
              "width": 0.5
             }
            },
            "type": "barpolar"
           }
          ],
          "carpet": [
           {
            "aaxis": {
             "endlinecolor": "#2a3f5f",
             "gridcolor": "white",
             "linecolor": "white",
             "minorgridcolor": "white",
             "startlinecolor": "#2a3f5f"
            },
            "baxis": {
             "endlinecolor": "#2a3f5f",
             "gridcolor": "white",
             "linecolor": "white",
             "minorgridcolor": "white",
             "startlinecolor": "#2a3f5f"
            },
            "type": "carpet"
           }
          ],
          "choropleth": [
           {
            "colorbar": {
             "outlinewidth": 0,
             "ticks": ""
            },
            "type": "choropleth"
           }
          ],
          "contour": [
           {
            "colorbar": {
             "outlinewidth": 0,
             "ticks": ""
            },
            "colorscale": [
             [
              0,
              "#0d0887"
             ],
             [
              0.1111111111111111,
              "#46039f"
             ],
             [
              0.2222222222222222,
              "#7201a8"
             ],
             [
              0.3333333333333333,
              "#9c179e"
             ],
             [
              0.4444444444444444,
              "#bd3786"
             ],
             [
              0.5555555555555556,
              "#d8576b"
             ],
             [
              0.6666666666666666,
              "#ed7953"
             ],
             [
              0.7777777777777778,
              "#fb9f3a"
             ],
             [
              0.8888888888888888,
              "#fdca26"
             ],
             [
              1,
              "#f0f921"
             ]
            ],
            "type": "contour"
           }
          ],
          "contourcarpet": [
           {
            "colorbar": {
             "outlinewidth": 0,
             "ticks": ""
            },
            "type": "contourcarpet"
           }
          ],
          "heatmap": [
           {
            "colorbar": {
             "outlinewidth": 0,
             "ticks": ""
            },
            "colorscale": [
             [
              0,
              "#0d0887"
             ],
             [
              0.1111111111111111,
              "#46039f"
             ],
             [
              0.2222222222222222,
              "#7201a8"
             ],
             [
              0.3333333333333333,
              "#9c179e"
             ],
             [
              0.4444444444444444,
              "#bd3786"
             ],
             [
              0.5555555555555556,
              "#d8576b"
             ],
             [
              0.6666666666666666,
              "#ed7953"
             ],
             [
              0.7777777777777778,
              "#fb9f3a"
             ],
             [
              0.8888888888888888,
              "#fdca26"
             ],
             [
              1,
              "#f0f921"
             ]
            ],
            "type": "heatmap"
           }
          ],
          "heatmapgl": [
           {
            "colorbar": {
             "outlinewidth": 0,
             "ticks": ""
            },
            "colorscale": [
             [
              0,
              "#0d0887"
             ],
             [
              0.1111111111111111,
              "#46039f"
             ],
             [
              0.2222222222222222,
              "#7201a8"
             ],
             [
              0.3333333333333333,
              "#9c179e"
             ],
             [
              0.4444444444444444,
              "#bd3786"
             ],
             [
              0.5555555555555556,
              "#d8576b"
             ],
             [
              0.6666666666666666,
              "#ed7953"
             ],
             [
              0.7777777777777778,
              "#fb9f3a"
             ],
             [
              0.8888888888888888,
              "#fdca26"
             ],
             [
              1,
              "#f0f921"
             ]
            ],
            "type": "heatmapgl"
           }
          ],
          "histogram": [
           {
            "marker": {
             "colorbar": {
              "outlinewidth": 0,
              "ticks": ""
             }
            },
            "type": "histogram"
           }
          ],
          "histogram2d": [
           {
            "colorbar": {
             "outlinewidth": 0,
             "ticks": ""
            },
            "colorscale": [
             [
              0,
              "#0d0887"
             ],
             [
              0.1111111111111111,
              "#46039f"
             ],
             [
              0.2222222222222222,
              "#7201a8"
             ],
             [
              0.3333333333333333,
              "#9c179e"
             ],
             [
              0.4444444444444444,
              "#bd3786"
             ],
             [
              0.5555555555555556,
              "#d8576b"
             ],
             [
              0.6666666666666666,
              "#ed7953"
             ],
             [
              0.7777777777777778,
              "#fb9f3a"
             ],
             [
              0.8888888888888888,
              "#fdca26"
             ],
             [
              1,
              "#f0f921"
             ]
            ],
            "type": "histogram2d"
           }
          ],
          "histogram2dcontour": [
           {
            "colorbar": {
             "outlinewidth": 0,
             "ticks": ""
            },
            "colorscale": [
             [
              0,
              "#0d0887"
             ],
             [
              0.1111111111111111,
              "#46039f"
             ],
             [
              0.2222222222222222,
              "#7201a8"
             ],
             [
              0.3333333333333333,
              "#9c179e"
             ],
             [
              0.4444444444444444,
              "#bd3786"
             ],
             [
              0.5555555555555556,
              "#d8576b"
             ],
             [
              0.6666666666666666,
              "#ed7953"
             ],
             [
              0.7777777777777778,
              "#fb9f3a"
             ],
             [
              0.8888888888888888,
              "#fdca26"
             ],
             [
              1,
              "#f0f921"
             ]
            ],
            "type": "histogram2dcontour"
           }
          ],
          "mesh3d": [
           {
            "colorbar": {
             "outlinewidth": 0,
             "ticks": ""
            },
            "type": "mesh3d"
           }
          ],
          "parcoords": [
           {
            "line": {
             "colorbar": {
              "outlinewidth": 0,
              "ticks": ""
             }
            },
            "type": "parcoords"
           }
          ],
          "pie": [
           {
            "automargin": true,
            "type": "pie"
           }
          ],
          "scatter": [
           {
            "marker": {
             "colorbar": {
              "outlinewidth": 0,
              "ticks": ""
             }
            },
            "type": "scatter"
           }
          ],
          "scatter3d": [
           {
            "line": {
             "colorbar": {
              "outlinewidth": 0,
              "ticks": ""
             }
            },
            "marker": {
             "colorbar": {
              "outlinewidth": 0,
              "ticks": ""
             }
            },
            "type": "scatter3d"
           }
          ],
          "scattercarpet": [
           {
            "marker": {
             "colorbar": {
              "outlinewidth": 0,
              "ticks": ""
             }
            },
            "type": "scattercarpet"
           }
          ],
          "scattergeo": [
           {
            "marker": {
             "colorbar": {
              "outlinewidth": 0,
              "ticks": ""
             }
            },
            "type": "scattergeo"
           }
          ],
          "scattergl": [
           {
            "marker": {
             "colorbar": {
              "outlinewidth": 0,
              "ticks": ""
             }
            },
            "type": "scattergl"
           }
          ],
          "scattermapbox": [
           {
            "marker": {
             "colorbar": {
              "outlinewidth": 0,
              "ticks": ""
             }
            },
            "type": "scattermapbox"
           }
          ],
          "scatterpolar": [
           {
            "marker": {
             "colorbar": {
              "outlinewidth": 0,
              "ticks": ""
             }
            },
            "type": "scatterpolar"
           }
          ],
          "scatterpolargl": [
           {
            "marker": {
             "colorbar": {
              "outlinewidth": 0,
              "ticks": ""
             }
            },
            "type": "scatterpolargl"
           }
          ],
          "scatterternary": [
           {
            "marker": {
             "colorbar": {
              "outlinewidth": 0,
              "ticks": ""
             }
            },
            "type": "scatterternary"
           }
          ],
          "surface": [
           {
            "colorbar": {
             "outlinewidth": 0,
             "ticks": ""
            },
            "colorscale": [
             [
              0,
              "#0d0887"
             ],
             [
              0.1111111111111111,
              "#46039f"
             ],
             [
              0.2222222222222222,
              "#7201a8"
             ],
             [
              0.3333333333333333,
              "#9c179e"
             ],
             [
              0.4444444444444444,
              "#bd3786"
             ],
             [
              0.5555555555555556,
              "#d8576b"
             ],
             [
              0.6666666666666666,
              "#ed7953"
             ],
             [
              0.7777777777777778,
              "#fb9f3a"
             ],
             [
              0.8888888888888888,
              "#fdca26"
             ],
             [
              1,
              "#f0f921"
             ]
            ],
            "type": "surface"
           }
          ],
          "table": [
           {
            "cells": {
             "fill": {
              "color": "#EBF0F8"
             },
             "line": {
              "color": "white"
             }
            },
            "header": {
             "fill": {
              "color": "#C8D4E3"
             },
             "line": {
              "color": "white"
             }
            },
            "type": "table"
           }
          ]
         },
         "layout": {
          "annotationdefaults": {
           "arrowcolor": "#2a3f5f",
           "arrowhead": 0,
           "arrowwidth": 1
          },
          "coloraxis": {
           "colorbar": {
            "outlinewidth": 0,
            "ticks": ""
           }
          },
          "colorscale": {
           "diverging": [
            [
             0,
             "#8e0152"
            ],
            [
             0.1,
             "#c51b7d"
            ],
            [
             0.2,
             "#de77ae"
            ],
            [
             0.3,
             "#f1b6da"
            ],
            [
             0.4,
             "#fde0ef"
            ],
            [
             0.5,
             "#f7f7f7"
            ],
            [
             0.6,
             "#e6f5d0"
            ],
            [
             0.7,
             "#b8e186"
            ],
            [
             0.8,
             "#7fbc41"
            ],
            [
             0.9,
             "#4d9221"
            ],
            [
             1,
             "#276419"
            ]
           ],
           "sequential": [
            [
             0,
             "#0d0887"
            ],
            [
             0.1111111111111111,
             "#46039f"
            ],
            [
             0.2222222222222222,
             "#7201a8"
            ],
            [
             0.3333333333333333,
             "#9c179e"
            ],
            [
             0.4444444444444444,
             "#bd3786"
            ],
            [
             0.5555555555555556,
             "#d8576b"
            ],
            [
             0.6666666666666666,
             "#ed7953"
            ],
            [
             0.7777777777777778,
             "#fb9f3a"
            ],
            [
             0.8888888888888888,
             "#fdca26"
            ],
            [
             1,
             "#f0f921"
            ]
           ],
           "sequentialminus": [
            [
             0,
             "#0d0887"
            ],
            [
             0.1111111111111111,
             "#46039f"
            ],
            [
             0.2222222222222222,
             "#7201a8"
            ],
            [
             0.3333333333333333,
             "#9c179e"
            ],
            [
             0.4444444444444444,
             "#bd3786"
            ],
            [
             0.5555555555555556,
             "#d8576b"
            ],
            [
             0.6666666666666666,
             "#ed7953"
            ],
            [
             0.7777777777777778,
             "#fb9f3a"
            ],
            [
             0.8888888888888888,
             "#fdca26"
            ],
            [
             1,
             "#f0f921"
            ]
           ]
          },
          "colorway": [
           "#636efa",
           "#EF553B",
           "#00cc96",
           "#ab63fa",
           "#FFA15A",
           "#19d3f3",
           "#FF6692",
           "#B6E880",
           "#FF97FF",
           "#FECB52"
          ],
          "font": {
           "color": "#2a3f5f"
          },
          "geo": {
           "bgcolor": "white",
           "lakecolor": "white",
           "landcolor": "#E5ECF6",
           "showlakes": true,
           "showland": true,
           "subunitcolor": "white"
          },
          "hoverlabel": {
           "align": "left"
          },
          "hovermode": "closest",
          "mapbox": {
           "style": "light"
          },
          "paper_bgcolor": "white",
          "plot_bgcolor": "#E5ECF6",
          "polar": {
           "angularaxis": {
            "gridcolor": "white",
            "linecolor": "white",
            "ticks": ""
           },
           "bgcolor": "#E5ECF6",
           "radialaxis": {
            "gridcolor": "white",
            "linecolor": "white",
            "ticks": ""
           }
          },
          "scene": {
           "xaxis": {
            "backgroundcolor": "#E5ECF6",
            "gridcolor": "white",
            "gridwidth": 2,
            "linecolor": "white",
            "showbackground": true,
            "ticks": "",
            "zerolinecolor": "white"
           },
           "yaxis": {
            "backgroundcolor": "#E5ECF6",
            "gridcolor": "white",
            "gridwidth": 2,
            "linecolor": "white",
            "showbackground": true,
            "ticks": "",
            "zerolinecolor": "white"
           },
           "zaxis": {
            "backgroundcolor": "#E5ECF6",
            "gridcolor": "white",
            "gridwidth": 2,
            "linecolor": "white",
            "showbackground": true,
            "ticks": "",
            "zerolinecolor": "white"
           }
          },
          "shapedefaults": {
           "line": {
            "color": "#2a3f5f"
           }
          },
          "ternary": {
           "aaxis": {
            "gridcolor": "white",
            "linecolor": "white",
            "ticks": ""
           },
           "baxis": {
            "gridcolor": "white",
            "linecolor": "white",
            "ticks": ""
           },
           "bgcolor": "#E5ECF6",
           "caxis": {
            "gridcolor": "white",
            "linecolor": "white",
            "ticks": ""
           }
          },
          "title": {
           "x": 0.05
          },
          "xaxis": {
           "automargin": true,
           "gridcolor": "white",
           "linecolor": "white",
           "ticks": "",
           "title": {
            "standoff": 15
           },
           "zerolinecolor": "white",
           "zerolinewidth": 2
          },
          "yaxis": {
           "automargin": true,
           "gridcolor": "white",
           "linecolor": "white",
           "ticks": "",
           "title": {
            "standoff": 15
           },
           "zerolinecolor": "white",
           "zerolinewidth": 2
          }
         }
        },
        "title": {
         "font": {
          "color": "#4D5663"
         }
        },
        "xaxis": {
         "anchor": "y",
         "domain": [
          0,
          0.2125
         ],
         "gridcolor": "#E1E5ED",
         "showgrid": false,
         "tickfont": {
          "color": "#4D5663"
         },
         "title": {
          "font": {
           "color": "#4D5663"
          },
          "text": ""
         },
         "zerolinecolor": "#E1E5ED"
        },
        "xaxis10": {
         "anchor": "y10",
         "domain": [
          0.2625,
          0.475
         ],
         "gridcolor": "#E1E5ED",
         "showgrid": false,
         "tickfont": {
          "color": "#4D5663"
         },
         "title": {
          "font": {
           "color": "#4D5663"
          },
          "text": ""
         },
         "zerolinecolor": "#E1E5ED"
        },
        "xaxis11": {
         "anchor": "y11",
         "domain": [
          0.525,
          0.7375
         ],
         "gridcolor": "#E1E5ED",
         "showgrid": false,
         "tickfont": {
          "color": "#4D5663"
         },
         "title": {
          "font": {
           "color": "#4D5663"
          },
          "text": ""
         },
         "zerolinecolor": "#E1E5ED"
        },
        "xaxis12": {
         "anchor": "y12",
         "domain": [
          0.7875,
          1
         ],
         "gridcolor": "#E1E5ED",
         "showgrid": false,
         "tickfont": {
          "color": "#4D5663"
         },
         "title": {
          "font": {
           "color": "#4D5663"
          },
          "text": ""
         },
         "zerolinecolor": "#E1E5ED"
        },
        "xaxis13": {
         "anchor": "y13",
         "domain": [
          0,
          0.2125
         ],
         "gridcolor": "#E1E5ED",
         "showgrid": false,
         "tickfont": {
          "color": "#4D5663"
         },
         "title": {
          "font": {
           "color": "#4D5663"
          },
          "text": ""
         },
         "zerolinecolor": "#E1E5ED"
        },
        "xaxis14": {
         "anchor": "y14",
         "domain": [
          0.2625,
          0.475
         ],
         "gridcolor": "#E1E5ED",
         "showgrid": false,
         "tickfont": {
          "color": "#4D5663"
         },
         "title": {
          "font": {
           "color": "#4D5663"
          },
          "text": ""
         },
         "zerolinecolor": "#E1E5ED"
        },
        "xaxis15": {
         "anchor": "y15",
         "domain": [
          0.525,
          0.7375
         ],
         "gridcolor": "#E1E5ED",
         "showgrid": false,
         "tickfont": {
          "color": "#4D5663"
         },
         "title": {
          "font": {
           "color": "#4D5663"
          },
          "text": ""
         },
         "zerolinecolor": "#E1E5ED"
        },
        "xaxis16": {
         "anchor": "y16",
         "domain": [
          0.7875,
          1
         ],
         "gridcolor": "#E1E5ED",
         "showgrid": false,
         "tickfont": {
          "color": "#4D5663"
         },
         "title": {
          "font": {
           "color": "#4D5663"
          },
          "text": ""
         },
         "zerolinecolor": "#E1E5ED"
        },
        "xaxis2": {
         "anchor": "y2",
         "domain": [
          0.2625,
          0.475
         ],
         "gridcolor": "#E1E5ED",
         "showgrid": false,
         "tickfont": {
          "color": "#4D5663"
         },
         "title": {
          "font": {
           "color": "#4D5663"
          },
          "text": ""
         },
         "zerolinecolor": "#E1E5ED"
        },
        "xaxis3": {
         "anchor": "y3",
         "domain": [
          0.525,
          0.7375
         ],
         "gridcolor": "#E1E5ED",
         "showgrid": false,
         "tickfont": {
          "color": "#4D5663"
         },
         "title": {
          "font": {
           "color": "#4D5663"
          },
          "text": ""
         },
         "zerolinecolor": "#E1E5ED"
        },
        "xaxis4": {
         "anchor": "y4",
         "domain": [
          0.7875,
          1
         ],
         "gridcolor": "#E1E5ED",
         "showgrid": false,
         "tickfont": {
          "color": "#4D5663"
         },
         "title": {
          "font": {
           "color": "#4D5663"
          },
          "text": ""
         },
         "zerolinecolor": "#E1E5ED"
        },
        "xaxis5": {
         "anchor": "y5",
         "domain": [
          0,
          0.2125
         ],
         "gridcolor": "#E1E5ED",
         "showgrid": false,
         "tickfont": {
          "color": "#4D5663"
         },
         "title": {
          "font": {
           "color": "#4D5663"
          },
          "text": ""
         },
         "zerolinecolor": "#E1E5ED"
        },
        "xaxis6": {
         "anchor": "y6",
         "domain": [
          0.2625,
          0.475
         ],
         "gridcolor": "#E1E5ED",
         "showgrid": false,
         "tickfont": {
          "color": "#4D5663"
         },
         "title": {
          "font": {
           "color": "#4D5663"
          },
          "text": ""
         },
         "zerolinecolor": "#E1E5ED"
        },
        "xaxis7": {
         "anchor": "y7",
         "domain": [
          0.525,
          0.7375
         ],
         "gridcolor": "#E1E5ED",
         "showgrid": false,
         "tickfont": {
          "color": "#4D5663"
         },
         "title": {
          "font": {
           "color": "#4D5663"
          },
          "text": ""
         },
         "zerolinecolor": "#E1E5ED"
        },
        "xaxis8": {
         "anchor": "y8",
         "domain": [
          0.7875,
          1
         ],
         "gridcolor": "#E1E5ED",
         "showgrid": false,
         "tickfont": {
          "color": "#4D5663"
         },
         "title": {
          "font": {
           "color": "#4D5663"
          },
          "text": ""
         },
         "zerolinecolor": "#E1E5ED"
        },
        "xaxis9": {
         "anchor": "y9",
         "domain": [
          0,
          0.2125
         ],
         "gridcolor": "#E1E5ED",
         "showgrid": false,
         "tickfont": {
          "color": "#4D5663"
         },
         "title": {
          "font": {
           "color": "#4D5663"
          },
          "text": ""
         },
         "zerolinecolor": "#E1E5ED"
        },
        "yaxis": {
         "anchor": "x",
         "domain": [
          0.8025,
          1
         ],
         "gridcolor": "#E1E5ED",
         "showgrid": false,
         "tickfont": {
          "color": "#4D5663"
         },
         "title": {
          "font": {
           "color": "#4D5663"
          },
          "text": ""
         },
         "zerolinecolor": "#E1E5ED"
        },
        "yaxis10": {
         "anchor": "x10",
         "domain": [
          0.2675,
          0.465
         ],
         "gridcolor": "#E1E5ED",
         "showgrid": false,
         "tickfont": {
          "color": "#4D5663"
         },
         "title": {
          "font": {
           "color": "#4D5663"
          },
          "text": ""
         },
         "zerolinecolor": "#E1E5ED"
        },
        "yaxis11": {
         "anchor": "x11",
         "domain": [
          0.2675,
          0.465
         ],
         "gridcolor": "#E1E5ED",
         "showgrid": false,
         "tickfont": {
          "color": "#4D5663"
         },
         "title": {
          "font": {
           "color": "#4D5663"
          },
          "text": ""
         },
         "zerolinecolor": "#E1E5ED"
        },
        "yaxis12": {
         "anchor": "x12",
         "domain": [
          0.2675,
          0.465
         ],
         "gridcolor": "#E1E5ED",
         "showgrid": false,
         "tickfont": {
          "color": "#4D5663"
         },
         "title": {
          "font": {
           "color": "#4D5663"
          },
          "text": ""
         },
         "zerolinecolor": "#E1E5ED"
        },
        "yaxis13": {
         "anchor": "x13",
         "domain": [
          0,
          0.1975
         ],
         "gridcolor": "#E1E5ED",
         "showgrid": false,
         "tickfont": {
          "color": "#4D5663"
         },
         "title": {
          "font": {
           "color": "#4D5663"
          },
          "text": ""
         },
         "zerolinecolor": "#E1E5ED"
        },
        "yaxis14": {
         "anchor": "x14",
         "domain": [
          0,
          0.1975
         ],
         "gridcolor": "#E1E5ED",
         "showgrid": false,
         "tickfont": {
          "color": "#4D5663"
         },
         "title": {
          "font": {
           "color": "#4D5663"
          },
          "text": ""
         },
         "zerolinecolor": "#E1E5ED"
        },
        "yaxis15": {
         "anchor": "x15",
         "domain": [
          0,
          0.1975
         ],
         "gridcolor": "#E1E5ED",
         "showgrid": false,
         "tickfont": {
          "color": "#4D5663"
         },
         "title": {
          "font": {
           "color": "#4D5663"
          },
          "text": ""
         },
         "zerolinecolor": "#E1E5ED"
        },
        "yaxis16": {
         "anchor": "x16",
         "domain": [
          0,
          0.1975
         ],
         "gridcolor": "#E1E5ED",
         "showgrid": false,
         "tickfont": {
          "color": "#4D5663"
         },
         "title": {
          "font": {
           "color": "#4D5663"
          },
          "text": ""
         },
         "zerolinecolor": "#E1E5ED"
        },
        "yaxis2": {
         "anchor": "x2",
         "domain": [
          0.8025,
          1
         ],
         "gridcolor": "#E1E5ED",
         "showgrid": false,
         "tickfont": {
          "color": "#4D5663"
         },
         "title": {
          "font": {
           "color": "#4D5663"
          },
          "text": ""
         },
         "zerolinecolor": "#E1E5ED"
        },
        "yaxis3": {
         "anchor": "x3",
         "domain": [
          0.8025,
          1
         ],
         "gridcolor": "#E1E5ED",
         "showgrid": false,
         "tickfont": {
          "color": "#4D5663"
         },
         "title": {
          "font": {
           "color": "#4D5663"
          },
          "text": ""
         },
         "zerolinecolor": "#E1E5ED"
        },
        "yaxis4": {
         "anchor": "x4",
         "domain": [
          0.8025,
          1
         ],
         "gridcolor": "#E1E5ED",
         "showgrid": false,
         "tickfont": {
          "color": "#4D5663"
         },
         "title": {
          "font": {
           "color": "#4D5663"
          },
          "text": ""
         },
         "zerolinecolor": "#E1E5ED"
        },
        "yaxis5": {
         "anchor": "x5",
         "domain": [
          0.535,
          0.7325
         ],
         "gridcolor": "#E1E5ED",
         "showgrid": false,
         "tickfont": {
          "color": "#4D5663"
         },
         "title": {
          "font": {
           "color": "#4D5663"
          },
          "text": ""
         },
         "zerolinecolor": "#E1E5ED"
        },
        "yaxis6": {
         "anchor": "x6",
         "domain": [
          0.535,
          0.7325
         ],
         "gridcolor": "#E1E5ED",
         "showgrid": false,
         "tickfont": {
          "color": "#4D5663"
         },
         "title": {
          "font": {
           "color": "#4D5663"
          },
          "text": ""
         },
         "zerolinecolor": "#E1E5ED"
        },
        "yaxis7": {
         "anchor": "x7",
         "domain": [
          0.535,
          0.7325
         ],
         "gridcolor": "#E1E5ED",
         "showgrid": false,
         "tickfont": {
          "color": "#4D5663"
         },
         "title": {
          "font": {
           "color": "#4D5663"
          },
          "text": ""
         },
         "zerolinecolor": "#E1E5ED"
        },
        "yaxis8": {
         "anchor": "x8",
         "domain": [
          0.535,
          0.7325
         ],
         "gridcolor": "#E1E5ED",
         "showgrid": false,
         "tickfont": {
          "color": "#4D5663"
         },
         "title": {
          "font": {
           "color": "#4D5663"
          },
          "text": ""
         },
         "zerolinecolor": "#E1E5ED"
        },
        "yaxis9": {
         "anchor": "x9",
         "domain": [
          0.2675,
          0.465
         ],
         "gridcolor": "#E1E5ED",
         "showgrid": false,
         "tickfont": {
          "color": "#4D5663"
         },
         "title": {
          "font": {
           "color": "#4D5663"
          },
          "text": ""
         },
         "zerolinecolor": "#E1E5ED"
        }
       }
      },
      "text/html": [
       "<div>\n",
       "        \n",
       "        \n",
       "            <div id=\"4976d680-c94e-41d4-8bc3-afa2414c3460\" class=\"plotly-graph-div\" style=\"height:525px; width:100%;\"></div>\n",
       "            <script type=\"text/javascript\">\n",
       "                require([\"plotly\"], function(Plotly) {\n",
       "                    window.PLOTLYENV=window.PLOTLYENV || {};\n",
       "                    window.PLOTLYENV.BASE_URL='https://plot.ly';\n",
       "                    \n",
       "                if (document.getElementById(\"4976d680-c94e-41d4-8bc3-afa2414c3460\")) {\n",
       "                    Plotly.newPlot(\n",
       "                        '4976d680-c94e-41d4-8bc3-afa2414c3460',\n",
       "                        [{\"histfunc\": \"count\", \"histnorm\": \"\", \"marker\": {\"color\": \"rgba(255, 153, 51, 1.0)\", \"line\": {\"color\": \"#4D5663\", \"width\": 1.3}}, \"name\": \"A\", \"nbinsx\": 10, \"opacity\": 0.8, \"orientation\": \"v\", \"type\": \"histogram\", \"x\": [-0.6680661855631249, 0.1949766871965313, 0.03297058007779891, -0.6990703851144047, -1.1904809035565296, -0.9978851799370811, -1.8582319261511087, -0.5267661337775508, -1.5686461478635814, -1.0627343935664582, 0.9661118140498371, 0.565313506626537, -1.4206021024681288, 0.6560188287072177, 0.5342773017547415, 0.4439743344940591, 0.6052930388775157, 0.7164107464286641, 0.9375280230990192, -0.8939516328602036, 0.4924348203413822, -2.1780131590071496, -0.5438072379862946, -0.9334923463833898, 0.6713486104662258, -0.7065440484824034, -1.3874324539214875, -0.8896410077863353, -0.07984657932136635, -0.12572505592806968, 0.8137383767766075, -1.858491455192245, -0.3724586312111986, 2.402354817353567, 1.0410195382811984, -1.5139559628272126, 0.8076529167916344, -0.3035271559810558, 2.4116330281807286, 2.1223346600953814, 0.16436122619428503, -0.46652198272400175, 0.24256961333364677, 0.2863986325603095, -3.099977310251452, 0.3417341517045552, -1.229051663697874, -0.0825055265741576, 0.5643689745296832, 0.2643607398377007, 0.8404584998456432, -0.9599932628266316, 0.9620952929558358, 2.1487719813839155, 0.8702399277132442, -0.6786256915599027, -0.551562117174487, -0.7569418009249309, -0.7578840771473123, -0.7979818046465237, 1.7875060506298361, -1.1376330255000242, -1.7296967915248824, 1.0120261071074859, 0.07626292262330708, -0.5161229432965986, -1.9828965516645491, 1.2236247293138747, -1.4987687258773836, 0.728921907199498, -1.0224292690506944, 0.7636030501956129, -1.4035448034462434, 0.8741822629080838, -1.575143589119851, 0.5783812385108045, -0.9559912307275771, -0.06416912485000843, 1.5340650493135644, 1.0625590148885438, 0.8926470152500349, -0.10936690562114973, -0.24245197468062515, 1.5191649065321466, 0.736591302550211, 0.3806355692794749, -0.19094272495077746, -0.4809111086547659, -1.3393209311998107, 0.3444845242142359, -0.308530466508197, 0.5971519605520483, -0.2961393984777049, 2.0527924932523907, -0.42898583486115943, 0.7361587789620776, -0.6655264065881279, 0.4869596491478256, -0.42392394888161156, 0.0960209955254644], \"xaxis\": \"x\", \"yaxis\": \"y\"}, {\"line\": {\"color\": \"rgba(128, 128, 128, 1.0)\", \"dash\": \"solid\", \"shape\": \"linear\", \"width\": 1.3}, \"marker\": {\"size\": 2, \"symbol\": \"circle\"}, \"mode\": \"markers\", \"name\": \"A\", \"text\": \"\", \"type\": \"scatter\", \"x\": [-0.6810784119889212, -0.12672851621571565, -2.0807241915160843, 2.1123832635269437, -0.037441185918270566, -0.8419160328363937, -0.965051019475013, 0.8311693286344598, -0.12892638840714116, -0.3223623657442055, -0.2651621978066173, 0.5751051482978644, -1.5954080823970926, 0.35868808673820946, 2.472151302817571, 0.262160516152913, -0.34492136425427206, 2.642740897818084, 0.41347183169097945, 1.4222362844595409, 1.0478656163489362, -1.4989625631723997, -1.1573817060636589, -0.1902543592584037, -1.5924763685255088, -0.04356499912556374, -0.32646573064441586, 1.4195081126291589, 1.3506300184179498, -1.8861410729263206, 0.6078372185494824, 0.5896587847914512, -1.8647497848327925, 0.16162438429861858, 0.6426130692999505, 1.7639945077246302, 0.7761834037906911, 0.421145954098237, 0.1854040095139653, 0.9429598683866964, -0.7099509267598096, -1.7564388380669502, 1.3881239407102857, -1.3120206969144075, -1.2360995942787971, -0.10177615060000193, 1.207999550088633, 0.11356010121118484, -0.13811616381196112, 1.3505494572062853, 1.0177776805673846, -1.4837634818277279, -0.6319011207391553, 0.20812478489292638, -0.08134859369177261, -0.7277076405660484, 0.840470334848689, -1.7870213204890557, 0.03588632950819402, -0.3733539244362292, 0.43292408303107593, -0.5686082275326253, -0.6758945175654862, -0.6070459436824658, 1.1050416756450765, -0.059510924986301804, 0.8447858158747069, 0.499972993569185, -0.13434501044250866, -1.8070564697994906, -1.714991039757765, -0.3751013035128291, 1.0953223101313094, -1.4369805212753772, 0.39107212877171116, -0.2516191386082863, 0.22228696010046495, 0.1725199646415227, -1.050096031944785, 0.5061413187280068, -0.12351473087442927, -0.7146092641508545, 0.4954838312980374, 1.3551362084378633, 0.9634550093677506, 1.0479339303158377, 1.059923568234994, -0.7117493946644667, -1.0699478167895864, -0.2362919262806339, 1.403646945157495, 0.28071705389078044, -0.15182662408610997, 0.17489614347413823, -0.9742686872933056, 0.1786922050680465, -0.6273672164757751, -0.4488967123079796, -1.4551355833120438, -1.0757746516273758], \"xaxis\": \"x2\", \"y\": [-0.6680661855631249, 0.1949766871965313, 0.03297058007779891, -0.6990703851144047, -1.1904809035565296, -0.9978851799370811, -1.8582319261511087, -0.5267661337775508, -1.5686461478635814, -1.0627343935664582, 0.9661118140498371, 0.565313506626537, -1.4206021024681288, 0.6560188287072177, 0.5342773017547415, 0.4439743344940591, 0.6052930388775157, 0.7164107464286641, 0.9375280230990192, -0.8939516328602036, 0.4924348203413822, -2.1780131590071496, -0.5438072379862946, -0.9334923463833898, 0.6713486104662258, -0.7065440484824034, -1.3874324539214875, -0.8896410077863353, -0.07984657932136635, -0.12572505592806968, 0.8137383767766075, -1.858491455192245, -0.3724586312111986, 2.402354817353567, 1.0410195382811984, -1.5139559628272126, 0.8076529167916344, -0.3035271559810558, 2.4116330281807286, 2.1223346600953814, 0.16436122619428503, -0.46652198272400175, 0.24256961333364677, 0.2863986325603095, -3.099977310251452, 0.3417341517045552, -1.229051663697874, -0.0825055265741576, 0.5643689745296832, 0.2643607398377007, 0.8404584998456432, -0.9599932628266316, 0.9620952929558358, 2.1487719813839155, 0.8702399277132442, -0.6786256915599027, -0.551562117174487, -0.7569418009249309, -0.7578840771473123, -0.7979818046465237, 1.7875060506298361, -1.1376330255000242, -1.7296967915248824, 1.0120261071074859, 0.07626292262330708, -0.5161229432965986, -1.9828965516645491, 1.2236247293138747, -1.4987687258773836, 0.728921907199498, -1.0224292690506944, 0.7636030501956129, -1.4035448034462434, 0.8741822629080838, -1.575143589119851, 0.5783812385108045, -0.9559912307275771, -0.06416912485000843, 1.5340650493135644, 1.0625590148885438, 0.8926470152500349, -0.10936690562114973, -0.24245197468062515, 1.5191649065321466, 0.736591302550211, 0.3806355692794749, -0.19094272495077746, -0.4809111086547659, -1.3393209311998107, 0.3444845242142359, -0.308530466508197, 0.5971519605520483, -0.2961393984777049, 2.0527924932523907, -0.42898583486115943, 0.7361587789620776, -0.6655264065881279, 0.4869596491478256, -0.42392394888161156, 0.0960209955254644], \"yaxis\": \"y2\"}, {\"line\": {\"color\": \"rgba(128, 128, 128, 1.0)\", \"dash\": \"solid\", \"shape\": \"linear\", \"width\": 1.3}, \"marker\": {\"size\": 2, \"symbol\": \"circle\"}, \"mode\": \"markers\", \"name\": \"A\", \"text\": \"\", \"type\": \"scatter\", \"x\": [-2.3073638620301433, -0.9962041490678315, 1.3208116314786846, -0.025390771166009407, -0.9648363933317966, 0.24326610193825265, 0.7833001534921529, -0.8663752013312572, 0.28426532861252757, 1.8525904754774485, 0.5164054496741013, 1.2303099931032626, 0.5360513363234279, 0.7314049395469593, -0.05158527579854278, -0.5217391984873557, 0.6011760081316192, 0.09789419963031891, -0.4874882753947355, -0.2989607053704855, 0.9383987116683369, -0.29624269819989724, -3.0132871456839267, -0.2600934938003665, -0.5169579690827044, -0.8119315582610903, -0.34731928941074086, -1.820136372657824, 1.2256674920965915, -1.5566391864661864, -0.06809802410845756, -0.2871133753382355, 0.9244116752222192, -0.6759585741687546, -0.6744735212611921, -1.6040426177574216, 1.2850611144199247, 0.8279989883462856, -0.2878489752861659, -0.23566306928665398, 1.3076158299163698, -1.6401124481321587, 0.546773763745836, 0.2763863222089421, 0.1382460666083625, 0.34761977999188315, 0.18678832068275122, -0.7826894546849915, -0.22804525413889637, -0.27774414758352944, -0.679220647452501, -0.5321792137613572, -1.1818314843254512, -0.24222642777041425, 0.2594990627819901, 1.6806485495058059, 1.2494555826282385, 1.7561180265516112, -0.18337912849127272, 0.1986178157101335, 1.1144016939165797, -1.1232355481853946, 0.3312435482633644, -0.5356280710427399, -0.3475497394030127, 1.3188617574462058, -0.03536711573532913, 0.8809219197152772, 0.0944716655023659, 0.4550279458603338, 1.8136067916398246, -0.18360533019846725, -0.23021685288304736, 0.3406496620591469, 1.4145557922085121, 0.5315204905167306, -1.640263959883622, -1.0955524713900873, -1.4774176081870156, -0.33843055481629236, 0.07218683504377033, -1.3554867431755546, -0.24673020354673178, -1.826836764908707, -0.5894495017125044, -1.5883001645521029, 1.9347900221285799, 0.9264335949306093, -0.19619855277123432, 1.311730305133455, -0.005833191408164211, -0.15789828864743358, 0.1270696407524092, 1.6577163232652115, -0.05443421620407633, 1.2837041675848508, 0.5593938838023739, -1.5122145518614358, -1.3051058219297798, -0.09372562766382454], \"xaxis\": \"x3\", \"y\": [-0.6680661855631249, 0.1949766871965313, 0.03297058007779891, -0.6990703851144047, -1.1904809035565296, -0.9978851799370811, -1.8582319261511087, -0.5267661337775508, -1.5686461478635814, -1.0627343935664582, 0.9661118140498371, 0.565313506626537, -1.4206021024681288, 0.6560188287072177, 0.5342773017547415, 0.4439743344940591, 0.6052930388775157, 0.7164107464286641, 0.9375280230990192, -0.8939516328602036, 0.4924348203413822, -2.1780131590071496, -0.5438072379862946, -0.9334923463833898, 0.6713486104662258, -0.7065440484824034, -1.3874324539214875, -0.8896410077863353, -0.07984657932136635, -0.12572505592806968, 0.8137383767766075, -1.858491455192245, -0.3724586312111986, 2.402354817353567, 1.0410195382811984, -1.5139559628272126, 0.8076529167916344, -0.3035271559810558, 2.4116330281807286, 2.1223346600953814, 0.16436122619428503, -0.46652198272400175, 0.24256961333364677, 0.2863986325603095, -3.099977310251452, 0.3417341517045552, -1.229051663697874, -0.0825055265741576, 0.5643689745296832, 0.2643607398377007, 0.8404584998456432, -0.9599932628266316, 0.9620952929558358, 2.1487719813839155, 0.8702399277132442, -0.6786256915599027, -0.551562117174487, -0.7569418009249309, -0.7578840771473123, -0.7979818046465237, 1.7875060506298361, -1.1376330255000242, -1.7296967915248824, 1.0120261071074859, 0.07626292262330708, -0.5161229432965986, -1.9828965516645491, 1.2236247293138747, -1.4987687258773836, 0.728921907199498, -1.0224292690506944, 0.7636030501956129, -1.4035448034462434, 0.8741822629080838, -1.575143589119851, 0.5783812385108045, -0.9559912307275771, -0.06416912485000843, 1.5340650493135644, 1.0625590148885438, 0.8926470152500349, -0.10936690562114973, -0.24245197468062515, 1.5191649065321466, 0.736591302550211, 0.3806355692794749, -0.19094272495077746, -0.4809111086547659, -1.3393209311998107, 0.3444845242142359, -0.308530466508197, 0.5971519605520483, -0.2961393984777049, 2.0527924932523907, -0.42898583486115943, 0.7361587789620776, -0.6655264065881279, 0.4869596491478256, -0.42392394888161156, 0.0960209955254644], \"yaxis\": \"y3\"}, {\"line\": {\"color\": \"rgba(128, 128, 128, 1.0)\", \"dash\": \"solid\", \"shape\": \"linear\", \"width\": 1.3}, \"marker\": {\"size\": 2, \"symbol\": \"circle\"}, \"mode\": \"markers\", \"name\": \"A\", \"text\": \"\", \"type\": \"scatter\", \"x\": [0.49209094387433777, 0.9062738969829228, 0.17329610259510156, -0.10736420792233334, 0.6105223392819806, -1.691053205670486, 1.728568659259317, -1.2008015945078236, -1.9179174593378803, -0.3579727607746801, 1.1705371096116617, 0.47667608570186953, 0.4776399709111016, -0.9461143733421219, -0.4131117792381057, -1.1115425891296822, 1.2860346537356238, 0.3271027808073432, 0.5159953352965916, 0.27729083117100445, 0.7752711293926082, 0.7312747438193341, 1.2198693462173729, 0.6601897806334215, -1.1484082051607591, -0.3601506624529033, 0.21892965155005714, -0.7446991443981005, -1.6010064110796367, 1.3027877160597294, 2.637352783614263, -1.164496585131879, -0.7988405568663156, 0.11240713416388613, 1.048160908681509, 0.5619149248158571, 0.06147046441390483, -0.5124104027274924, 1.0115304797672606, -1.0608392192028855, -0.1749354641614772, 0.6544231807132385, -0.2380150085031945, -1.0382675925006104, -0.9786969318035704, 0.9353387685518132, 0.6186048691727825, -1.051367316882182, 0.5481837683884434, 1.0869489723875991, -0.8276597485186798, -1.1423774236881996, -0.5987684068731174, 2.262905971559901, 0.8269721442349901, -1.3517187768902508, 0.3046845694376493, -1.5691671988994118, -1.6147450747653498, 0.9385118541776004, 1.3772116111856814, -0.3887872739543808, -0.04981835019742325, 0.49369312086794365, 1.6798331571822096, 1.0567192540587917, 0.47869354866514785, -1.24362767645016, 0.3188194983492261, 0.6847930611588089, 0.357196047620388, -1.0419965151392447, 0.2547774715058307, -0.29597959868541857, -0.6981530674093167, -0.07526311848588445, -0.18163384482479397, 0.31075032419206056, -0.19408849419085747, 1.5738822461027282, -0.08032086069342659, 1.059622216455474, -1.320266007365862, 1.8918701425077586, 0.28571864790101287, 1.8446892555185024, -1.045913687048723, -0.39532679311263735, -0.7580947693260994, -0.247466127162814, 1.210722428462035, -1.4024327566377963, 0.5632509162805431, -0.13694559351436295, -0.08578184302281991, 0.7981344850479162, -1.7176037255632028, 1.9520742819822292, -0.3330151467131199, 0.027219819562331278], \"xaxis\": \"x4\", \"y\": [-0.6680661855631249, 0.1949766871965313, 0.03297058007779891, -0.6990703851144047, -1.1904809035565296, -0.9978851799370811, -1.8582319261511087, -0.5267661337775508, -1.5686461478635814, -1.0627343935664582, 0.9661118140498371, 0.565313506626537, -1.4206021024681288, 0.6560188287072177, 0.5342773017547415, 0.4439743344940591, 0.6052930388775157, 0.7164107464286641, 0.9375280230990192, -0.8939516328602036, 0.4924348203413822, -2.1780131590071496, -0.5438072379862946, -0.9334923463833898, 0.6713486104662258, -0.7065440484824034, -1.3874324539214875, -0.8896410077863353, -0.07984657932136635, -0.12572505592806968, 0.8137383767766075, -1.858491455192245, -0.3724586312111986, 2.402354817353567, 1.0410195382811984, -1.5139559628272126, 0.8076529167916344, -0.3035271559810558, 2.4116330281807286, 2.1223346600953814, 0.16436122619428503, -0.46652198272400175, 0.24256961333364677, 0.2863986325603095, -3.099977310251452, 0.3417341517045552, -1.229051663697874, -0.0825055265741576, 0.5643689745296832, 0.2643607398377007, 0.8404584998456432, -0.9599932628266316, 0.9620952929558358, 2.1487719813839155, 0.8702399277132442, -0.6786256915599027, -0.551562117174487, -0.7569418009249309, -0.7578840771473123, -0.7979818046465237, 1.7875060506298361, -1.1376330255000242, -1.7296967915248824, 1.0120261071074859, 0.07626292262330708, -0.5161229432965986, -1.9828965516645491, 1.2236247293138747, -1.4987687258773836, 0.728921907199498, -1.0224292690506944, 0.7636030501956129, -1.4035448034462434, 0.8741822629080838, -1.575143589119851, 0.5783812385108045, -0.9559912307275771, -0.06416912485000843, 1.5340650493135644, 1.0625590148885438, 0.8926470152500349, -0.10936690562114973, -0.24245197468062515, 1.5191649065321466, 0.736591302550211, 0.3806355692794749, -0.19094272495077746, -0.4809111086547659, -1.3393209311998107, 0.3444845242142359, -0.308530466508197, 0.5971519605520483, -0.2961393984777049, 2.0527924932523907, -0.42898583486115943, 0.7361587789620776, -0.6655264065881279, 0.4869596491478256, -0.42392394888161156, 0.0960209955254644], \"yaxis\": \"y4\"}, {\"line\": {\"color\": \"rgba(128, 128, 128, 1.0)\", \"dash\": \"solid\", \"shape\": \"linear\", \"width\": 1.3}, \"marker\": {\"size\": 2, \"symbol\": \"circle\"}, \"mode\": \"markers\", \"name\": \"B\", \"text\": \"\", \"type\": \"scatter\", \"x\": [-0.6680661855631249, 0.1949766871965313, 0.03297058007779891, -0.6990703851144047, -1.1904809035565296, -0.9978851799370811, -1.8582319261511087, -0.5267661337775508, -1.5686461478635814, -1.0627343935664582, 0.9661118140498371, 0.565313506626537, -1.4206021024681288, 0.6560188287072177, 0.5342773017547415, 0.4439743344940591, 0.6052930388775157, 0.7164107464286641, 0.9375280230990192, -0.8939516328602036, 0.4924348203413822, -2.1780131590071496, -0.5438072379862946, -0.9334923463833898, 0.6713486104662258, -0.7065440484824034, -1.3874324539214875, -0.8896410077863353, -0.07984657932136635, -0.12572505592806968, 0.8137383767766075, -1.858491455192245, -0.3724586312111986, 2.402354817353567, 1.0410195382811984, -1.5139559628272126, 0.8076529167916344, -0.3035271559810558, 2.4116330281807286, 2.1223346600953814, 0.16436122619428503, -0.46652198272400175, 0.24256961333364677, 0.2863986325603095, -3.099977310251452, 0.3417341517045552, -1.229051663697874, -0.0825055265741576, 0.5643689745296832, 0.2643607398377007, 0.8404584998456432, -0.9599932628266316, 0.9620952929558358, 2.1487719813839155, 0.8702399277132442, -0.6786256915599027, -0.551562117174487, -0.7569418009249309, -0.7578840771473123, -0.7979818046465237, 1.7875060506298361, -1.1376330255000242, -1.7296967915248824, 1.0120261071074859, 0.07626292262330708, -0.5161229432965986, -1.9828965516645491, 1.2236247293138747, -1.4987687258773836, 0.728921907199498, -1.0224292690506944, 0.7636030501956129, -1.4035448034462434, 0.8741822629080838, -1.575143589119851, 0.5783812385108045, -0.9559912307275771, -0.06416912485000843, 1.5340650493135644, 1.0625590148885438, 0.8926470152500349, -0.10936690562114973, -0.24245197468062515, 1.5191649065321466, 0.736591302550211, 0.3806355692794749, -0.19094272495077746, -0.4809111086547659, -1.3393209311998107, 0.3444845242142359, -0.308530466508197, 0.5971519605520483, -0.2961393984777049, 2.0527924932523907, -0.42898583486115943, 0.7361587789620776, -0.6655264065881279, 0.4869596491478256, -0.42392394888161156, 0.0960209955254644], \"xaxis\": \"x5\", \"y\": [-0.6810784119889212, -0.12672851621571565, -2.0807241915160843, 2.1123832635269437, -0.037441185918270566, -0.8419160328363937, -0.965051019475013, 0.8311693286344598, -0.12892638840714116, -0.3223623657442055, -0.2651621978066173, 0.5751051482978644, -1.5954080823970926, 0.35868808673820946, 2.472151302817571, 0.262160516152913, -0.34492136425427206, 2.642740897818084, 0.41347183169097945, 1.4222362844595409, 1.0478656163489362, -1.4989625631723997, -1.1573817060636589, -0.1902543592584037, -1.5924763685255088, -0.04356499912556374, -0.32646573064441586, 1.4195081126291589, 1.3506300184179498, -1.8861410729263206, 0.6078372185494824, 0.5896587847914512, -1.8647497848327925, 0.16162438429861858, 0.6426130692999505, 1.7639945077246302, 0.7761834037906911, 0.421145954098237, 0.1854040095139653, 0.9429598683866964, -0.7099509267598096, -1.7564388380669502, 1.3881239407102857, -1.3120206969144075, -1.2360995942787971, -0.10177615060000193, 1.207999550088633, 0.11356010121118484, -0.13811616381196112, 1.3505494572062853, 1.0177776805673846, -1.4837634818277279, -0.6319011207391553, 0.20812478489292638, -0.08134859369177261, -0.7277076405660484, 0.840470334848689, -1.7870213204890557, 0.03588632950819402, -0.3733539244362292, 0.43292408303107593, -0.5686082275326253, -0.6758945175654862, -0.6070459436824658, 1.1050416756450765, -0.059510924986301804, 0.8447858158747069, 0.499972993569185, -0.13434501044250866, -1.8070564697994906, -1.714991039757765, -0.3751013035128291, 1.0953223101313094, -1.4369805212753772, 0.39107212877171116, -0.2516191386082863, 0.22228696010046495, 0.1725199646415227, -1.050096031944785, 0.5061413187280068, -0.12351473087442927, -0.7146092641508545, 0.4954838312980374, 1.3551362084378633, 0.9634550093677506, 1.0479339303158377, 1.059923568234994, -0.7117493946644667, -1.0699478167895864, -0.2362919262806339, 1.403646945157495, 0.28071705389078044, -0.15182662408610997, 0.17489614347413823, -0.9742686872933056, 0.1786922050680465, -0.6273672164757751, -0.4488967123079796, -1.4551355833120438, -1.0757746516273758], \"yaxis\": \"y5\"}, {\"histfunc\": \"count\", \"histnorm\": \"\", \"marker\": {\"color\": \"rgba(55, 128, 191, 1.0)\", \"line\": {\"color\": \"#4D5663\", \"width\": 1.3}}, \"name\": \"B\", \"nbinsx\": 10, \"opacity\": 0.8, \"orientation\": \"v\", \"type\": \"histogram\", \"x\": [-0.6810784119889212, -0.12672851621571565, -2.0807241915160843, 2.1123832635269437, -0.037441185918270566, -0.8419160328363937, -0.965051019475013, 0.8311693286344598, -0.12892638840714116, -0.3223623657442055, -0.2651621978066173, 0.5751051482978644, -1.5954080823970926, 0.35868808673820946, 2.472151302817571, 0.262160516152913, -0.34492136425427206, 2.642740897818084, 0.41347183169097945, 1.4222362844595409, 1.0478656163489362, -1.4989625631723997, -1.1573817060636589, -0.1902543592584037, -1.5924763685255088, -0.04356499912556374, -0.32646573064441586, 1.4195081126291589, 1.3506300184179498, -1.8861410729263206, 0.6078372185494824, 0.5896587847914512, -1.8647497848327925, 0.16162438429861858, 0.6426130692999505, 1.7639945077246302, 0.7761834037906911, 0.421145954098237, 0.1854040095139653, 0.9429598683866964, -0.7099509267598096, -1.7564388380669502, 1.3881239407102857, -1.3120206969144075, -1.2360995942787971, -0.10177615060000193, 1.207999550088633, 0.11356010121118484, -0.13811616381196112, 1.3505494572062853, 1.0177776805673846, -1.4837634818277279, -0.6319011207391553, 0.20812478489292638, -0.08134859369177261, -0.7277076405660484, 0.840470334848689, -1.7870213204890557, 0.03588632950819402, -0.3733539244362292, 0.43292408303107593, -0.5686082275326253, -0.6758945175654862, -0.6070459436824658, 1.1050416756450765, -0.059510924986301804, 0.8447858158747069, 0.499972993569185, -0.13434501044250866, -1.8070564697994906, -1.714991039757765, -0.3751013035128291, 1.0953223101313094, -1.4369805212753772, 0.39107212877171116, -0.2516191386082863, 0.22228696010046495, 0.1725199646415227, -1.050096031944785, 0.5061413187280068, -0.12351473087442927, -0.7146092641508545, 0.4954838312980374, 1.3551362084378633, 0.9634550093677506, 1.0479339303158377, 1.059923568234994, -0.7117493946644667, -1.0699478167895864, -0.2362919262806339, 1.403646945157495, 0.28071705389078044, -0.15182662408610997, 0.17489614347413823, -0.9742686872933056, 0.1786922050680465, -0.6273672164757751, -0.4488967123079796, -1.4551355833120438, -1.0757746516273758], \"xaxis\": \"x6\", \"yaxis\": \"y6\"}, {\"line\": {\"color\": \"rgba(128, 128, 128, 1.0)\", \"dash\": \"solid\", \"shape\": \"linear\", \"width\": 1.3}, \"marker\": {\"size\": 2, \"symbol\": \"circle\"}, \"mode\": \"markers\", \"name\": \"B\", \"text\": \"\", \"type\": \"scatter\", \"x\": [-2.3073638620301433, -0.9962041490678315, 1.3208116314786846, -0.025390771166009407, -0.9648363933317966, 0.24326610193825265, 0.7833001534921529, -0.8663752013312572, 0.28426532861252757, 1.8525904754774485, 0.5164054496741013, 1.2303099931032626, 0.5360513363234279, 0.7314049395469593, -0.05158527579854278, -0.5217391984873557, 0.6011760081316192, 0.09789419963031891, -0.4874882753947355, -0.2989607053704855, 0.9383987116683369, -0.29624269819989724, -3.0132871456839267, -0.2600934938003665, -0.5169579690827044, -0.8119315582610903, -0.34731928941074086, -1.820136372657824, 1.2256674920965915, -1.5566391864661864, -0.06809802410845756, -0.2871133753382355, 0.9244116752222192, -0.6759585741687546, -0.6744735212611921, -1.6040426177574216, 1.2850611144199247, 0.8279989883462856, -0.2878489752861659, -0.23566306928665398, 1.3076158299163698, -1.6401124481321587, 0.546773763745836, 0.2763863222089421, 0.1382460666083625, 0.34761977999188315, 0.18678832068275122, -0.7826894546849915, -0.22804525413889637, -0.27774414758352944, -0.679220647452501, -0.5321792137613572, -1.1818314843254512, -0.24222642777041425, 0.2594990627819901, 1.6806485495058059, 1.2494555826282385, 1.7561180265516112, -0.18337912849127272, 0.1986178157101335, 1.1144016939165797, -1.1232355481853946, 0.3312435482633644, -0.5356280710427399, -0.3475497394030127, 1.3188617574462058, -0.03536711573532913, 0.8809219197152772, 0.0944716655023659, 0.4550279458603338, 1.8136067916398246, -0.18360533019846725, -0.23021685288304736, 0.3406496620591469, 1.4145557922085121, 0.5315204905167306, -1.640263959883622, -1.0955524713900873, -1.4774176081870156, -0.33843055481629236, 0.07218683504377033, -1.3554867431755546, -0.24673020354673178, -1.826836764908707, -0.5894495017125044, -1.5883001645521029, 1.9347900221285799, 0.9264335949306093, -0.19619855277123432, 1.311730305133455, -0.005833191408164211, -0.15789828864743358, 0.1270696407524092, 1.6577163232652115, -0.05443421620407633, 1.2837041675848508, 0.5593938838023739, -1.5122145518614358, -1.3051058219297798, -0.09372562766382454], \"xaxis\": \"x7\", \"y\": [-0.6810784119889212, -0.12672851621571565, -2.0807241915160843, 2.1123832635269437, -0.037441185918270566, -0.8419160328363937, -0.965051019475013, 0.8311693286344598, -0.12892638840714116, -0.3223623657442055, -0.2651621978066173, 0.5751051482978644, -1.5954080823970926, 0.35868808673820946, 2.472151302817571, 0.262160516152913, -0.34492136425427206, 2.642740897818084, 0.41347183169097945, 1.4222362844595409, 1.0478656163489362, -1.4989625631723997, -1.1573817060636589, -0.1902543592584037, -1.5924763685255088, -0.04356499912556374, -0.32646573064441586, 1.4195081126291589, 1.3506300184179498, -1.8861410729263206, 0.6078372185494824, 0.5896587847914512, -1.8647497848327925, 0.16162438429861858, 0.6426130692999505, 1.7639945077246302, 0.7761834037906911, 0.421145954098237, 0.1854040095139653, 0.9429598683866964, -0.7099509267598096, -1.7564388380669502, 1.3881239407102857, -1.3120206969144075, -1.2360995942787971, -0.10177615060000193, 1.207999550088633, 0.11356010121118484, -0.13811616381196112, 1.3505494572062853, 1.0177776805673846, -1.4837634818277279, -0.6319011207391553, 0.20812478489292638, -0.08134859369177261, -0.7277076405660484, 0.840470334848689, -1.7870213204890557, 0.03588632950819402, -0.3733539244362292, 0.43292408303107593, -0.5686082275326253, -0.6758945175654862, -0.6070459436824658, 1.1050416756450765, -0.059510924986301804, 0.8447858158747069, 0.499972993569185, -0.13434501044250866, -1.8070564697994906, -1.714991039757765, -0.3751013035128291, 1.0953223101313094, -1.4369805212753772, 0.39107212877171116, -0.2516191386082863, 0.22228696010046495, 0.1725199646415227, -1.050096031944785, 0.5061413187280068, -0.12351473087442927, -0.7146092641508545, 0.4954838312980374, 1.3551362084378633, 0.9634550093677506, 1.0479339303158377, 1.059923568234994, -0.7117493946644667, -1.0699478167895864, -0.2362919262806339, 1.403646945157495, 0.28071705389078044, -0.15182662408610997, 0.17489614347413823, -0.9742686872933056, 0.1786922050680465, -0.6273672164757751, -0.4488967123079796, -1.4551355833120438, -1.0757746516273758], \"yaxis\": \"y7\"}, {\"line\": {\"color\": \"rgba(128, 128, 128, 1.0)\", \"dash\": \"solid\", \"shape\": \"linear\", \"width\": 1.3}, \"marker\": {\"size\": 2, \"symbol\": \"circle\"}, \"mode\": \"markers\", \"name\": \"B\", \"text\": \"\", \"type\": \"scatter\", \"x\": [0.49209094387433777, 0.9062738969829228, 0.17329610259510156, -0.10736420792233334, 0.6105223392819806, -1.691053205670486, 1.728568659259317, -1.2008015945078236, -1.9179174593378803, -0.3579727607746801, 1.1705371096116617, 0.47667608570186953, 0.4776399709111016, -0.9461143733421219, -0.4131117792381057, -1.1115425891296822, 1.2860346537356238, 0.3271027808073432, 0.5159953352965916, 0.27729083117100445, 0.7752711293926082, 0.7312747438193341, 1.2198693462173729, 0.6601897806334215, -1.1484082051607591, -0.3601506624529033, 0.21892965155005714, -0.7446991443981005, -1.6010064110796367, 1.3027877160597294, 2.637352783614263, -1.164496585131879, -0.7988405568663156, 0.11240713416388613, 1.048160908681509, 0.5619149248158571, 0.06147046441390483, -0.5124104027274924, 1.0115304797672606, -1.0608392192028855, -0.1749354641614772, 0.6544231807132385, -0.2380150085031945, -1.0382675925006104, -0.9786969318035704, 0.9353387685518132, 0.6186048691727825, -1.051367316882182, 0.5481837683884434, 1.0869489723875991, -0.8276597485186798, -1.1423774236881996, -0.5987684068731174, 2.262905971559901, 0.8269721442349901, -1.3517187768902508, 0.3046845694376493, -1.5691671988994118, -1.6147450747653498, 0.9385118541776004, 1.3772116111856814, -0.3887872739543808, -0.04981835019742325, 0.49369312086794365, 1.6798331571822096, 1.0567192540587917, 0.47869354866514785, -1.24362767645016, 0.3188194983492261, 0.6847930611588089, 0.357196047620388, -1.0419965151392447, 0.2547774715058307, -0.29597959868541857, -0.6981530674093167, -0.07526311848588445, -0.18163384482479397, 0.31075032419206056, -0.19408849419085747, 1.5738822461027282, -0.08032086069342659, 1.059622216455474, -1.320266007365862, 1.8918701425077586, 0.28571864790101287, 1.8446892555185024, -1.045913687048723, -0.39532679311263735, -0.7580947693260994, -0.247466127162814, 1.210722428462035, -1.4024327566377963, 0.5632509162805431, -0.13694559351436295, -0.08578184302281991, 0.7981344850479162, -1.7176037255632028, 1.9520742819822292, -0.3330151467131199, 0.027219819562331278], \"xaxis\": \"x8\", \"y\": [-0.6810784119889212, -0.12672851621571565, -2.0807241915160843, 2.1123832635269437, -0.037441185918270566, -0.8419160328363937, -0.965051019475013, 0.8311693286344598, -0.12892638840714116, -0.3223623657442055, -0.2651621978066173, 0.5751051482978644, -1.5954080823970926, 0.35868808673820946, 2.472151302817571, 0.262160516152913, -0.34492136425427206, 2.642740897818084, 0.41347183169097945, 1.4222362844595409, 1.0478656163489362, -1.4989625631723997, -1.1573817060636589, -0.1902543592584037, -1.5924763685255088, -0.04356499912556374, -0.32646573064441586, 1.4195081126291589, 1.3506300184179498, -1.8861410729263206, 0.6078372185494824, 0.5896587847914512, -1.8647497848327925, 0.16162438429861858, 0.6426130692999505, 1.7639945077246302, 0.7761834037906911, 0.421145954098237, 0.1854040095139653, 0.9429598683866964, -0.7099509267598096, -1.7564388380669502, 1.3881239407102857, -1.3120206969144075, -1.2360995942787971, -0.10177615060000193, 1.207999550088633, 0.11356010121118484, -0.13811616381196112, 1.3505494572062853, 1.0177776805673846, -1.4837634818277279, -0.6319011207391553, 0.20812478489292638, -0.08134859369177261, -0.7277076405660484, 0.840470334848689, -1.7870213204890557, 0.03588632950819402, -0.3733539244362292, 0.43292408303107593, -0.5686082275326253, -0.6758945175654862, -0.6070459436824658, 1.1050416756450765, -0.059510924986301804, 0.8447858158747069, 0.499972993569185, -0.13434501044250866, -1.8070564697994906, -1.714991039757765, -0.3751013035128291, 1.0953223101313094, -1.4369805212753772, 0.39107212877171116, -0.2516191386082863, 0.22228696010046495, 0.1725199646415227, -1.050096031944785, 0.5061413187280068, -0.12351473087442927, -0.7146092641508545, 0.4954838312980374, 1.3551362084378633, 0.9634550093677506, 1.0479339303158377, 1.059923568234994, -0.7117493946644667, -1.0699478167895864, -0.2362919262806339, 1.403646945157495, 0.28071705389078044, -0.15182662408610997, 0.17489614347413823, -0.9742686872933056, 0.1786922050680465, -0.6273672164757751, -0.4488967123079796, -1.4551355833120438, -1.0757746516273758], \"yaxis\": \"y8\"}, {\"line\": {\"color\": \"rgba(128, 128, 128, 1.0)\", \"dash\": \"solid\", \"shape\": \"linear\", \"width\": 1.3}, \"marker\": {\"size\": 2, \"symbol\": \"circle\"}, \"mode\": \"markers\", \"name\": \"C\", \"text\": \"\", \"type\": \"scatter\", \"x\": [-0.6680661855631249, 0.1949766871965313, 0.03297058007779891, -0.6990703851144047, -1.1904809035565296, -0.9978851799370811, -1.8582319261511087, -0.5267661337775508, -1.5686461478635814, -1.0627343935664582, 0.9661118140498371, 0.565313506626537, -1.4206021024681288, 0.6560188287072177, 0.5342773017547415, 0.4439743344940591, 0.6052930388775157, 0.7164107464286641, 0.9375280230990192, -0.8939516328602036, 0.4924348203413822, -2.1780131590071496, -0.5438072379862946, -0.9334923463833898, 0.6713486104662258, -0.7065440484824034, -1.3874324539214875, -0.8896410077863353, -0.07984657932136635, -0.12572505592806968, 0.8137383767766075, -1.858491455192245, -0.3724586312111986, 2.402354817353567, 1.0410195382811984, -1.5139559628272126, 0.8076529167916344, -0.3035271559810558, 2.4116330281807286, 2.1223346600953814, 0.16436122619428503, -0.46652198272400175, 0.24256961333364677, 0.2863986325603095, -3.099977310251452, 0.3417341517045552, -1.229051663697874, -0.0825055265741576, 0.5643689745296832, 0.2643607398377007, 0.8404584998456432, -0.9599932628266316, 0.9620952929558358, 2.1487719813839155, 0.8702399277132442, -0.6786256915599027, -0.551562117174487, -0.7569418009249309, -0.7578840771473123, -0.7979818046465237, 1.7875060506298361, -1.1376330255000242, -1.7296967915248824, 1.0120261071074859, 0.07626292262330708, -0.5161229432965986, -1.9828965516645491, 1.2236247293138747, -1.4987687258773836, 0.728921907199498, -1.0224292690506944, 0.7636030501956129, -1.4035448034462434, 0.8741822629080838, -1.575143589119851, 0.5783812385108045, -0.9559912307275771, -0.06416912485000843, 1.5340650493135644, 1.0625590148885438, 0.8926470152500349, -0.10936690562114973, -0.24245197468062515, 1.5191649065321466, 0.736591302550211, 0.3806355692794749, -0.19094272495077746, -0.4809111086547659, -1.3393209311998107, 0.3444845242142359, -0.308530466508197, 0.5971519605520483, -0.2961393984777049, 2.0527924932523907, -0.42898583486115943, 0.7361587789620776, -0.6655264065881279, 0.4869596491478256, -0.42392394888161156, 0.0960209955254644], \"xaxis\": \"x9\", \"y\": [-2.3073638620301433, -0.9962041490678315, 1.3208116314786846, -0.025390771166009407, -0.9648363933317966, 0.24326610193825265, 0.7833001534921529, -0.8663752013312572, 0.28426532861252757, 1.8525904754774485, 0.5164054496741013, 1.2303099931032626, 0.5360513363234279, 0.7314049395469593, -0.05158527579854278, -0.5217391984873557, 0.6011760081316192, 0.09789419963031891, -0.4874882753947355, -0.2989607053704855, 0.9383987116683369, -0.29624269819989724, -3.0132871456839267, -0.2600934938003665, -0.5169579690827044, -0.8119315582610903, -0.34731928941074086, -1.820136372657824, 1.2256674920965915, -1.5566391864661864, -0.06809802410845756, -0.2871133753382355, 0.9244116752222192, -0.6759585741687546, -0.6744735212611921, -1.6040426177574216, 1.2850611144199247, 0.8279989883462856, -0.2878489752861659, -0.23566306928665398, 1.3076158299163698, -1.6401124481321587, 0.546773763745836, 0.2763863222089421, 0.1382460666083625, 0.34761977999188315, 0.18678832068275122, -0.7826894546849915, -0.22804525413889637, -0.27774414758352944, -0.679220647452501, -0.5321792137613572, -1.1818314843254512, -0.24222642777041425, 0.2594990627819901, 1.6806485495058059, 1.2494555826282385, 1.7561180265516112, -0.18337912849127272, 0.1986178157101335, 1.1144016939165797, -1.1232355481853946, 0.3312435482633644, -0.5356280710427399, -0.3475497394030127, 1.3188617574462058, -0.03536711573532913, 0.8809219197152772, 0.0944716655023659, 0.4550279458603338, 1.8136067916398246, -0.18360533019846725, -0.23021685288304736, 0.3406496620591469, 1.4145557922085121, 0.5315204905167306, -1.640263959883622, -1.0955524713900873, -1.4774176081870156, -0.33843055481629236, 0.07218683504377033, -1.3554867431755546, -0.24673020354673178, -1.826836764908707, -0.5894495017125044, -1.5883001645521029, 1.9347900221285799, 0.9264335949306093, -0.19619855277123432, 1.311730305133455, -0.005833191408164211, -0.15789828864743358, 0.1270696407524092, 1.6577163232652115, -0.05443421620407633, 1.2837041675848508, 0.5593938838023739, -1.5122145518614358, -1.3051058219297798, -0.09372562766382454], \"yaxis\": \"y9\"}, {\"line\": {\"color\": \"rgba(128, 128, 128, 1.0)\", \"dash\": \"solid\", \"shape\": \"linear\", \"width\": 1.3}, \"marker\": {\"size\": 2, \"symbol\": \"circle\"}, \"mode\": \"markers\", \"name\": \"C\", \"text\": \"\", \"type\": \"scatter\", \"x\": [-0.6810784119889212, -0.12672851621571565, -2.0807241915160843, 2.1123832635269437, -0.037441185918270566, -0.8419160328363937, -0.965051019475013, 0.8311693286344598, -0.12892638840714116, -0.3223623657442055, -0.2651621978066173, 0.5751051482978644, -1.5954080823970926, 0.35868808673820946, 2.472151302817571, 0.262160516152913, -0.34492136425427206, 2.642740897818084, 0.41347183169097945, 1.4222362844595409, 1.0478656163489362, -1.4989625631723997, -1.1573817060636589, -0.1902543592584037, -1.5924763685255088, -0.04356499912556374, -0.32646573064441586, 1.4195081126291589, 1.3506300184179498, -1.8861410729263206, 0.6078372185494824, 0.5896587847914512, -1.8647497848327925, 0.16162438429861858, 0.6426130692999505, 1.7639945077246302, 0.7761834037906911, 0.421145954098237, 0.1854040095139653, 0.9429598683866964, -0.7099509267598096, -1.7564388380669502, 1.3881239407102857, -1.3120206969144075, -1.2360995942787971, -0.10177615060000193, 1.207999550088633, 0.11356010121118484, -0.13811616381196112, 1.3505494572062853, 1.0177776805673846, -1.4837634818277279, -0.6319011207391553, 0.20812478489292638, -0.08134859369177261, -0.7277076405660484, 0.840470334848689, -1.7870213204890557, 0.03588632950819402, -0.3733539244362292, 0.43292408303107593, -0.5686082275326253, -0.6758945175654862, -0.6070459436824658, 1.1050416756450765, -0.059510924986301804, 0.8447858158747069, 0.499972993569185, -0.13434501044250866, -1.8070564697994906, -1.714991039757765, -0.3751013035128291, 1.0953223101313094, -1.4369805212753772, 0.39107212877171116, -0.2516191386082863, 0.22228696010046495, 0.1725199646415227, -1.050096031944785, 0.5061413187280068, -0.12351473087442927, -0.7146092641508545, 0.4954838312980374, 1.3551362084378633, 0.9634550093677506, 1.0479339303158377, 1.059923568234994, -0.7117493946644667, -1.0699478167895864, -0.2362919262806339, 1.403646945157495, 0.28071705389078044, -0.15182662408610997, 0.17489614347413823, -0.9742686872933056, 0.1786922050680465, -0.6273672164757751, -0.4488967123079796, -1.4551355833120438, -1.0757746516273758], \"xaxis\": \"x10\", \"y\": [-2.3073638620301433, -0.9962041490678315, 1.3208116314786846, -0.025390771166009407, -0.9648363933317966, 0.24326610193825265, 0.7833001534921529, -0.8663752013312572, 0.28426532861252757, 1.8525904754774485, 0.5164054496741013, 1.2303099931032626, 0.5360513363234279, 0.7314049395469593, -0.05158527579854278, -0.5217391984873557, 0.6011760081316192, 0.09789419963031891, -0.4874882753947355, -0.2989607053704855, 0.9383987116683369, -0.29624269819989724, -3.0132871456839267, -0.2600934938003665, -0.5169579690827044, -0.8119315582610903, -0.34731928941074086, -1.820136372657824, 1.2256674920965915, -1.5566391864661864, -0.06809802410845756, -0.2871133753382355, 0.9244116752222192, -0.6759585741687546, -0.6744735212611921, -1.6040426177574216, 1.2850611144199247, 0.8279989883462856, -0.2878489752861659, -0.23566306928665398, 1.3076158299163698, -1.6401124481321587, 0.546773763745836, 0.2763863222089421, 0.1382460666083625, 0.34761977999188315, 0.18678832068275122, -0.7826894546849915, -0.22804525413889637, -0.27774414758352944, -0.679220647452501, -0.5321792137613572, -1.1818314843254512, -0.24222642777041425, 0.2594990627819901, 1.6806485495058059, 1.2494555826282385, 1.7561180265516112, -0.18337912849127272, 0.1986178157101335, 1.1144016939165797, -1.1232355481853946, 0.3312435482633644, -0.5356280710427399, -0.3475497394030127, 1.3188617574462058, -0.03536711573532913, 0.8809219197152772, 0.0944716655023659, 0.4550279458603338, 1.8136067916398246, -0.18360533019846725, -0.23021685288304736, 0.3406496620591469, 1.4145557922085121, 0.5315204905167306, -1.640263959883622, -1.0955524713900873, -1.4774176081870156, -0.33843055481629236, 0.07218683504377033, -1.3554867431755546, -0.24673020354673178, -1.826836764908707, -0.5894495017125044, -1.5883001645521029, 1.9347900221285799, 0.9264335949306093, -0.19619855277123432, 1.311730305133455, -0.005833191408164211, -0.15789828864743358, 0.1270696407524092, 1.6577163232652115, -0.05443421620407633, 1.2837041675848508, 0.5593938838023739, -1.5122145518614358, -1.3051058219297798, -0.09372562766382454], \"yaxis\": \"y10\"}, {\"histfunc\": \"count\", \"histnorm\": \"\", \"marker\": {\"color\": \"rgba(50, 171, 96, 1.0)\", \"line\": {\"color\": \"#4D5663\", \"width\": 1.3}}, \"name\": \"C\", \"nbinsx\": 10, \"opacity\": 0.8, \"orientation\": \"v\", \"type\": \"histogram\", \"x\": [-2.3073638620301433, -0.9962041490678315, 1.3208116314786846, -0.025390771166009407, -0.9648363933317966, 0.24326610193825265, 0.7833001534921529, -0.8663752013312572, 0.28426532861252757, 1.8525904754774485, 0.5164054496741013, 1.2303099931032626, 0.5360513363234279, 0.7314049395469593, -0.05158527579854278, -0.5217391984873557, 0.6011760081316192, 0.09789419963031891, -0.4874882753947355, -0.2989607053704855, 0.9383987116683369, -0.29624269819989724, -3.0132871456839267, -0.2600934938003665, -0.5169579690827044, -0.8119315582610903, -0.34731928941074086, -1.820136372657824, 1.2256674920965915, -1.5566391864661864, -0.06809802410845756, -0.2871133753382355, 0.9244116752222192, -0.6759585741687546, -0.6744735212611921, -1.6040426177574216, 1.2850611144199247, 0.8279989883462856, -0.2878489752861659, -0.23566306928665398, 1.3076158299163698, -1.6401124481321587, 0.546773763745836, 0.2763863222089421, 0.1382460666083625, 0.34761977999188315, 0.18678832068275122, -0.7826894546849915, -0.22804525413889637, -0.27774414758352944, -0.679220647452501, -0.5321792137613572, -1.1818314843254512, -0.24222642777041425, 0.2594990627819901, 1.6806485495058059, 1.2494555826282385, 1.7561180265516112, -0.18337912849127272, 0.1986178157101335, 1.1144016939165797, -1.1232355481853946, 0.3312435482633644, -0.5356280710427399, -0.3475497394030127, 1.3188617574462058, -0.03536711573532913, 0.8809219197152772, 0.0944716655023659, 0.4550279458603338, 1.8136067916398246, -0.18360533019846725, -0.23021685288304736, 0.3406496620591469, 1.4145557922085121, 0.5315204905167306, -1.640263959883622, -1.0955524713900873, -1.4774176081870156, -0.33843055481629236, 0.07218683504377033, -1.3554867431755546, -0.24673020354673178, -1.826836764908707, -0.5894495017125044, -1.5883001645521029, 1.9347900221285799, 0.9264335949306093, -0.19619855277123432, 1.311730305133455, -0.005833191408164211, -0.15789828864743358, 0.1270696407524092, 1.6577163232652115, -0.05443421620407633, 1.2837041675848508, 0.5593938838023739, -1.5122145518614358, -1.3051058219297798, -0.09372562766382454], \"xaxis\": \"x11\", \"yaxis\": \"y11\"}, {\"line\": {\"color\": \"rgba(128, 128, 128, 1.0)\", \"dash\": \"solid\", \"shape\": \"linear\", \"width\": 1.3}, \"marker\": {\"size\": 2, \"symbol\": \"circle\"}, \"mode\": \"markers\", \"name\": \"C\", \"text\": \"\", \"type\": \"scatter\", \"x\": [0.49209094387433777, 0.9062738969829228, 0.17329610259510156, -0.10736420792233334, 0.6105223392819806, -1.691053205670486, 1.728568659259317, -1.2008015945078236, -1.9179174593378803, -0.3579727607746801, 1.1705371096116617, 0.47667608570186953, 0.4776399709111016, -0.9461143733421219, -0.4131117792381057, -1.1115425891296822, 1.2860346537356238, 0.3271027808073432, 0.5159953352965916, 0.27729083117100445, 0.7752711293926082, 0.7312747438193341, 1.2198693462173729, 0.6601897806334215, -1.1484082051607591, -0.3601506624529033, 0.21892965155005714, -0.7446991443981005, -1.6010064110796367, 1.3027877160597294, 2.637352783614263, -1.164496585131879, -0.7988405568663156, 0.11240713416388613, 1.048160908681509, 0.5619149248158571, 0.06147046441390483, -0.5124104027274924, 1.0115304797672606, -1.0608392192028855, -0.1749354641614772, 0.6544231807132385, -0.2380150085031945, -1.0382675925006104, -0.9786969318035704, 0.9353387685518132, 0.6186048691727825, -1.051367316882182, 0.5481837683884434, 1.0869489723875991, -0.8276597485186798, -1.1423774236881996, -0.5987684068731174, 2.262905971559901, 0.8269721442349901, -1.3517187768902508, 0.3046845694376493, -1.5691671988994118, -1.6147450747653498, 0.9385118541776004, 1.3772116111856814, -0.3887872739543808, -0.04981835019742325, 0.49369312086794365, 1.6798331571822096, 1.0567192540587917, 0.47869354866514785, -1.24362767645016, 0.3188194983492261, 0.6847930611588089, 0.357196047620388, -1.0419965151392447, 0.2547774715058307, -0.29597959868541857, -0.6981530674093167, -0.07526311848588445, -0.18163384482479397, 0.31075032419206056, -0.19408849419085747, 1.5738822461027282, -0.08032086069342659, 1.059622216455474, -1.320266007365862, 1.8918701425077586, 0.28571864790101287, 1.8446892555185024, -1.045913687048723, -0.39532679311263735, -0.7580947693260994, -0.247466127162814, 1.210722428462035, -1.4024327566377963, 0.5632509162805431, -0.13694559351436295, -0.08578184302281991, 0.7981344850479162, -1.7176037255632028, 1.9520742819822292, -0.3330151467131199, 0.027219819562331278], \"xaxis\": \"x12\", \"y\": [-2.3073638620301433, -0.9962041490678315, 1.3208116314786846, -0.025390771166009407, -0.9648363933317966, 0.24326610193825265, 0.7833001534921529, -0.8663752013312572, 0.28426532861252757, 1.8525904754774485, 0.5164054496741013, 1.2303099931032626, 0.5360513363234279, 0.7314049395469593, -0.05158527579854278, -0.5217391984873557, 0.6011760081316192, 0.09789419963031891, -0.4874882753947355, -0.2989607053704855, 0.9383987116683369, -0.29624269819989724, -3.0132871456839267, -0.2600934938003665, -0.5169579690827044, -0.8119315582610903, -0.34731928941074086, -1.820136372657824, 1.2256674920965915, -1.5566391864661864, -0.06809802410845756, -0.2871133753382355, 0.9244116752222192, -0.6759585741687546, -0.6744735212611921, -1.6040426177574216, 1.2850611144199247, 0.8279989883462856, -0.2878489752861659, -0.23566306928665398, 1.3076158299163698, -1.6401124481321587, 0.546773763745836, 0.2763863222089421, 0.1382460666083625, 0.34761977999188315, 0.18678832068275122, -0.7826894546849915, -0.22804525413889637, -0.27774414758352944, -0.679220647452501, -0.5321792137613572, -1.1818314843254512, -0.24222642777041425, 0.2594990627819901, 1.6806485495058059, 1.2494555826282385, 1.7561180265516112, -0.18337912849127272, 0.1986178157101335, 1.1144016939165797, -1.1232355481853946, 0.3312435482633644, -0.5356280710427399, -0.3475497394030127, 1.3188617574462058, -0.03536711573532913, 0.8809219197152772, 0.0944716655023659, 0.4550279458603338, 1.8136067916398246, -0.18360533019846725, -0.23021685288304736, 0.3406496620591469, 1.4145557922085121, 0.5315204905167306, -1.640263959883622, -1.0955524713900873, -1.4774176081870156, -0.33843055481629236, 0.07218683504377033, -1.3554867431755546, -0.24673020354673178, -1.826836764908707, -0.5894495017125044, -1.5883001645521029, 1.9347900221285799, 0.9264335949306093, -0.19619855277123432, 1.311730305133455, -0.005833191408164211, -0.15789828864743358, 0.1270696407524092, 1.6577163232652115, -0.05443421620407633, 1.2837041675848508, 0.5593938838023739, -1.5122145518614358, -1.3051058219297798, -0.09372562766382454], \"yaxis\": \"y12\"}, {\"line\": {\"color\": \"rgba(128, 128, 128, 1.0)\", \"dash\": \"solid\", \"shape\": \"linear\", \"width\": 1.3}, \"marker\": {\"size\": 2, \"symbol\": \"circle\"}, \"mode\": \"markers\", \"name\": \"D\", \"text\": \"\", \"type\": \"scatter\", \"x\": [-0.6680661855631249, 0.1949766871965313, 0.03297058007779891, -0.6990703851144047, -1.1904809035565296, -0.9978851799370811, -1.8582319261511087, -0.5267661337775508, -1.5686461478635814, -1.0627343935664582, 0.9661118140498371, 0.565313506626537, -1.4206021024681288, 0.6560188287072177, 0.5342773017547415, 0.4439743344940591, 0.6052930388775157, 0.7164107464286641, 0.9375280230990192, -0.8939516328602036, 0.4924348203413822, -2.1780131590071496, -0.5438072379862946, -0.9334923463833898, 0.6713486104662258, -0.7065440484824034, -1.3874324539214875, -0.8896410077863353, -0.07984657932136635, -0.12572505592806968, 0.8137383767766075, -1.858491455192245, -0.3724586312111986, 2.402354817353567, 1.0410195382811984, -1.5139559628272126, 0.8076529167916344, -0.3035271559810558, 2.4116330281807286, 2.1223346600953814, 0.16436122619428503, -0.46652198272400175, 0.24256961333364677, 0.2863986325603095, -3.099977310251452, 0.3417341517045552, -1.229051663697874, -0.0825055265741576, 0.5643689745296832, 0.2643607398377007, 0.8404584998456432, -0.9599932628266316, 0.9620952929558358, 2.1487719813839155, 0.8702399277132442, -0.6786256915599027, -0.551562117174487, -0.7569418009249309, -0.7578840771473123, -0.7979818046465237, 1.7875060506298361, -1.1376330255000242, -1.7296967915248824, 1.0120261071074859, 0.07626292262330708, -0.5161229432965986, -1.9828965516645491, 1.2236247293138747, -1.4987687258773836, 0.728921907199498, -1.0224292690506944, 0.7636030501956129, -1.4035448034462434, 0.8741822629080838, -1.575143589119851, 0.5783812385108045, -0.9559912307275771, -0.06416912485000843, 1.5340650493135644, 1.0625590148885438, 0.8926470152500349, -0.10936690562114973, -0.24245197468062515, 1.5191649065321466, 0.736591302550211, 0.3806355692794749, -0.19094272495077746, -0.4809111086547659, -1.3393209311998107, 0.3444845242142359, -0.308530466508197, 0.5971519605520483, -0.2961393984777049, 2.0527924932523907, -0.42898583486115943, 0.7361587789620776, -0.6655264065881279, 0.4869596491478256, -0.42392394888161156, 0.0960209955254644], \"xaxis\": \"x13\", \"y\": [0.49209094387433777, 0.9062738969829228, 0.17329610259510156, -0.10736420792233334, 0.6105223392819806, -1.691053205670486, 1.728568659259317, -1.2008015945078236, -1.9179174593378803, -0.3579727607746801, 1.1705371096116617, 0.47667608570186953, 0.4776399709111016, -0.9461143733421219, -0.4131117792381057, -1.1115425891296822, 1.2860346537356238, 0.3271027808073432, 0.5159953352965916, 0.27729083117100445, 0.7752711293926082, 0.7312747438193341, 1.2198693462173729, 0.6601897806334215, -1.1484082051607591, -0.3601506624529033, 0.21892965155005714, -0.7446991443981005, -1.6010064110796367, 1.3027877160597294, 2.637352783614263, -1.164496585131879, -0.7988405568663156, 0.11240713416388613, 1.048160908681509, 0.5619149248158571, 0.06147046441390483, -0.5124104027274924, 1.0115304797672606, -1.0608392192028855, -0.1749354641614772, 0.6544231807132385, -0.2380150085031945, -1.0382675925006104, -0.9786969318035704, 0.9353387685518132, 0.6186048691727825, -1.051367316882182, 0.5481837683884434, 1.0869489723875991, -0.8276597485186798, -1.1423774236881996, -0.5987684068731174, 2.262905971559901, 0.8269721442349901, -1.3517187768902508, 0.3046845694376493, -1.5691671988994118, -1.6147450747653498, 0.9385118541776004, 1.3772116111856814, -0.3887872739543808, -0.04981835019742325, 0.49369312086794365, 1.6798331571822096, 1.0567192540587917, 0.47869354866514785, -1.24362767645016, 0.3188194983492261, 0.6847930611588089, 0.357196047620388, -1.0419965151392447, 0.2547774715058307, -0.29597959868541857, -0.6981530674093167, -0.07526311848588445, -0.18163384482479397, 0.31075032419206056, -0.19408849419085747, 1.5738822461027282, -0.08032086069342659, 1.059622216455474, -1.320266007365862, 1.8918701425077586, 0.28571864790101287, 1.8446892555185024, -1.045913687048723, -0.39532679311263735, -0.7580947693260994, -0.247466127162814, 1.210722428462035, -1.4024327566377963, 0.5632509162805431, -0.13694559351436295, -0.08578184302281991, 0.7981344850479162, -1.7176037255632028, 1.9520742819822292, -0.3330151467131199, 0.027219819562331278], \"yaxis\": \"y13\"}, {\"line\": {\"color\": \"rgba(128, 128, 128, 1.0)\", \"dash\": \"solid\", \"shape\": \"linear\", \"width\": 1.3}, \"marker\": {\"size\": 2, \"symbol\": \"circle\"}, \"mode\": \"markers\", \"name\": \"D\", \"text\": \"\", \"type\": \"scatter\", \"x\": [-0.6810784119889212, -0.12672851621571565, -2.0807241915160843, 2.1123832635269437, -0.037441185918270566, -0.8419160328363937, -0.965051019475013, 0.8311693286344598, -0.12892638840714116, -0.3223623657442055, -0.2651621978066173, 0.5751051482978644, -1.5954080823970926, 0.35868808673820946, 2.472151302817571, 0.262160516152913, -0.34492136425427206, 2.642740897818084, 0.41347183169097945, 1.4222362844595409, 1.0478656163489362, -1.4989625631723997, -1.1573817060636589, -0.1902543592584037, -1.5924763685255088, -0.04356499912556374, -0.32646573064441586, 1.4195081126291589, 1.3506300184179498, -1.8861410729263206, 0.6078372185494824, 0.5896587847914512, -1.8647497848327925, 0.16162438429861858, 0.6426130692999505, 1.7639945077246302, 0.7761834037906911, 0.421145954098237, 0.1854040095139653, 0.9429598683866964, -0.7099509267598096, -1.7564388380669502, 1.3881239407102857, -1.3120206969144075, -1.2360995942787971, -0.10177615060000193, 1.207999550088633, 0.11356010121118484, -0.13811616381196112, 1.3505494572062853, 1.0177776805673846, -1.4837634818277279, -0.6319011207391553, 0.20812478489292638, -0.08134859369177261, -0.7277076405660484, 0.840470334848689, -1.7870213204890557, 0.03588632950819402, -0.3733539244362292, 0.43292408303107593, -0.5686082275326253, -0.6758945175654862, -0.6070459436824658, 1.1050416756450765, -0.059510924986301804, 0.8447858158747069, 0.499972993569185, -0.13434501044250866, -1.8070564697994906, -1.714991039757765, -0.3751013035128291, 1.0953223101313094, -1.4369805212753772, 0.39107212877171116, -0.2516191386082863, 0.22228696010046495, 0.1725199646415227, -1.050096031944785, 0.5061413187280068, -0.12351473087442927, -0.7146092641508545, 0.4954838312980374, 1.3551362084378633, 0.9634550093677506, 1.0479339303158377, 1.059923568234994, -0.7117493946644667, -1.0699478167895864, -0.2362919262806339, 1.403646945157495, 0.28071705389078044, -0.15182662408610997, 0.17489614347413823, -0.9742686872933056, 0.1786922050680465, -0.6273672164757751, -0.4488967123079796, -1.4551355833120438, -1.0757746516273758], \"xaxis\": \"x14\", \"y\": [0.49209094387433777, 0.9062738969829228, 0.17329610259510156, -0.10736420792233334, 0.6105223392819806, -1.691053205670486, 1.728568659259317, -1.2008015945078236, -1.9179174593378803, -0.3579727607746801, 1.1705371096116617, 0.47667608570186953, 0.4776399709111016, -0.9461143733421219, -0.4131117792381057, -1.1115425891296822, 1.2860346537356238, 0.3271027808073432, 0.5159953352965916, 0.27729083117100445, 0.7752711293926082, 0.7312747438193341, 1.2198693462173729, 0.6601897806334215, -1.1484082051607591, -0.3601506624529033, 0.21892965155005714, -0.7446991443981005, -1.6010064110796367, 1.3027877160597294, 2.637352783614263, -1.164496585131879, -0.7988405568663156, 0.11240713416388613, 1.048160908681509, 0.5619149248158571, 0.06147046441390483, -0.5124104027274924, 1.0115304797672606, -1.0608392192028855, -0.1749354641614772, 0.6544231807132385, -0.2380150085031945, -1.0382675925006104, -0.9786969318035704, 0.9353387685518132, 0.6186048691727825, -1.051367316882182, 0.5481837683884434, 1.0869489723875991, -0.8276597485186798, -1.1423774236881996, -0.5987684068731174, 2.262905971559901, 0.8269721442349901, -1.3517187768902508, 0.3046845694376493, -1.5691671988994118, -1.6147450747653498, 0.9385118541776004, 1.3772116111856814, -0.3887872739543808, -0.04981835019742325, 0.49369312086794365, 1.6798331571822096, 1.0567192540587917, 0.47869354866514785, -1.24362767645016, 0.3188194983492261, 0.6847930611588089, 0.357196047620388, -1.0419965151392447, 0.2547774715058307, -0.29597959868541857, -0.6981530674093167, -0.07526311848588445, -0.18163384482479397, 0.31075032419206056, -0.19408849419085747, 1.5738822461027282, -0.08032086069342659, 1.059622216455474, -1.320266007365862, 1.8918701425077586, 0.28571864790101287, 1.8446892555185024, -1.045913687048723, -0.39532679311263735, -0.7580947693260994, -0.247466127162814, 1.210722428462035, -1.4024327566377963, 0.5632509162805431, -0.13694559351436295, -0.08578184302281991, 0.7981344850479162, -1.7176037255632028, 1.9520742819822292, -0.3330151467131199, 0.027219819562331278], \"yaxis\": \"y14\"}, {\"line\": {\"color\": \"rgba(128, 128, 128, 1.0)\", \"dash\": \"solid\", \"shape\": \"linear\", \"width\": 1.3}, \"marker\": {\"size\": 2, \"symbol\": \"circle\"}, \"mode\": \"markers\", \"name\": \"D\", \"text\": \"\", \"type\": \"scatter\", \"x\": [-2.3073638620301433, -0.9962041490678315, 1.3208116314786846, -0.025390771166009407, -0.9648363933317966, 0.24326610193825265, 0.7833001534921529, -0.8663752013312572, 0.28426532861252757, 1.8525904754774485, 0.5164054496741013, 1.2303099931032626, 0.5360513363234279, 0.7314049395469593, -0.05158527579854278, -0.5217391984873557, 0.6011760081316192, 0.09789419963031891, -0.4874882753947355, -0.2989607053704855, 0.9383987116683369, -0.29624269819989724, -3.0132871456839267, -0.2600934938003665, -0.5169579690827044, -0.8119315582610903, -0.34731928941074086, -1.820136372657824, 1.2256674920965915, -1.5566391864661864, -0.06809802410845756, -0.2871133753382355, 0.9244116752222192, -0.6759585741687546, -0.6744735212611921, -1.6040426177574216, 1.2850611144199247, 0.8279989883462856, -0.2878489752861659, -0.23566306928665398, 1.3076158299163698, -1.6401124481321587, 0.546773763745836, 0.2763863222089421, 0.1382460666083625, 0.34761977999188315, 0.18678832068275122, -0.7826894546849915, -0.22804525413889637, -0.27774414758352944, -0.679220647452501, -0.5321792137613572, -1.1818314843254512, -0.24222642777041425, 0.2594990627819901, 1.6806485495058059, 1.2494555826282385, 1.7561180265516112, -0.18337912849127272, 0.1986178157101335, 1.1144016939165797, -1.1232355481853946, 0.3312435482633644, -0.5356280710427399, -0.3475497394030127, 1.3188617574462058, -0.03536711573532913, 0.8809219197152772, 0.0944716655023659, 0.4550279458603338, 1.8136067916398246, -0.18360533019846725, -0.23021685288304736, 0.3406496620591469, 1.4145557922085121, 0.5315204905167306, -1.640263959883622, -1.0955524713900873, -1.4774176081870156, -0.33843055481629236, 0.07218683504377033, -1.3554867431755546, -0.24673020354673178, -1.826836764908707, -0.5894495017125044, -1.5883001645521029, 1.9347900221285799, 0.9264335949306093, -0.19619855277123432, 1.311730305133455, -0.005833191408164211, -0.15789828864743358, 0.1270696407524092, 1.6577163232652115, -0.05443421620407633, 1.2837041675848508, 0.5593938838023739, -1.5122145518614358, -1.3051058219297798, -0.09372562766382454], \"xaxis\": \"x15\", \"y\": [0.49209094387433777, 0.9062738969829228, 0.17329610259510156, -0.10736420792233334, 0.6105223392819806, -1.691053205670486, 1.728568659259317, -1.2008015945078236, -1.9179174593378803, -0.3579727607746801, 1.1705371096116617, 0.47667608570186953, 0.4776399709111016, -0.9461143733421219, -0.4131117792381057, -1.1115425891296822, 1.2860346537356238, 0.3271027808073432, 0.5159953352965916, 0.27729083117100445, 0.7752711293926082, 0.7312747438193341, 1.2198693462173729, 0.6601897806334215, -1.1484082051607591, -0.3601506624529033, 0.21892965155005714, -0.7446991443981005, -1.6010064110796367, 1.3027877160597294, 2.637352783614263, -1.164496585131879, -0.7988405568663156, 0.11240713416388613, 1.048160908681509, 0.5619149248158571, 0.06147046441390483, -0.5124104027274924, 1.0115304797672606, -1.0608392192028855, -0.1749354641614772, 0.6544231807132385, -0.2380150085031945, -1.0382675925006104, -0.9786969318035704, 0.9353387685518132, 0.6186048691727825, -1.051367316882182, 0.5481837683884434, 1.0869489723875991, -0.8276597485186798, -1.1423774236881996, -0.5987684068731174, 2.262905971559901, 0.8269721442349901, -1.3517187768902508, 0.3046845694376493, -1.5691671988994118, -1.6147450747653498, 0.9385118541776004, 1.3772116111856814, -0.3887872739543808, -0.04981835019742325, 0.49369312086794365, 1.6798331571822096, 1.0567192540587917, 0.47869354866514785, -1.24362767645016, 0.3188194983492261, 0.6847930611588089, 0.357196047620388, -1.0419965151392447, 0.2547774715058307, -0.29597959868541857, -0.6981530674093167, -0.07526311848588445, -0.18163384482479397, 0.31075032419206056, -0.19408849419085747, 1.5738822461027282, -0.08032086069342659, 1.059622216455474, -1.320266007365862, 1.8918701425077586, 0.28571864790101287, 1.8446892555185024, -1.045913687048723, -0.39532679311263735, -0.7580947693260994, -0.247466127162814, 1.210722428462035, -1.4024327566377963, 0.5632509162805431, -0.13694559351436295, -0.08578184302281991, 0.7981344850479162, -1.7176037255632028, 1.9520742819822292, -0.3330151467131199, 0.027219819562331278], \"yaxis\": \"y15\"}, {\"histfunc\": \"count\", \"histnorm\": \"\", \"marker\": {\"color\": \"rgba(128, 0, 128, 1.0)\", \"line\": {\"color\": \"#4D5663\", \"width\": 1.3}}, \"name\": \"D\", \"nbinsx\": 10, \"opacity\": 0.8, \"orientation\": \"v\", \"type\": \"histogram\", \"x\": [0.49209094387433777, 0.9062738969829228, 0.17329610259510156, -0.10736420792233334, 0.6105223392819806, -1.691053205670486, 1.728568659259317, -1.2008015945078236, -1.9179174593378803, -0.3579727607746801, 1.1705371096116617, 0.47667608570186953, 0.4776399709111016, -0.9461143733421219, -0.4131117792381057, -1.1115425891296822, 1.2860346537356238, 0.3271027808073432, 0.5159953352965916, 0.27729083117100445, 0.7752711293926082, 0.7312747438193341, 1.2198693462173729, 0.6601897806334215, -1.1484082051607591, -0.3601506624529033, 0.21892965155005714, -0.7446991443981005, -1.6010064110796367, 1.3027877160597294, 2.637352783614263, -1.164496585131879, -0.7988405568663156, 0.11240713416388613, 1.048160908681509, 0.5619149248158571, 0.06147046441390483, -0.5124104027274924, 1.0115304797672606, -1.0608392192028855, -0.1749354641614772, 0.6544231807132385, -0.2380150085031945, -1.0382675925006104, -0.9786969318035704, 0.9353387685518132, 0.6186048691727825, -1.051367316882182, 0.5481837683884434, 1.0869489723875991, -0.8276597485186798, -1.1423774236881996, -0.5987684068731174, 2.262905971559901, 0.8269721442349901, -1.3517187768902508, 0.3046845694376493, -1.5691671988994118, -1.6147450747653498, 0.9385118541776004, 1.3772116111856814, -0.3887872739543808, -0.04981835019742325, 0.49369312086794365, 1.6798331571822096, 1.0567192540587917, 0.47869354866514785, -1.24362767645016, 0.3188194983492261, 0.6847930611588089, 0.357196047620388, -1.0419965151392447, 0.2547774715058307, -0.29597959868541857, -0.6981530674093167, -0.07526311848588445, -0.18163384482479397, 0.31075032419206056, -0.19408849419085747, 1.5738822461027282, -0.08032086069342659, 1.059622216455474, -1.320266007365862, 1.8918701425077586, 0.28571864790101287, 1.8446892555185024, -1.045913687048723, -0.39532679311263735, -0.7580947693260994, -0.247466127162814, 1.210722428462035, -1.4024327566377963, 0.5632509162805431, -0.13694559351436295, -0.08578184302281991, 0.7981344850479162, -1.7176037255632028, 1.9520742819822292, -0.3330151467131199, 0.027219819562331278], \"xaxis\": \"x16\", \"yaxis\": \"y16\"}],\n",
       "                        {\"bargap\": 0.02, \"legend\": {\"bgcolor\": \"#F5F6F9\", \"font\": {\"color\": \"#4D5663\"}}, \"paper_bgcolor\": \"#F5F6F9\", \"plot_bgcolor\": \"#F5F6F9\", \"showlegend\": false, \"template\": {\"data\": {\"bar\": [{\"error_x\": {\"color\": \"#2a3f5f\"}, \"error_y\": {\"color\": \"#2a3f5f\"}, \"marker\": {\"line\": {\"color\": \"#E5ECF6\", \"width\": 0.5}}, \"type\": \"bar\"}], \"barpolar\": [{\"marker\": {\"line\": {\"color\": \"#E5ECF6\", \"width\": 0.5}}, \"type\": \"barpolar\"}], \"carpet\": [{\"aaxis\": {\"endlinecolor\": \"#2a3f5f\", \"gridcolor\": \"white\", \"linecolor\": \"white\", \"minorgridcolor\": \"white\", \"startlinecolor\": \"#2a3f5f\"}, \"baxis\": {\"endlinecolor\": \"#2a3f5f\", \"gridcolor\": \"white\", \"linecolor\": \"white\", \"minorgridcolor\": \"white\", \"startlinecolor\": \"#2a3f5f\"}, \"type\": \"carpet\"}], \"choropleth\": [{\"colorbar\": {\"outlinewidth\": 0, \"ticks\": \"\"}, \"type\": \"choropleth\"}], \"contour\": [{\"colorbar\": {\"outlinewidth\": 0, \"ticks\": \"\"}, \"colorscale\": [[0.0, \"#0d0887\"], [0.1111111111111111, \"#46039f\"], [0.2222222222222222, \"#7201a8\"], [0.3333333333333333, \"#9c179e\"], [0.4444444444444444, \"#bd3786\"], [0.5555555555555556, \"#d8576b\"], [0.6666666666666666, \"#ed7953\"], [0.7777777777777778, \"#fb9f3a\"], [0.8888888888888888, \"#fdca26\"], [1.0, \"#f0f921\"]], \"type\": \"contour\"}], \"contourcarpet\": [{\"colorbar\": {\"outlinewidth\": 0, \"ticks\": \"\"}, \"type\": \"contourcarpet\"}], \"heatmap\": [{\"colorbar\": {\"outlinewidth\": 0, \"ticks\": \"\"}, \"colorscale\": [[0.0, \"#0d0887\"], [0.1111111111111111, \"#46039f\"], [0.2222222222222222, \"#7201a8\"], [0.3333333333333333, \"#9c179e\"], [0.4444444444444444, \"#bd3786\"], [0.5555555555555556, \"#d8576b\"], [0.6666666666666666, \"#ed7953\"], [0.7777777777777778, \"#fb9f3a\"], [0.8888888888888888, \"#fdca26\"], [1.0, \"#f0f921\"]], \"type\": \"heatmap\"}], \"heatmapgl\": [{\"colorbar\": {\"outlinewidth\": 0, \"ticks\": \"\"}, \"colorscale\": [[0.0, \"#0d0887\"], [0.1111111111111111, \"#46039f\"], [0.2222222222222222, \"#7201a8\"], [0.3333333333333333, \"#9c179e\"], [0.4444444444444444, \"#bd3786\"], [0.5555555555555556, \"#d8576b\"], [0.6666666666666666, \"#ed7953\"], [0.7777777777777778, \"#fb9f3a\"], [0.8888888888888888, \"#fdca26\"], [1.0, \"#f0f921\"]], \"type\": \"heatmapgl\"}], \"histogram\": [{\"marker\": {\"colorbar\": {\"outlinewidth\": 0, \"ticks\": \"\"}}, \"type\": \"histogram\"}], \"histogram2d\": [{\"colorbar\": {\"outlinewidth\": 0, \"ticks\": \"\"}, \"colorscale\": [[0.0, \"#0d0887\"], [0.1111111111111111, \"#46039f\"], [0.2222222222222222, \"#7201a8\"], [0.3333333333333333, \"#9c179e\"], [0.4444444444444444, \"#bd3786\"], [0.5555555555555556, \"#d8576b\"], [0.6666666666666666, \"#ed7953\"], [0.7777777777777778, \"#fb9f3a\"], [0.8888888888888888, \"#fdca26\"], [1.0, \"#f0f921\"]], \"type\": \"histogram2d\"}], \"histogram2dcontour\": [{\"colorbar\": {\"outlinewidth\": 0, \"ticks\": \"\"}, \"colorscale\": [[0.0, \"#0d0887\"], [0.1111111111111111, \"#46039f\"], [0.2222222222222222, \"#7201a8\"], [0.3333333333333333, \"#9c179e\"], [0.4444444444444444, \"#bd3786\"], [0.5555555555555556, \"#d8576b\"], [0.6666666666666666, \"#ed7953\"], [0.7777777777777778, \"#fb9f3a\"], [0.8888888888888888, \"#fdca26\"], [1.0, \"#f0f921\"]], \"type\": \"histogram2dcontour\"}], \"mesh3d\": [{\"colorbar\": {\"outlinewidth\": 0, \"ticks\": \"\"}, \"type\": \"mesh3d\"}], \"parcoords\": [{\"line\": {\"colorbar\": {\"outlinewidth\": 0, \"ticks\": \"\"}}, \"type\": \"parcoords\"}], \"pie\": [{\"automargin\": true, \"type\": \"pie\"}], \"scatter\": [{\"marker\": {\"colorbar\": {\"outlinewidth\": 0, \"ticks\": \"\"}}, \"type\": \"scatter\"}], \"scatter3d\": [{\"line\": {\"colorbar\": {\"outlinewidth\": 0, \"ticks\": \"\"}}, \"marker\": {\"colorbar\": {\"outlinewidth\": 0, \"ticks\": \"\"}}, \"type\": \"scatter3d\"}], \"scattercarpet\": [{\"marker\": {\"colorbar\": {\"outlinewidth\": 0, \"ticks\": \"\"}}, \"type\": \"scattercarpet\"}], \"scattergeo\": [{\"marker\": {\"colorbar\": {\"outlinewidth\": 0, \"ticks\": \"\"}}, \"type\": \"scattergeo\"}], \"scattergl\": [{\"marker\": {\"colorbar\": {\"outlinewidth\": 0, \"ticks\": \"\"}}, \"type\": \"scattergl\"}], \"scattermapbox\": [{\"marker\": {\"colorbar\": {\"outlinewidth\": 0, \"ticks\": \"\"}}, \"type\": \"scattermapbox\"}], \"scatterpolar\": [{\"marker\": {\"colorbar\": {\"outlinewidth\": 0, \"ticks\": \"\"}}, \"type\": \"scatterpolar\"}], \"scatterpolargl\": [{\"marker\": {\"colorbar\": {\"outlinewidth\": 0, \"ticks\": \"\"}}, \"type\": \"scatterpolargl\"}], \"scatterternary\": [{\"marker\": {\"colorbar\": {\"outlinewidth\": 0, \"ticks\": \"\"}}, \"type\": \"scatterternary\"}], \"surface\": [{\"colorbar\": {\"outlinewidth\": 0, \"ticks\": \"\"}, \"colorscale\": [[0.0, \"#0d0887\"], [0.1111111111111111, \"#46039f\"], [0.2222222222222222, \"#7201a8\"], [0.3333333333333333, \"#9c179e\"], [0.4444444444444444, \"#bd3786\"], [0.5555555555555556, \"#d8576b\"], [0.6666666666666666, \"#ed7953\"], [0.7777777777777778, \"#fb9f3a\"], [0.8888888888888888, \"#fdca26\"], [1.0, \"#f0f921\"]], \"type\": \"surface\"}], \"table\": [{\"cells\": {\"fill\": {\"color\": \"#EBF0F8\"}, \"line\": {\"color\": \"white\"}}, \"header\": {\"fill\": {\"color\": \"#C8D4E3\"}, \"line\": {\"color\": \"white\"}}, \"type\": \"table\"}]}, \"layout\": {\"annotationdefaults\": {\"arrowcolor\": \"#2a3f5f\", \"arrowhead\": 0, \"arrowwidth\": 1}, \"coloraxis\": {\"colorbar\": {\"outlinewidth\": 0, \"ticks\": \"\"}}, \"colorscale\": {\"diverging\": [[0, \"#8e0152\"], [0.1, \"#c51b7d\"], [0.2, \"#de77ae\"], [0.3, \"#f1b6da\"], [0.4, \"#fde0ef\"], [0.5, \"#f7f7f7\"], [0.6, \"#e6f5d0\"], [0.7, \"#b8e186\"], [0.8, \"#7fbc41\"], [0.9, \"#4d9221\"], [1, \"#276419\"]], \"sequential\": [[0.0, \"#0d0887\"], [0.1111111111111111, \"#46039f\"], [0.2222222222222222, \"#7201a8\"], [0.3333333333333333, \"#9c179e\"], [0.4444444444444444, \"#bd3786\"], [0.5555555555555556, \"#d8576b\"], [0.6666666666666666, \"#ed7953\"], [0.7777777777777778, \"#fb9f3a\"], [0.8888888888888888, \"#fdca26\"], [1.0, \"#f0f921\"]], \"sequentialminus\": [[0.0, \"#0d0887\"], [0.1111111111111111, \"#46039f\"], [0.2222222222222222, \"#7201a8\"], [0.3333333333333333, \"#9c179e\"], [0.4444444444444444, \"#bd3786\"], [0.5555555555555556, \"#d8576b\"], [0.6666666666666666, \"#ed7953\"], [0.7777777777777778, \"#fb9f3a\"], [0.8888888888888888, \"#fdca26\"], [1.0, \"#f0f921\"]]}, \"colorway\": [\"#636efa\", \"#EF553B\", \"#00cc96\", \"#ab63fa\", \"#FFA15A\", \"#19d3f3\", \"#FF6692\", \"#B6E880\", \"#FF97FF\", \"#FECB52\"], \"font\": {\"color\": \"#2a3f5f\"}, \"geo\": {\"bgcolor\": \"white\", \"lakecolor\": \"white\", \"landcolor\": \"#E5ECF6\", \"showlakes\": true, \"showland\": true, \"subunitcolor\": \"white\"}, \"hoverlabel\": {\"align\": \"left\"}, \"hovermode\": \"closest\", \"mapbox\": {\"style\": \"light\"}, \"paper_bgcolor\": \"white\", \"plot_bgcolor\": \"#E5ECF6\", \"polar\": {\"angularaxis\": {\"gridcolor\": \"white\", \"linecolor\": \"white\", \"ticks\": \"\"}, \"bgcolor\": \"#E5ECF6\", \"radialaxis\": {\"gridcolor\": \"white\", \"linecolor\": \"white\", \"ticks\": \"\"}}, \"scene\": {\"xaxis\": {\"backgroundcolor\": \"#E5ECF6\", \"gridcolor\": \"white\", \"gridwidth\": 2, \"linecolor\": \"white\", \"showbackground\": true, \"ticks\": \"\", \"zerolinecolor\": \"white\"}, \"yaxis\": {\"backgroundcolor\": \"#E5ECF6\", \"gridcolor\": \"white\", \"gridwidth\": 2, \"linecolor\": \"white\", \"showbackground\": true, \"ticks\": \"\", \"zerolinecolor\": \"white\"}, \"zaxis\": {\"backgroundcolor\": \"#E5ECF6\", \"gridcolor\": \"white\", \"gridwidth\": 2, \"linecolor\": \"white\", \"showbackground\": true, \"ticks\": \"\", \"zerolinecolor\": \"white\"}}, \"shapedefaults\": {\"line\": {\"color\": \"#2a3f5f\"}}, \"ternary\": {\"aaxis\": {\"gridcolor\": \"white\", \"linecolor\": \"white\", \"ticks\": \"\"}, \"baxis\": {\"gridcolor\": \"white\", \"linecolor\": \"white\", \"ticks\": \"\"}, \"bgcolor\": \"#E5ECF6\", \"caxis\": {\"gridcolor\": \"white\", \"linecolor\": \"white\", \"ticks\": \"\"}}, \"title\": {\"x\": 0.05}, \"xaxis\": {\"automargin\": true, \"gridcolor\": \"white\", \"linecolor\": \"white\", \"ticks\": \"\", \"title\": {\"standoff\": 15}, \"zerolinecolor\": \"white\", \"zerolinewidth\": 2}, \"yaxis\": {\"automargin\": true, \"gridcolor\": \"white\", \"linecolor\": \"white\", \"ticks\": \"\", \"title\": {\"standoff\": 15}, \"zerolinecolor\": \"white\", \"zerolinewidth\": 2}}}, \"title\": {\"font\": {\"color\": \"#4D5663\"}}, \"xaxis\": {\"anchor\": \"y\", \"domain\": [0.0, 0.2125], \"gridcolor\": \"#E1E5ED\", \"showgrid\": false, \"tickfont\": {\"color\": \"#4D5663\"}, \"title\": {\"font\": {\"color\": \"#4D5663\"}, \"text\": \"\"}, \"zerolinecolor\": \"#E1E5ED\"}, \"xaxis10\": {\"anchor\": \"y10\", \"domain\": [0.2625, 0.475], \"gridcolor\": \"#E1E5ED\", \"showgrid\": false, \"tickfont\": {\"color\": \"#4D5663\"}, \"title\": {\"font\": {\"color\": \"#4D5663\"}, \"text\": \"\"}, \"zerolinecolor\": \"#E1E5ED\"}, \"xaxis11\": {\"anchor\": \"y11\", \"domain\": [0.525, 0.7375], \"gridcolor\": \"#E1E5ED\", \"showgrid\": false, \"tickfont\": {\"color\": \"#4D5663\"}, \"title\": {\"font\": {\"color\": \"#4D5663\"}, \"text\": \"\"}, \"zerolinecolor\": \"#E1E5ED\"}, \"xaxis12\": {\"anchor\": \"y12\", \"domain\": [0.7875, 1.0], \"gridcolor\": \"#E1E5ED\", \"showgrid\": false, \"tickfont\": {\"color\": \"#4D5663\"}, \"title\": {\"font\": {\"color\": \"#4D5663\"}, \"text\": \"\"}, \"zerolinecolor\": \"#E1E5ED\"}, \"xaxis13\": {\"anchor\": \"y13\", \"domain\": [0.0, 0.2125], \"gridcolor\": \"#E1E5ED\", \"showgrid\": false, \"tickfont\": {\"color\": \"#4D5663\"}, \"title\": {\"font\": {\"color\": \"#4D5663\"}, \"text\": \"\"}, \"zerolinecolor\": \"#E1E5ED\"}, \"xaxis14\": {\"anchor\": \"y14\", \"domain\": [0.2625, 0.475], \"gridcolor\": \"#E1E5ED\", \"showgrid\": false, \"tickfont\": {\"color\": \"#4D5663\"}, \"title\": {\"font\": {\"color\": \"#4D5663\"}, \"text\": \"\"}, \"zerolinecolor\": \"#E1E5ED\"}, \"xaxis15\": {\"anchor\": \"y15\", \"domain\": [0.525, 0.7375], \"gridcolor\": \"#E1E5ED\", \"showgrid\": false, \"tickfont\": {\"color\": \"#4D5663\"}, \"title\": {\"font\": {\"color\": \"#4D5663\"}, \"text\": \"\"}, \"zerolinecolor\": \"#E1E5ED\"}, \"xaxis16\": {\"anchor\": \"y16\", \"domain\": [0.7875, 1.0], \"gridcolor\": \"#E1E5ED\", \"showgrid\": false, \"tickfont\": {\"color\": \"#4D5663\"}, \"title\": {\"font\": {\"color\": \"#4D5663\"}, \"text\": \"\"}, \"zerolinecolor\": \"#E1E5ED\"}, \"xaxis2\": {\"anchor\": \"y2\", \"domain\": [0.2625, 0.475], \"gridcolor\": \"#E1E5ED\", \"showgrid\": false, \"tickfont\": {\"color\": \"#4D5663\"}, \"title\": {\"font\": {\"color\": \"#4D5663\"}, \"text\": \"\"}, \"zerolinecolor\": \"#E1E5ED\"}, \"xaxis3\": {\"anchor\": \"y3\", \"domain\": [0.525, 0.7375], \"gridcolor\": \"#E1E5ED\", \"showgrid\": false, \"tickfont\": {\"color\": \"#4D5663\"}, \"title\": {\"font\": {\"color\": \"#4D5663\"}, \"text\": \"\"}, \"zerolinecolor\": \"#E1E5ED\"}, \"xaxis4\": {\"anchor\": \"y4\", \"domain\": [0.7875, 1.0], \"gridcolor\": \"#E1E5ED\", \"showgrid\": false, \"tickfont\": {\"color\": \"#4D5663\"}, \"title\": {\"font\": {\"color\": \"#4D5663\"}, \"text\": \"\"}, \"zerolinecolor\": \"#E1E5ED\"}, \"xaxis5\": {\"anchor\": \"y5\", \"domain\": [0.0, 0.2125], \"gridcolor\": \"#E1E5ED\", \"showgrid\": false, \"tickfont\": {\"color\": \"#4D5663\"}, \"title\": {\"font\": {\"color\": \"#4D5663\"}, \"text\": \"\"}, \"zerolinecolor\": \"#E1E5ED\"}, \"xaxis6\": {\"anchor\": \"y6\", \"domain\": [0.2625, 0.475], \"gridcolor\": \"#E1E5ED\", \"showgrid\": false, \"tickfont\": {\"color\": \"#4D5663\"}, \"title\": {\"font\": {\"color\": \"#4D5663\"}, \"text\": \"\"}, \"zerolinecolor\": \"#E1E5ED\"}, \"xaxis7\": {\"anchor\": \"y7\", \"domain\": [0.525, 0.7375], \"gridcolor\": \"#E1E5ED\", \"showgrid\": false, \"tickfont\": {\"color\": \"#4D5663\"}, \"title\": {\"font\": {\"color\": \"#4D5663\"}, \"text\": \"\"}, \"zerolinecolor\": \"#E1E5ED\"}, \"xaxis8\": {\"anchor\": \"y8\", \"domain\": [0.7875, 1.0], \"gridcolor\": \"#E1E5ED\", \"showgrid\": false, \"tickfont\": {\"color\": \"#4D5663\"}, \"title\": {\"font\": {\"color\": \"#4D5663\"}, \"text\": \"\"}, \"zerolinecolor\": \"#E1E5ED\"}, \"xaxis9\": {\"anchor\": \"y9\", \"domain\": [0.0, 0.2125], \"gridcolor\": \"#E1E5ED\", \"showgrid\": false, \"tickfont\": {\"color\": \"#4D5663\"}, \"title\": {\"font\": {\"color\": \"#4D5663\"}, \"text\": \"\"}, \"zerolinecolor\": \"#E1E5ED\"}, \"yaxis\": {\"anchor\": \"x\", \"domain\": [0.8025, 1.0], \"gridcolor\": \"#E1E5ED\", \"showgrid\": false, \"tickfont\": {\"color\": \"#4D5663\"}, \"title\": {\"font\": {\"color\": \"#4D5663\"}, \"text\": \"\"}, \"zerolinecolor\": \"#E1E5ED\"}, \"yaxis10\": {\"anchor\": \"x10\", \"domain\": [0.2675, 0.465], \"gridcolor\": \"#E1E5ED\", \"showgrid\": false, \"tickfont\": {\"color\": \"#4D5663\"}, \"title\": {\"font\": {\"color\": \"#4D5663\"}, \"text\": \"\"}, \"zerolinecolor\": \"#E1E5ED\"}, \"yaxis11\": {\"anchor\": \"x11\", \"domain\": [0.2675, 0.465], \"gridcolor\": \"#E1E5ED\", \"showgrid\": false, \"tickfont\": {\"color\": \"#4D5663\"}, \"title\": {\"font\": {\"color\": \"#4D5663\"}, \"text\": \"\"}, \"zerolinecolor\": \"#E1E5ED\"}, \"yaxis12\": {\"anchor\": \"x12\", \"domain\": [0.2675, 0.465], \"gridcolor\": \"#E1E5ED\", \"showgrid\": false, \"tickfont\": {\"color\": \"#4D5663\"}, \"title\": {\"font\": {\"color\": \"#4D5663\"}, \"text\": \"\"}, \"zerolinecolor\": \"#E1E5ED\"}, \"yaxis13\": {\"anchor\": \"x13\", \"domain\": [0.0, 0.1975], \"gridcolor\": \"#E1E5ED\", \"showgrid\": false, \"tickfont\": {\"color\": \"#4D5663\"}, \"title\": {\"font\": {\"color\": \"#4D5663\"}, \"text\": \"\"}, \"zerolinecolor\": \"#E1E5ED\"}, \"yaxis14\": {\"anchor\": \"x14\", \"domain\": [0.0, 0.1975], \"gridcolor\": \"#E1E5ED\", \"showgrid\": false, \"tickfont\": {\"color\": \"#4D5663\"}, \"title\": {\"font\": {\"color\": \"#4D5663\"}, \"text\": \"\"}, \"zerolinecolor\": \"#E1E5ED\"}, \"yaxis15\": {\"anchor\": \"x15\", \"domain\": [0.0, 0.1975], \"gridcolor\": \"#E1E5ED\", \"showgrid\": false, \"tickfont\": {\"color\": \"#4D5663\"}, \"title\": {\"font\": {\"color\": \"#4D5663\"}, \"text\": \"\"}, \"zerolinecolor\": \"#E1E5ED\"}, \"yaxis16\": {\"anchor\": \"x16\", \"domain\": [0.0, 0.1975], \"gridcolor\": \"#E1E5ED\", \"showgrid\": false, \"tickfont\": {\"color\": \"#4D5663\"}, \"title\": {\"font\": {\"color\": \"#4D5663\"}, \"text\": \"\"}, \"zerolinecolor\": \"#E1E5ED\"}, \"yaxis2\": {\"anchor\": \"x2\", \"domain\": [0.8025, 1.0], \"gridcolor\": \"#E1E5ED\", \"showgrid\": false, \"tickfont\": {\"color\": \"#4D5663\"}, \"title\": {\"font\": {\"color\": \"#4D5663\"}, \"text\": \"\"}, \"zerolinecolor\": \"#E1E5ED\"}, \"yaxis3\": {\"anchor\": \"x3\", \"domain\": [0.8025, 1.0], \"gridcolor\": \"#E1E5ED\", \"showgrid\": false, \"tickfont\": {\"color\": \"#4D5663\"}, \"title\": {\"font\": {\"color\": \"#4D5663\"}, \"text\": \"\"}, \"zerolinecolor\": \"#E1E5ED\"}, \"yaxis4\": {\"anchor\": \"x4\", \"domain\": [0.8025, 1.0], \"gridcolor\": \"#E1E5ED\", \"showgrid\": false, \"tickfont\": {\"color\": \"#4D5663\"}, \"title\": {\"font\": {\"color\": \"#4D5663\"}, \"text\": \"\"}, \"zerolinecolor\": \"#E1E5ED\"}, \"yaxis5\": {\"anchor\": \"x5\", \"domain\": [0.535, 0.7325], \"gridcolor\": \"#E1E5ED\", \"showgrid\": false, \"tickfont\": {\"color\": \"#4D5663\"}, \"title\": {\"font\": {\"color\": \"#4D5663\"}, \"text\": \"\"}, \"zerolinecolor\": \"#E1E5ED\"}, \"yaxis6\": {\"anchor\": \"x6\", \"domain\": [0.535, 0.7325], \"gridcolor\": \"#E1E5ED\", \"showgrid\": false, \"tickfont\": {\"color\": \"#4D5663\"}, \"title\": {\"font\": {\"color\": \"#4D5663\"}, \"text\": \"\"}, \"zerolinecolor\": \"#E1E5ED\"}, \"yaxis7\": {\"anchor\": \"x7\", \"domain\": [0.535, 0.7325], \"gridcolor\": \"#E1E5ED\", \"showgrid\": false, \"tickfont\": {\"color\": \"#4D5663\"}, \"title\": {\"font\": {\"color\": \"#4D5663\"}, \"text\": \"\"}, \"zerolinecolor\": \"#E1E5ED\"}, \"yaxis8\": {\"anchor\": \"x8\", \"domain\": [0.535, 0.7325], \"gridcolor\": \"#E1E5ED\", \"showgrid\": false, \"tickfont\": {\"color\": \"#4D5663\"}, \"title\": {\"font\": {\"color\": \"#4D5663\"}, \"text\": \"\"}, \"zerolinecolor\": \"#E1E5ED\"}, \"yaxis9\": {\"anchor\": \"x9\", \"domain\": [0.2675, 0.465], \"gridcolor\": \"#E1E5ED\", \"showgrid\": false, \"tickfont\": {\"color\": \"#4D5663\"}, \"title\": {\"font\": {\"color\": \"#4D5663\"}, \"text\": \"\"}, \"zerolinecolor\": \"#E1E5ED\"}},\n",
       "                        {\"showLink\": true, \"linkText\": \"Export to plot.ly\", \"plotlyServerURL\": \"https://plot.ly\", \"responsive\": true}\n",
       "                    ).then(function(){\n",
       "                            \n",
       "var gd = document.getElementById('4976d680-c94e-41d4-8bc3-afa2414c3460');\n",
       "var x = new MutationObserver(function (mutations, observer) {{\n",
       "        var display = window.getComputedStyle(gd).display;\n",
       "        if (!display || display === 'none') {{\n",
       "            console.log([gd, 'removed!']);\n",
       "            Plotly.purge(gd);\n",
       "            observer.disconnect();\n",
       "        }}\n",
       "}});\n",
       "\n",
       "// Listen for the removal of the full notebook cells\n",
       "var notebookContainer = gd.closest('#notebook-container');\n",
       "if (notebookContainer) {{\n",
       "    x.observe(notebookContainer, {childList: true});\n",
       "}}\n",
       "\n",
       "// Listen for the clearing of the current output cell\n",
       "var outputEl = gd.closest('.output');\n",
       "if (outputEl) {{\n",
       "    x.observe(outputEl, {childList: true});\n",
       "}}\n",
       "\n",
       "                        })\n",
       "                };\n",
       "                });\n",
       "            </script>\n",
       "        </div>"
      ]
     },
     "metadata": {},
     "output_type": "display_data"
    }
   ],
   "source": [
    "df.scatter_matrix() #all columns are numerical"
   ]
  },
  {
   "cell_type": "code",
   "execution_count": null,
   "metadata": {},
   "outputs": [],
   "source": []
  }
 ],
 "metadata": {
  "kernelspec": {
   "display_name": "Python 3",
   "language": "python",
   "name": "python3"
  },
  "language_info": {
   "codemirror_mode": {
    "name": "ipython",
    "version": 3
   },
   "file_extension": ".py",
   "mimetype": "text/x-python",
   "name": "python",
   "nbconvert_exporter": "python",
   "pygments_lexer": "ipython3",
   "version": "3.7.3"
  }
 },
 "nbformat": 4,
 "nbformat_minor": 2
}
